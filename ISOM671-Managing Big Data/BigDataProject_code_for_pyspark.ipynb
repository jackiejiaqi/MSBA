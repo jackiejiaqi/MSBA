{
 "cells": [
  {
   "cell_type": "code",
   "execution_count": 1,
   "id": "7de1bdb5",
   "metadata": {},
   "outputs": [
    {
     "ename": "ModuleNotFoundError",
     "evalue": "No module named 'pyspark'",
     "output_type": "error",
     "traceback": [
      "\u001b[1;31m---------------------------------------------------------------------------\u001b[0m",
      "\u001b[1;31mModuleNotFoundError\u001b[0m                       Traceback (most recent call last)",
      "\u001b[1;32m~\\AppData\\Local\\Temp\\ipykernel_34976\\3470285592.py\u001b[0m in \u001b[0;36m<module>\u001b[1;34m\u001b[0m\n\u001b[1;32m----> 1\u001b[1;33m \u001b[1;32mfrom\u001b[0m \u001b[0mpyspark\u001b[0m \u001b[1;32mimport\u001b[0m \u001b[0mSparkConf\u001b[0m\u001b[1;33m\u001b[0m\u001b[1;33m\u001b[0m\u001b[0m\n\u001b[0m\u001b[0;32m      2\u001b[0m \u001b[1;32mfrom\u001b[0m \u001b[0mpyspark\u001b[0m\u001b[1;33m.\u001b[0m\u001b[0msql\u001b[0m \u001b[1;32mimport\u001b[0m \u001b[0mSparkSession\u001b[0m\u001b[1;33m\u001b[0m\u001b[1;33m\u001b[0m\u001b[0m\n\u001b[0;32m      3\u001b[0m \u001b[1;33m\u001b[0m\u001b[0m\n\u001b[0;32m      4\u001b[0m \u001b[0mconf\u001b[0m \u001b[1;33m=\u001b[0m \u001b[0mSparkConf\u001b[0m\u001b[1;33m(\u001b[0m\u001b[1;33m)\u001b[0m\u001b[1;33m\u001b[0m\u001b[1;33m\u001b[0m\u001b[0m\n\u001b[0;32m      5\u001b[0m \u001b[0mconf\u001b[0m\u001b[1;33m.\u001b[0m\u001b[0mset\u001b[0m\u001b[1;33m(\u001b[0m\u001b[1;34m'spark.jars.packages'\u001b[0m\u001b[1;33m,\u001b[0m \u001b[1;34m'org.apache.hadoop:hadoop-aws:3.2.0'\u001b[0m\u001b[1;33m)\u001b[0m\u001b[1;33m\u001b[0m\u001b[1;33m\u001b[0m\u001b[0m\n",
      "\u001b[1;31mModuleNotFoundError\u001b[0m: No module named 'pyspark'"
     ]
    }
   ],
   "source": [
    "from pyspark import SparkConf\n",
    "from pyspark.sql import SparkSession\n",
    "\n",
    "conf = SparkConf()\n",
    "conf.set('spark.jars.packages', 'org.apache.hadoop:hadoop-aws:3.2.0')\n",
    "conf.set('spark.hadoop.fs.s3a.aws.credentials.provider', 'org.apache.hadoop.fs.s3a.AnonymousAWSCredentialsProvider')\n",
    "\n",
    "spark = SparkSession.builder.config(conf=conf).getOrCreate()\n",
    "\n",
    "# df = spark.read.csv('s3a://nyc-tlc/csv_backup/yellow_tripdata_2019-01.csv',\n",
    "#                     header=True,\n",
    "#                     inferSchema=True)"
   ]
  },
  {
   "cell_type": "code",
   "execution_count": 2,
   "id": "fbaea125",
   "metadata": {},
   "outputs": [
    {
     "data": {
      "application/vnd.jupyter.widget-view+json": {
       "model_id": "",
       "version_major": 2,
       "version_minor": 0
      },
      "text/plain": [
       "FloatProgress(value=0.0, bar_style='info', description='Progress:', layout=Layout(height='25px', width='50%'),…"
      ]
     },
     "metadata": {},
     "output_type": "display_data"
    }
   ],
   "source": [
    "yelp_business = spark.read.option(\"inferSchema\", \n",
    "\"true\").option(\"header\", \n",
    "\"true\").csv(\"s3://sjeanb4-gbs-bucket/yelp_business.csv\")"
   ]
  },
  {
   "cell_type": "code",
   "execution_count": 3,
   "id": "2783c018",
   "metadata": {},
   "outputs": [
    {
     "data": {
      "application/vnd.jupyter.widget-view+json": {
       "model_id": "",
       "version_major": 2,
       "version_minor": 0
      },
      "text/plain": [
       "FloatProgress(value=0.0, bar_style='info', description='Progress:', layout=Layout(height='25px', width='50%'),…"
      ]
     },
     "metadata": {},
     "output_type": "display_data"
    },
    {
     "name": "stdout",
     "output_type": "stream",
     "text": [
      "+--------------------+--------------------+------------------+--------------------+--------------+-------------+-----------+-------------+--------------+------------+------------+-------+--------------------+\n",
      "|         business_id|                name|      neighborhood|             address|          city|        state|postal_code|     latitude|     longitude|       stars|review_count|is_open|          categories|\n",
      "+--------------------+--------------------+------------------+--------------------+--------------+-------------+-----------+-------------+--------------+------------+------------+-------+--------------------+\n",
      "|FYWN1wneV18bWNgQj...|\"\"\"Dental by Desi...|              null| \"\"\"4855 E Warner Rd|     Ste B9\"\"\"|    Ahwatukee|         AZ|        85044|    33.3306902|-111.9785992|         4.0|   22.0|                   1|\n",
      "|He-G7vWjzVUysIKrf...|\"\"\"Stephen Szabo ...|              null|\"\"\"3101 Washingto...|      McMurray|           PA|      15317|   40.2916853|   -80.1048999|         3.0|          11|    1.0|Hair Stylists;Hai...|\n",
      "|KQPW8lFf1y5BT2Mxi...|\"\"\"Western Motor ...|              null|  \"\"\"6025 N 27th Ave|      Ste 1\"\"\"|      Phoenix|         AZ|        85017|    33.5249025|-112.1153098|         1.5|   18.0|                   1|\n",
      "|8DShNS-LuFqpEWIp0...|\"\"\"Sports Authori...|              null|\"\"\"5000 Arizona M...|    Ste 435\"\"\"|        Tempe|         AZ|        85282|    33.3831468|-111.9647254|         3.0|    9.0|                   0|\n",
      "|PfOCPjBrlQAnz__NX...|\"\"\"Brick House Ta...|              null|  \"\"\"581 Howe Ave\"\"\"|Cuyahoga Falls|           OH|      44221|   41.1195346|   -81.4756898|         3.5|         116|    1.0|American (New);Ni...|\n",
      "|o9eMRCWt5PkpLDE0g...|       \"\"\"Messina\"\"\"|              null|\"\"\"Richterstr. 11\"\"\"|     Stuttgart|           BW|      70567|      48.7272|       9.14795|         4.0|           5|    1.0| Italian;Restaurants|\n",
      "|kCoE3jvEtg6UVz5SO...|    \"\"\"BDJ Realty\"\"\"|         Summerlin|  \"\"\"2620 Regatta Dr|    Ste 102\"\"\"|    Las Vegas|         NV|        89128|      36.20743|  -115.26846|         4.0|    5.0|                   1|\n",
      "|OD2hnuuTJI9uotcKy...|   \"\"\"Soccer Zone\"\"\"|              null|\"\"\"7240 W Lake Me...|      Ste 4\"\"\"|    Las Vegas|         NV|        89128|    36.1974844|-115.2496601|         1.5|    9.0|                   1|\n",
      "|EsMcGiZaQuG1OOvL9...|\"\"\"Any Given Sund...|              null|\"\"\"2612 Brandt Sc...|       Wexford|           PA|      15090|40.6151022445|-80.0913487465|         5.0|          15|    1.0|Coffee & Tea;Ice ...|\n",
      "|TGWhGNusxyMaA4kQV...|\"\"\"Detailing Gone...|              null|                \"\"\"\"|     Henderson|           NV|      89014|36.0558252127| -115.04635039|         5.0|           7|    1.0|Automotive;Auto D...|\n",
      "|XOSRcvtaKc_Q5H1SA...|\"\"\"East Coast Cof...|              null|\"\"\"737 West Pike ...|       Houston|           PA|      15342|40.2415480142|-80.2128151059|         4.5|           3|    0.0|Breakfast & Brunc...|\n",
      "|Y0eMNa5C-YU1RQOZf...|\"\"\"CubeSmart Self...|              null|\"\"\"2414 South Gil...|      Chandler|           AZ|      85286|   33.2717201|  -111.7912569|         5.0|          23|    1.0|Local Services;Se...|\n",
      "|xcgFnd-MwkZeO5G2H...|\"\"\"T & T Bakery a...|   Markham Village|\"\"\"35 Main Street...|       Markham|           ON|    L3P 1X3|   43.8751774|   -79.2601532|         4.0|          38|    1.0|Bakeries;Bagels;Food|\n",
      "|NmZtoE3v8RdSJEczY...|\"\"\"Complete Denta...|              null|\"\"\"107 Whitaker S...|     Homestead|           PA|      15120|   40.4014882|   -79.8879161|         2.0|           5|    1.0|General Dentistry...|\n",
      "|fNMVV_ZX7CJSDWQGd...|\"\"\"Showmars Gover...|            Uptown|  \"\"\"600 E 4th St\"\"\"|     Charlotte|           NC|      28202|   35.2216474|   -80.8393449|         3.5|           7|    1.0|Restaurants;Ameri...|\n",
      "|l09JfMeQ6ynYs5MCJ...|\"\"\"Alize Catering\"\"\"|Yonge and Eglinton| \"\"\"2459 Yonge St\"\"\"|       Toronto|           ON|    M4P 2H6|   43.7113993|   -79.3993388|         3.0|          12|    0.0|Italian;French;Re...|\n",
      "|IQSlT5jGE6CCDhSG0...|\"\"\"T & Y Nail Spa\"\"\"|              null|\"\"\"8411 W Thunder...|   Unit 101\"\"\"|       Peoria|         AZ|        85381|    33.6086538|-112.2400118|         3.0|   20.0|                   1|\n",
      "|b2I2DXtZVnpUMCXp1...|\"\"\"Meineke Car Ca...|              null|\"\"\"2518 Ironwood ...|   Sun Prairie|           WI|      53590|     43.18508|    -89.262047|         3.5|           9|    1.0|Tires;Oil Change ...|\n",
      "|0FMKDOU8TJT1x87OK...|\"\"\"Senior's Barbe...|              null|\"\"\"13375 W McDowe...|      Goodyear|           AZ|      85395|    33.463629|   -112.347038|         5.0|          65|    1.0|Barbers;Beauty & ...|\n",
      "|Gu-xs3NIQTj3Mj2xY...|\"\"\"Maxim Bakery &...|              null|\"\"\"9665 Bayview A...|   Unit 1-4\"\"\"|Richmond Hill|         ON|      L4C 9V4|    43.8675648| -79.4126618|         3.5|   34.0|                   1|\n",
      "+--------------------+--------------------+------------------+--------------------+--------------+-------------+-----------+-------------+--------------+------------+------------+-------+--------------------+\n",
      "only showing top 20 rows"
     ]
    }
   ],
   "source": [
    "yelp_business.show()"
   ]
  },
  {
   "cell_type": "code",
   "execution_count": 4,
   "id": "2a389233",
   "metadata": {},
   "outputs": [
    {
     "data": {
      "application/vnd.jupyter.widget-view+json": {
       "model_id": "",
       "version_major": 2,
       "version_minor": 0
      },
      "text/plain": [
       "FloatProgress(value=0.0, bar_style='info', description='Progress:', layout=Layout(height='25px', width='50%'),…"
      ]
     },
     "metadata": {},
     "output_type": "display_data"
    }
   ],
   "source": [
    "yelp_checkin =spark.read.option(\"inferSchema\", \n",
    "\"true\").option(\"header\", \n",
    "\"true\").csv(\"s3://sjeanb4-gbs-bucket/yelp_checkin.csv\")\n",
    "\n",
    "yelp_user= spark.read.option(\"inferSchema\", \n",
    "\"true\").option(\"header\", \n",
    "\"true\").csv(\"s3://sjeanb4-gbs-bucket/yelp_user.csv\")"
   ]
  },
  {
   "cell_type": "code",
   "execution_count": 5,
   "id": "0c19a096",
   "metadata": {},
   "outputs": [
    {
     "data": {
      "application/vnd.jupyter.widget-view+json": {
       "model_id": "",
       "version_major": 2,
       "version_minor": 0
      },
      "text/plain": [
       "FloatProgress(value=0.0, bar_style='info', description='Progress:', layout=Layout(height='25px', width='50%'),…"
      ]
     },
     "metadata": {},
     "output_type": "display_data"
    },
    {
     "name": "stdout",
     "output_type": "stream",
     "text": [
      "+--------------------+-------+-----+--------+\n",
      "|         business_id|weekday| hour|checkins|\n",
      "+--------------------+-------+-----+--------+\n",
      "|3Mc-LxcqeguOXOVT_...|    Tue| 0:00|      12|\n",
      "|SVFx6_epO22bZTZnK...|    Wed| 0:00|       4|\n",
      "|vW9aLivd4-IorAfSt...|    Tue|14:00|       1|\n",
      "|tEzxhauTQddACyqdJ...|    Fri|19:00|       1|\n",
      "|CEyZU32P-vtMhgqRC...|    Tue|17:00|       1|\n",
      "|9dn5pee_n2dWQfN57...|    Sun| 3:00|       5|\n",
      "|6Zk5F7fsTr8n2CJTl...|    Wed| 1:00|       4|\n",
      "|OE_IDW5w_W97sBcZv...|    Sat| 1:00|       1|\n",
      "|gy5pr5bFAjOL5rERS...|    Sat|15:00|       1|\n",
      "|r2-eAhGANXlcgQy89...|    Mon|19:00|       1|\n",
      "|wiBxwslJAGDdZ2nmL...|    Mon|16:00|       1|\n",
      "|08jURVR_eDvXq9scd...|    Sat|23:00|       1|\n",
      "|BlWPjh2WuvQSlmYmg...|    Sun| 0:00|       1|\n",
      "|6DO_2jivyxcL6SXGP...|    Wed|23:00|       1|\n",
      "|wrJROwvVKHvdMVIZO...|    Thu|21:00|       3|\n",
      "|uU8up3hGwW9qnzQD1...|    Fri| 0:00|       1|\n",
      "|JHPq9KvMuJaC7CPAT...|    Sun|16:00|       1|\n",
      "|vyzfT3_KzLi8WmInw...|    Thu| 9:00|       1|\n",
      "|E4T0rQBJa0e4HIliB...|    Thu|23:00|       2|\n",
      "|vuvnexwJzb1ydKLac...|    Mon|18:00|       1|\n",
      "+--------------------+-------+-----+--------+\n",
      "only showing top 20 rows"
     ]
    }
   ],
   "source": [
    "yelp_checkin.show()"
   ]
  },
  {
   "cell_type": "code",
   "execution_count": 6,
   "id": "4ca8a59e",
   "metadata": {},
   "outputs": [
    {
     "data": {
      "application/vnd.jupyter.widget-view+json": {
       "model_id": "",
       "version_major": 2,
       "version_minor": 0
      },
      "text/plain": [
       "FloatProgress(value=0.0, bar_style='info', description='Progress:', layout=Layout(height='25px', width='50%'),…"
      ]
     },
     "metadata": {},
     "output_type": "display_data"
    },
    {
     "name": "stdout",
     "output_type": "stream",
     "text": [
      "+--------------------+-------+------------+-------------------+--------------------+------+-----+----+----+-----+-------------+--------------+---------------+------------------+---------------+---------------+---------------+----------------+---------------+----------------+-----------------+-----------------+\n",
      "|             user_id|   name|review_count|      yelping_since|             friends|useful|funny|cool|fans|elite|average_stars|compliment_hot|compliment_more|compliment_profile|compliment_cute|compliment_list|compliment_note|compliment_plain|compliment_cool|compliment_funny|compliment_writer|compliment_photos|\n",
      "+--------------------+-------+------------+-------------------+--------------------+------+-----+----+----+-----+-------------+--------------+---------------+------------------+---------------+---------------+---------------+----------------+---------------+----------------+-----------------+-----------------+\n",
      "|JJ-aSuM4pCFPdkfoZ...|  Chris|          10|2013-09-24 00:00:00|0njfJmB-7n84DlIgU...|     0|    0|   0|   0| None|          3.7|             0|              0|                 0|              0|              0|              0|               0|              0|               0|                0|                0|\n",
      "|uUzsFQn_6cXDh6rPN...|  Tiffy|           1|2017-03-02 00:00:00|                None|     0|    0|   0|   0| None|          2.0|             0|              0|                 0|              0|              0|              0|               0|              0|               0|                0|                0|\n",
      "|mBneaEEH5EMyxaVyq...|   Mark|           6|2015-03-13 00:00:00|                None|     0|    0|   0|   0| None|         4.67|             0|              0|                 0|              0|              0|              0|               0|              0|               0|                0|                0|\n",
      "|W5mJGs-dcDWRGEhAz...| Evelyn|           3|2016-09-08 00:00:00|                None|     0|    0|   0|   0| None|         4.67|             0|              0|                 0|              0|              0|              0|               0|              0|               0|                0|                0|\n",
      "|4E8--zUZO1Rr1IBK4...|   Lisa|          11|2012-07-16 00:00:00|                None|     4|    0|   0|   0| None|         3.45|             0|              0|                 0|              0|              0|              0|               0|              0|               0|                1|                0|\n",
      "|Ob-2oGBQ7rwwYwUvh...|      B|           9|2012-05-01 00:00:00|                None|     0|    0|   0|   0| None|         4.78|             0|              0|                 0|              0|              0|              0|               0|              0|               0|                0|                0|\n",
      "|JaTVvKsBl0bHHJEpE...|  Peter|           2|2013-03-23 00:00:00|                None|     0|    0|   0|   0| None|          5.0|             0|              0|                 0|              0|              0|              0|               0|              0|               0|                0|                0|\n",
      "|Ykj0DVsz0c6rX9ghj...|Colleen|           1|2010-10-10 00:00:00|                None|     0|    0|   0|   0| None|          1.0|             0|              0|                 0|              0|              0|              0|               0|              0|               0|                0|                0|\n",
      "|kmyEPfKnHQJdTceCd...|      A|           7|2012-10-16 00:00:00|                None|     0|    0|   0|   0| None|         4.29|             0|              0|                 0|              0|              0|              0|               0|              0|               0|                0|                0|\n",
      "|H54pA7YHfjl8IjhHA...|   Chad|           3|2010-06-25 00:00:00|                None|     0|    0|   0|   0| None|          5.0|             0|              0|                 0|              0|              0|              0|               0|              0|               0|                0|                0|\n",
      "|WRae-wZkpRoxMrgJd...|   Mike|           1|2017-11-29 00:00:00|                None|     0|    0|   0|   0| None|          5.0|             0|              0|                 0|              0|              0|              0|               0|              0|               0|                0|                0|\n",
      "|Mmv5fPxbF8XEMN4EP...|  Chris|           2|2016-06-24 00:00:00|                None|     0|    0|   0|   0| None|         1.67|             0|              0|                 0|              0|              0|              0|               0|              0|               0|                0|                0|\n",
      "|LdqGHXsNQowMrvgTN...|  Susan|           1|2013-09-29 00:00:00|                None|     3|    1|   0|   0| None|          2.0|             0|              0|                 0|              0|              0|              0|               0|              0|               0|                0|                0|\n",
      "|TsgBsn19Wjwpyo81g...|  Cathy|           4|2010-11-28 00:00:00|                None|     0|    0|   0|   0| None|          4.0|             0|              0|                 0|              0|              0|              1|               0|              0|               0|                0|                0|\n",
      "|V--GjQPlTpeWbcB2c...|   Cody|           2|2017-10-24 00:00:00|                None|     2|    0|   1|   0| None|          3.0|             0|              0|                 0|              0|              0|              0|               0|              0|               0|                0|                0|\n",
      "|a_gKYQ5YMg39FHNYJ...|Joselyn|           1|2017-11-07 00:00:00|                None|     0|    0|   0|   0| None|          5.0|             0|              0|                 0|              0|              0|              0|               0|              0|               0|                0|                0|\n",
      "|sz8Heh56kO_6_LBko...|Rosalie|           4|2015-06-25 00:00:00|                None|     0|    0|   0|   0| None|          3.0|             0|              0|                 0|              0|              0|              0|               0|              0|               0|                0|                0|\n",
      "|h5ERTYn2vQ1QbjTZv...|  Bobby|           3|2017-01-07 00:00:00|jYiZnueCr7gVq9T34...|     0|    0|   0|   0| None|         3.33|             0|              0|                 0|              0|              0|              0|               0|              0|               0|                0|                0|\n",
      "|jYnkJR3T8yCERXywo...|   Hugo|          48|2010-07-06 00:00:00|hkXekeW_Jj6mIy8r8...|    15|    6|   2|   3| None|         3.73|             2|              0|                 0|              0|              0|              1|               1|              1|               1|                2|                0|\n",
      "|GMGZsk1dj043UI3zW...|   volk|           0|2011-08-05 00:00:00|                None|     0|    0|   0|   0| None|         4.29|             0|              0|                 0|              0|              0|              0|               0|              0|               0|                0|                0|\n",
      "+--------------------+-------+------------+-------------------+--------------------+------+-----+----+----+-----+-------------+--------------+---------------+------------------+---------------+---------------+---------------+----------------+---------------+----------------+-----------------+-----------------+\n",
      "only showing top 20 rows"
     ]
    }
   ],
   "source": [
    "yelp_user.show()"
   ]
  },
  {
   "cell_type": "code",
   "execution_count": 8,
   "id": "a433eccf",
   "metadata": {},
   "outputs": [
    {
     "data": {
      "application/vnd.jupyter.widget-view+json": {
       "model_id": "",
       "version_major": 2,
       "version_minor": 0
      },
      "text/plain": [
       "FloatProgress(value=0.0, bar_style='info', description='Progress:', layout=Layout(height='25px', width='50%'),…"
      ]
     },
     "metadata": {},
     "output_type": "display_data"
    },
    {
     "name": "stdout",
     "output_type": "stream",
     "text": [
      "yelp_business Rows count : 174567\n",
      "yelp_checkin Rows count : 3911218\n",
      "yelp_user Rows count : 1326100"
     ]
    }
   ],
   "source": [
    "rows_business = yelp_business.count()\n",
    "print(f\"yelp_business Rows count : {rows_business}\")\n",
    "rows_checkin= yelp_checkin.count()\n",
    "print(f\"yelp_checkin Rows count : {rows_checkin}\")\n",
    "rows_user= yelp_user.count()\n",
    "print(f\"yelp_user Rows count : {rows_user}\")"
   ]
  },
  {
   "cell_type": "code",
   "execution_count": 11,
   "id": "9b453cd8",
   "metadata": {},
   "outputs": [
    {
     "data": {
      "application/vnd.jupyter.widget-view+json": {
       "model_id": "",
       "version_major": 2,
       "version_minor": 0
      },
      "text/plain": [
       "FloatProgress(value=0.0, bar_style='info', description='Progress:', layout=Layout(height='25px', width='50%'),…"
      ]
     },
     "metadata": {},
     "output_type": "display_data"
    }
   ],
   "source": [
    "yelp_review = spark.read.option(\"inferSchema\", \n",
    "\"true\").option(\"header\", \n",
    "\"true\").csv(\"s3://sjeanb4-gbs-bucket/yelp_review.csv\")"
   ]
  },
  {
   "cell_type": "code",
   "execution_count": 12,
   "id": "1847516c",
   "metadata": {},
   "outputs": [
    {
     "data": {
      "application/vnd.jupyter.widget-view+json": {
       "model_id": "",
       "version_major": 2,
       "version_minor": 0
      },
      "text/plain": [
       "FloatProgress(value=0.0, bar_style='info', description='Progress:', layout=Layout(height='25px', width='50%'),…"
      ]
     },
     "metadata": {},
     "output_type": "display_data"
    },
    {
     "name": "stdout",
     "output_type": "stream",
     "text": [
      "+--------------------+--------------------+--------------------+-----+----------+--------------------+------+-----+----+\n",
      "|           review_id|             user_id|         business_id|stars|      date|                text|useful|funny|cool|\n",
      "+--------------------+--------------------+--------------------+-----+----------+--------------------+------+-----+----+\n",
      "|vkVSCC7xljjrAI4UG...|bv2nCi5Qv5vroFiqK...|AEx2SYEUJmTxVVB18...|    5|2016-05-28|Super simple plac...|  null| null|null|\n",
      "|Staff was very he...|                   0|                   0|    0|      null|                null|  null| null|null|\n",
      "|n6QzIUObkYshz4dz2...|bv2nCi5Qv5vroFiqK...|VR6GpWIda3SfvPC-l...|    5|2016-05-28|Small unassuming ...|  null| null|null|\n",
      "|We had their beef...|                null|                null| null|      null|                null|  null| null|null|\n",
      "|A bit outside of ...|                   0|                   0|    0|      null|                null|  null| null|null|\n",
      "|MV3CcKScW05u5LVfF...|bv2nCi5Qv5vroFiqK...|CKC0-MOWMqoeWf6s-...|    5|2016-05-28|Lester's is locat...|  null| null|null|\n",
      "|The smoked meat i...|                   0|                   0|    0|      null|                null|  null| null|null|\n",
      "|IXvOzsEMYtiJI0CAR...|bv2nCi5Qv5vroFiqK...|ACFtxLv8pGrrxMm6E...|    4|2016-05-28|Love coming here....|  null| null|null|\n",
      "|The food speaks f...| so good. Burgers...| the regular is a...| null|      null|                null|  null| null|null|\n",
      "|Getting the Cajun...|                   0|                   0|    0|      null|                null|  null| null|null|\n",
      "|L_9BTb55X0GDtThi6...|bv2nCi5Qv5vroFiqK...|s2I_Ni76bjJNK9yG6...|    4|2016-05-28|Had their chocola...|  null| null|null|\n",
      "|If you're looking...|                   0|                   0|    0|      null|                null|  null| null|null|\n",
      "|HRPm3vEZ_F-33TYVT...|_4iMDXbXZ1p1ONG29...|8QWPlVQ6D-OExqXoa...|    5|2014-09-24|Cycle Pub Las Veg...|     1|    0|   0|\n",
      "|ymAUG8DZfQcFTBSOi...|u0LXt3Uea_GidxRW1...|9_CGhHMz8698M9-Pk...|    4|2012-05-11|Who would have gu...|  null| null|null|\n",
      "|Not quite the sam...| this is the next...|                null| null|      null|                null|  null| null|null|\n",
      "|So far the only i...| chicken & vegeta...|                null| null|      null|                null|  null| null|null|\n",
      "| Next time I go back| I'm going to try...|                   0|    0|         2|                null|  null| null|null|\n",
      "|8UIishPUD92hXtScS...|u0LXt3Uea_GidxRW1...|gkCorLgPyQLsptTHa...|    4|2015-10-27|Always drove past...|  null| null|null|\n",
      "|                Cute| quaint coffee sh...|                null| null|      null|                null|  null| null|null|\n",
      "|BF ordered an ice...|                   1|                   0|    0|      null|                null|  null| null|null|\n",
      "+--------------------+--------------------+--------------------+-----+----------+--------------------+------+-----+----+\n",
      "only showing top 20 rows"
     ]
    }
   ],
   "source": [
    "yelp_review.show()"
   ]
  },
  {
   "cell_type": "code",
   "execution_count": 14,
   "id": "d52c6cc0",
   "metadata": {},
   "outputs": [
    {
     "data": {
      "application/vnd.jupyter.widget-view+json": {
       "model_id": "",
       "version_major": 2,
       "version_minor": 0
      },
      "text/plain": [
       "FloatProgress(value=0.0, bar_style='info', description='Progress:', layout=Layout(height='25px', width='50%'),…"
      ]
     },
     "metadata": {},
     "output_type": "display_data"
    },
    {
     "name": "stdout",
     "output_type": "stream",
     "text": [
      "yelp_user Rows count : 12454737"
     ]
    }
   ],
   "source": [
    "rows_review= yelp_review.count()\n",
    "print(f\"yelp_user Rows count : {rows_review}\")"
   ]
  }
 ],
 "metadata": {
  "kernelspec": {
   "display_name": "Python 3 (ipykernel)",
   "language": "python",
   "name": "python3"
  },
  "language_info": {
   "codemirror_mode": {
    "name": "ipython",
    "version": 3
   },
   "file_extension": ".py",
   "mimetype": "text/x-python",
   "name": "python",
   "nbconvert_exporter": "python",
   "pygments_lexer": "ipython3",
   "version": "3.9.7"
  }
 },
 "nbformat": 4,
 "nbformat_minor": 5
}
