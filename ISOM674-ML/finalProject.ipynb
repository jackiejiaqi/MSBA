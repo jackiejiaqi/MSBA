{
 "cells": [
  {
   "cell_type": "markdown",
   "metadata": {},
   "source": [
    "# Machine Learning I Final Project\n",
    "\n",
    "Team 4\n",
    "\n",
    "Rebecca Li, Jackie Li, Chris Chou, Niki Baskar"
   ]
  },
  {
   "cell_type": "code",
   "execution_count": 391,
   "metadata": {},
   "outputs": [],
   "source": [
    "# import packages\n",
    "import pandas as pd\n",
    "from datetime import datetime\n",
    "import numpy as np\n",
    "from keras.models import Model, Sequential\n",
    "from keras.layers import Dense, Activation, Dropout, BatchNormalization, Embedding, Flatten, Input, concatenate\n",
    "from keras_tuner import BayesianOptimization, RandomSearch\n",
    "from sklearn.preprocessing import MinMaxScaler, StandardScaler, LabelEncoder\n",
    "import matplotlib.pyplot as plt\n",
    "from sklearn.metrics import mean_absolute_error\n",
    "import keras.backend as K\n",
    "import sklearn\n",
    "import category_encoders as ce\n",
    "from keras.optimizers import SGD, Adam, RMSprop\n",
    "from keras.callbacks import EarlyStopping\n",
    "from sklearn.metrics import log_loss\n",
    "from keras import regularizers\n",
    "from sklearn.model_selection import train_test_split\n",
    "from keras import initializers\n",
    "from datatable import dt, f, by, g, join, sort, update, ifelse\n",
    "from sklearn.model_selection import GridSearchCV\n",
    "from lightgbm import LGBMClassifier"
   ]
  },
  {
   "cell_type": "markdown",
   "metadata": {},
   "source": [
    "# Data Exploration"
   ]
  },
  {
   "cell_type": "markdown",
   "metadata": {},
   "source": [
    "## Data Import"
   ]
  },
  {
   "cell_type": "code",
   "execution_count": 392,
   "metadata": {},
   "outputs": [
    {
     "ename": "KeyboardInterrupt",
     "evalue": "",
     "output_type": "error",
     "traceback": [
      "\u001b[0;31m---------------------------------------------------------------------------\u001b[0m",
      "\u001b[0;31mKeyboardInterrupt\u001b[0m                         Traceback (most recent call last)",
      "\u001b[1;32m/Users/rebecca/MSBA/ISOM674-ML/finalProject.ipynb Cell 5\u001b[0m in \u001b[0;36m<cell line: 2>\u001b[0;34m()\u001b[0m\n\u001b[1;32m      <a href='vscode-notebook-cell:/Users/rebecca/MSBA/ISOM674-ML/finalProject.ipynb#W4sZmlsZQ%3D%3D?line=0'>1</a>\u001b[0m \u001b[39m# Import the training data\u001b[39;00m\n\u001b[0;32m----> <a href='vscode-notebook-cell:/Users/rebecca/MSBA/ISOM674-ML/finalProject.ipynb#W4sZmlsZQ%3D%3D?line=1'>2</a>\u001b[0m train \u001b[39m=\u001b[39m pd\u001b[39m.\u001b[39;49mread_csv(\u001b[39m'\u001b[39;49m\u001b[39mProject Data/ProjectTrainingData.csv\u001b[39;49m\u001b[39m'\u001b[39;49m)\n",
      "File \u001b[0;32m~/opt/anaconda3/lib/python3.9/site-packages/pandas/util/_decorators.py:311\u001b[0m, in \u001b[0;36mdeprecate_nonkeyword_arguments.<locals>.decorate.<locals>.wrapper\u001b[0;34m(*args, **kwargs)\u001b[0m\n\u001b[1;32m    305\u001b[0m \u001b[39mif\u001b[39;00m \u001b[39mlen\u001b[39m(args) \u001b[39m>\u001b[39m num_allow_args:\n\u001b[1;32m    306\u001b[0m     warnings\u001b[39m.\u001b[39mwarn(\n\u001b[1;32m    307\u001b[0m         msg\u001b[39m.\u001b[39mformat(arguments\u001b[39m=\u001b[39marguments),\n\u001b[1;32m    308\u001b[0m         \u001b[39mFutureWarning\u001b[39;00m,\n\u001b[1;32m    309\u001b[0m         stacklevel\u001b[39m=\u001b[39mstacklevel,\n\u001b[1;32m    310\u001b[0m     )\n\u001b[0;32m--> 311\u001b[0m \u001b[39mreturn\u001b[39;00m func(\u001b[39m*\u001b[39;49margs, \u001b[39m*\u001b[39;49m\u001b[39m*\u001b[39;49mkwargs)\n",
      "File \u001b[0;32m~/opt/anaconda3/lib/python3.9/site-packages/pandas/io/parsers/readers.py:680\u001b[0m, in \u001b[0;36mread_csv\u001b[0;34m(filepath_or_buffer, sep, delimiter, header, names, index_col, usecols, squeeze, prefix, mangle_dupe_cols, dtype, engine, converters, true_values, false_values, skipinitialspace, skiprows, skipfooter, nrows, na_values, keep_default_na, na_filter, verbose, skip_blank_lines, parse_dates, infer_datetime_format, keep_date_col, date_parser, dayfirst, cache_dates, iterator, chunksize, compression, thousands, decimal, lineterminator, quotechar, quoting, doublequote, escapechar, comment, encoding, encoding_errors, dialect, error_bad_lines, warn_bad_lines, on_bad_lines, delim_whitespace, low_memory, memory_map, float_precision, storage_options)\u001b[0m\n\u001b[1;32m    665\u001b[0m kwds_defaults \u001b[39m=\u001b[39m _refine_defaults_read(\n\u001b[1;32m    666\u001b[0m     dialect,\n\u001b[1;32m    667\u001b[0m     delimiter,\n\u001b[0;32m   (...)\u001b[0m\n\u001b[1;32m    676\u001b[0m     defaults\u001b[39m=\u001b[39m{\u001b[39m\"\u001b[39m\u001b[39mdelimiter\u001b[39m\u001b[39m\"\u001b[39m: \u001b[39m\"\u001b[39m\u001b[39m,\u001b[39m\u001b[39m\"\u001b[39m},\n\u001b[1;32m    677\u001b[0m )\n\u001b[1;32m    678\u001b[0m kwds\u001b[39m.\u001b[39mupdate(kwds_defaults)\n\u001b[0;32m--> 680\u001b[0m \u001b[39mreturn\u001b[39;00m _read(filepath_or_buffer, kwds)\n",
      "File \u001b[0;32m~/opt/anaconda3/lib/python3.9/site-packages/pandas/io/parsers/readers.py:581\u001b[0m, in \u001b[0;36m_read\u001b[0;34m(filepath_or_buffer, kwds)\u001b[0m\n\u001b[1;32m    578\u001b[0m     \u001b[39mreturn\u001b[39;00m parser\n\u001b[1;32m    580\u001b[0m \u001b[39mwith\u001b[39;00m parser:\n\u001b[0;32m--> 581\u001b[0m     \u001b[39mreturn\u001b[39;00m parser\u001b[39m.\u001b[39;49mread(nrows)\n",
      "File \u001b[0;32m~/opt/anaconda3/lib/python3.9/site-packages/pandas/io/parsers/readers.py:1254\u001b[0m, in \u001b[0;36mTextFileReader.read\u001b[0;34m(self, nrows)\u001b[0m\n\u001b[1;32m   1252\u001b[0m nrows \u001b[39m=\u001b[39m validate_integer(\u001b[39m\"\u001b[39m\u001b[39mnrows\u001b[39m\u001b[39m\"\u001b[39m, nrows)\n\u001b[1;32m   1253\u001b[0m \u001b[39mtry\u001b[39;00m:\n\u001b[0;32m-> 1254\u001b[0m     index, columns, col_dict \u001b[39m=\u001b[39m \u001b[39mself\u001b[39;49m\u001b[39m.\u001b[39;49m_engine\u001b[39m.\u001b[39;49mread(nrows)\n\u001b[1;32m   1255\u001b[0m \u001b[39mexcept\u001b[39;00m \u001b[39mException\u001b[39;00m:\n\u001b[1;32m   1256\u001b[0m     \u001b[39mself\u001b[39m\u001b[39m.\u001b[39mclose()\n",
      "File \u001b[0;32m~/opt/anaconda3/lib/python3.9/site-packages/pandas/io/parsers/c_parser_wrapper.py:225\u001b[0m, in \u001b[0;36mCParserWrapper.read\u001b[0;34m(self, nrows)\u001b[0m\n\u001b[1;32m    223\u001b[0m \u001b[39mtry\u001b[39;00m:\n\u001b[1;32m    224\u001b[0m     \u001b[39mif\u001b[39;00m \u001b[39mself\u001b[39m\u001b[39m.\u001b[39mlow_memory:\n\u001b[0;32m--> 225\u001b[0m         chunks \u001b[39m=\u001b[39m \u001b[39mself\u001b[39;49m\u001b[39m.\u001b[39;49m_reader\u001b[39m.\u001b[39;49mread_low_memory(nrows)\n\u001b[1;32m    226\u001b[0m         \u001b[39m# destructive to chunks\u001b[39;00m\n\u001b[1;32m    227\u001b[0m         data \u001b[39m=\u001b[39m _concatenate_chunks(chunks)\n",
      "File \u001b[0;32m~/opt/anaconda3/lib/python3.9/site-packages/pandas/_libs/parsers.pyx:805\u001b[0m, in \u001b[0;36mpandas._libs.parsers.TextReader.read_low_memory\u001b[0;34m()\u001b[0m\n",
      "File \u001b[0;32m~/opt/anaconda3/lib/python3.9/site-packages/pandas/_libs/parsers.pyx:883\u001b[0m, in \u001b[0;36mpandas._libs.parsers.TextReader._read_rows\u001b[0;34m()\u001b[0m\n",
      "File \u001b[0;32m~/opt/anaconda3/lib/python3.9/site-packages/pandas/_libs/parsers.pyx:1026\u001b[0m, in \u001b[0;36mpandas._libs.parsers.TextReader._convert_column_data\u001b[0;34m()\u001b[0m\n",
      "File \u001b[0;32m~/opt/anaconda3/lib/python3.9/site-packages/pandas/_libs/parsers.pyx:1072\u001b[0m, in \u001b[0;36mpandas._libs.parsers.TextReader._convert_tokens\u001b[0;34m()\u001b[0m\n",
      "File \u001b[0;32m~/opt/anaconda3/lib/python3.9/site-packages/pandas/_libs/parsers.pyx:1147\u001b[0m, in \u001b[0;36mpandas._libs.parsers.TextReader._convert_with_dtype\u001b[0;34m()\u001b[0m\n",
      "File \u001b[0;32m~/opt/anaconda3/lib/python3.9/site-packages/pandas/core/dtypes/common.py:1429\u001b[0m, in \u001b[0;36mis_extension_array_dtype\u001b[0;34m(arr_or_dtype)\u001b[0m\n\u001b[1;32m   1420\u001b[0m     \u001b[39m# Note: if other EA dtypes are ever held in HybridBlock, exclude those\u001b[39;00m\n\u001b[1;32m   1421\u001b[0m     \u001b[39m#  here too.\u001b[39;00m\n\u001b[1;32m   1422\u001b[0m     \u001b[39m# NB: need to check DatetimeTZDtype and not is_datetime64tz_dtype\u001b[39;00m\n\u001b[1;32m   1423\u001b[0m     \u001b[39m#  to exclude ArrowTimestampUSDtype\u001b[39;00m\n\u001b[1;32m   1424\u001b[0m     \u001b[39mreturn\u001b[39;00m \u001b[39misinstance\u001b[39m(dtype, ExtensionDtype) \u001b[39mand\u001b[39;00m \u001b[39mnot\u001b[39;00m \u001b[39misinstance\u001b[39m(\n\u001b[1;32m   1425\u001b[0m         dtype, (DatetimeTZDtype, PeriodDtype)\n\u001b[1;32m   1426\u001b[0m     )\n\u001b[0;32m-> 1429\u001b[0m \u001b[39mdef\u001b[39;00m \u001b[39mis_extension_array_dtype\u001b[39m(arr_or_dtype) \u001b[39m-\u001b[39m\u001b[39m>\u001b[39m \u001b[39mbool\u001b[39m:\n\u001b[1;32m   1430\u001b[0m     \u001b[39m\"\"\"\u001b[39;00m\n\u001b[1;32m   1431\u001b[0m \u001b[39m    Check if an object is a pandas extension array type.\u001b[39;00m\n\u001b[1;32m   1432\u001b[0m \n\u001b[0;32m   (...)\u001b[0m\n\u001b[1;32m   1472\u001b[0m \u001b[39m    False\u001b[39;00m\n\u001b[1;32m   1473\u001b[0m \u001b[39m    \"\"\"\u001b[39;00m\n\u001b[1;32m   1474\u001b[0m     dtype \u001b[39m=\u001b[39m \u001b[39mgetattr\u001b[39m(arr_or_dtype, \u001b[39m\"\u001b[39m\u001b[39mdtype\u001b[39m\u001b[39m\"\u001b[39m, arr_or_dtype)\n",
      "\u001b[0;31mKeyboardInterrupt\u001b[0m: "
     ]
    }
   ],
   "source": [
    "# Import the training data\n",
    "train = pd.read_csv('Project Data/ProjectTrainingData.csv')"
   ]
  },
  {
   "cell_type": "code",
   "execution_count": null,
   "metadata": {},
   "outputs": [],
   "source": [
    "# Import the test data\n",
    "test = pd.read_csv('Project Data/ProjectTestData.csv')"
   ]
  },
  {
   "cell_type": "code",
   "execution_count": null,
   "metadata": {},
   "outputs": [
    {
     "data": {
      "text/plain": [
       "(31991090, 24)"
      ]
     },
     "metadata": {},
     "output_type": "display_data"
    }
   ],
   "source": [
    "train.shape\n",
    "# there are 31991090 rows and 24 columns"
   ]
  },
  {
   "cell_type": "code",
   "execution_count": null,
   "metadata": {},
   "outputs": [],
   "source": [
    "# shuffle the train dataset into 10 parts\n",
    "shuffled = train.sample(frac=1)\n",
    "result = np.array_split(shuffled, 10)  "
   ]
  },
  {
   "cell_type": "code",
   "execution_count": null,
   "metadata": {},
   "outputs": [],
   "source": [
    "# name those parts with number\n",
    "for i in range(len(result)):\n",
    "    exec(f'train_{i} = result[i]')"
   ]
  },
  {
   "cell_type": "code",
   "execution_count": null,
   "metadata": {},
   "outputs": [
    {
     "name": "stdout",
     "output_type": "stream",
     "text": [
      "(3199109, 23)\n"
     ]
    }
   ],
   "source": [
    "print(train_1.shape)"
   ]
  },
  {
   "cell_type": "markdown",
   "metadata": {},
   "source": [
    "## Data Overview"
   ]
  },
  {
   "cell_type": "code",
   "execution_count": null,
   "metadata": {},
   "outputs": [
    {
     "data": {
      "text/html": [
       "<div>\n",
       "<style scoped>\n",
       "    .dataframe tbody tr th:only-of-type {\n",
       "        vertical-align: middle;\n",
       "    }\n",
       "\n",
       "    .dataframe tbody tr th {\n",
       "        vertical-align: top;\n",
       "    }\n",
       "\n",
       "    .dataframe thead th {\n",
       "        text-align: right;\n",
       "    }\n",
       "</style>\n",
       "<table border=\"1\" class=\"dataframe\">\n",
       "  <thead>\n",
       "    <tr style=\"text-align: right;\">\n",
       "      <th></th>\n",
       "      <th>click</th>\n",
       "      <th>hour</th>\n",
       "      <th>C1</th>\n",
       "      <th>banner_pos</th>\n",
       "      <th>site_id</th>\n",
       "      <th>site_domain</th>\n",
       "      <th>site_category</th>\n",
       "      <th>app_id</th>\n",
       "      <th>app_domain</th>\n",
       "      <th>app_category</th>\n",
       "      <th>...</th>\n",
       "      <th>device_type</th>\n",
       "      <th>device_conn_type</th>\n",
       "      <th>C14</th>\n",
       "      <th>C15</th>\n",
       "      <th>C16</th>\n",
       "      <th>C17</th>\n",
       "      <th>C18</th>\n",
       "      <th>C19</th>\n",
       "      <th>C20</th>\n",
       "      <th>C21</th>\n",
       "    </tr>\n",
       "  </thead>\n",
       "  <tbody>\n",
       "    <tr>\n",
       "      <th>11657845</th>\n",
       "      <td>0</td>\n",
       "      <td>14102322</td>\n",
       "      <td>1002</td>\n",
       "      <td>0</td>\n",
       "      <td>others</td>\n",
       "      <td>c4e18dd6</td>\n",
       "      <td>50e219e0</td>\n",
       "      <td>ecad2386</td>\n",
       "      <td>7801e8d9</td>\n",
       "      <td>07d7df22</td>\n",
       "      <td>...</td>\n",
       "      <td>0</td>\n",
       "      <td>0</td>\n",
       "      <td>4687</td>\n",
       "      <td>320</td>\n",
       "      <td>50</td>\n",
       "      <td>423</td>\n",
       "      <td>2</td>\n",
       "      <td>39</td>\n",
       "      <td>100148</td>\n",
       "      <td>32</td>\n",
       "    </tr>\n",
       "    <tr>\n",
       "      <th>31980697</th>\n",
       "      <td>0</td>\n",
       "      <td>14102923</td>\n",
       "      <td>1005</td>\n",
       "      <td>0</td>\n",
       "      <td>85f751fd</td>\n",
       "      <td>c4e18dd6</td>\n",
       "      <td>50e219e0</td>\n",
       "      <td>febd1138</td>\n",
       "      <td>other</td>\n",
       "      <td>0f2161f8</td>\n",
       "      <td>...</td>\n",
       "      <td>1</td>\n",
       "      <td>0</td>\n",
       "      <td>20508</td>\n",
       "      <td>320</td>\n",
       "      <td>50</td>\n",
       "      <td>2351</td>\n",
       "      <td>3</td>\n",
       "      <td>163</td>\n",
       "      <td>-1</td>\n",
       "      <td>61</td>\n",
       "    </tr>\n",
       "    <tr>\n",
       "      <th>8274615</th>\n",
       "      <td>0</td>\n",
       "      <td>14102222</td>\n",
       "      <td>1005</td>\n",
       "      <td>0</td>\n",
       "      <td>5b08c53b</td>\n",
       "      <td>7687a86e</td>\n",
       "      <td>3e814130</td>\n",
       "      <td>ecad2386</td>\n",
       "      <td>7801e8d9</td>\n",
       "      <td>07d7df22</td>\n",
       "      <td>...</td>\n",
       "      <td>1</td>\n",
       "      <td>0</td>\n",
       "      <td>21836</td>\n",
       "      <td>300</td>\n",
       "      <td>250</td>\n",
       "      <td>2523</td>\n",
       "      <td>0</td>\n",
       "      <td>35</td>\n",
       "      <td>100084</td>\n",
       "      <td>221</td>\n",
       "    </tr>\n",
       "    <tr>\n",
       "      <th>1994761</th>\n",
       "      <td>0</td>\n",
       "      <td>14102110</td>\n",
       "      <td>1005</td>\n",
       "      <td>0</td>\n",
       "      <td>85f751fd</td>\n",
       "      <td>c4e18dd6</td>\n",
       "      <td>50e219e0</td>\n",
       "      <td>other</td>\n",
       "      <td>other</td>\n",
       "      <td>cef3e649</td>\n",
       "      <td>...</td>\n",
       "      <td>1</td>\n",
       "      <td>2</td>\n",
       "      <td>21751</td>\n",
       "      <td>320</td>\n",
       "      <td>50</td>\n",
       "      <td>2505</td>\n",
       "      <td>0</td>\n",
       "      <td>169</td>\n",
       "      <td>100176</td>\n",
       "      <td>17</td>\n",
       "    </tr>\n",
       "    <tr>\n",
       "      <th>28022319</th>\n",
       "      <td>0</td>\n",
       "      <td>14102819</td>\n",
       "      <td>1005</td>\n",
       "      <td>0</td>\n",
       "      <td>85f751fd</td>\n",
       "      <td>c4e18dd6</td>\n",
       "      <td>50e219e0</td>\n",
       "      <td>e2fcccd2</td>\n",
       "      <td>other</td>\n",
       "      <td>0f2161f8</td>\n",
       "      <td>...</td>\n",
       "      <td>1</td>\n",
       "      <td>0</td>\n",
       "      <td>18539</td>\n",
       "      <td>320</td>\n",
       "      <td>50</td>\n",
       "      <td>2104</td>\n",
       "      <td>3</td>\n",
       "      <td>1839</td>\n",
       "      <td>-1</td>\n",
       "      <td>171</td>\n",
       "    </tr>\n",
       "  </tbody>\n",
       "</table>\n",
       "<p>5 rows × 22 columns</p>\n",
       "</div>"
      ],
      "text/plain": [
       "          click      hour    C1  banner_pos   site_id site_domain  \\\n",
       "11657845      0  14102322  1002           0    others    c4e18dd6   \n",
       "31980697      0  14102923  1005           0  85f751fd    c4e18dd6   \n",
       "8274615       0  14102222  1005           0  5b08c53b    7687a86e   \n",
       "1994761       0  14102110  1005           0  85f751fd    c4e18dd6   \n",
       "28022319      0  14102819  1005           0  85f751fd    c4e18dd6   \n",
       "\n",
       "         site_category    app_id app_domain app_category  ... device_type  \\\n",
       "11657845      50e219e0  ecad2386   7801e8d9     07d7df22  ...           0   \n",
       "31980697      50e219e0  febd1138      other     0f2161f8  ...           1   \n",
       "8274615       3e814130  ecad2386   7801e8d9     07d7df22  ...           1   \n",
       "1994761       50e219e0     other      other     cef3e649  ...           1   \n",
       "28022319      50e219e0  e2fcccd2      other     0f2161f8  ...           1   \n",
       "\n",
       "         device_conn_type    C14  C15  C16   C17  C18   C19     C20  C21  \n",
       "11657845                0   4687  320   50   423    2    39  100148   32  \n",
       "31980697                0  20508  320   50  2351    3   163      -1   61  \n",
       "8274615                 0  21836  300  250  2523    0    35  100084  221  \n",
       "1994761                 2  21751  320   50  2505    0   169  100176   17  \n",
       "28022319                0  18539  320   50  2104    3  1839      -1  171  \n",
       "\n",
       "[5 rows x 22 columns]"
      ]
     },
     "execution_count": 102,
     "metadata": {},
     "output_type": "execute_result"
    }
   ],
   "source": [
    "# Explore the training data\n",
    "train_1.head()"
   ]
  },
  {
   "cell_type": "code",
   "execution_count": null,
   "metadata": {},
   "outputs": [],
   "source": [
    "# set test set naive prediction value as 0.5\n",
    "test['click'] = 0.5\n",
    "# set test set column names\n",
    "test = test[['id', 'click', 'hour', 'C1', 'banner_pos', 'site_id', 'site_domain', 'site_category', 'app_id', 'app_domain', 'app_category', 'device_id', 'device_ip', 'device_model', \n",
    "                    'device_type', 'device_conn_type', 'C14', 'C15', 'C16', 'C17', 'C18', 'C19', 'C20', 'C21']]"
   ]
  },
  {
   "cell_type": "code",
   "execution_count": null,
   "metadata": {},
   "outputs": [
    {
     "data": {
      "text/plain": [
       "(13015341, 24)"
      ]
     },
     "execution_count": 11,
     "metadata": {},
     "output_type": "execute_result"
    }
   ],
   "source": [
    "test.shape"
   ]
  },
  {
   "cell_type": "code",
   "execution_count": null,
   "metadata": {},
   "outputs": [
    {
     "data": {
      "text/html": [
       "<div>\n",
       "<style scoped>\n",
       "    .dataframe tbody tr th:only-of-type {\n",
       "        vertical-align: middle;\n",
       "    }\n",
       "\n",
       "    .dataframe tbody tr th {\n",
       "        vertical-align: top;\n",
       "    }\n",
       "\n",
       "    .dataframe thead th {\n",
       "        text-align: right;\n",
       "    }\n",
       "</style>\n",
       "<table border=\"1\" class=\"dataframe\">\n",
       "  <thead>\n",
       "    <tr style=\"text-align: right;\">\n",
       "      <th></th>\n",
       "      <th>click</th>\n",
       "      <th>hour</th>\n",
       "      <th>C1</th>\n",
       "      <th>banner_pos</th>\n",
       "      <th>site_id</th>\n",
       "      <th>site_domain</th>\n",
       "      <th>site_category</th>\n",
       "      <th>app_id</th>\n",
       "      <th>app_domain</th>\n",
       "      <th>app_category</th>\n",
       "      <th>...</th>\n",
       "      <th>device_type</th>\n",
       "      <th>device_conn_type</th>\n",
       "      <th>C14</th>\n",
       "      <th>C15</th>\n",
       "      <th>C16</th>\n",
       "      <th>C17</th>\n",
       "      <th>C18</th>\n",
       "      <th>C19</th>\n",
       "      <th>C20</th>\n",
       "      <th>C21</th>\n",
       "    </tr>\n",
       "  </thead>\n",
       "  <tbody>\n",
       "    <tr>\n",
       "      <th>count</th>\n",
       "      <td>3.199109e+06</td>\n",
       "      <td>3.199109e+06</td>\n",
       "      <td>3.199109e+06</td>\n",
       "      <td>3.199109e+06</td>\n",
       "      <td>3199109</td>\n",
       "      <td>3199109</td>\n",
       "      <td>3199109</td>\n",
       "      <td>3199109</td>\n",
       "      <td>3199109</td>\n",
       "      <td>3199109</td>\n",
       "      <td>...</td>\n",
       "      <td>3.199109e+06</td>\n",
       "      <td>3.199109e+06</td>\n",
       "      <td>3.199109e+06</td>\n",
       "      <td>3.199109e+06</td>\n",
       "      <td>3.199109e+06</td>\n",
       "      <td>3.199109e+06</td>\n",
       "      <td>3.199109e+06</td>\n",
       "      <td>3.199109e+06</td>\n",
       "      <td>3.199109e+06</td>\n",
       "      <td>3.199109e+06</td>\n",
       "    </tr>\n",
       "    <tr>\n",
       "      <th>unique</th>\n",
       "      <td>NaN</td>\n",
       "      <td>NaN</td>\n",
       "      <td>NaN</td>\n",
       "      <td>NaN</td>\n",
       "      <td>3288</td>\n",
       "      <td>4027</td>\n",
       "      <td>22</td>\n",
       "      <td>4512</td>\n",
       "      <td>288</td>\n",
       "      <td>28</td>\n",
       "      <td>...</td>\n",
       "      <td>NaN</td>\n",
       "      <td>NaN</td>\n",
       "      <td>NaN</td>\n",
       "      <td>NaN</td>\n",
       "      <td>NaN</td>\n",
       "      <td>NaN</td>\n",
       "      <td>NaN</td>\n",
       "      <td>NaN</td>\n",
       "      <td>NaN</td>\n",
       "      <td>NaN</td>\n",
       "    </tr>\n",
       "    <tr>\n",
       "      <th>top</th>\n",
       "      <td>NaN</td>\n",
       "      <td>NaN</td>\n",
       "      <td>NaN</td>\n",
       "      <td>NaN</td>\n",
       "      <td>85f751fd</td>\n",
       "      <td>c4e18dd6</td>\n",
       "      <td>50e219e0</td>\n",
       "      <td>ecad2386</td>\n",
       "      <td>7801e8d9</td>\n",
       "      <td>07d7df22</td>\n",
       "      <td>...</td>\n",
       "      <td>NaN</td>\n",
       "      <td>NaN</td>\n",
       "      <td>NaN</td>\n",
       "      <td>NaN</td>\n",
       "      <td>NaN</td>\n",
       "      <td>NaN</td>\n",
       "      <td>NaN</td>\n",
       "      <td>NaN</td>\n",
       "      <td>NaN</td>\n",
       "      <td>NaN</td>\n",
       "    </tr>\n",
       "    <tr>\n",
       "      <th>freq</th>\n",
       "      <td>NaN</td>\n",
       "      <td>NaN</td>\n",
       "      <td>NaN</td>\n",
       "      <td>NaN</td>\n",
       "      <td>1117132</td>\n",
       "      <td>1160119</td>\n",
       "      <td>1273308</td>\n",
       "      <td>2081977</td>\n",
       "      <td>2199289</td>\n",
       "      <td>2110065</td>\n",
       "      <td>...</td>\n",
       "      <td>NaN</td>\n",
       "      <td>NaN</td>\n",
       "      <td>NaN</td>\n",
       "      <td>NaN</td>\n",
       "      <td>NaN</td>\n",
       "      <td>NaN</td>\n",
       "      <td>NaN</td>\n",
       "      <td>NaN</td>\n",
       "      <td>NaN</td>\n",
       "      <td>NaN</td>\n",
       "    </tr>\n",
       "    <tr>\n",
       "      <th>mean</th>\n",
       "      <td>1.698495e-01</td>\n",
       "      <td>1.410251e+07</td>\n",
       "      <td>1.004972e+03</td>\n",
       "      <td>2.944567e-01</td>\n",
       "      <td>NaN</td>\n",
       "      <td>NaN</td>\n",
       "      <td>NaN</td>\n",
       "      <td>NaN</td>\n",
       "      <td>NaN</td>\n",
       "      <td>NaN</td>\n",
       "      <td>...</td>\n",
       "      <td>1.018467e+00</td>\n",
       "      <td>3.285399e-01</td>\n",
       "      <td>1.859197e+04</td>\n",
       "      <td>3.188324e+02</td>\n",
       "      <td>6.015709e+01</td>\n",
       "      <td>2.081572e+03</td>\n",
       "      <td>1.433127e+00</td>\n",
       "      <td>2.217013e+02</td>\n",
       "      <td>5.363401e+04</td>\n",
       "      <td>8.057465e+01</td>\n",
       "    </tr>\n",
       "    <tr>\n",
       "      <th>std</th>\n",
       "      <td>3.755006e-01</td>\n",
       "      <td>2.675728e+02</td>\n",
       "      <td>1.117449e+00</td>\n",
       "      <td>5.108791e-01</td>\n",
       "      <td>NaN</td>\n",
       "      <td>NaN</td>\n",
       "      <td>NaN</td>\n",
       "      <td>NaN</td>\n",
       "      <td>NaN</td>\n",
       "      <td>NaN</td>\n",
       "      <td>...</td>\n",
       "      <td>5.414683e-01</td>\n",
       "      <td>8.564783e-01</td>\n",
       "      <td>4.968482e+03</td>\n",
       "      <td>2.152290e+01</td>\n",
       "      <td>4.757492e+01</td>\n",
       "      <td>6.089514e+02</td>\n",
       "      <td>1.323373e+00</td>\n",
       "      <td>3.494716e+02</td>\n",
       "      <td>4.992850e+04</td>\n",
       "      <td>6.699900e+01</td>\n",
       "    </tr>\n",
       "    <tr>\n",
       "      <th>min</th>\n",
       "      <td>0.000000e+00</td>\n",
       "      <td>1.410210e+07</td>\n",
       "      <td>1.001000e+03</td>\n",
       "      <td>0.000000e+00</td>\n",
       "      <td>NaN</td>\n",
       "      <td>NaN</td>\n",
       "      <td>NaN</td>\n",
       "      <td>NaN</td>\n",
       "      <td>NaN</td>\n",
       "      <td>NaN</td>\n",
       "      <td>...</td>\n",
       "      <td>0.000000e+00</td>\n",
       "      <td>0.000000e+00</td>\n",
       "      <td>3.750000e+02</td>\n",
       "      <td>1.200000e+02</td>\n",
       "      <td>2.000000e+01</td>\n",
       "      <td>1.120000e+02</td>\n",
       "      <td>0.000000e+00</td>\n",
       "      <td>3.300000e+01</td>\n",
       "      <td>-1.000000e+00</td>\n",
       "      <td>1.000000e+00</td>\n",
       "    </tr>\n",
       "    <tr>\n",
       "      <th>25%</th>\n",
       "      <td>0.000000e+00</td>\n",
       "      <td>1.410222e+07</td>\n",
       "      <td>1.005000e+03</td>\n",
       "      <td>0.000000e+00</td>\n",
       "      <td>NaN</td>\n",
       "      <td>NaN</td>\n",
       "      <td>NaN</td>\n",
       "      <td>NaN</td>\n",
       "      <td>NaN</td>\n",
       "      <td>NaN</td>\n",
       "      <td>...</td>\n",
       "      <td>1.000000e+00</td>\n",
       "      <td>0.000000e+00</td>\n",
       "      <td>1.668500e+04</td>\n",
       "      <td>3.200000e+02</td>\n",
       "      <td>5.000000e+01</td>\n",
       "      <td>1.800000e+03</td>\n",
       "      <td>0.000000e+00</td>\n",
       "      <td>3.500000e+01</td>\n",
       "      <td>-1.000000e+00</td>\n",
       "      <td>2.300000e+01</td>\n",
       "    </tr>\n",
       "    <tr>\n",
       "      <th>50%</th>\n",
       "      <td>0.000000e+00</td>\n",
       "      <td>1.410251e+07</td>\n",
       "      <td>1.005000e+03</td>\n",
       "      <td>0.000000e+00</td>\n",
       "      <td>NaN</td>\n",
       "      <td>NaN</td>\n",
       "      <td>NaN</td>\n",
       "      <td>NaN</td>\n",
       "      <td>NaN</td>\n",
       "      <td>NaN</td>\n",
       "      <td>...</td>\n",
       "      <td>1.000000e+00</td>\n",
       "      <td>0.000000e+00</td>\n",
       "      <td>2.015300e+04</td>\n",
       "      <td>3.200000e+02</td>\n",
       "      <td>5.000000e+01</td>\n",
       "      <td>2.299000e+03</td>\n",
       "      <td>2.000000e+00</td>\n",
       "      <td>3.900000e+01</td>\n",
       "      <td>1.000550e+05</td>\n",
       "      <td>6.100000e+01</td>\n",
       "    </tr>\n",
       "    <tr>\n",
       "      <th>75%</th>\n",
       "      <td>0.000000e+00</td>\n",
       "      <td>1.410280e+07</td>\n",
       "      <td>1.005000e+03</td>\n",
       "      <td>1.000000e+00</td>\n",
       "      <td>NaN</td>\n",
       "      <td>NaN</td>\n",
       "      <td>NaN</td>\n",
       "      <td>NaN</td>\n",
       "      <td>NaN</td>\n",
       "      <td>NaN</td>\n",
       "      <td>...</td>\n",
       "      <td>1.000000e+00</td>\n",
       "      <td>0.000000e+00</td>\n",
       "      <td>2.177000e+04</td>\n",
       "      <td>3.200000e+02</td>\n",
       "      <td>5.000000e+01</td>\n",
       "      <td>2.506000e+03</td>\n",
       "      <td>3.000000e+00</td>\n",
       "      <td>1.690000e+02</td>\n",
       "      <td>1.000940e+05</td>\n",
       "      <td>9.100000e+01</td>\n",
       "    </tr>\n",
       "    <tr>\n",
       "      <th>max</th>\n",
       "      <td>1.000000e+00</td>\n",
       "      <td>1.410292e+07</td>\n",
       "      <td>1.012000e+03</td>\n",
       "      <td>7.000000e+00</td>\n",
       "      <td>NaN</td>\n",
       "      <td>NaN</td>\n",
       "      <td>NaN</td>\n",
       "      <td>NaN</td>\n",
       "      <td>NaN</td>\n",
       "      <td>NaN</td>\n",
       "      <td>...</td>\n",
       "      <td>5.000000e+00</td>\n",
       "      <td>5.000000e+00</td>\n",
       "      <td>2.383600e+04</td>\n",
       "      <td>1.024000e+03</td>\n",
       "      <td>1.024000e+03</td>\n",
       "      <td>2.729000e+03</td>\n",
       "      <td>3.000000e+00</td>\n",
       "      <td>1.839000e+03</td>\n",
       "      <td>1.002480e+05</td>\n",
       "      <td>2.530000e+02</td>\n",
       "    </tr>\n",
       "  </tbody>\n",
       "</table>\n",
       "<p>11 rows × 23 columns</p>\n",
       "</div>"
      ],
      "text/plain": [
       "               click          hour            C1    banner_pos   site_id  \\\n",
       "count   3.199109e+06  3.199109e+06  3.199109e+06  3.199109e+06   3199109   \n",
       "unique           NaN           NaN           NaN           NaN      3288   \n",
       "top              NaN           NaN           NaN           NaN  85f751fd   \n",
       "freq             NaN           NaN           NaN           NaN   1117132   \n",
       "mean    1.698495e-01  1.410251e+07  1.004972e+03  2.944567e-01       NaN   \n",
       "std     3.755006e-01  2.675728e+02  1.117449e+00  5.108791e-01       NaN   \n",
       "min     0.000000e+00  1.410210e+07  1.001000e+03  0.000000e+00       NaN   \n",
       "25%     0.000000e+00  1.410222e+07  1.005000e+03  0.000000e+00       NaN   \n",
       "50%     0.000000e+00  1.410251e+07  1.005000e+03  0.000000e+00       NaN   \n",
       "75%     0.000000e+00  1.410280e+07  1.005000e+03  1.000000e+00       NaN   \n",
       "max     1.000000e+00  1.410292e+07  1.012000e+03  7.000000e+00       NaN   \n",
       "\n",
       "       site_domain site_category    app_id app_domain app_category  ...  \\\n",
       "count      3199109       3199109   3199109    3199109      3199109  ...   \n",
       "unique        4027            22      4512        288           28  ...   \n",
       "top       c4e18dd6      50e219e0  ecad2386   7801e8d9     07d7df22  ...   \n",
       "freq       1160119       1273308   2081977    2199289      2110065  ...   \n",
       "mean           NaN           NaN       NaN        NaN          NaN  ...   \n",
       "std            NaN           NaN       NaN        NaN          NaN  ...   \n",
       "min            NaN           NaN       NaN        NaN          NaN  ...   \n",
       "25%            NaN           NaN       NaN        NaN          NaN  ...   \n",
       "50%            NaN           NaN       NaN        NaN          NaN  ...   \n",
       "75%            NaN           NaN       NaN        NaN          NaN  ...   \n",
       "max            NaN           NaN       NaN        NaN          NaN  ...   \n",
       "\n",
       "         device_type device_conn_type           C14           C15  \\\n",
       "count   3.199109e+06     3.199109e+06  3.199109e+06  3.199109e+06   \n",
       "unique           NaN              NaN           NaN           NaN   \n",
       "top              NaN              NaN           NaN           NaN   \n",
       "freq             NaN              NaN           NaN           NaN   \n",
       "mean    1.018467e+00     3.285399e-01  1.859197e+04  3.188324e+02   \n",
       "std     5.414683e-01     8.564783e-01  4.968482e+03  2.152290e+01   \n",
       "min     0.000000e+00     0.000000e+00  3.750000e+02  1.200000e+02   \n",
       "25%     1.000000e+00     0.000000e+00  1.668500e+04  3.200000e+02   \n",
       "50%     1.000000e+00     0.000000e+00  2.015300e+04  3.200000e+02   \n",
       "75%     1.000000e+00     0.000000e+00  2.177000e+04  3.200000e+02   \n",
       "max     5.000000e+00     5.000000e+00  2.383600e+04  1.024000e+03   \n",
       "\n",
       "                 C16           C17           C18           C19           C20  \\\n",
       "count   3.199109e+06  3.199109e+06  3.199109e+06  3.199109e+06  3.199109e+06   \n",
       "unique           NaN           NaN           NaN           NaN           NaN   \n",
       "top              NaN           NaN           NaN           NaN           NaN   \n",
       "freq             NaN           NaN           NaN           NaN           NaN   \n",
       "mean    6.015709e+01  2.081572e+03  1.433127e+00  2.217013e+02  5.363401e+04   \n",
       "std     4.757492e+01  6.089514e+02  1.323373e+00  3.494716e+02  4.992850e+04   \n",
       "min     2.000000e+01  1.120000e+02  0.000000e+00  3.300000e+01 -1.000000e+00   \n",
       "25%     5.000000e+01  1.800000e+03  0.000000e+00  3.500000e+01 -1.000000e+00   \n",
       "50%     5.000000e+01  2.299000e+03  2.000000e+00  3.900000e+01  1.000550e+05   \n",
       "75%     5.000000e+01  2.506000e+03  3.000000e+00  1.690000e+02  1.000940e+05   \n",
       "max     1.024000e+03  2.729000e+03  3.000000e+00  1.839000e+03  1.002480e+05   \n",
       "\n",
       "                 C21  \n",
       "count   3.199109e+06  \n",
       "unique           NaN  \n",
       "top              NaN  \n",
       "freq             NaN  \n",
       "mean    8.057465e+01  \n",
       "std     6.699900e+01  \n",
       "min     1.000000e+00  \n",
       "25%     2.300000e+01  \n",
       "50%     6.100000e+01  \n",
       "75%     9.100000e+01  \n",
       "max     2.530000e+02  \n",
       "\n",
       "[11 rows x 23 columns]"
      ]
     },
     "execution_count": 28,
     "metadata": {},
     "output_type": "execute_result"
    }
   ],
   "source": [
    "train_1.describe(include='all')"
   ]
  },
  {
   "cell_type": "code",
   "execution_count": null,
   "metadata": {},
   "outputs": [],
   "source": [
    "# concat all data to explore\n",
    "df = pd.concat([train, test])\n",
    "# transform into a datatable just in case of speed limit\n",
    "all_dt = dt.Frame(df)"
   ]
  },
  {
   "cell_type": "markdown",
   "metadata": {},
   "source": [
    "## Categorical Data Encoding\n",
    "\n",
    "Category with names:\n",
    "* id: drop\n",
    "* site categories:\n",
    "  * site_id: base 5 encoding\n",
    "  * site_domain: base 5 encoding\n",
    "  * site_category: base 10 encoding\n",
    "* app cats:\n",
    "  * app_id: base 5 encoding\n",
    "  * app_domain: one-hot encoding\n",
    "  * app_category: base 10 encoding\n",
    "* device cats:\n",
    "  * device_id: one-hot encoding\n",
    "  * device_ip: drop\n",
    "  * device_model: base 10 encoding\n",
    "\n",
    "\n",
    "Category without names:\n",
    "* C1: stay same\n",
    "* C14: base 5 encoding\n",
    "* C15: stay same\n",
    "* C16: stay same\n",
    "* C17: base 5 encoding\n",
    "* C18: stay same\n",
    "* C19: base 5 encoding\n",
    "* C20: base 5 encoding\n",
    "* C21: base 5 encoding"
   ]
  },
  {
   "cell_type": "code",
   "execution_count": null,
   "metadata": {},
   "outputs": [],
   "source": [
    "# drop id in column\n",
    "del train_2['id']\n",
    "del test['id']"
   ]
  },
  {
   "cell_type": "code",
   "execution_count": null,
   "metadata": {},
   "outputs": [],
   "source": [
    "# define a function to transform skewed categorical value based on frequency\n",
    "def categorical_replace(train_data, test_data, column, pct = 0.01):\n",
    "    \"\"\"\n",
    "    train_data: train dataset to input\n",
    "    test_data: test to input\n",
    "    column: column name string to input\n",
    "    pct: transform frequency treshold, default 0.01\n",
    "    \"\"\"\n",
    "    cond = train_data[column].value_counts(normalize = True) > pct\n",
    "    non_others = cond[cond].index  # define a list to save main category\n",
    "\n",
    "    train_data['temp'] = 'other'\n",
    "    train_data.loc[train_data[column].isin(non_others),'temp'] = train_data[column]\n",
    "    train_data[column] = train_data['temp'].values\n",
    "    del train_data['temp']\n",
    "    print(\"Train Test Replace Finished!\")\n",
    "\n",
    "    test_data['temp'] = 'other'\n",
    "    test_data.loc[test_data[column].isin(non_others),'temp'] = test_data[column]\n",
    "    test_data[column] = test_data['temp'].values\n",
    "    del test_data['temp']\n",
    "    print(\"Test data replace finished!\")"
   ]
  },
  {
   "cell_type": "code",
   "execution_count": null,
   "metadata": {},
   "outputs": [],
   "source": [
    "# define function to draw category distribution\n",
    "def hist_bar_cat(data, column):\n",
    "    categories = data[column].value_counts().index.astype('str')\n",
    "    counts = data[column].value_counts().values\n",
    "    plt.bar(categories, counts, width=0.5)\n",
    "    plt.title('Distribution for column {}'.format(column))"
   ]
  },
  {
   "cell_type": "markdown",
   "metadata": {},
   "source": [
    "### Site Categories"
   ]
  },
  {
   "cell_type": "markdown",
   "metadata": {},
   "source": [
    "#### site_id"
   ]
  },
  {
   "cell_type": "code",
   "execution_count": null,
   "metadata": {},
   "outputs": [
    {
     "data": {
      "text/plain": [
       "3313"
      ]
     },
     "execution_count": 124,
     "metadata": {},
     "output_type": "execute_result"
    }
   ],
   "source": [
    "# check the number of unique values for each column\n",
    "train_2['site_id'].nunique()"
   ]
  },
  {
   "cell_type": "code",
   "execution_count": null,
   "metadata": {},
   "outputs": [
    {
     "data": {
      "text/plain": [
       "44.17118709525173"
      ]
     },
     "execution_count": 126,
     "metadata": {},
     "output_type": "execute_result"
    }
   ],
   "source": [
    "train_2['site_id'].value_counts(normalize = True).skew()\n",
    "# as shown below, the skewness it is quite high"
   ]
  },
  {
   "cell_type": "code",
   "execution_count": null,
   "metadata": {},
   "outputs": [
    {
     "name": "stdout",
     "output_type": "stream",
     "text": [
      "Train Test Replace Finished!\n",
      "Test data replace finished!\n"
     ]
    }
   ],
   "source": [
    "categorical_replace(train_2, test, 'site_id')"
   ]
  },
  {
   "cell_type": "code",
   "execution_count": null,
   "metadata": {},
   "outputs": [
    {
     "data": {
      "image/png": "[encoded data removed]",
      "text/plain": [
       "<Figure size 432x288 with 1 Axes>"
      ]
     },
     "metadata": {
      "needs_background": "light"
     },
     "output_type": "display_data"
    }
   ],
   "source": [
    "hist_bar_cat(train_2, \"site_id\")\n",
    "# much better"
   ]
  },
  {
   "cell_type": "markdown",
   "metadata": {},
   "source": [
    "#### site_domain"
   ]
  },
  {
   "cell_type": "code",
   "execution_count": null,
   "metadata": {},
   "outputs": [
    {
     "data": {
      "text/plain": [
       "4040"
      ]
     },
     "execution_count": 129,
     "metadata": {},
     "output_type": "execute_result"
    }
   ],
   "source": [
    "train_2['site_domain'].nunique()\n",
    "# check non-dup value"
   ]
  },
  {
   "cell_type": "code",
   "execution_count": null,
   "metadata": {},
   "outputs": [
    {
     "data": {
      "text/plain": [
       "48.307049944250075"
      ]
     },
     "execution_count": 130,
     "metadata": {},
     "output_type": "execute_result"
    }
   ],
   "source": [
    "train_2['site_domain'].value_counts(normalize = True).skew()\n",
    "# as shown below, the skewness it is quite high"
   ]
  },
  {
   "cell_type": "code",
   "execution_count": null,
   "metadata": {},
   "outputs": [
    {
     "name": "stdout",
     "output_type": "stream",
     "text": [
      "Train Test Replace Finished!\n",
      "Test data replace finished!\n"
     ]
    }
   ],
   "source": [
    "categorical_replace(train_2, test, 'site_domain')"
   ]
  },
  {
   "cell_type": "code",
   "execution_count": null,
   "metadata": {},
   "outputs": [
    {
     "data": {
      "image/png": "[encoded data removed]",
      "text/plain": [
       "<Figure size 432x288 with 1 Axes>"
      ]
     },
     "metadata": {
      "needs_background": "light"
     },
     "output_type": "display_data"
    }
   ],
   "source": [
    "hist_bar_cat(train_2, \"site_domain\")\n",
    "# much better"
   ]
  },
  {
   "cell_type": "markdown",
   "metadata": {},
   "source": [
    "#### site_category\n",
    "\n",
    "Use Label Encoder Later"
   ]
  },
  {
   "cell_type": "code",
   "execution_count": null,
   "metadata": {},
   "outputs": [
    {
     "data": {
      "text/plain": [
       "23"
      ]
     },
     "execution_count": 133,
     "metadata": {},
     "output_type": "execute_result"
    }
   ],
   "source": [
    "train_2['site_category'].nunique()"
   ]
  },
  {
   "cell_type": "markdown",
   "metadata": {},
   "source": [
    "### App Categories\n",
    "#### app_id"
   ]
  },
  {
   "cell_type": "code",
   "execution_count": null,
   "metadata": {},
   "outputs": [
    {
     "data": {
      "text/plain": [
       "4599"
      ]
     },
     "execution_count": 134,
     "metadata": {},
     "output_type": "execute_result"
    }
   ],
   "source": [
    "train_2['app_id'].nunique()"
   ]
  },
  {
   "cell_type": "code",
   "execution_count": null,
   "metadata": {},
   "outputs": [
    {
     "data": {
      "text/plain": [
       "66.84903587519075"
      ]
     },
     "execution_count": 135,
     "metadata": {},
     "output_type": "execute_result"
    }
   ],
   "source": [
    "train_2['app_id'].value_counts(normalize = True).skew()\n",
    "# as shown below, the skewness it is quite high"
   ]
  },
  {
   "cell_type": "code",
   "execution_count": null,
   "metadata": {},
   "outputs": [
    {
     "name": "stdout",
     "output_type": "stream",
     "text": [
      "Train Test Replace Finished!\n",
      "Test data replace finished!\n"
     ]
    },
    {
     "data": {
      "image/png": "[encoded data removed]",
      "text/plain": [
       "<Figure size 432x288 with 1 Axes>"
      ]
     },
     "metadata": {
      "needs_background": "light"
     },
     "output_type": "display_data"
    }
   ],
   "source": [
    "categorical_replace(train_2, test, 'app_id')\n",
    "hist_bar_cat(train_2, \"app_id\")"
   ]
  },
  {
   "cell_type": "markdown",
   "metadata": {},
   "source": [
    "#### app_domain"
   ]
  },
  {
   "cell_type": "code",
   "execution_count": null,
   "metadata": {},
   "outputs": [
    {
     "data": {
      "text/plain": [
       "284"
      ]
     },
     "execution_count": 137,
     "metadata": {},
     "output_type": "execute_result"
    }
   ],
   "source": [
    "train_2['app_domain'].nunique()"
   ]
  },
  {
   "cell_type": "code",
   "execution_count": null,
   "metadata": {},
   "outputs": [
    {
     "data": {
      "text/plain": [
       "16.004398608955334"
      ]
     },
     "execution_count": 138,
     "metadata": {},
     "output_type": "execute_result"
    }
   ],
   "source": [
    "train_2['app_domain'].value_counts(normalize = True).skew()\n",
    "# as shown below, the skewness it is quite high"
   ]
  },
  {
   "cell_type": "code",
   "execution_count": null,
   "metadata": {},
   "outputs": [
    {
     "name": "stdout",
     "output_type": "stream",
     "text": [
      "Train Test Replace Finished!\n",
      "Test data replace finished!\n"
     ]
    },
    {
     "data": {
      "image/png": "[encoded data removed]",
      "text/plain": [
       "<Figure size 432x288 with 1 Axes>"
      ]
     },
     "metadata": {
      "needs_background": "light"
     },
     "output_type": "display_data"
    }
   ],
   "source": [
    "categorical_replace(train_2, test, 'app_domain', pct = 0.05)\n",
    "hist_bar_cat(train_2, \"app_domain\")"
   ]
  },
  {
   "cell_type": "markdown",
   "metadata": {},
   "source": [
    "#### app_category\n",
    "\n",
    "Label Encode Later"
   ]
  },
  {
   "cell_type": "code",
   "execution_count": null,
   "metadata": {},
   "outputs": [
    {
     "data": {
      "text/plain": [
       "28"
      ]
     },
     "execution_count": 140,
     "metadata": {},
     "output_type": "execute_result"
    }
   ],
   "source": [
    "train_2['app_category'].nunique()"
   ]
  },
  {
   "cell_type": "markdown",
   "metadata": {},
   "source": [
    "### Device Categoris\n",
    "#### device_id"
   ]
  },
  {
   "cell_type": "code",
   "execution_count": null,
   "metadata": {},
   "outputs": [
    {
     "data": {
      "text/plain": [
       "646.0856545026822"
      ]
     },
     "execution_count": 141,
     "metadata": {},
     "output_type": "execute_result"
    }
   ],
   "source": [
    "train_2['device_id'].value_counts(normalize = True).skew()\n",
    "# as shown below, the skewness it is quite high"
   ]
  },
  {
   "cell_type": "code",
   "execution_count": null,
   "metadata": {},
   "outputs": [
    {
     "name": "stdout",
     "output_type": "stream",
     "text": [
      "Train Test Replace Finished!\n",
      "Test data replace finished!\n"
     ]
    },
    {
     "data": {
      "image/png": "[encoded data removed]",
      "text/plain": [
       "<Figure size 432x288 with 1 Axes>"
      ]
     },
     "metadata": {
      "needs_background": "light"
     },
     "output_type": "display_data"
    }
   ],
   "source": [
    "categorical_replace(train_2, test, 'device_id', pct = 0.0005)\n",
    "hist_bar_cat(train_2, \"device_id\")"
   ]
  },
  {
   "cell_type": "markdown",
   "metadata": {},
   "source": [
    "#### device_ip"
   ]
  },
  {
   "cell_type": "code",
   "execution_count": null,
   "metadata": {},
   "outputs": [
    {
     "data": {
      "text/plain": [
       "254.90205677357898"
      ]
     },
     "execution_count": 143,
     "metadata": {},
     "output_type": "execute_result"
    }
   ],
   "source": [
    "train_2['device_ip'].value_counts(normalize = True).skew()\n",
    "# as shown below, the skewness it is quite high"
   ]
  },
  {
   "cell_type": "code",
   "execution_count": null,
   "metadata": {},
   "outputs": [],
   "source": [
    "#categorical_replace(train_2, test, 'device_ip')\n",
    "#hist_bar_cat(train_2, \"device_ip\")"
   ]
  },
  {
   "cell_type": "markdown",
   "metadata": {},
   "source": [
    "This variable is too skew that we decide to drop it."
   ]
  },
  {
   "cell_type": "code",
   "execution_count": null,
   "metadata": {},
   "outputs": [],
   "source": [
    "del train_2['device_ip']\n",
    "del test['device_ip']"
   ]
  },
  {
   "cell_type": "markdown",
   "metadata": {},
   "source": [
    "#### device_model"
   ]
  },
  {
   "cell_type": "code",
   "execution_count": null,
   "metadata": {},
   "outputs": [
    {
     "data": {
      "text/plain": [
       "26.114971214156565"
      ]
     },
     "execution_count": 146,
     "metadata": {},
     "output_type": "execute_result"
    }
   ],
   "source": [
    "train_2['device_model'].value_counts(normalize = True).skew()\n",
    "# as shown below, the skewness it is quite high"
   ]
  },
  {
   "cell_type": "code",
   "execution_count": null,
   "metadata": {},
   "outputs": [],
   "source": [
    "# categorical_replace(train_2, test, 'device_model')\n",
    "# hist_bar_cat(train_2, \"device_model\")"
   ]
  },
  {
   "cell_type": "markdown",
   "metadata": {},
   "source": [
    "### Anonymized Categorical Variables"
   ]
  },
  {
   "cell_type": "markdown",
   "metadata": {},
   "source": [
    "#### C14"
   ]
  },
  {
   "cell_type": "code",
   "execution_count": null,
   "metadata": {},
   "outputs": [
    {
     "data": {
      "text/plain": [
       "2299"
      ]
     },
     "execution_count": 148,
     "metadata": {},
     "output_type": "execute_result"
    }
   ],
   "source": [
    "train_2['C14'].nunique()"
   ]
  },
  {
   "cell_type": "code",
   "execution_count": null,
   "metadata": {},
   "outputs": [
    {
     "data": {
      "text/plain": [
       "8.039760129862776"
      ]
     },
     "execution_count": 149,
     "metadata": {},
     "output_type": "execute_result"
    }
   ],
   "source": [
    "train_2['C14'].value_counts(normalize = True).skew()\n",
    "# as shown below, the skewness it is quite high"
   ]
  },
  {
   "cell_type": "code",
   "execution_count": null,
   "metadata": {},
   "outputs": [
    {
     "name": "stdout",
     "output_type": "stream",
     "text": [
      "Train Test Replace Finished!\n",
      "Test data replace finished!\n"
     ]
    },
    {
     "data": {
      "image/png": "[encoded data removed]",
      "text/plain": [
       "<Figure size 432x288 with 1 Axes>"
      ]
     },
     "metadata": {
      "needs_background": "light"
     },
     "output_type": "display_data"
    }
   ],
   "source": [
    "categorical_replace(train_2, test, 'C14', pct = 0.01)\n",
    "hist_bar_cat(train_2, \"C14\")"
   ]
  },
  {
   "cell_type": "markdown",
   "metadata": {},
   "source": [
    "#### C17"
   ]
  },
  {
   "cell_type": "code",
   "execution_count": null,
   "metadata": {},
   "outputs": [
    {
     "data": {
      "text/plain": [
       "403"
      ]
     },
     "execution_count": 151,
     "metadata": {},
     "output_type": "execute_result"
    }
   ],
   "source": [
    "train_2['C17'].nunique()"
   ]
  },
  {
   "cell_type": "code",
   "execution_count": null,
   "metadata": {},
   "outputs": [
    {
     "data": {
      "text/plain": [
       "10.1668646292013"
      ]
     },
     "execution_count": 152,
     "metadata": {},
     "output_type": "execute_result"
    }
   ],
   "source": [
    "train_2['C17'].value_counts(normalize = True).skew()\n",
    "# as shown below, the skewness it is quite high"
   ]
  },
  {
   "cell_type": "code",
   "execution_count": null,
   "metadata": {},
   "outputs": [
    {
     "name": "stdout",
     "output_type": "stream",
     "text": [
      "Train Test Replace Finished!\n",
      "Test data replace finished!\n"
     ]
    },
    {
     "data": {
      "image/png": "[encoded data removed]",
      "text/plain": [
       "<Figure size 432x288 with 1 Axes>"
      ]
     },
     "metadata": {
      "needs_background": "light"
     },
     "output_type": "display_data"
    }
   ],
   "source": [
    "categorical_replace(train_2, test, 'C17')\n",
    "hist_bar_cat(train_2, \"C17\")"
   ]
  },
  {
   "cell_type": "markdown",
   "metadata": {},
   "source": [
    "#### C19"
   ]
  },
  {
   "cell_type": "code",
   "execution_count": null,
   "metadata": {},
   "outputs": [
    {
     "data": {
      "text/plain": [
       "65"
      ]
     },
     "execution_count": 154,
     "metadata": {},
     "output_type": "execute_result"
    }
   ],
   "source": [
    "train_2['C19'].nunique()"
   ]
  },
  {
   "cell_type": "code",
   "execution_count": null,
   "metadata": {},
   "outputs": [
    {
     "data": {
      "text/plain": [
       "5.250581957882213"
      ]
     },
     "execution_count": 155,
     "metadata": {},
     "output_type": "execute_result"
    }
   ],
   "source": [
    "train_2['C19'].value_counts(normalize = True).skew()\n",
    "# as shown below, the skewness it is quite high"
   ]
  },
  {
   "cell_type": "code",
   "execution_count": null,
   "metadata": {},
   "outputs": [
    {
     "name": "stdout",
     "output_type": "stream",
     "text": [
      "Train Test Replace Finished!\n",
      "Test data replace finished!\n"
     ]
    },
    {
     "data": {
      "image/png": "[encoded data removed]",
      "text/plain": [
       "<Figure size 432x288 with 1 Axes>"
      ]
     },
     "metadata": {
      "needs_background": "light"
     },
     "output_type": "display_data"
    }
   ],
   "source": [
    "categorical_replace(train_2, test, 'C19')\n",
    "hist_bar_cat(train_2, \"C19\")"
   ]
  },
  {
   "cell_type": "markdown",
   "metadata": {},
   "source": [
    "#### C20"
   ]
  },
  {
   "cell_type": "code",
   "execution_count": null,
   "metadata": {},
   "outputs": [
    {
     "data": {
      "text/plain": [
       "165"
      ]
     },
     "execution_count": 157,
     "metadata": {},
     "output_type": "execute_result"
    }
   ],
   "source": [
    "train_2['C20'].nunique()"
   ]
  },
  {
   "cell_type": "code",
   "execution_count": null,
   "metadata": {},
   "outputs": [
    {
     "data": {
      "text/plain": [
       "11.77520744584122"
      ]
     },
     "execution_count": 158,
     "metadata": {},
     "output_type": "execute_result"
    }
   ],
   "source": [
    "train_2['C20'].value_counts(normalize = True).skew()\n",
    "# as shown below, the skewness it is quite high"
   ]
  },
  {
   "cell_type": "code",
   "execution_count": null,
   "metadata": {},
   "outputs": [
    {
     "name": "stdout",
     "output_type": "stream",
     "text": [
      "Train Test Replace Finished!\n",
      "Test data replace finished!\n"
     ]
    },
    {
     "data": {
      "image/png": "[encoded data removed]",
      "text/plain": [
       "<Figure size 432x288 with 1 Axes>"
      ]
     },
     "metadata": {
      "needs_background": "light"
     },
     "output_type": "display_data"
    }
   ],
   "source": [
    "categorical_replace(train_2, test, 'C20')\n",
    "hist_bar_cat(train_2, \"C20\")"
   ]
  },
  {
   "cell_type": "markdown",
   "metadata": {},
   "source": [
    "#### C21"
   ]
  },
  {
   "cell_type": "code",
   "execution_count": null,
   "metadata": {},
   "outputs": [
    {
     "data": {
      "text/plain": [
       "55"
      ]
     },
     "execution_count": 160,
     "metadata": {},
     "output_type": "execute_result"
    }
   ],
   "source": [
    "train_2['C21'].nunique()"
   ]
  },
  {
   "cell_type": "code",
   "execution_count": null,
   "metadata": {},
   "outputs": [
    {
     "data": {
      "text/plain": [
       "3.6167089440984204"
      ]
     },
     "execution_count": 161,
     "metadata": {},
     "output_type": "execute_result"
    }
   ],
   "source": [
    "train_2['C21'].value_counts(normalize = True).skew()\n",
    "# as shown below, the skewness it is not quite high"
   ]
  },
  {
   "cell_type": "code",
   "execution_count": null,
   "metadata": {},
   "outputs": [
    {
     "name": "stdout",
     "output_type": "stream",
     "text": [
      "Train Test Replace Finished!\n",
      "Test data replace finished!\n"
     ]
    }
   ],
   "source": [
    "categorical_replace(train_2, test, 'C21')"
   ]
  },
  {
   "cell_type": "code",
   "execution_count": null,
   "metadata": {},
   "outputs": [
    {
     "data": {
      "image/png": "[encoded data removed]",
      "text/plain": [
       "<Figure size 432x288 with 1 Axes>"
      ]
     },
     "metadata": {
      "needs_background": "light"
     },
     "output_type": "display_data"
    }
   ],
   "source": [
    "hist_bar_cat(train_2, \"C21\")"
   ]
  },
  {
   "cell_type": "markdown",
   "metadata": {},
   "source": [
    "### Encoding"
   ]
  },
  {
   "cell_type": "markdown",
   "metadata": {},
   "source": [
    "#### One-hot"
   ]
  },
  {
   "cell_type": "code",
   "execution_count": null,
   "metadata": {},
   "outputs": [],
   "source": [
    "# one-hot encoding: app_domain, device_id\n",
    "encoder=ce.OneHotEncoder(cols=['app_domain','device_id'],handle_unknown='return_nan',return_df=True,use_cat_names=True)\n",
    "one_hot_encoder = encoder.fit(train_2)"
   ]
  },
  {
   "cell_type": "code",
   "execution_count": null,
   "metadata": {},
   "outputs": [],
   "source": [
    "train_2 = one_hot_encoder.transform(train_2)"
   ]
  },
  {
   "cell_type": "code",
   "execution_count": null,
   "metadata": {},
   "outputs": [],
   "source": [
    "test = one_hot_encoder.transform(test)"
   ]
  },
  {
   "cell_type": "markdown",
   "metadata": {},
   "source": [
    "#### Base 5 "
   ]
  },
  {
   "cell_type": "code",
   "execution_count": null,
   "metadata": {},
   "outputs": [],
   "source": [
    "# base 5 encoding: site_id, site_domain, app_id, C14, C17, C19, C20, C21\n",
    "encoder1 = ce.BaseNEncoder(cols=['site_id','site_domain','app_id','C14','C17','C19','C20','C21'], return_df=True, base=5)\n",
    "base_5_encoder = encoder1.fit(train_2)"
   ]
  },
  {
   "cell_type": "code",
   "execution_count": null,
   "metadata": {},
   "outputs": [],
   "source": [
    "train_2 = base_5_encoder.transform(train_2)"
   ]
  },
  {
   "cell_type": "code",
   "execution_count": null,
   "metadata": {},
   "outputs": [],
   "source": [
    "test = base_5_encoder.transform(test)"
   ]
  },
  {
   "cell_type": "markdown",
   "metadata": {},
   "source": [
    "#### Base 10"
   ]
  },
  {
   "cell_type": "code",
   "execution_count": null,
   "metadata": {},
   "outputs": [],
   "source": [
    "# base 10 encoding: site_category, app_category, device_model\n",
    "encoder2 = ce.BaseNEncoder(cols=['site_category','app_category','device_model'], return_df=True, base=10)\n",
    "base_10_encoder = encoder2.fit(train_2)"
   ]
  },
  {
   "cell_type": "code",
   "execution_count": null,
   "metadata": {},
   "outputs": [],
   "source": [
    "train_2 = base_10_encoder.transform(train_2)"
   ]
  },
  {
   "cell_type": "code",
   "execution_count": null,
   "metadata": {},
   "outputs": [],
   "source": [
    "test = base_10_encoder.transform(test)"
   ]
  },
  {
   "cell_type": "markdown",
   "metadata": {},
   "source": [
    "## Numerical Variables\n",
    "* hour: detail shown below\n",
    "* banner_pos: encoded by professor\n",
    "* device_type: encoded by professor\n",
    "* device_conn_type: encoded by professor"
   ]
  },
  {
   "cell_type": "markdown",
   "metadata": {},
   "source": [
    "### Hour\n",
    "- Day: week number\n",
    "- Hour:\n",
    "  - 1: 00-06\n",
    "  - 2: 07-12\n",
    "  - 3: 13-18\n",
    "  - 4: 19-24"
   ]
  },
  {
   "cell_type": "code",
   "execution_count": null,
   "metadata": {},
   "outputs": [],
   "source": [
    "splitat = 6\n",
    "train_2['day'], train_2['time'] = train_2['hour'].astype('str').str[:splitat], train_2['hour'].astype('str').str[splitat:].astype('int')"
   ]
  },
  {
   "cell_type": "code",
   "execution_count": null,
   "metadata": {},
   "outputs": [
    {
     "data": {
      "text/html": [
       "<div>\n",
       "<style scoped>\n",
       "    .dataframe tbody tr th:only-of-type {\n",
       "        vertical-align: middle;\n",
       "    }\n",
       "\n",
       "    .dataframe tbody tr th {\n",
       "        vertical-align: top;\n",
       "    }\n",
       "\n",
       "    .dataframe thead th {\n",
       "        text-align: right;\n",
       "    }\n",
       "</style>\n",
       "<table border=\"1\" class=\"dataframe\">\n",
       "  <thead>\n",
       "    <tr style=\"text-align: right;\">\n",
       "      <th></th>\n",
       "      <th>day</th>\n",
       "      <th>time</th>\n",
       "      <th>hour</th>\n",
       "      <th>time_of_day</th>\n",
       "    </tr>\n",
       "  </thead>\n",
       "  <tbody>\n",
       "    <tr>\n",
       "      <th>15750896</th>\n",
       "      <td>141025</td>\n",
       "      <td>11</td>\n",
       "      <td>14102511</td>\n",
       "      <td>2</td>\n",
       "    </tr>\n",
       "    <tr>\n",
       "      <th>24762741</th>\n",
       "      <td>141028</td>\n",
       "      <td>6</td>\n",
       "      <td>14102806</td>\n",
       "      <td>1</td>\n",
       "    </tr>\n",
       "    <tr>\n",
       "      <th>22399012</th>\n",
       "      <td>141027</td>\n",
       "      <td>11</td>\n",
       "      <td>14102711</td>\n",
       "      <td>2</td>\n",
       "    </tr>\n",
       "    <tr>\n",
       "      <th>13473481</th>\n",
       "      <td>141024</td>\n",
       "      <td>13</td>\n",
       "      <td>14102413</td>\n",
       "      <td>3</td>\n",
       "    </tr>\n",
       "    <tr>\n",
       "      <th>19575831</th>\n",
       "      <td>141026</td>\n",
       "      <td>12</td>\n",
       "      <td>14102612</td>\n",
       "      <td>2</td>\n",
       "    </tr>\n",
       "  </tbody>\n",
       "</table>\n",
       "</div>"
      ],
      "text/plain": [
       "             day  time      hour  time_of_day\n",
       "15750896  141025    11  14102511            2\n",
       "24762741  141028     6  14102806            1\n",
       "22399012  141027    11  14102711            2\n",
       "13473481  141024    13  14102413            3\n",
       "19575831  141026    12  14102612            2"
      ]
     },
     "execution_count": 174,
     "metadata": {},
     "output_type": "execute_result"
    }
   ],
   "source": [
    "train_2[['day','time','hour','time_of_day']].head(5)"
   ]
  },
  {
   "cell_type": "code",
   "execution_count": null,
   "metadata": {},
   "outputs": [],
   "source": [
    "# time of day\n",
    "def add_time_of_day(data):\n",
    "    data['day'], data['time'] = data['hour'].astype('str').str[:splitat], data['hour'].astype('str').str[splitat:].astype('int')\n",
    "    conditions = [(data.time <=6),\n",
    "                (data.time > 6) & (data.time <= 12),\n",
    "                (data.time > 12) & (data.time <= 18),\n",
    "                (data.time >18)\n",
    "                ]\n",
    "    values = [1, 2, 3, 4]\n",
    "    data['time_of_day'] = np.select(conditions, values, 0)"
   ]
  },
  {
   "cell_type": "code",
   "execution_count": null,
   "metadata": {},
   "outputs": [],
   "source": [
    "#add_time_of_day(train_2)\n",
    "add_time_of_day(test)"
   ]
  },
  {
   "cell_type": "code",
   "execution_count": null,
   "metadata": {},
   "outputs": [],
   "source": [
    "def add_day_of_week(data):\n",
    "    data['day']= pd.to_datetime(data['day'],format=\"%y%m%d\")\n",
    "    data['day_of_week'] = data['day'].dt.dayofweek"
   ]
  },
  {
   "cell_type": "code",
   "execution_count": null,
   "metadata": {},
   "outputs": [],
   "source": [
    "add_day_of_week(train_2)\n",
    "add_day_of_week(test)"
   ]
  },
  {
   "cell_type": "markdown",
   "metadata": {},
   "source": [
    "## Finalize the data"
   ]
  },
  {
   "cell_type": "code",
   "execution_count": null,
   "metadata": {},
   "outputs": [
    {
     "data": {
      "text/html": [
       "<div>\n",
       "<style scoped>\n",
       "    .dataframe tbody tr th:only-of-type {\n",
       "        vertical-align: middle;\n",
       "    }\n",
       "\n",
       "    .dataframe tbody tr th {\n",
       "        vertical-align: top;\n",
       "    }\n",
       "\n",
       "    .dataframe thead th {\n",
       "        text-align: right;\n",
       "    }\n",
       "</style>\n",
       "<table border=\"1\" class=\"dataframe\">\n",
       "  <thead>\n",
       "    <tr style=\"text-align: right;\">\n",
       "      <th></th>\n",
       "      <th>click</th>\n",
       "      <th>hour</th>\n",
       "      <th>C1</th>\n",
       "      <th>banner_pos</th>\n",
       "      <th>site_id_0</th>\n",
       "      <th>site_id_1</th>\n",
       "      <th>site_domain_0</th>\n",
       "      <th>site_domain_1</th>\n",
       "      <th>site_category_0</th>\n",
       "      <th>site_category_1</th>\n",
       "      <th>...</th>\n",
       "      <th>C19_0</th>\n",
       "      <th>C19_1</th>\n",
       "      <th>C20_0</th>\n",
       "      <th>C20_1</th>\n",
       "      <th>C21_0</th>\n",
       "      <th>C21_1</th>\n",
       "      <th>day</th>\n",
       "      <th>time</th>\n",
       "      <th>time_of_day</th>\n",
       "      <th>day_of_week</th>\n",
       "    </tr>\n",
       "  </thead>\n",
       "  <tbody>\n",
       "    <tr>\n",
       "      <th>15750896</th>\n",
       "      <td>0</td>\n",
       "      <td>14102511</td>\n",
       "      <td>1010</td>\n",
       "      <td>1</td>\n",
       "      <td>0</td>\n",
       "      <td>1</td>\n",
       "      <td>0</td>\n",
       "      <td>1</td>\n",
       "      <td>0</td>\n",
       "      <td>1</td>\n",
       "      <td>...</td>\n",
       "      <td>0</td>\n",
       "      <td>1</td>\n",
       "      <td>0</td>\n",
       "      <td>1</td>\n",
       "      <td>0</td>\n",
       "      <td>1</td>\n",
       "      <td>2014-10-25</td>\n",
       "      <td>11</td>\n",
       "      <td>2</td>\n",
       "      <td>5</td>\n",
       "    </tr>\n",
       "    <tr>\n",
       "      <th>24762741</th>\n",
       "      <td>1</td>\n",
       "      <td>14102806</td>\n",
       "      <td>1005</td>\n",
       "      <td>1</td>\n",
       "      <td>0</td>\n",
       "      <td>2</td>\n",
       "      <td>0</td>\n",
       "      <td>2</td>\n",
       "      <td>0</td>\n",
       "      <td>2</td>\n",
       "      <td>...</td>\n",
       "      <td>0</td>\n",
       "      <td>2</td>\n",
       "      <td>0</td>\n",
       "      <td>2</td>\n",
       "      <td>0</td>\n",
       "      <td>2</td>\n",
       "      <td>2014-10-28</td>\n",
       "      <td>6</td>\n",
       "      <td>1</td>\n",
       "      <td>1</td>\n",
       "    </tr>\n",
       "    <tr>\n",
       "      <th>22399012</th>\n",
       "      <td>0</td>\n",
       "      <td>14102711</td>\n",
       "      <td>1005</td>\n",
       "      <td>0</td>\n",
       "      <td>0</td>\n",
       "      <td>1</td>\n",
       "      <td>0</td>\n",
       "      <td>1</td>\n",
       "      <td>0</td>\n",
       "      <td>1</td>\n",
       "      <td>...</td>\n",
       "      <td>0</td>\n",
       "      <td>3</td>\n",
       "      <td>0</td>\n",
       "      <td>3</td>\n",
       "      <td>0</td>\n",
       "      <td>3</td>\n",
       "      <td>2014-10-27</td>\n",
       "      <td>11</td>\n",
       "      <td>2</td>\n",
       "      <td>0</td>\n",
       "    </tr>\n",
       "    <tr>\n",
       "      <th>13473481</th>\n",
       "      <td>0</td>\n",
       "      <td>14102413</td>\n",
       "      <td>1005</td>\n",
       "      <td>1</td>\n",
       "      <td>0</td>\n",
       "      <td>2</td>\n",
       "      <td>0</td>\n",
       "      <td>2</td>\n",
       "      <td>0</td>\n",
       "      <td>3</td>\n",
       "      <td>...</td>\n",
       "      <td>0</td>\n",
       "      <td>2</td>\n",
       "      <td>0</td>\n",
       "      <td>1</td>\n",
       "      <td>0</td>\n",
       "      <td>4</td>\n",
       "      <td>2014-10-24</td>\n",
       "      <td>13</td>\n",
       "      <td>3</td>\n",
       "      <td>4</td>\n",
       "    </tr>\n",
       "    <tr>\n",
       "      <th>19575831</th>\n",
       "      <td>1</td>\n",
       "      <td>14102612</td>\n",
       "      <td>1005</td>\n",
       "      <td>0</td>\n",
       "      <td>0</td>\n",
       "      <td>3</td>\n",
       "      <td>0</td>\n",
       "      <td>3</td>\n",
       "      <td>0</td>\n",
       "      <td>3</td>\n",
       "      <td>...</td>\n",
       "      <td>0</td>\n",
       "      <td>4</td>\n",
       "      <td>0</td>\n",
       "      <td>4</td>\n",
       "      <td>0</td>\n",
       "      <td>4</td>\n",
       "      <td>2014-10-26</td>\n",
       "      <td>12</td>\n",
       "      <td>2</td>\n",
       "      <td>6</td>\n",
       "    </tr>\n",
       "  </tbody>\n",
       "</table>\n",
       "<p>5 rows × 44 columns</p>\n",
       "</div>"
      ],
      "text/plain": [
       "          click      hour    C1  banner_pos  site_id_0  site_id_1  \\\n",
       "15750896      0  14102511  1010           1          0          1   \n",
       "24762741      1  14102806  1005           1          0          2   \n",
       "22399012      0  14102711  1005           0          0          1   \n",
       "13473481      0  14102413  1005           1          0          2   \n",
       "19575831      1  14102612  1005           0          0          3   \n",
       "\n",
       "          site_domain_0  site_domain_1  site_category_0  site_category_1  ...  \\\n",
       "15750896              0              1                0                1  ...   \n",
       "24762741              0              2                0                2  ...   \n",
       "22399012              0              1                0                1  ...   \n",
       "13473481              0              2                0                3  ...   \n",
       "19575831              0              3                0                3  ...   \n",
       "\n",
       "          C19_0  C19_1  C20_0  C20_1  C21_0  C21_1        day  time  \\\n",
       "15750896      0      1      0      1      0      1 2014-10-25    11   \n",
       "24762741      0      2      0      2      0      2 2014-10-28     6   \n",
       "22399012      0      3      0      3      0      3 2014-10-27    11   \n",
       "13473481      0      2      0      1      0      4 2014-10-24    13   \n",
       "19575831      0      4      0      4      0      4 2014-10-26    12   \n",
       "\n",
       "          time_of_day  day_of_week  \n",
       "15750896            2            5  \n",
       "24762741            1            1  \n",
       "22399012            2            0  \n",
       "13473481            3            4  \n",
       "19575831            2            6  \n",
       "\n",
       "[5 rows x 44 columns]"
      ]
     },
     "execution_count": 201,
     "metadata": {},
     "output_type": "execute_result"
    }
   ],
   "source": [
    "train_2.head()"
   ]
  },
  {
   "cell_type": "code",
   "execution_count": null,
   "metadata": {},
   "outputs": [],
   "source": [
    "x_col = ['C1', 'banner_pos', 'site_id_0', 'site_id_1',\n",
    "       'site_domain_0', 'site_domain_1', 'site_category_0', 'site_category_1',\n",
    "       'app_id_0', 'app_id_1', 'app_domain_7801e8d9', 'app_domain_ae637522',\n",
    "       'app_domain_2347f47a', 'app_domain_other', 'app_category_0',\n",
    "       'app_category_1', 'device_id_other', 'device_id_a99f214a',\n",
    "       'device_id_c357dbff', 'device_model_0', 'device_model_1',\n",
    "       'device_model_2', 'device_model_3', 'device_type', 'device_conn_type',\n",
    "       'C14_0', 'C14_1', 'C15', 'C16', 'C17_0', 'C17_1', 'C18', 'C19_0',\n",
    "       'C19_1', 'C20_0', 'C20_1', 'C21_0', 'C21_1',\n",
    "       'time_of_day', 'day_of_week']\n",
    "y_col = 'click'"
   ]
  },
  {
   "cell_type": "code",
   "execution_count": null,
   "metadata": {},
   "outputs": [],
   "source": [
    "X_train2 = train_2[x_col]\n",
    "y_train2 = train_2[y_col]\n",
    "X_test = test[x_col]\n",
    "y_pred_naive = test[y_col]"
   ]
  },
  {
   "cell_type": "markdown",
   "metadata": {},
   "source": [
    "# Model Training"
   ]
  },
  {
   "cell_type": "code",
   "execution_count": null,
   "metadata": {},
   "outputs": [],
   "source": [
    "# Split to Sub-train & Validation dataset\n",
    "X_train, X_val, y_train, y_val = train_test_split(X_train2, y_train2, test_size=0.25, random_state=42)"
   ]
  },
  {
   "cell_type": "markdown",
   "metadata": {},
   "source": [
    "## Logistic Regression"
   ]
  },
  {
   "cell_type": "code",
   "execution_count": null,
   "metadata": {},
   "outputs": [],
   "source": [
    "from sklearn.linear_model import LogisticRegression"
   ]
  },
  {
   "cell_type": "code",
   "execution_count": null,
   "metadata": {},
   "outputs": [
    {
     "name": "stderr",
     "output_type": "stream",
     "text": [
      "/Users/rebecca/opt/anaconda3/lib/python3.9/site-packages/sklearn/linear_model/_logistic.py:444: ConvergenceWarning: lbfgs failed to converge (status=1):\n",
      "STOP: TOTAL NO. of ITERATIONS REACHED LIMIT.\n",
      "\n",
      "Increase the number of iterations (max_iter) or scale the data as shown in:\n",
      "    https://scikit-learn.org/stable/modules/preprocessing.html\n",
      "Please also refer to the documentation for alternative solver options:\n",
      "    https://scikit-learn.org/stable/modules/linear_model.html#logistic-regression\n",
      "  n_iter_i = _check_optimize_result(\n"
     ]
    }
   ],
   "source": [
    "lr = LogisticRegression(random_state=42, n_jobs=-1, penalty=\"l2\").fit(X_train, y_train)"
   ]
  },
  {
   "cell_type": "code",
   "execution_count": null,
   "metadata": {},
   "outputs": [],
   "source": [
    "y_pred = lr.predict_proba(X_val)"
   ]
  },
  {
   "cell_type": "code",
   "execution_count": null,
   "metadata": {},
   "outputs": [
    {
     "data": {
      "text/plain": [
       "0.4377968707487963"
      ]
     },
     "execution_count": 219,
     "metadata": {},
     "output_type": "execute_result"
    }
   ],
   "source": [
    "# print log loss of the validation data\n",
    "log_loss(y_val, y_pred)"
   ]
  },
  {
   "cell_type": "markdown",
   "metadata": {},
   "source": [
    "Since the log-loss is quite high, LR is not a great model to be chosen as a final step."
   ]
  },
  {
   "cell_type": "markdown",
   "metadata": {},
   "source": [
    "## Random Forest"
   ]
  },
  {
   "cell_type": "code",
   "execution_count": null,
   "metadata": {},
   "outputs": [],
   "source": [
    "from sklearn.ensemble import RandomForestClassifier"
   ]
  },
  {
   "cell_type": "code",
   "execution_count": null,
   "metadata": {},
   "outputs": [],
   "source": [
    "rfc=RandomForestClassifier(random_state=42)"
   ]
  },
  {
   "cell_type": "markdown",
   "metadata": {},
   "source": [
    "Random Serach using random forest"
   ]
  },
  {
   "cell_type": "code",
   "execution_count": null,
   "metadata": {},
   "outputs": [],
   "source": [
    "rs_space={'max_depth':list(np.arange(10, 30, step=10)) + [None],\n",
    "              'n_estimators':np.arange(100, 300, step=100),\n",
    "              'max_features':['sqrt', 'log2'],\n",
    "              'criterion':['gini','entropy'],\n",
    "              'min_samples_split':[100, 200, 300]\n",
    "         }"
   ]
  },
  {
   "cell_type": "code",
   "execution_count": null,
   "metadata": {},
   "outputs": [],
   "source": [
    "# param_grid = { \n",
    "#     'n_estimators': [100, 200, 300, 400],\n",
    "#     'max_features': ['sqrt', 'log2'],\n",
    "#     'min_samples_split': [2, 10, 100],\n",
    "#     'max_depth' : [10,20,30],\n",
    "# }\n",
    "# gs_rfc = GridSearchCV(estimator=rfc,\n",
    "#     param_grid=param_grid,\n",
    "#     cv=3,\n",
    "#     scoring='neg_log_loss',\n",
    "#     n_jobs=-1, \n",
    "#     verbose = 3)\n",
    "# gs_rfc.fit(X_train, y_train)"
   ]
  },
  {
   "cell_type": "code",
   "execution_count": null,
   "metadata": {},
   "outputs": [],
   "source": [
    "from tune_sklearn import TuneGridSearchCV"
   ]
  },
  {
   "cell_type": "code",
   "execution_count": null,
   "metadata": {},
   "outputs": [],
   "source": [
    "rfc_random = TuneGridSearchCV(rfc, rs_space, \n",
    "                                scoring='neg_log_loss', \n",
    "                                n_jobs=-1, \n",
    "                                cv=2,\n",
    "                                verbose=2)"
   ]
  },
  {
   "cell_type": "code",
   "execution_count": null,
   "metadata": {},
   "outputs": [],
   "source": [
    "import warnings\n",
    "warnings.filterwarnings('ignore')"
   ]
  },
  {
   "cell_type": "code",
   "execution_count": null,
   "metadata": {},
   "outputs": [
    {
     "data": {
      "text/html": [
       "<div class=\"tuneStatus\">\n",
       "  <div style=\"display: flex;flex-direction: row\">\n",
       "    <div style=\"display: flex;flex-direction: column;\">\n",
       "      <h3>Tune Status</h3>\n",
       "      <table>\n",
       "<tbody>\n",
       "<tr><td>Current time:</td><td>2022-12-05 16:51:42</td></tr>\n",
       "<tr><td>Running for: </td><td>00:16:55.64        </td></tr>\n",
       "<tr><td>Memory:      </td><td>12.2/16.0 GiB      </td></tr>\n",
       "</tbody>\n",
       "</table>\n",
       "    </div>\n",
       "    <div class=\"vDivider\"></div>\n",
       "    <div class=\"systemInfo\">\n",
       "      <h3>System Info</h3>\n",
       "      Using FIFO scheduling algorithm.<br>Resources requested: 8.0/8 CPUs, 0/0 GPUs, 0.0/2.72 GiB heap, 0.0/1.36 GiB objects\n",
       "    </div>\n",
       "    \n",
       "  </div>\n",
       "  <div class=\"hDivider\"></div>\n",
       "  <div class=\"trialStatus\">\n",
       "    <h3>Trial Status</h3>\n",
       "    <table>\n",
       "<thead>\n",
       "<tr><th>Trial name            </th><th>status  </th><th>loc            </th><th>criterion  </th><th style=\"text-align: right;\">  max_depth</th><th>max_features  </th><th style=\"text-align: right;\">  min_samples_split</th><th style=\"text-align: right;\">  n_estimators</th></tr>\n",
       "</thead>\n",
       "<tbody>\n",
       "<tr><td>_Trainable_a41fa_00000</td><td>RUNNING </td><td>127.0.0.1:70628</td><td>gini       </td><td style=\"text-align: right;\">         10</td><td>sqrt          </td><td style=\"text-align: right;\">                100</td><td style=\"text-align: right;\">           100</td></tr>\n",
       "<tr><td>_Trainable_a41fa_00001</td><td>RUNNING </td><td>127.0.0.1:70633</td><td>entropy    </td><td style=\"text-align: right;\">         10</td><td>sqrt          </td><td style=\"text-align: right;\">                100</td><td style=\"text-align: right;\">           100</td></tr>\n",
       "<tr><td>_Trainable_a41fa_00002</td><td>RUNNING </td><td>127.0.0.1:70634</td><td>gini       </td><td style=\"text-align: right;\">         20</td><td>sqrt          </td><td style=\"text-align: right;\">                100</td><td style=\"text-align: right;\">           100</td></tr>\n",
       "<tr><td>_Trainable_a41fa_00003</td><td>RUNNING </td><td>127.0.0.1:70635</td><td>entropy    </td><td style=\"text-align: right;\">         20</td><td>sqrt          </td><td style=\"text-align: right;\">                100</td><td style=\"text-align: right;\">           100</td></tr>\n",
       "<tr><td>_Trainable_a41fa_00004</td><td>RUNNING </td><td>127.0.0.1:70636</td><td>gini       </td><td style=\"text-align: right;\">           </td><td>sqrt          </td><td style=\"text-align: right;\">                100</td><td style=\"text-align: right;\">           100</td></tr>\n",
       "<tr><td>_Trainable_a41fa_00005</td><td>RUNNING </td><td>127.0.0.1:70642</td><td>entropy    </td><td style=\"text-align: right;\">           </td><td>sqrt          </td><td style=\"text-align: right;\">                100</td><td style=\"text-align: right;\">           100</td></tr>\n",
       "<tr><td>_Trainable_a41fa_00006</td><td>RUNNING </td><td>127.0.0.1:70643</td><td>gini       </td><td style=\"text-align: right;\">         10</td><td>log2          </td><td style=\"text-align: right;\">                100</td><td style=\"text-align: right;\">           100</td></tr>\n",
       "<tr><td>_Trainable_a41fa_00007</td><td>RUNNING </td><td>127.0.0.1:70644</td><td>entropy    </td><td style=\"text-align: right;\">         10</td><td>log2          </td><td style=\"text-align: right;\">                100</td><td style=\"text-align: right;\">           100</td></tr>\n",
       "<tr><td>_Trainable_a41fa_00008</td><td>PENDING </td><td>               </td><td>gini       </td><td style=\"text-align: right;\">         20</td><td>log2          </td><td style=\"text-align: right;\">                100</td><td style=\"text-align: right;\">           100</td></tr>\n",
       "<tr><td>_Trainable_a41fa_00009</td><td>PENDING </td><td>               </td><td>entropy    </td><td style=\"text-align: right;\">         20</td><td>log2          </td><td style=\"text-align: right;\">                100</td><td style=\"text-align: right;\">           100</td></tr>\n",
       "<tr><td>_Trainable_a41fa_00010</td><td>PENDING </td><td>               </td><td>gini       </td><td style=\"text-align: right;\">           </td><td>log2          </td><td style=\"text-align: right;\">                100</td><td style=\"text-align: right;\">           100</td></tr>\n",
       "<tr><td>_Trainable_a41fa_00011</td><td>PENDING </td><td>               </td><td>entropy    </td><td style=\"text-align: right;\">           </td><td>log2          </td><td style=\"text-align: right;\">                100</td><td style=\"text-align: right;\">           100</td></tr>\n",
       "<tr><td>_Trainable_a41fa_00012</td><td>PENDING </td><td>               </td><td>gini       </td><td style=\"text-align: right;\">         10</td><td>sqrt          </td><td style=\"text-align: right;\">                200</td><td style=\"text-align: right;\">           100</td></tr>\n",
       "<tr><td>_Trainable_a41fa_00013</td><td>PENDING </td><td>               </td><td>entropy    </td><td style=\"text-align: right;\">         10</td><td>sqrt          </td><td style=\"text-align: right;\">                200</td><td style=\"text-align: right;\">           100</td></tr>\n",
       "<tr><td>_Trainable_a41fa_00014</td><td>PENDING </td><td>               </td><td>gini       </td><td style=\"text-align: right;\">         20</td><td>sqrt          </td><td style=\"text-align: right;\">                200</td><td style=\"text-align: right;\">           100</td></tr>\n",
       "<tr><td>_Trainable_a41fa_00015</td><td>PENDING </td><td>               </td><td>entropy    </td><td style=\"text-align: right;\">         20</td><td>sqrt          </td><td style=\"text-align: right;\">                200</td><td style=\"text-align: right;\">           100</td></tr>\n",
       "<tr><td>_Trainable_a41fa_00016</td><td>PENDING </td><td>               </td><td>gini       </td><td style=\"text-align: right;\">           </td><td>sqrt          </td><td style=\"text-align: right;\">                200</td><td style=\"text-align: right;\">           100</td></tr>\n",
       "<tr><td>_Trainable_a41fa_00017</td><td>PENDING </td><td>               </td><td>entropy    </td><td style=\"text-align: right;\">           </td><td>sqrt          </td><td style=\"text-align: right;\">                200</td><td style=\"text-align: right;\">           100</td></tr>\n",
       "<tr><td>_Trainable_a41fa_00018</td><td>PENDING </td><td>               </td><td>gini       </td><td style=\"text-align: right;\">         10</td><td>log2          </td><td style=\"text-align: right;\">                200</td><td style=\"text-align: right;\">           100</td></tr>\n",
       "<tr><td>_Trainable_a41fa_00019</td><td>PENDING </td><td>               </td><td>entropy    </td><td style=\"text-align: right;\">         10</td><td>log2          </td><td style=\"text-align: right;\">                200</td><td style=\"text-align: right;\">           100</td></tr>\n",
       "<tr><td>_Trainable_a41fa_00020</td><td>PENDING </td><td>               </td><td>gini       </td><td style=\"text-align: right;\">         20</td><td>log2          </td><td style=\"text-align: right;\">                200</td><td style=\"text-align: right;\">           100</td></tr>\n",
       "<tr><td>_Trainable_a41fa_00021</td><td>PENDING </td><td>               </td><td>entropy    </td><td style=\"text-align: right;\">         20</td><td>log2          </td><td style=\"text-align: right;\">                200</td><td style=\"text-align: right;\">           100</td></tr>\n",
       "<tr><td>_Trainable_a41fa_00022</td><td>PENDING </td><td>               </td><td>gini       </td><td style=\"text-align: right;\">           </td><td>log2          </td><td style=\"text-align: right;\">                200</td><td style=\"text-align: right;\">           100</td></tr>\n",
       "<tr><td>_Trainable_a41fa_00023</td><td>PENDING </td><td>               </td><td>entropy    </td><td style=\"text-align: right;\">           </td><td>log2          </td><td style=\"text-align: right;\">                200</td><td style=\"text-align: right;\">           100</td></tr>\n",
       "</tbody>\n",
       "</table>\n",
       "  </div>\n",
       "</div>\n",
       "<style>\n",
       ".tuneStatus {\n",
       "  color: var(--jp-ui-font-color1);\n",
       "}\n",
       ".tuneStatus .systemInfo {\n",
       "  display: flex;\n",
       "  flex-direction: column;\n",
       "}\n",
       ".tuneStatus td {\n",
       "  white-space: nowrap;\n",
       "}\n",
       ".tuneStatus .trialStatus {\n",
       "  display: flex;\n",
       "  flex-direction: column;\n",
       "}\n",
       ".tuneStatus h3 {\n",
       "  font-weight: bold;\n",
       "}\n",
       ".tuneStatus .hDivider {\n",
       "  border-bottom-width: var(--jp-border-width);\n",
       "  border-bottom-color: var(--jp-border-color0);\n",
       "  border-bottom-style: solid;\n",
       "}\n",
       ".tuneStatus .vDivider {\n",
       "  border-left-width: var(--jp-border-width);\n",
       "  border-left-color: var(--jp-border-color0);\n",
       "  border-left-style: solid;\n",
       "  margin: 0.5em 1em 0.5em 1em;\n",
       "}\n",
       "</style>\n"
      ],
      "text/plain": [
       "<IPython.core.display.HTML object>"
      ]
     },
     "metadata": {},
     "output_type": "display_data"
    },
    {
     "name": "stderr",
     "output_type": "stream",
     "text": [
      "2022-12-05 16:51:40,809\tWARNING tune.py:705 -- Stop signal received (e.g. via SIGINT/Ctrl+C), ending Ray Tune run. This will try to checkpoint the experiment state one last time. Press CTRL+C (or send SIGINT/SIGKILL/SIGTERM) to skip. \n",
      "2022-12-05 16:51:43,524\tERROR tune.py:773 -- Trials did not complete: [_Trainable_a41fa_00000, _Trainable_a41fa_00001, _Trainable_a41fa_00002, _Trainable_a41fa_00003, _Trainable_a41fa_00004, _Trainable_a41fa_00005, _Trainable_a41fa_00006, _Trainable_a41fa_00007, _Trainable_a41fa_00008, _Trainable_a41fa_00009, _Trainable_a41fa_00010, _Trainable_a41fa_00011, _Trainable_a41fa_00012, _Trainable_a41fa_00013, _Trainable_a41fa_00014, _Trainable_a41fa_00015, _Trainable_a41fa_00016, _Trainable_a41fa_00017, _Trainable_a41fa_00018, _Trainable_a41fa_00019, _Trainable_a41fa_00020, _Trainable_a41fa_00021, _Trainable_a41fa_00022, _Trainable_a41fa_00023]\n",
      "2022-12-05 16:51:43,528\tINFO tune.py:777 -- Total run time: 1016.21 seconds (1015.63 seconds for the tuning loop).\n",
      "2022-12-05 16:51:43,531\tWARNING tune.py:783 -- Experiment has been interrupted, but the most recent state was saved. You can continue running this experiment by passing `resume=True` to `tune.run()`\n"
     ]
    },
    {
     "ename": "ZeroDivisionError",
     "evalue": "division by zero",
     "output_type": "error",
     "traceback": [
      "\u001b[0;31m---------------------------------------------------------------------------\u001b[0m",
      "\u001b[0;31mZeroDivisionError\u001b[0m                         Traceback (most recent call last)",
      "\u001b[1;32m/Users/rebecca/MSBA/ISOM674-ML/finalProject.ipynb Cell 119\u001b[0m in \u001b[0;36m<cell line: 1>\u001b[0;34m()\u001b[0m\n\u001b[0;32m----> <a href='vscode-notebook-cell:/Users/rebecca/MSBA/ISOM674-ML/finalProject.ipynb#Y562sZmlsZQ%3D%3D?line=0'>1</a>\u001b[0m rfc_random\u001b[39m.\u001b[39;49mfit(X_train,y_train)\n",
      "File \u001b[0;32m~/opt/anaconda3/lib/python3.9/site-packages/tune_sklearn/tune_basesearch.py:621\u001b[0m, in \u001b[0;36mTuneBaseSearchCV.fit\u001b[0;34m(self, X, y, groups, tune_params, **fit_params)\u001b[0m\n\u001b[1;32m    596\u001b[0m \u001b[39mdef\u001b[39;00m \u001b[39mfit\u001b[39m(\u001b[39mself\u001b[39m, X, y\u001b[39m=\u001b[39m\u001b[39mNone\u001b[39;00m, groups\u001b[39m=\u001b[39m\u001b[39mNone\u001b[39;00m, tune_params\u001b[39m=\u001b[39m\u001b[39mNone\u001b[39;00m, \u001b[39m*\u001b[39m\u001b[39m*\u001b[39mfit_params):\n\u001b[1;32m    597\u001b[0m     \u001b[39m\"\"\"Run fit with all sets of parameters.\u001b[39;00m\n\u001b[1;32m    598\u001b[0m \n\u001b[1;32m    599\u001b[0m \u001b[39m    ``tune.run`` is used to perform the fit procedure.\u001b[39;00m\n\u001b[0;32m   (...)\u001b[0m\n\u001b[1;32m    619\u001b[0m \n\u001b[1;32m    620\u001b[0m \u001b[39m    \"\"\"\u001b[39;00m\n\u001b[0;32m--> 621\u001b[0m     \u001b[39mreturn\u001b[39;00m \u001b[39mself\u001b[39;49m\u001b[39m.\u001b[39;49m_fit(X, y, groups, tune_params, \u001b[39m*\u001b[39;49m\u001b[39m*\u001b[39;49mfit_params)\n",
      "File \u001b[0;32m~/opt/anaconda3/lib/python3.9/site-packages/tune_sklearn/tune_basesearch.py:535\u001b[0m, in \u001b[0;36mTuneBaseSearchCV._fit\u001b[0;34m(self, X, y, groups, tune_params, **fit_params)\u001b[0m\n\u001b[1;32m    531\u001b[0m \u001b[39mself\u001b[39m\u001b[39m.\u001b[39m_fill_config_hyperparam(config)\n\u001b[1;32m    532\u001b[0m \u001b[39mself\u001b[39m\u001b[39m.\u001b[39manalysis_ \u001b[39m=\u001b[39m \u001b[39mself\u001b[39m\u001b[39m.\u001b[39m_tune_run(X, y, config, resources_per_trial,\n\u001b[1;32m    533\u001b[0m                                 tune_params, fit_params)\n\u001b[0;32m--> 535\u001b[0m \u001b[39mself\u001b[39m\u001b[39m.\u001b[39mcv_results_ \u001b[39m=\u001b[39m \u001b[39mself\u001b[39;49m\u001b[39m.\u001b[39;49m_format_results(\u001b[39mself\u001b[39;49m\u001b[39m.\u001b[39;49mn_splits, \u001b[39mself\u001b[39;49m\u001b[39m.\u001b[39;49manalysis_)\n\u001b[1;32m    537\u001b[0m metric \u001b[39m=\u001b[39m \u001b[39mself\u001b[39m\u001b[39m.\u001b[39m_metric_name\n\u001b[1;32m    538\u001b[0m base_metric \u001b[39m=\u001b[39m \u001b[39mself\u001b[39m\u001b[39m.\u001b[39m_base_metric_name\n",
      "File \u001b[0;32m~/opt/anaconda3/lib/python3.9/site-packages/tune_sklearn/tune_basesearch.py:858\u001b[0m, in \u001b[0;36mTuneBaseSearchCV._format_results\u001b[0;34m(self, n_splits, out)\u001b[0m\n\u001b[1;32m    854\u001b[0m         results[\u001b[39m\"\u001b[39m\u001b[39mrank_\u001b[39m\u001b[39m%s\u001b[39;00m\u001b[39m\"\u001b[39m \u001b[39m%\u001b[39m key_name] \u001b[39m=\u001b[39m np\u001b[39m.\u001b[39masarray(\n\u001b[1;32m    855\u001b[0m             rankdata(\u001b[39m-\u001b[39marray_means, method\u001b[39m=\u001b[39m\u001b[39m\"\u001b[39m\u001b[39mmin\u001b[39m\u001b[39m\"\u001b[39m), dtype\u001b[39m=\u001b[39mnp\u001b[39m.\u001b[39mint32)\n\u001b[1;32m    857\u001b[0m \u001b[39mfor\u001b[39;00m name \u001b[39min\u001b[39;00m \u001b[39mself\u001b[39m\u001b[39m.\u001b[39mscoring_:\n\u001b[0;32m--> 858\u001b[0m     _store(\n\u001b[1;32m    859\u001b[0m         results,\n\u001b[1;32m    860\u001b[0m         \u001b[39m\"\u001b[39;49m\u001b[39mtest_\u001b[39;49m\u001b[39m%s\u001b[39;49;00m\u001b[39m\"\u001b[39;49m \u001b[39m%\u001b[39;49m name,\n\u001b[1;32m    861\u001b[0m         test_scores[name],\n\u001b[1;32m    862\u001b[0m         n_splits,\n\u001b[1;32m    863\u001b[0m         n_candidates,\n\u001b[1;32m    864\u001b[0m         splits\u001b[39m=\u001b[39;49m\u001b[39mTrue\u001b[39;49;00m,\n\u001b[1;32m    865\u001b[0m         rank\u001b[39m=\u001b[39;49m\u001b[39mTrue\u001b[39;49;00m,\n\u001b[1;32m    866\u001b[0m     )\n\u001b[1;32m    867\u001b[0m \u001b[39mif\u001b[39;00m \u001b[39mself\u001b[39m\u001b[39m.\u001b[39mreturn_train_score:\n\u001b[1;32m    868\u001b[0m     \u001b[39mfor\u001b[39;00m name \u001b[39min\u001b[39;00m \u001b[39mself\u001b[39m\u001b[39m.\u001b[39mscoring_:\n",
      "File \u001b[0;32m~/opt/anaconda3/lib/python3.9/site-packages/tune_sklearn/tune_basesearch.py:843\u001b[0m, in \u001b[0;36mTuneBaseSearchCV._format_results.<locals>._store\u001b[0;34m(results, key_name, array, n_splits, n_candidates, weights, splits, rank)\u001b[0m\n\u001b[1;32m    839\u001b[0m     \u001b[39mfor\u001b[39;00m split_i \u001b[39min\u001b[39;00m \u001b[39mrange\u001b[39m(n_splits):\n\u001b[1;32m    840\u001b[0m         results[\u001b[39m\"\u001b[39m\u001b[39msplit\u001b[39m\u001b[39m%d\u001b[39;00m\u001b[39m_\u001b[39m\u001b[39m%s\u001b[39;00m\u001b[39m\"\u001b[39m \u001b[39m%\u001b[39m (split_i,\n\u001b[1;32m    841\u001b[0m                                 key_name)] \u001b[39m=\u001b[39m array[:, split_i]\n\u001b[0;32m--> 843\u001b[0m array_means \u001b[39m=\u001b[39m np\u001b[39m.\u001b[39;49maverage(array, axis\u001b[39m=\u001b[39;49m\u001b[39m1\u001b[39;49m, weights\u001b[39m=\u001b[39;49mweights)\n\u001b[1;32m    844\u001b[0m results[\u001b[39m\"\u001b[39m\u001b[39mmean_\u001b[39m\u001b[39m%s\u001b[39;00m\u001b[39m\"\u001b[39m \u001b[39m%\u001b[39m key_name] \u001b[39m=\u001b[39m array_means\n\u001b[1;32m    845\u001b[0m \u001b[39m# Weighted std is not directly available in numpy\u001b[39;00m\n",
      "File \u001b[0;32m<__array_function__ internals>:5\u001b[0m, in \u001b[0;36maverage\u001b[0;34m(*args, **kwargs)\u001b[0m\n",
      "File \u001b[0;32m~/opt/anaconda3/lib/python3.9/site-packages/numpy/lib/function_base.py:381\u001b[0m, in \u001b[0;36maverage\u001b[0;34m(a, axis, weights, returned)\u001b[0m\n\u001b[1;32m    379\u001b[0m \u001b[39mif\u001b[39;00m weights \u001b[39mis\u001b[39;00m \u001b[39mNone\u001b[39;00m:\n\u001b[1;32m    380\u001b[0m     avg \u001b[39m=\u001b[39m a\u001b[39m.\u001b[39mmean(axis)\n\u001b[0;32m--> 381\u001b[0m     scl \u001b[39m=\u001b[39m avg\u001b[39m.\u001b[39mdtype\u001b[39m.\u001b[39mtype(a\u001b[39m.\u001b[39;49msize\u001b[39m/\u001b[39;49mavg\u001b[39m.\u001b[39;49msize)\n\u001b[1;32m    382\u001b[0m \u001b[39melse\u001b[39;00m:\n\u001b[1;32m    383\u001b[0m     wgt \u001b[39m=\u001b[39m np\u001b[39m.\u001b[39masanyarray(weights)\n",
      "\u001b[0;31mZeroDivisionError\u001b[0m: division by zero"
     ]
    }
   ],
   "source": [
    "rfc_random.fit(X_train,y_train)"
   ]
  },
  {
   "cell_type": "code",
   "execution_count": null,
   "metadata": {},
   "outputs": [],
   "source": [
    "print(\"Parameter: \", rfc_random.best_params_)\n",
    "print(\"Non-nested LogLoss: \", rfc_random.best_score_)\n",
    "print(\"Best Estimator: \", rfc_random.best_estimator_)"
   ]
  },
  {
   "cell_type": "code",
   "execution_count": null,
   "metadata": {},
   "outputs": [
    {
     "ename": "KeyboardInterrupt",
     "evalue": "",
     "output_type": "error",
     "traceback": [
      "\u001b[0;31m---------------------------------------------------------------------------\u001b[0m",
      "\u001b[0;31mKeyboardInterrupt\u001b[0m                         Traceback (most recent call last)",
      "\u001b[1;32m/Users/rebecca/MSBA/ISOM674-ML/finalProject.ipynb Cell 123\u001b[0m in \u001b[0;36m<cell line: 3>\u001b[0;34m()\u001b[0m\n\u001b[1;32m      <a href='vscode-notebook-cell:/Users/rebecca/MSBA/ISOM674-ML/finalProject.ipynb#Y451sZmlsZQ%3D%3D?line=0'>1</a>\u001b[0m rf \u001b[39m=\u001b[39m RandomForestClassifier(n_estimators \u001b[39m=\u001b[39m \u001b[39m100\u001b[39m, random_state \u001b[39m=\u001b[39m \u001b[39m42\u001b[39m, min_samples_split\u001b[39m=\u001b[39m\u001b[39m300\u001b[39m, max_depth\u001b[39m=\u001b[39m\u001b[39m30\u001b[39m, n_jobs\u001b[39m=\u001b[39m\u001b[39m-\u001b[39m\u001b[39m1\u001b[39m)\n\u001b[0;32m----> <a href='vscode-notebook-cell:/Users/rebecca/MSBA/ISOM674-ML/finalProject.ipynb#Y451sZmlsZQ%3D%3D?line=2'>3</a>\u001b[0m rf\u001b[39m.\u001b[39;49mfit(X_train, y_train)\n",
      "File \u001b[0;32m~/opt/anaconda3/lib/python3.9/site-packages/sklearn/ensemble/_forest.py:476\u001b[0m, in \u001b[0;36mBaseForest.fit\u001b[0;34m(self, X, y, sample_weight)\u001b[0m\n\u001b[1;32m    465\u001b[0m trees \u001b[39m=\u001b[39m [\n\u001b[1;32m    466\u001b[0m     \u001b[39mself\u001b[39m\u001b[39m.\u001b[39m_make_estimator(append\u001b[39m=\u001b[39m\u001b[39mFalse\u001b[39;00m, random_state\u001b[39m=\u001b[39mrandom_state)\n\u001b[1;32m    467\u001b[0m     \u001b[39mfor\u001b[39;00m i \u001b[39min\u001b[39;00m \u001b[39mrange\u001b[39m(n_more_estimators)\n\u001b[1;32m    468\u001b[0m ]\n\u001b[1;32m    470\u001b[0m \u001b[39m# Parallel loop: we prefer the threading backend as the Cython code\u001b[39;00m\n\u001b[1;32m    471\u001b[0m \u001b[39m# for fitting the trees is internally releasing the Python GIL\u001b[39;00m\n\u001b[1;32m    472\u001b[0m \u001b[39m# making threading more efficient than multiprocessing in\u001b[39;00m\n\u001b[1;32m    473\u001b[0m \u001b[39m# that case. However, for joblib 0.12+ we respect any\u001b[39;00m\n\u001b[1;32m    474\u001b[0m \u001b[39m# parallel_backend contexts set at a higher level,\u001b[39;00m\n\u001b[1;32m    475\u001b[0m \u001b[39m# since correctness does not rely on using threads.\u001b[39;00m\n\u001b[0;32m--> 476\u001b[0m trees \u001b[39m=\u001b[39m Parallel(\n\u001b[1;32m    477\u001b[0m     n_jobs\u001b[39m=\u001b[39;49m\u001b[39mself\u001b[39;49m\u001b[39m.\u001b[39;49mn_jobs,\n\u001b[1;32m    478\u001b[0m     verbose\u001b[39m=\u001b[39;49m\u001b[39mself\u001b[39;49m\u001b[39m.\u001b[39;49mverbose,\n\u001b[1;32m    479\u001b[0m     prefer\u001b[39m=\u001b[39;49m\u001b[39m\"\u001b[39;49m\u001b[39mthreads\u001b[39;49m\u001b[39m\"\u001b[39;49m,\n\u001b[1;32m    480\u001b[0m )(\n\u001b[1;32m    481\u001b[0m     delayed(_parallel_build_trees)(\n\u001b[1;32m    482\u001b[0m         t,\n\u001b[1;32m    483\u001b[0m         \u001b[39mself\u001b[39;49m\u001b[39m.\u001b[39;49mbootstrap,\n\u001b[1;32m    484\u001b[0m         X,\n\u001b[1;32m    485\u001b[0m         y,\n\u001b[1;32m    486\u001b[0m         sample_weight,\n\u001b[1;32m    487\u001b[0m         i,\n\u001b[1;32m    488\u001b[0m         \u001b[39mlen\u001b[39;49m(trees),\n\u001b[1;32m    489\u001b[0m         verbose\u001b[39m=\u001b[39;49m\u001b[39mself\u001b[39;49m\u001b[39m.\u001b[39;49mverbose,\n\u001b[1;32m    490\u001b[0m         class_weight\u001b[39m=\u001b[39;49m\u001b[39mself\u001b[39;49m\u001b[39m.\u001b[39;49mclass_weight,\n\u001b[1;32m    491\u001b[0m         n_samples_bootstrap\u001b[39m=\u001b[39;49mn_samples_bootstrap,\n\u001b[1;32m    492\u001b[0m     )\n\u001b[1;32m    493\u001b[0m     \u001b[39mfor\u001b[39;49;00m i, t \u001b[39min\u001b[39;49;00m \u001b[39menumerate\u001b[39;49m(trees)\n\u001b[1;32m    494\u001b[0m )\n\u001b[1;32m    496\u001b[0m \u001b[39m# Collect newly grown trees\u001b[39;00m\n\u001b[1;32m    497\u001b[0m \u001b[39mself\u001b[39m\u001b[39m.\u001b[39mestimators_\u001b[39m.\u001b[39mextend(trees)\n",
      "File \u001b[0;32m~/opt/anaconda3/lib/python3.9/site-packages/joblib/parallel.py:1056\u001b[0m, in \u001b[0;36mParallel.__call__\u001b[0;34m(self, iterable)\u001b[0m\n\u001b[1;32m   1053\u001b[0m     \u001b[39mself\u001b[39m\u001b[39m.\u001b[39m_iterating \u001b[39m=\u001b[39m \u001b[39mFalse\u001b[39;00m\n\u001b[1;32m   1055\u001b[0m \u001b[39mwith\u001b[39;00m \u001b[39mself\u001b[39m\u001b[39m.\u001b[39m_backend\u001b[39m.\u001b[39mretrieval_context():\n\u001b[0;32m-> 1056\u001b[0m     \u001b[39mself\u001b[39;49m\u001b[39m.\u001b[39;49mretrieve()\n\u001b[1;32m   1057\u001b[0m \u001b[39m# Make sure that we get a last message telling us we are done\u001b[39;00m\n\u001b[1;32m   1058\u001b[0m elapsed_time \u001b[39m=\u001b[39m time\u001b[39m.\u001b[39mtime() \u001b[39m-\u001b[39m \u001b[39mself\u001b[39m\u001b[39m.\u001b[39m_start_time\n",
      "File \u001b[0;32m~/opt/anaconda3/lib/python3.9/site-packages/joblib/parallel.py:935\u001b[0m, in \u001b[0;36mParallel.retrieve\u001b[0;34m(self)\u001b[0m\n\u001b[1;32m    933\u001b[0m \u001b[39mtry\u001b[39;00m:\n\u001b[1;32m    934\u001b[0m     \u001b[39mif\u001b[39;00m \u001b[39mgetattr\u001b[39m(\u001b[39mself\u001b[39m\u001b[39m.\u001b[39m_backend, \u001b[39m'\u001b[39m\u001b[39msupports_timeout\u001b[39m\u001b[39m'\u001b[39m, \u001b[39mFalse\u001b[39;00m):\n\u001b[0;32m--> 935\u001b[0m         \u001b[39mself\u001b[39m\u001b[39m.\u001b[39m_output\u001b[39m.\u001b[39mextend(job\u001b[39m.\u001b[39;49mget(timeout\u001b[39m=\u001b[39;49m\u001b[39mself\u001b[39;49m\u001b[39m.\u001b[39;49mtimeout))\n\u001b[1;32m    936\u001b[0m     \u001b[39melse\u001b[39;00m:\n\u001b[1;32m    937\u001b[0m         \u001b[39mself\u001b[39m\u001b[39m.\u001b[39m_output\u001b[39m.\u001b[39mextend(job\u001b[39m.\u001b[39mget())\n",
      "File \u001b[0;32m~/opt/anaconda3/lib/python3.9/multiprocessing/pool.py:765\u001b[0m, in \u001b[0;36mApplyResult.get\u001b[0;34m(self, timeout)\u001b[0m\n\u001b[1;32m    764\u001b[0m \u001b[39mdef\u001b[39;00m \u001b[39mget\u001b[39m(\u001b[39mself\u001b[39m, timeout\u001b[39m=\u001b[39m\u001b[39mNone\u001b[39;00m):\n\u001b[0;32m--> 765\u001b[0m     \u001b[39mself\u001b[39;49m\u001b[39m.\u001b[39;49mwait(timeout)\n\u001b[1;32m    766\u001b[0m     \u001b[39mif\u001b[39;00m \u001b[39mnot\u001b[39;00m \u001b[39mself\u001b[39m\u001b[39m.\u001b[39mready():\n\u001b[1;32m    767\u001b[0m         \u001b[39mraise\u001b[39;00m \u001b[39mTimeoutError\u001b[39;00m\n",
      "File \u001b[0;32m~/opt/anaconda3/lib/python3.9/multiprocessing/pool.py:762\u001b[0m, in \u001b[0;36mApplyResult.wait\u001b[0;34m(self, timeout)\u001b[0m\n\u001b[1;32m    761\u001b[0m \u001b[39mdef\u001b[39;00m \u001b[39mwait\u001b[39m(\u001b[39mself\u001b[39m, timeout\u001b[39m=\u001b[39m\u001b[39mNone\u001b[39;00m):\n\u001b[0;32m--> 762\u001b[0m     \u001b[39mself\u001b[39;49m\u001b[39m.\u001b[39;49m_event\u001b[39m.\u001b[39;49mwait(timeout)\n",
      "File \u001b[0;32m~/opt/anaconda3/lib/python3.9/threading.py:574\u001b[0m, in \u001b[0;36mEvent.wait\u001b[0;34m(self, timeout)\u001b[0m\n\u001b[1;32m    572\u001b[0m signaled \u001b[39m=\u001b[39m \u001b[39mself\u001b[39m\u001b[39m.\u001b[39m_flag\n\u001b[1;32m    573\u001b[0m \u001b[39mif\u001b[39;00m \u001b[39mnot\u001b[39;00m signaled:\n\u001b[0;32m--> 574\u001b[0m     signaled \u001b[39m=\u001b[39m \u001b[39mself\u001b[39;49m\u001b[39m.\u001b[39;49m_cond\u001b[39m.\u001b[39;49mwait(timeout)\n\u001b[1;32m    575\u001b[0m \u001b[39mreturn\u001b[39;00m signaled\n",
      "File \u001b[0;32m~/opt/anaconda3/lib/python3.9/threading.py:312\u001b[0m, in \u001b[0;36mCondition.wait\u001b[0;34m(self, timeout)\u001b[0m\n\u001b[1;32m    310\u001b[0m \u001b[39mtry\u001b[39;00m:    \u001b[39m# restore state no matter what (e.g., KeyboardInterrupt)\u001b[39;00m\n\u001b[1;32m    311\u001b[0m     \u001b[39mif\u001b[39;00m timeout \u001b[39mis\u001b[39;00m \u001b[39mNone\u001b[39;00m:\n\u001b[0;32m--> 312\u001b[0m         waiter\u001b[39m.\u001b[39;49macquire()\n\u001b[1;32m    313\u001b[0m         gotit \u001b[39m=\u001b[39m \u001b[39mTrue\u001b[39;00m\n\u001b[1;32m    314\u001b[0m     \u001b[39melse\u001b[39;00m:\n",
      "\u001b[0;31mKeyboardInterrupt\u001b[0m: "
     ]
    }
   ],
   "source": [
    "rf = RandomForestClassifier(n_estimators = 100, \n",
    "                            random_state = 42, \n",
    "                            min_samples_split=300, \n",
    "                            max_depth=30,\n",
    "                            n_jobs=-1)\n",
    "\n",
    "rf.fit(X_train, y_train)"
   ]
  },
  {
   "cell_type": "code",
   "execution_count": null,
   "metadata": {},
   "outputs": [
    {
     "name": "stderr",
     "output_type": "stream",
     "text": [
      "[Parallel(n_jobs=-1)]: Using backend ThreadingBackend with 8 concurrent workers.\n"
     ]
    },
    {
     "name": "stdout",
     "output_type": "stream",
     "text": [
      "building tree 1 of 100building tree 2 of 100building tree 3 of 100building tree 4 of 100\n",
      "building tree 5 of 100\n",
      "building tree 6 of 100\n",
      "\n",
      "\n",
      "building tree 7 of 100\n",
      "building tree 8 of 100\n",
      "\n",
      "building tree 9 of 100\n",
      "building tree 10 of 100\n",
      "building tree 11 of 100\n",
      "building tree 12 of 100\n",
      "building tree 13 of 100\n",
      "building tree 14 of 100\n",
      "building tree 15 of 100\n",
      "building tree 16 of 100\n"
     ]
    },
    {
     "name": "stderr",
     "output_type": "stream",
     "text": [
      "[Parallel(n_jobs=-1)]: Done   9 tasks      | elapsed:   41.1s\n"
     ]
    },
    {
     "name": "stdout",
     "output_type": "stream",
     "text": [
      "building tree 17 of 100\n",
      "building tree 18 of 100\n",
      "building tree 19 of 100\n",
      "building tree 20 of 100\n",
      "building tree 21 of 100\n",
      "building tree 22 of 100\n",
      "building tree 23 of 100\n",
      "building tree 24 of 100\n",
      "building tree 25 of 100\n",
      "building tree 26 of 100\n",
      "building tree 27 of 100\n",
      "building tree 28 of 100\n",
      "building tree 29 of 100\n",
      "building tree 30 of 100\n",
      "building tree 31 of 100\n",
      "building tree 32 of 100\n",
      "building tree 33 of 100\n",
      "building tree 34 of 100\n",
      "building tree 35 of 100\n",
      "building tree 36 of 100\n",
      "building tree 37 of 100\n",
      "building tree 38 of 100\n",
      "building tree 39 of 100\n",
      "building tree 40 of 100\n",
      "building tree 41 of 100\n",
      "building tree 42 of 100\n",
      "building tree 43 of 100\n",
      "building tree 44 of 100\n",
      "building tree 45 of 100\n",
      "building tree 46 of 100\n",
      "building tree 47 of 100\n",
      "building tree 48 of 100\n",
      "building tree 49 of 100\n",
      "building tree 50 of 100\n",
      "building tree 51 of 100\n",
      "building tree 52 of 100\n",
      "building tree 53 of 100\n",
      "building tree 54 of 100\n",
      "building tree 55 of 100\n",
      "building tree 56 of 100\n",
      "building tree 57 of 100\n",
      "building tree 58 of 100\n",
      "building tree 59 of 100\n",
      "building tree 60 of 100\n",
      "building tree 61 of 100\n",
      "building tree 62 of 100\n",
      "building tree 63 of 100\n",
      "building tree 64 of 100\n",
      "building tree 65 of 100\n",
      "building tree 66 of 100\n",
      "building tree 67 of 100\n",
      "building tree 68 of 100\n",
      "building tree 69 of 100\n",
      "building tree 70 of 100\n",
      "building tree 71 of 100\n",
      "building tree 72 of 100\n",
      "building tree 73 of 100\n",
      "building tree 74 of 100\n",
      "building tree 75 of 100\n",
      "building tree 76 of 100\n",
      "building tree 77 of 100\n",
      "building tree 78 of 100\n",
      "building tree 79 of 100\n",
      "building tree 80 of 100\n",
      "building tree 81 of 100\n",
      "building tree 82 of 100\n",
      "building tree 83 of 100\n",
      "building tree 84 of 100\n",
      "building tree 85 of 100\n",
      "building tree 86 of 100\n",
      "building tree 87 of 100\n",
      "building tree 88 of 100\n",
      "building tree 89 of 100\n",
      "building tree 90 of 100\n"
     ]
    },
    {
     "name": "stderr",
     "output_type": "stream",
     "text": [
      "[Parallel(n_jobs=-1)]: Done  82 tasks      | elapsed:  3.6min\n"
     ]
    },
    {
     "name": "stdout",
     "output_type": "stream",
     "text": [
      "building tree 91 of 100\n",
      "building tree 92 of 100\n",
      "building tree 93 of 100\n",
      "building tree 94 of 100\n",
      "building tree 95 of 100\n",
      "building tree 96 of 100\n",
      "building tree 97 of 100\n",
      "building tree 98 of 100\n",
      "building tree 99 of 100\n",
      "building tree 100 of 100\n"
     ]
    },
    {
     "name": "stderr",
     "output_type": "stream",
     "text": [
      "[Parallel(n_jobs=-1)]: Done 100 out of 100 | elapsed:  4.2min finished\n"
     ]
    },
    {
     "data": {
      "text/html": [
       "<style>#sk-container-id-5 {color: black;background-color: white;}#sk-container-id-5 pre{padding: 0;}#sk-container-id-5 div.sk-toggleable {background-color: white;}#sk-container-id-5 label.sk-toggleable__label {cursor: pointer;display: block;width: 100%;margin-bottom: 0;padding: 0.3em;box-sizing: border-box;text-align: center;}#sk-container-id-5 label.sk-toggleable__label-arrow:before {content: \"▸\";float: left;margin-right: 0.25em;color: #696969;}#sk-container-id-5 label.sk-toggleable__label-arrow:hover:before {color: black;}#sk-container-id-5 div.sk-estimator:hover label.sk-toggleable__label-arrow:before {color: black;}#sk-container-id-5 div.sk-toggleable__content {max-height: 0;max-width: 0;overflow: hidden;text-align: left;background-color: #f0f8ff;}#sk-container-id-5 div.sk-toggleable__content pre {margin: 0.2em;color: black;border-radius: 0.25em;background-color: #f0f8ff;}#sk-container-id-5 input.sk-toggleable__control:checked~div.sk-toggleable__content {max-height: 200px;max-width: 100%;overflow: auto;}#sk-container-id-5 input.sk-toggleable__control:checked~label.sk-toggleable__label-arrow:before {content: \"▾\";}#sk-container-id-5 div.sk-estimator input.sk-toggleable__control:checked~label.sk-toggleable__label {background-color: #d4ebff;}#sk-container-id-5 div.sk-label input.sk-toggleable__control:checked~label.sk-toggleable__label {background-color: #d4ebff;}#sk-container-id-5 input.sk-hidden--visually {border: 0;clip: rect(1px 1px 1px 1px);clip: rect(1px, 1px, 1px, 1px);height: 1px;margin: -1px;overflow: hidden;padding: 0;position: absolute;width: 1px;}#sk-container-id-5 div.sk-estimator {font-family: monospace;background-color: #f0f8ff;border: 1px dotted black;border-radius: 0.25em;box-sizing: border-box;margin-bottom: 0.5em;}#sk-container-id-5 div.sk-estimator:hover {background-color: #d4ebff;}#sk-container-id-5 div.sk-parallel-item::after {content: \"\";width: 100%;border-bottom: 1px solid gray;flex-grow: 1;}#sk-container-id-5 div.sk-label:hover label.sk-toggleable__label {background-color: #d4ebff;}#sk-container-id-5 div.sk-serial::before {content: \"\";position: absolute;border-left: 1px solid gray;box-sizing: border-box;top: 0;bottom: 0;left: 50%;z-index: 0;}#sk-container-id-5 div.sk-serial {display: flex;flex-direction: column;align-items: center;background-color: white;padding-right: 0.2em;padding-left: 0.2em;position: relative;}#sk-container-id-5 div.sk-item {position: relative;z-index: 1;}#sk-container-id-5 div.sk-parallel {display: flex;align-items: stretch;justify-content: center;background-color: white;position: relative;}#sk-container-id-5 div.sk-item::before, #sk-container-id-5 div.sk-parallel-item::before {content: \"\";position: absolute;border-left: 1px solid gray;box-sizing: border-box;top: 0;bottom: 0;left: 50%;z-index: -1;}#sk-container-id-5 div.sk-parallel-item {display: flex;flex-direction: column;z-index: 1;position: relative;background-color: white;}#sk-container-id-5 div.sk-parallel-item:first-child::after {align-self: flex-end;width: 50%;}#sk-container-id-5 div.sk-parallel-item:last-child::after {align-self: flex-start;width: 50%;}#sk-container-id-5 div.sk-parallel-item:only-child::after {width: 0;}#sk-container-id-5 div.sk-dashed-wrapped {border: 1px dashed gray;margin: 0 0.4em 0.5em 0.4em;box-sizing: border-box;padding-bottom: 0.4em;background-color: white;}#sk-container-id-5 div.sk-label label {font-family: monospace;font-weight: bold;display: inline-block;line-height: 1.2em;}#sk-container-id-5 div.sk-label-container {text-align: center;}#sk-container-id-5 div.sk-container {/* jupyter's `normalize.less` sets `[hidden] { display: none; }` but bootstrap.min.css set `[hidden] { display: none !important; }` so we also need the `!important` here to be able to override the default hidden behavior on the sphinx rendered scikit-learn.org. See: https://github.com/scikit-learn/scikit-learn/issues/21755 */display: inline-block !important;position: relative;}#sk-container-id-5 div.sk-text-repr-fallback {display: none;}</style><div id=\"sk-container-id-5\" class=\"sk-top-container\"><div class=\"sk-text-repr-fallback\"><pre>RandomForestClassifier(max_depth=20, max_features=&#x27;log2&#x27;, min_samples_split=4,\n",
       "                       n_jobs=-1, random_state=42, verbose=4)</pre><b>In a Jupyter environment, please rerun this cell to show the HTML representation or trust the notebook. <br />On GitHub, the HTML representation is unable to render, please try loading this page with nbviewer.org.</b></div><div class=\"sk-container\" hidden><div class=\"sk-item\"><div class=\"sk-estimator sk-toggleable\"><input class=\"sk-toggleable__control sk-hidden--visually\" id=\"sk-estimator-id-9\" type=\"checkbox\" checked><label for=\"sk-estimator-id-9\" class=\"sk-toggleable__label sk-toggleable__label-arrow\">RandomForestClassifier</label><div class=\"sk-toggleable__content\"><pre>RandomForestClassifier(max_depth=20, max_features=&#x27;log2&#x27;, min_samples_split=4,\n",
       "                       n_jobs=-1, random_state=42, verbose=4)</pre></div></div></div></div></div>"
      ],
      "text/plain": [
       "RandomForestClassifier(max_depth=20, max_features='log2', min_samples_split=4,\n",
       "                       n_jobs=-1, random_state=42, verbose=4)"
      ]
     },
     "execution_count": 357,
     "metadata": {},
     "output_type": "execute_result"
    }
   ],
   "source": [
    "rf.fit(X_train, y_train)"
   ]
  },
  {
   "cell_type": "code",
   "execution_count": 393,
   "metadata": {},
   "outputs": [
    {
     "ename": "ValueError",
     "evalue": "Input contains NaN.",
     "output_type": "error",
     "traceback": [
      "\u001b[0;31m---------------------------------------------------------------------------\u001b[0m",
      "\u001b[0;31mValueError\u001b[0m                                Traceback (most recent call last)",
      "\u001b[1;32m/Users/rebecca/MSBA/ISOM674-ML/finalProject.ipynb Cell 123\u001b[0m in \u001b[0;36m<cell line: 2>\u001b[0;34m()\u001b[0m\n\u001b[1;32m      <a href='vscode-notebook-cell:/Users/rebecca/MSBA/ISOM674-ML/finalProject.ipynb#Y452sZmlsZQ%3D%3D?line=0'>1</a>\u001b[0m y_pred_rf \u001b[39m=\u001b[39m rf\u001b[39m.\u001b[39mpredict_proba(X_val)\n\u001b[0;32m----> <a href='vscode-notebook-cell:/Users/rebecca/MSBA/ISOM674-ML/finalProject.ipynb#Y452sZmlsZQ%3D%3D?line=1'>2</a>\u001b[0m log_loss(y_val, y_pred_rf)\n",
      "File \u001b[0;32m~/opt/anaconda3/lib/python3.9/site-packages/sklearn/metrics/_classification.py:2402\u001b[0m, in \u001b[0;36mlog_loss\u001b[0;34m(y_true, y_pred, eps, normalize, sample_weight, labels)\u001b[0m\n\u001b[1;32m   2331\u001b[0m \u001b[39mdef\u001b[39;00m \u001b[39mlog_loss\u001b[39m(\n\u001b[1;32m   2332\u001b[0m     y_true, y_pred, \u001b[39m*\u001b[39m, eps\u001b[39m=\u001b[39m\u001b[39m1e-15\u001b[39m, normalize\u001b[39m=\u001b[39m\u001b[39mTrue\u001b[39;00m, sample_weight\u001b[39m=\u001b[39m\u001b[39mNone\u001b[39;00m, labels\u001b[39m=\u001b[39m\u001b[39mNone\u001b[39;00m\n\u001b[1;32m   2333\u001b[0m ):\n\u001b[1;32m   2334\u001b[0m     \u001b[39mr\u001b[39m\u001b[39m\"\"\"Log loss, aka logistic loss or cross-entropy loss.\u001b[39;00m\n\u001b[1;32m   2335\u001b[0m \n\u001b[1;32m   2336\u001b[0m \u001b[39m    This is the loss function used in (multinomial) logistic regression\u001b[39;00m\n\u001b[0;32m   (...)\u001b[0m\n\u001b[1;32m   2400\u001b[0m \u001b[39m    0.21616...\u001b[39;00m\n\u001b[1;32m   2401\u001b[0m \u001b[39m    \"\"\"\u001b[39;00m\n\u001b[0;32m-> 2402\u001b[0m     y_pred \u001b[39m=\u001b[39m check_array(y_pred, ensure_2d\u001b[39m=\u001b[39;49m\u001b[39mFalse\u001b[39;49;00m)\n\u001b[1;32m   2403\u001b[0m     check_consistent_length(y_pred, y_true, sample_weight)\n\u001b[1;32m   2405\u001b[0m     lb \u001b[39m=\u001b[39m LabelBinarizer()\n",
      "File \u001b[0;32m~/opt/anaconda3/lib/python3.9/site-packages/sklearn/utils/validation.py:899\u001b[0m, in \u001b[0;36mcheck_array\u001b[0;34m(array, accept_sparse, accept_large_sparse, dtype, order, copy, force_all_finite, ensure_2d, allow_nd, ensure_min_samples, ensure_min_features, estimator, input_name)\u001b[0m\n\u001b[1;32m    893\u001b[0m         \u001b[39mraise\u001b[39;00m \u001b[39mValueError\u001b[39;00m(\n\u001b[1;32m    894\u001b[0m             \u001b[39m\"\u001b[39m\u001b[39mFound array with dim \u001b[39m\u001b[39m%d\u001b[39;00m\u001b[39m. \u001b[39m\u001b[39m%s\u001b[39;00m\u001b[39m expected <= 2.\u001b[39m\u001b[39m\"\u001b[39m\n\u001b[1;32m    895\u001b[0m             \u001b[39m%\u001b[39m (array\u001b[39m.\u001b[39mndim, estimator_name)\n\u001b[1;32m    896\u001b[0m         )\n\u001b[1;32m    898\u001b[0m     \u001b[39mif\u001b[39;00m force_all_finite:\n\u001b[0;32m--> 899\u001b[0m         _assert_all_finite(\n\u001b[1;32m    900\u001b[0m             array,\n\u001b[1;32m    901\u001b[0m             input_name\u001b[39m=\u001b[39;49minput_name,\n\u001b[1;32m    902\u001b[0m             estimator_name\u001b[39m=\u001b[39;49mestimator_name,\n\u001b[1;32m    903\u001b[0m             allow_nan\u001b[39m=\u001b[39;49mforce_all_finite \u001b[39m==\u001b[39;49m \u001b[39m\"\u001b[39;49m\u001b[39mallow-nan\u001b[39;49m\u001b[39m\"\u001b[39;49m,\n\u001b[1;32m    904\u001b[0m         )\n\u001b[1;32m    906\u001b[0m \u001b[39mif\u001b[39;00m ensure_min_samples \u001b[39m>\u001b[39m \u001b[39m0\u001b[39m:\n\u001b[1;32m    907\u001b[0m     n_samples \u001b[39m=\u001b[39m _num_samples(array)\n",
      "File \u001b[0;32m~/opt/anaconda3/lib/python3.9/site-packages/sklearn/utils/validation.py:146\u001b[0m, in \u001b[0;36m_assert_all_finite\u001b[0;34m(X, allow_nan, msg_dtype, estimator_name, input_name)\u001b[0m\n\u001b[1;32m    124\u001b[0m         \u001b[39mif\u001b[39;00m (\n\u001b[1;32m    125\u001b[0m             \u001b[39mnot\u001b[39;00m allow_nan\n\u001b[1;32m    126\u001b[0m             \u001b[39mand\u001b[39;00m estimator_name\n\u001b[0;32m   (...)\u001b[0m\n\u001b[1;32m    130\u001b[0m             \u001b[39m# Improve the error message on how to handle missing values in\u001b[39;00m\n\u001b[1;32m    131\u001b[0m             \u001b[39m# scikit-learn.\u001b[39;00m\n\u001b[1;32m    132\u001b[0m             msg_err \u001b[39m+\u001b[39m\u001b[39m=\u001b[39m (\n\u001b[1;32m    133\u001b[0m                 \u001b[39mf\u001b[39m\u001b[39m\"\u001b[39m\u001b[39m\\n\u001b[39;00m\u001b[39m{\u001b[39;00mestimator_name\u001b[39m}\u001b[39;00m\u001b[39m does not accept missing values\u001b[39m\u001b[39m\"\u001b[39m\n\u001b[1;32m    134\u001b[0m                 \u001b[39m\"\u001b[39m\u001b[39m encoded as NaN natively. For supervised learning, you might want\u001b[39m\u001b[39m\"\u001b[39m\n\u001b[0;32m   (...)\u001b[0m\n\u001b[1;32m    144\u001b[0m                 \u001b[39m\"\u001b[39m\u001b[39m#estimators-that-handle-nan-values\u001b[39m\u001b[39m\"\u001b[39m\n\u001b[1;32m    145\u001b[0m             )\n\u001b[0;32m--> 146\u001b[0m         \u001b[39mraise\u001b[39;00m \u001b[39mValueError\u001b[39;00m(msg_err)\n\u001b[1;32m    148\u001b[0m \u001b[39m# for object dtype data, we only check for NaNs (GH-13254)\u001b[39;00m\n\u001b[1;32m    149\u001b[0m \u001b[39melif\u001b[39;00m X\u001b[39m.\u001b[39mdtype \u001b[39m==\u001b[39m np\u001b[39m.\u001b[39mdtype(\u001b[39m\"\u001b[39m\u001b[39mobject\u001b[39m\u001b[39m\"\u001b[39m) \u001b[39mand\u001b[39;00m \u001b[39mnot\u001b[39;00m allow_nan:\n",
      "\u001b[0;31mValueError\u001b[0m: Input contains NaN."
     ]
    }
   ],
   "source": [
    "y_pred_rf = rf.predict_proba(X_val)\n",
    "log_loss(y_val, y_pred_rf)\n",
    "# .40227452244706247"
   ]
  },
  {
   "cell_type": "markdown",
   "metadata": {},
   "source": [
    "## Neural Net"
   ]
  },
  {
   "cell_type": "code",
   "execution_count": null,
   "metadata": {},
   "outputs": [],
   "source": [
    "kernel_regularizer = regularizers.l2(0.003),"
   ]
  },
  {
   "cell_type": "code",
   "execution_count": null,
   "metadata": {},
   "outputs": [],
   "source": [
    "# initialize nn\n",
    "nnc = Sequential()\n",
    "# add input layer\n",
    "nnc.add(Dense(10, kernel_regularizer = regularizers.l2(0.003), kernel_initializer=initializers.RandomNormal(stddev=0.01), activation='relu', input_shape = (X_train.shape[1],), use_bias=True))\n",
    "nnc.add(Dropout(0.4))\n",
    "# add hidden layer\n",
    "nnc.add(Dense(10, kernel_regularizer = regularizers.l2(0.003), kernel_initializer=initializers.RandomNormal(stddev=0.01), activation='relu'))\n",
    "nnc.add(Dropout(0.3))\n",
    "nnc.add(Dense(units = 6, activation = 'sigmoid', use_bias = True))\n",
    "# add output layer\n",
    "nnc.add(Dense(1, activation = 'sigmoid', use_bias = True))\n",
    "nnc.compile(optimizer = Adam(learning_rate=1e-3), loss = 'binary_crossentropy', metrics = ['accuracy'])"
   ]
  },
  {
   "cell_type": "code",
   "execution_count": null,
   "metadata": {},
   "outputs": [
    {
     "name": "stdout",
     "output_type": "stream",
     "text": [
      "Epoch 1/5\n",
      "4687/4687 [==============================] - 9s 2ms/step - loss: 0.4588 - accuracy: 0.8280 - val_loss: 0.4553 - val_accuracy: 0.8304\n",
      "Epoch 2/5\n",
      "4687/4687 [==============================] - 7s 1ms/step - loss: 0.4513 - accuracy: 0.8305 - val_loss: 0.4473 - val_accuracy: 0.8304\n",
      "Epoch 3/5\n",
      "4687/4687 [==============================] - 7s 1ms/step - loss: 0.4488 - accuracy: 0.8305 - val_loss: 0.4479 - val_accuracy: 0.8304\n",
      "Epoch 4/5\n",
      "4687/4687 [==============================] - 8s 2ms/step - loss: 0.4502 - accuracy: 0.8305 - val_loss: 0.4494 - val_accuracy: 0.8304\n",
      "Epoch 5/5\n",
      "4687/4687 [==============================] - 9s 2ms/step - loss: 0.4515 - accuracy: 0.8305 - val_loss: 0.4494 - val_accuracy: 0.8304\n"
     ]
    },
    {
     "data": {
      "text/plain": [
       "<keras.callbacks.History at 0x7fc4682e7a60>"
      ]
     },
     "execution_count": 259,
     "metadata": {},
     "output_type": "execute_result"
    }
   ],
   "source": [
    "nnc.fit(X_train, y_train, epochs=10, batch_size = 512, validation_data = (X_val, y_val))"
   ]
  },
  {
   "cell_type": "code",
   "execution_count": null,
   "metadata": {},
   "outputs": [
    {
     "name": "stdout",
     "output_type": "stream",
     "text": [
      "24994/24994 [==============================] - 17s 665us/step\n"
     ]
    },
    {
     "data": {
      "text/plain": [
       "0.44924784763601544"
      ]
     },
     "execution_count": 260,
     "metadata": {},
     "output_type": "execute_result"
    }
   ],
   "source": [
    "y_pred_nn = nnc.predict(X_val)\n",
    "log_loss(y_val, y_pred_nn)"
   ]
  },
  {
   "cell_type": "markdown",
   "metadata": {},
   "source": [
    "## LightGBM"
   ]
  },
  {
   "cell_type": "code",
   "execution_count": null,
   "metadata": {},
   "outputs": [],
   "source": [
    "lgb = LGBMClassifier(learning_rate=0.09,random_state=42)"
   ]
  },
  {
   "cell_type": "code",
   "execution_count": null,
   "metadata": {},
   "outputs": [
    {
     "data": {
      "text/html": [
       "<style>#sk-container-id-2 {color: black;background-color: white;}#sk-container-id-2 pre{padding: 0;}#sk-container-id-2 div.sk-toggleable {background-color: white;}#sk-container-id-2 label.sk-toggleable__label {cursor: pointer;display: block;width: 100%;margin-bottom: 0;padding: 0.3em;box-sizing: border-box;text-align: center;}#sk-container-id-2 label.sk-toggleable__label-arrow:before {content: \"▸\";float: left;margin-right: 0.25em;color: #696969;}#sk-container-id-2 label.sk-toggleable__label-arrow:hover:before {color: black;}#sk-container-id-2 div.sk-estimator:hover label.sk-toggleable__label-arrow:before {color: black;}#sk-container-id-2 div.sk-toggleable__content {max-height: 0;max-width: 0;overflow: hidden;text-align: left;background-color: #f0f8ff;}#sk-container-id-2 div.sk-toggleable__content pre {margin: 0.2em;color: black;border-radius: 0.25em;background-color: #f0f8ff;}#sk-container-id-2 input.sk-toggleable__control:checked~div.sk-toggleable__content {max-height: 200px;max-width: 100%;overflow: auto;}#sk-container-id-2 input.sk-toggleable__control:checked~label.sk-toggleable__label-arrow:before {content: \"▾\";}#sk-container-id-2 div.sk-estimator input.sk-toggleable__control:checked~label.sk-toggleable__label {background-color: #d4ebff;}#sk-container-id-2 div.sk-label input.sk-toggleable__control:checked~label.sk-toggleable__label {background-color: #d4ebff;}#sk-container-id-2 input.sk-hidden--visually {border: 0;clip: rect(1px 1px 1px 1px);clip: rect(1px, 1px, 1px, 1px);height: 1px;margin: -1px;overflow: hidden;padding: 0;position: absolute;width: 1px;}#sk-container-id-2 div.sk-estimator {font-family: monospace;background-color: #f0f8ff;border: 1px dotted black;border-radius: 0.25em;box-sizing: border-box;margin-bottom: 0.5em;}#sk-container-id-2 div.sk-estimator:hover {background-color: #d4ebff;}#sk-container-id-2 div.sk-parallel-item::after {content: \"\";width: 100%;border-bottom: 1px solid gray;flex-grow: 1;}#sk-container-id-2 div.sk-label:hover label.sk-toggleable__label {background-color: #d4ebff;}#sk-container-id-2 div.sk-serial::before {content: \"\";position: absolute;border-left: 1px solid gray;box-sizing: border-box;top: 0;bottom: 0;left: 50%;z-index: 0;}#sk-container-id-2 div.sk-serial {display: flex;flex-direction: column;align-items: center;background-color: white;padding-right: 0.2em;padding-left: 0.2em;position: relative;}#sk-container-id-2 div.sk-item {position: relative;z-index: 1;}#sk-container-id-2 div.sk-parallel {display: flex;align-items: stretch;justify-content: center;background-color: white;position: relative;}#sk-container-id-2 div.sk-item::before, #sk-container-id-2 div.sk-parallel-item::before {content: \"\";position: absolute;border-left: 1px solid gray;box-sizing: border-box;top: 0;bottom: 0;left: 50%;z-index: -1;}#sk-container-id-2 div.sk-parallel-item {display: flex;flex-direction: column;z-index: 1;position: relative;background-color: white;}#sk-container-id-2 div.sk-parallel-item:first-child::after {align-self: flex-end;width: 50%;}#sk-container-id-2 div.sk-parallel-item:last-child::after {align-self: flex-start;width: 50%;}#sk-container-id-2 div.sk-parallel-item:only-child::after {width: 0;}#sk-container-id-2 div.sk-dashed-wrapped {border: 1px dashed gray;margin: 0 0.4em 0.5em 0.4em;box-sizing: border-box;padding-bottom: 0.4em;background-color: white;}#sk-container-id-2 div.sk-label label {font-family: monospace;font-weight: bold;display: inline-block;line-height: 1.2em;}#sk-container-id-2 div.sk-label-container {text-align: center;}#sk-container-id-2 div.sk-container {/* jupyter's `normalize.less` sets `[hidden] { display: none; }` but bootstrap.min.css set `[hidden] { display: none !important; }` so we also need the `!important` here to be able to override the default hidden behavior on the sphinx rendered scikit-learn.org. See: https://github.com/scikit-learn/scikit-learn/issues/21755 */display: inline-block !important;position: relative;}#sk-container-id-2 div.sk-text-repr-fallback {display: none;}</style><div id=\"sk-container-id-2\" class=\"sk-top-container\"><div class=\"sk-text-repr-fallback\"><pre>LGBMClassifier(learning_rate=0.09, max_depth=-5, random_state=42)</pre><b>In a Jupyter environment, please rerun this cell to show the HTML representation or trust the notebook. <br />On GitHub, the HTML representation is unable to render, please try loading this page with nbviewer.org.</b></div><div class=\"sk-container\" hidden><div class=\"sk-item\"><div class=\"sk-estimator sk-toggleable\"><input class=\"sk-toggleable__control sk-hidden--visually\" id=\"sk-estimator-id-2\" type=\"checkbox\" checked><label for=\"sk-estimator-id-2\" class=\"sk-toggleable__label sk-toggleable__label-arrow\">LGBMClassifier</label><div class=\"sk-toggleable__content\"><pre>LGBMClassifier(learning_rate=0.09, max_depth=-5, random_state=42)</pre></div></div></div></div></div>"
      ],
      "text/plain": [
       "LGBMClassifier(learning_rate=0.09, max_depth=-5, random_state=42)"
      ]
     },
     "execution_count": 265,
     "metadata": {},
     "output_type": "execute_result"
    }
   ],
   "source": [
    "lgb.fit(X_train,y_train,verbose=3,eval_metric='logloss')"
   ]
  },
  {
   "cell_type": "code",
   "execution_count": null,
   "metadata": {},
   "outputs": [],
   "source": [
    "parameters = {\n",
    "    'learning_rate': [0.01,0.05,0.09,0.1],\n",
    "    'num_leaves': [31,250,300],\n",
    "}\n",
    "\n",
    "gbm = LGBMClassifier(objective='binary', \n",
    "                          n_jobs=-1,\n",
    "                          metric = 'binary_logloss',\n",
    "                          boosting_type='gbdt',\n",
    "                          cat_smooth= 35)\n",
    "gs_lgb = GridSearchCV(gbm, param_grid=parameters, scoring='neg_log_loss', cv=3, verbose = 35)"
   ]
  },
  {
   "cell_type": "code",
   "execution_count": null,
   "metadata": {},
   "outputs": [
    {
     "name": "stdout",
     "output_type": "stream",
     "text": [
      "Fitting 3 folds for each of 12 candidates, totalling 36 fits\n",
      "[CV 1/3; 1/12] START learning_rate=0.01, num_leaves=31..........................\n",
      "[CV 1/3; 1/12] END learning_rate=0.01, num_leaves=31;, score=-0.425 total time=  12.4s\n",
      "[CV 2/3; 1/12] START learning_rate=0.01, num_leaves=31..........................\n",
      "[CV 2/3; 1/12] END learning_rate=0.01, num_leaves=31;, score=-0.425 total time=   9.9s\n",
      "[CV 3/3; 1/12] START learning_rate=0.01, num_leaves=31..........................\n",
      "[CV 3/3; 1/12] END learning_rate=0.01, num_leaves=31;, score=-0.425 total time=   9.8s\n",
      "[CV 1/3; 2/12] START learning_rate=0.01, num_leaves=250.........................\n",
      "[CV 1/3; 2/12] END learning_rate=0.01, num_leaves=250;, score=-0.417 total time=  14.9s\n",
      "[CV 2/3; 2/12] START learning_rate=0.01, num_leaves=250.........................\n",
      "[CV 2/3; 2/12] END learning_rate=0.01, num_leaves=250;, score=-0.417 total time=  14.9s\n",
      "[CV 3/3; 2/12] START learning_rate=0.01, num_leaves=250.........................\n",
      "[CV 3/3; 2/12] END learning_rate=0.01, num_leaves=250;, score=-0.417 total time=  17.1s\n",
      "[CV 1/3; 3/12] START learning_rate=0.01, num_leaves=300.........................\n",
      "[CV 1/3; 3/12] END learning_rate=0.01, num_leaves=300;, score=-0.416 total time=  16.3s\n",
      "[CV 2/3; 3/12] START learning_rate=0.01, num_leaves=300.........................\n",
      "[CV 2/3; 3/12] END learning_rate=0.01, num_leaves=300;, score=-0.416 total time=  19.6s\n",
      "[CV 3/3; 3/12] START learning_rate=0.01, num_leaves=300.........................\n",
      "[CV 3/3; 3/12] END learning_rate=0.01, num_leaves=300;, score=-0.416 total time=  16.6s\n",
      "[CV 1/3; 4/12] START learning_rate=0.05, num_leaves=31..........................\n",
      "[CV 1/3; 4/12] END learning_rate=0.05, num_leaves=31;, score=-0.411 total time=   9.5s\n",
      "[CV 2/3; 4/12] START learning_rate=0.05, num_leaves=31..........................\n",
      "[CV 2/3; 4/12] END learning_rate=0.05, num_leaves=31;, score=-0.411 total time=   9.5s\n",
      "[CV 3/3; 4/12] START learning_rate=0.05, num_leaves=31..........................\n",
      "[CV 3/3; 4/12] END learning_rate=0.05, num_leaves=31;, score=-0.412 total time=   9.5s\n",
      "[CV 1/3; 5/12] START learning_rate=0.05, num_leaves=250.........................\n",
      "[CV 1/3; 5/12] END learning_rate=0.05, num_leaves=250;, score=-0.404 total time=  15.4s\n",
      "[CV 2/3; 5/12] START learning_rate=0.05, num_leaves=250.........................\n",
      "[CV 2/3; 5/12] END learning_rate=0.05, num_leaves=250;, score=-0.404 total time=  15.1s\n",
      "[CV 3/3; 5/12] START learning_rate=0.05, num_leaves=250.........................\n",
      "[CV 3/3; 5/12] END learning_rate=0.05, num_leaves=250;, score=-0.404 total time=  19.3s\n",
      "[CV 1/3; 6/12] START learning_rate=0.05, num_leaves=300.........................\n",
      "[CV 1/3; 6/12] END learning_rate=0.05, num_leaves=300;, score=-0.404 total time=  13.7s\n",
      "[CV 2/3; 6/12] START learning_rate=0.05, num_leaves=300.........................\n",
      "[CV 2/3; 6/12] END learning_rate=0.05, num_leaves=300;, score=-0.404 total time=  15.5s\n",
      "[CV 3/3; 6/12] START learning_rate=0.05, num_leaves=300.........................\n",
      "[CV 3/3; 6/12] END learning_rate=0.05, num_leaves=300;, score=-0.403 total time=  15.1s\n",
      "[CV 1/3; 7/12] START learning_rate=0.09, num_leaves=31..........................\n",
      "[CV 1/3; 7/12] END learning_rate=0.09, num_leaves=31;, score=-0.409 total time=   8.0s\n",
      "[CV 2/3; 7/12] START learning_rate=0.09, num_leaves=31..........................\n",
      "[CV 2/3; 7/12] END learning_rate=0.09, num_leaves=31;, score=-0.409 total time=   8.2s\n",
      "[CV 3/3; 7/12] START learning_rate=0.09, num_leaves=31..........................\n",
      "[CV 3/3; 7/12] END learning_rate=0.09, num_leaves=31;, score=-0.409 total time=   8.3s\n",
      "[CV 1/3; 8/12] START learning_rate=0.09, num_leaves=250.........................\n",
      "[CV 1/3; 8/12] END learning_rate=0.09, num_leaves=250;, score=-0.403 total time=  11.4s\n",
      "[CV 2/3; 8/12] START learning_rate=0.09, num_leaves=250.........................\n",
      "[CV 2/3; 8/12] END learning_rate=0.09, num_leaves=250;, score=-0.403 total time=  12.0s\n",
      "[CV 3/3; 8/12] START learning_rate=0.09, num_leaves=250.........................\n",
      "[CV 3/3; 8/12] END learning_rate=0.09, num_leaves=250;, score=-0.403 total time=  11.7s\n",
      "[CV 1/3; 9/12] START learning_rate=0.09, num_leaves=300.........................\n",
      "[CV 1/3; 9/12] END learning_rate=0.09, num_leaves=300;, score=-0.403 total time=  11.9s\n",
      "[CV 2/3; 9/12] START learning_rate=0.09, num_leaves=300.........................\n",
      "[CV 2/3; 9/12] END learning_rate=0.09, num_leaves=300;, score=-0.403 total time=  12.2s\n",
      "[CV 3/3; 9/12] START learning_rate=0.09, num_leaves=300.........................\n",
      "[CV 3/3; 9/12] END learning_rate=0.09, num_leaves=300;, score=-0.403 total time=  12.8s\n",
      "[CV 1/3; 10/12] START learning_rate=0.1, num_leaves=31..........................\n",
      "[CV 1/3; 10/12] END learning_rate=0.1, num_leaves=31;, score=-0.409 total time=   8.2s\n",
      "[CV 2/3; 10/12] START learning_rate=0.1, num_leaves=31..........................\n",
      "[CV 2/3; 10/12] END learning_rate=0.1, num_leaves=31;, score=-0.409 total time=   8.0s\n",
      "[CV 3/3; 10/12] START learning_rate=0.1, num_leaves=31..........................\n",
      "[CV 3/3; 10/12] END learning_rate=0.1, num_leaves=31;, score=-0.409 total time=   8.1s\n",
      "[CV 1/3; 11/12] START learning_rate=0.1, num_leaves=250.........................\n",
      "[CV 1/3; 11/12] END learning_rate=0.1, num_leaves=250;, score=-0.403 total time=  11.6s\n",
      "[CV 2/3; 11/12] START learning_rate=0.1, num_leaves=250.........................\n",
      "[CV 2/3; 11/12] END learning_rate=0.1, num_leaves=250;, score=-0.403 total time=  11.3s\n",
      "[CV 3/3; 11/12] START learning_rate=0.1, num_leaves=250.........................\n",
      "[CV 3/3; 11/12] END learning_rate=0.1, num_leaves=250;, score=-0.403 total time=  11.1s\n",
      "[CV 1/3; 12/12] START learning_rate=0.1, num_leaves=300.........................\n",
      "[CV 1/3; 12/12] END learning_rate=0.1, num_leaves=300;, score=-0.403 total time=  11.9s\n",
      "[CV 2/3; 12/12] START learning_rate=0.1, num_leaves=300.........................\n",
      "[CV 2/3; 12/12] END learning_rate=0.1, num_leaves=300;, score=-0.403 total time=  11.9s\n",
      "[CV 3/3; 12/12] START learning_rate=0.1, num_leaves=300.........................\n",
      "[CV 3/3; 12/12] END learning_rate=0.1, num_leaves=300;, score=-0.403 total time=  11.7s\n"
     ]
    },
    {
     "data": {
      "text/html": [
       "<style>#sk-container-id-3 {color: black;background-color: white;}#sk-container-id-3 pre{padding: 0;}#sk-container-id-3 div.sk-toggleable {background-color: white;}#sk-container-id-3 label.sk-toggleable__label {cursor: pointer;display: block;width: 100%;margin-bottom: 0;padding: 0.3em;box-sizing: border-box;text-align: center;}#sk-container-id-3 label.sk-toggleable__label-arrow:before {content: \"▸\";float: left;margin-right: 0.25em;color: #696969;}#sk-container-id-3 label.sk-toggleable__label-arrow:hover:before {color: black;}#sk-container-id-3 div.sk-estimator:hover label.sk-toggleable__label-arrow:before {color: black;}#sk-container-id-3 div.sk-toggleable__content {max-height: 0;max-width: 0;overflow: hidden;text-align: left;background-color: #f0f8ff;}#sk-container-id-3 div.sk-toggleable__content pre {margin: 0.2em;color: black;border-radius: 0.25em;background-color: #f0f8ff;}#sk-container-id-3 input.sk-toggleable__control:checked~div.sk-toggleable__content {max-height: 200px;max-width: 100%;overflow: auto;}#sk-container-id-3 input.sk-toggleable__control:checked~label.sk-toggleable__label-arrow:before {content: \"▾\";}#sk-container-id-3 div.sk-estimator input.sk-toggleable__control:checked~label.sk-toggleable__label {background-color: #d4ebff;}#sk-container-id-3 div.sk-label input.sk-toggleable__control:checked~label.sk-toggleable__label {background-color: #d4ebff;}#sk-container-id-3 input.sk-hidden--visually {border: 0;clip: rect(1px 1px 1px 1px);clip: rect(1px, 1px, 1px, 1px);height: 1px;margin: -1px;overflow: hidden;padding: 0;position: absolute;width: 1px;}#sk-container-id-3 div.sk-estimator {font-family: monospace;background-color: #f0f8ff;border: 1px dotted black;border-radius: 0.25em;box-sizing: border-box;margin-bottom: 0.5em;}#sk-container-id-3 div.sk-estimator:hover {background-color: #d4ebff;}#sk-container-id-3 div.sk-parallel-item::after {content: \"\";width: 100%;border-bottom: 1px solid gray;flex-grow: 1;}#sk-container-id-3 div.sk-label:hover label.sk-toggleable__label {background-color: #d4ebff;}#sk-container-id-3 div.sk-serial::before {content: \"\";position: absolute;border-left: 1px solid gray;box-sizing: border-box;top: 0;bottom: 0;left: 50%;z-index: 0;}#sk-container-id-3 div.sk-serial {display: flex;flex-direction: column;align-items: center;background-color: white;padding-right: 0.2em;padding-left: 0.2em;position: relative;}#sk-container-id-3 div.sk-item {position: relative;z-index: 1;}#sk-container-id-3 div.sk-parallel {display: flex;align-items: stretch;justify-content: center;background-color: white;position: relative;}#sk-container-id-3 div.sk-item::before, #sk-container-id-3 div.sk-parallel-item::before {content: \"\";position: absolute;border-left: 1px solid gray;box-sizing: border-box;top: 0;bottom: 0;left: 50%;z-index: -1;}#sk-container-id-3 div.sk-parallel-item {display: flex;flex-direction: column;z-index: 1;position: relative;background-color: white;}#sk-container-id-3 div.sk-parallel-item:first-child::after {align-self: flex-end;width: 50%;}#sk-container-id-3 div.sk-parallel-item:last-child::after {align-self: flex-start;width: 50%;}#sk-container-id-3 div.sk-parallel-item:only-child::after {width: 0;}#sk-container-id-3 div.sk-dashed-wrapped {border: 1px dashed gray;margin: 0 0.4em 0.5em 0.4em;box-sizing: border-box;padding-bottom: 0.4em;background-color: white;}#sk-container-id-3 div.sk-label label {font-family: monospace;font-weight: bold;display: inline-block;line-height: 1.2em;}#sk-container-id-3 div.sk-label-container {text-align: center;}#sk-container-id-3 div.sk-container {/* jupyter's `normalize.less` sets `[hidden] { display: none; }` but bootstrap.min.css set `[hidden] { display: none !important; }` so we also need the `!important` here to be able to override the default hidden behavior on the sphinx rendered scikit-learn.org. See: https://github.com/scikit-learn/scikit-learn/issues/21755 */display: inline-block !important;position: relative;}#sk-container-id-3 div.sk-text-repr-fallback {display: none;}</style><div id=\"sk-container-id-3\" class=\"sk-top-container\"><div class=\"sk-text-repr-fallback\"><pre>GridSearchCV(cv=3,\n",
       "             estimator=LGBMClassifier(cat_smooth=35, metric=&#x27;binary_logloss&#x27;,\n",
       "                                      objective=&#x27;binary&#x27;),\n",
       "             param_grid={&#x27;learning_rate&#x27;: [0.01, 0.05, 0.09, 0.1],\n",
       "                         &#x27;num_leaves&#x27;: [31, 250, 300]},\n",
       "             scoring=&#x27;neg_log_loss&#x27;, verbose=35)</pre><b>In a Jupyter environment, please rerun this cell to show the HTML representation or trust the notebook. <br />On GitHub, the HTML representation is unable to render, please try loading this page with nbviewer.org.</b></div><div class=\"sk-container\" hidden><div class=\"sk-item sk-dashed-wrapped\"><div class=\"sk-label-container\"><div class=\"sk-label sk-toggleable\"><input class=\"sk-toggleable__control sk-hidden--visually\" id=\"sk-estimator-id-3\" type=\"checkbox\" ><label for=\"sk-estimator-id-3\" class=\"sk-toggleable__label sk-toggleable__label-arrow\">GridSearchCV</label><div class=\"sk-toggleable__content\"><pre>GridSearchCV(cv=3,\n",
       "             estimator=LGBMClassifier(cat_smooth=35, metric=&#x27;binary_logloss&#x27;,\n",
       "                                      objective=&#x27;binary&#x27;),\n",
       "             param_grid={&#x27;learning_rate&#x27;: [0.01, 0.05, 0.09, 0.1],\n",
       "                         &#x27;num_leaves&#x27;: [31, 250, 300]},\n",
       "             scoring=&#x27;neg_log_loss&#x27;, verbose=35)</pre></div></div></div><div class=\"sk-parallel\"><div class=\"sk-parallel-item\"><div class=\"sk-item\"><div class=\"sk-label-container\"><div class=\"sk-label sk-toggleable\"><input class=\"sk-toggleable__control sk-hidden--visually\" id=\"sk-estimator-id-4\" type=\"checkbox\" ><label for=\"sk-estimator-id-4\" class=\"sk-toggleable__label sk-toggleable__label-arrow\">estimator: LGBMClassifier</label><div class=\"sk-toggleable__content\"><pre>LGBMClassifier(cat_smooth=35, metric=&#x27;binary_logloss&#x27;, objective=&#x27;binary&#x27;)</pre></div></div></div><div class=\"sk-serial\"><div class=\"sk-item\"><div class=\"sk-estimator sk-toggleable\"><input class=\"sk-toggleable__control sk-hidden--visually\" id=\"sk-estimator-id-5\" type=\"checkbox\" ><label for=\"sk-estimator-id-5\" class=\"sk-toggleable__label sk-toggleable__label-arrow\">LGBMClassifier</label><div class=\"sk-toggleable__content\"><pre>LGBMClassifier(cat_smooth=35, metric=&#x27;binary_logloss&#x27;, objective=&#x27;binary&#x27;)</pre></div></div></div></div></div></div></div></div></div></div>"
      ],
      "text/plain": [
       "GridSearchCV(cv=3,\n",
       "             estimator=LGBMClassifier(cat_smooth=35, metric='binary_logloss',\n",
       "                                      objective='binary'),\n",
       "             param_grid={'learning_rate': [0.01, 0.05, 0.09, 0.1],\n",
       "                         'num_leaves': [31, 250, 300]},\n",
       "             scoring='neg_log_loss', verbose=35)"
      ]
     },
     "execution_count": 278,
     "metadata": {},
     "output_type": "execute_result"
    }
   ],
   "source": [
    "gs_lgb.fit(X_train, y_train)"
   ]
  },
  {
   "cell_type": "code",
   "execution_count": null,
   "metadata": {},
   "outputs": [
    {
     "name": "stdout",
     "output_type": "stream",
     "text": [
      "best parameter:{'learning_rate': 0.1, 'num_leaves': 300}\n",
      "best logloss:0.40284256869548624\n",
      "[0.42493007 0.4167635  0.4161361  0.41145756 0.40401134 0.4036137\n",
      " 0.40933394 0.40322167 0.40294127 0.40888987 0.40307371 0.40284257]\n",
      "[{'learning_rate': 0.01, 'num_leaves': 31}, {'learning_rate': 0.01, 'num_leaves': 250}, {'learning_rate': 0.01, 'num_leaves': 300}, {'learning_rate': 0.05, 'num_leaves': 31}, {'learning_rate': 0.05, 'num_leaves': 250}, {'learning_rate': 0.05, 'num_leaves': 300}, {'learning_rate': 0.09, 'num_leaves': 31}, {'learning_rate': 0.09, 'num_leaves': 250}, {'learning_rate': 0.09, 'num_leaves': 300}, {'learning_rate': 0.1, 'num_leaves': 31}, {'learning_rate': 0.1, 'num_leaves': 250}, {'learning_rate': 0.1, 'num_leaves': 300}]\n"
     ]
    }
   ],
   "source": [
    "print('best parameter:{0}'.format(gs_lgb.best_params_))\n",
    "print('best logloss:{0}'.format(-gs_lgb.best_score_))\n",
    "print(-gs_lgb.cv_results_['mean_test_score'])\n",
    "print(gs_lgb.cv_results_['params'])"
   ]
  },
  {
   "cell_type": "code",
   "execution_count": null,
   "metadata": {},
   "outputs": [],
   "source": [
    "lgb = LGBMClassifier(learning_rate=0.1,num_leaves = 300,random_state=42, metric = 'binary_logloss',cat_smooth= 35).\\\n",
    "    fit(X_train, y_train,eval_metric='logloss')"
   ]
  },
  {
   "cell_type": "code",
   "execution_count": null,
   "metadata": {},
   "outputs": [],
   "source": [
    "y_pred_lgb=lgb.predict_proba(X_val)[:, 1]"
   ]
  },
  {
   "cell_type": "code",
   "execution_count": null,
   "metadata": {},
   "outputs": [
    {
     "data": {
      "text/plain": [
       "0.40189174104048725"
      ]
     },
     "execution_count": 289,
     "metadata": {},
     "output_type": "execute_result"
    }
   ],
   "source": [
    "log_loss(y_val, y_pred_lgb)"
   ]
  },
  {
   "cell_type": "markdown",
   "metadata": {},
   "source": [
    "## CatBoost"
   ]
  },
  {
   "cell_type": "code",
   "execution_count": null,
   "metadata": {},
   "outputs": [],
   "source": [
    "from catboost import CatBoostClassifier, Pool"
   ]
  },
  {
   "cell_type": "code",
   "execution_count": null,
   "metadata": {},
   "outputs": [],
   "source": [
    "ctb = CatBoostClassifier(random_seed=42, n_jobs = -1)"
   ]
  },
  {
   "cell_type": "code",
   "execution_count": null,
   "metadata": {},
   "outputs": [
    {
     "name": "stderr",
     "output_type": "stream",
     "text": [
      "Custom logger is already specified. Specify more than one logger at same time is not thread safe."
     ]
    },
    {
     "name": "stdout",
     "output_type": "stream",
     "text": [
      "Learning rate set to 0.285912\n",
      "0:\tlearn: 0.5519195\ttotal: 307ms\tremaining: 5m 6s\n",
      "1:\tlearn: 0.4882444\ttotal: 543ms\tremaining: 4m 31s\n",
      "2:\tlearn: 0.4565754\ttotal: 783ms\tremaining: 4m 20s\n",
      "3:\tlearn: 0.4406521\ttotal: 1.05s\tremaining: 4m 22s\n",
      "4:\tlearn: 0.4320025\ttotal: 1.29s\tremaining: 4m 17s\n",
      "5:\tlearn: 0.4279447\ttotal: 1.5s\tremaining: 4m 8s\n",
      "6:\tlearn: 0.4256922\ttotal: 1.73s\tremaining: 4m 4s\n",
      "7:\tlearn: 0.4235959\ttotal: 2s\tremaining: 4m 7s\n",
      "8:\tlearn: 0.4219762\ttotal: 2.22s\tremaining: 4m 4s\n",
      "9:\tlearn: 0.4212122\ttotal: 2.47s\tremaining: 4m 4s\n",
      "10:\tlearn: 0.4204718\ttotal: 2.73s\tremaining: 4m 5s\n",
      "11:\tlearn: 0.4198307\ttotal: 2.98s\tremaining: 4m 5s\n",
      "12:\tlearn: 0.4191626\ttotal: 3.25s\tremaining: 4m 7s\n",
      "13:\tlearn: 0.4186675\ttotal: 3.54s\tremaining: 4m 8s\n",
      "14:\tlearn: 0.4183072\ttotal: 3.78s\tremaining: 4m 8s\n",
      "15:\tlearn: 0.4178105\ttotal: 4.08s\tremaining: 4m 10s\n",
      "16:\tlearn: 0.4174948\ttotal: 4.46s\tremaining: 4m 18s\n",
      "17:\tlearn: 0.4171688\ttotal: 4.77s\tremaining: 4m 20s\n",
      "18:\tlearn: 0.4169273\ttotal: 5.12s\tremaining: 4m 24s\n",
      "19:\tlearn: 0.4166759\ttotal: 5.46s\tremaining: 4m 27s\n",
      "20:\tlearn: 0.4162027\ttotal: 5.78s\tremaining: 4m 29s\n",
      "21:\tlearn: 0.4158585\ttotal: 6.04s\tremaining: 4m 28s\n",
      "22:\tlearn: 0.4154916\ttotal: 6.4s\tremaining: 4m 31s\n",
      "23:\tlearn: 0.4152367\ttotal: 6.68s\tremaining: 4m 31s\n",
      "24:\tlearn: 0.4150329\ttotal: 6.98s\tremaining: 4m 32s\n",
      "25:\tlearn: 0.4146594\ttotal: 7.29s\tremaining: 4m 33s\n",
      "26:\tlearn: 0.4142850\ttotal: 7.61s\tremaining: 4m 34s\n",
      "27:\tlearn: 0.4141749\ttotal: 7.88s\tremaining: 4m 33s\n",
      "28:\tlearn: 0.4140350\ttotal: 8.17s\tremaining: 4m 33s\n",
      "29:\tlearn: 0.4139105\ttotal: 8.42s\tremaining: 4m 32s\n",
      "30:\tlearn: 0.4138114\ttotal: 8.68s\tremaining: 4m 31s\n",
      "31:\tlearn: 0.4136931\ttotal: 9s\tremaining: 4m 32s\n",
      "32:\tlearn: 0.4134849\ttotal: 9.36s\tremaining: 4m 34s\n",
      "33:\tlearn: 0.4133178\ttotal: 9.8s\tremaining: 4m 38s\n",
      "34:\tlearn: 0.4130982\ttotal: 10.2s\tremaining: 4m 39s\n",
      "35:\tlearn: 0.4128922\ttotal: 10.5s\tremaining: 4m 40s\n",
      "36:\tlearn: 0.4126824\ttotal: 10.7s\tremaining: 4m 39s\n",
      "37:\tlearn: 0.4126108\ttotal: 10.9s\tremaining: 4m 37s\n",
      "38:\tlearn: 0.4124286\ttotal: 11.2s\tremaining: 4m 35s\n",
      "39:\tlearn: 0.4122684\ttotal: 11.4s\tremaining: 4m 33s\n",
      "40:\tlearn: 0.4121726\ttotal: 11.7s\tremaining: 4m 32s\n",
      "41:\tlearn: 0.4120603\ttotal: 11.9s\tremaining: 4m 31s\n",
      "42:\tlearn: 0.4119805\ttotal: 12.1s\tremaining: 4m 29s\n",
      "43:\tlearn: 0.4118943\ttotal: 12.3s\tremaining: 4m 28s\n",
      "44:\tlearn: 0.4117776\ttotal: 12.6s\tremaining: 4m 27s\n",
      "45:\tlearn: 0.4117101\ttotal: 12.8s\tremaining: 4m 25s\n",
      "46:\tlearn: 0.4116007\ttotal: 13s\tremaining: 4m 24s\n",
      "47:\tlearn: 0.4114747\ttotal: 13.3s\tremaining: 4m 23s\n",
      "48:\tlearn: 0.4113352\ttotal: 13.5s\tremaining: 4m 21s\n",
      "49:\tlearn: 0.4112244\ttotal: 13.9s\tremaining: 4m 23s\n",
      "50:\tlearn: 0.4111507\ttotal: 14.1s\tremaining: 4m 23s\n",
      "51:\tlearn: 0.4110914\ttotal: 14.4s\tremaining: 4m 22s\n",
      "52:\tlearn: 0.4110263\ttotal: 14.8s\tremaining: 4m 24s\n",
      "53:\tlearn: 0.4109229\ttotal: 15.2s\tremaining: 4m 25s\n",
      "54:\tlearn: 0.4108518\ttotal: 15.5s\tremaining: 4m 26s\n",
      "55:\tlearn: 0.4107470\ttotal: 15.7s\tremaining: 4m 25s\n",
      "56:\tlearn: 0.4106722\ttotal: 16s\tremaining: 4m 24s\n",
      "57:\tlearn: 0.4105996\ttotal: 16.2s\tremaining: 4m 23s\n",
      "58:\tlearn: 0.4105070\ttotal: 16.5s\tremaining: 4m 22s\n",
      "59:\tlearn: 0.4103980\ttotal: 16.7s\tremaining: 4m 22s\n",
      "60:\tlearn: 0.4102493\ttotal: 17s\tremaining: 4m 21s\n",
      "61:\tlearn: 0.4101842\ttotal: 17.2s\tremaining: 4m 20s\n",
      "62:\tlearn: 0.4101217\ttotal: 17.5s\tremaining: 4m 20s\n",
      "63:\tlearn: 0.4100712\ttotal: 17.7s\tremaining: 4m 19s\n",
      "64:\tlearn: 0.4100190\ttotal: 18s\tremaining: 4m 18s\n",
      "65:\tlearn: 0.4099180\ttotal: 18.2s\tremaining: 4m 18s\n",
      "66:\tlearn: 0.4098547\ttotal: 18.6s\tremaining: 4m 18s\n",
      "67:\tlearn: 0.4097672\ttotal: 18.8s\tremaining: 4m 17s\n",
      "68:\tlearn: 0.4096836\ttotal: 19.1s\tremaining: 4m 17s\n",
      "69:\tlearn: 0.4096342\ttotal: 19.5s\tremaining: 4m 18s\n",
      "70:\tlearn: 0.4095883\ttotal: 19.8s\tremaining: 4m 18s\n",
      "71:\tlearn: 0.4094490\ttotal: 20.1s\tremaining: 4m 19s\n",
      "72:\tlearn: 0.4093779\ttotal: 20.4s\tremaining: 4m 19s\n",
      "73:\tlearn: 0.4092769\ttotal: 20.7s\tremaining: 4m 18s\n",
      "74:\tlearn: 0.4092450\ttotal: 20.9s\tremaining: 4m 17s\n",
      "75:\tlearn: 0.4091968\ttotal: 21.2s\tremaining: 4m 17s\n",
      "76:\tlearn: 0.4091597\ttotal: 21.5s\tremaining: 4m 17s\n",
      "77:\tlearn: 0.4091052\ttotal: 21.7s\tremaining: 4m 16s\n",
      "78:\tlearn: 0.4090250\ttotal: 22s\tremaining: 4m 16s\n",
      "79:\tlearn: 0.4089616\ttotal: 22.2s\tremaining: 4m 15s\n",
      "80:\tlearn: 0.4089195\ttotal: 22.5s\tremaining: 4m 14s\n",
      "81:\tlearn: 0.4088374\ttotal: 22.8s\tremaining: 4m 14s\n",
      "82:\tlearn: 0.4087981\ttotal: 23s\tremaining: 4m 14s\n",
      "83:\tlearn: 0.4087451\ttotal: 23.3s\tremaining: 4m 13s\n",
      "84:\tlearn: 0.4087025\ttotal: 23.6s\tremaining: 4m 14s\n",
      "85:\tlearn: 0.4086548\ttotal: 23.9s\tremaining: 4m 14s\n",
      "86:\tlearn: 0.4086319\ttotal: 24.2s\tremaining: 4m 14s\n",
      "87:\tlearn: 0.4085701\ttotal: 24.5s\tremaining: 4m 14s\n",
      "88:\tlearn: 0.4085014\ttotal: 24.8s\tremaining: 4m 13s\n",
      "89:\tlearn: 0.4084569\ttotal: 25s\tremaining: 4m 13s\n",
      "90:\tlearn: 0.4084143\ttotal: 25.4s\tremaining: 4m 13s\n",
      "91:\tlearn: 0.4083736\ttotal: 25.7s\tremaining: 4m 13s\n",
      "92:\tlearn: 0.4083175\ttotal: 26s\tremaining: 4m 13s\n",
      "93:\tlearn: 0.4082465\ttotal: 26.3s\tremaining: 4m 13s\n",
      "94:\tlearn: 0.4081910\ttotal: 26.5s\tremaining: 4m 12s\n",
      "95:\tlearn: 0.4081591\ttotal: 26.8s\tremaining: 4m 12s\n",
      "96:\tlearn: 0.4081026\ttotal: 27.1s\tremaining: 4m 12s\n",
      "97:\tlearn: 0.4080610\ttotal: 27.3s\tremaining: 4m 11s\n",
      "98:\tlearn: 0.4080357\ttotal: 27.6s\tremaining: 4m 10s\n",
      "99:\tlearn: 0.4079994\ttotal: 27.8s\tremaining: 4m 10s\n",
      "100:\tlearn: 0.4079666\ttotal: 28s\tremaining: 4m 9s\n",
      "101:\tlearn: 0.4079137\ttotal: 28.3s\tremaining: 4m 8s\n",
      "102:\tlearn: 0.4078653\ttotal: 28.5s\tremaining: 4m 8s\n",
      "103:\tlearn: 0.4078343\ttotal: 28.8s\tremaining: 4m 7s\n",
      "104:\tlearn: 0.4077818\ttotal: 29s\tremaining: 4m 7s\n",
      "105:\tlearn: 0.4077399\ttotal: 29.3s\tremaining: 4m 6s\n",
      "106:\tlearn: 0.4076630\ttotal: 29.6s\tremaining: 4m 6s\n",
      "107:\tlearn: 0.4076413\ttotal: 29.9s\tremaining: 4m 6s\n",
      "108:\tlearn: 0.4076221\ttotal: 30.2s\tremaining: 4m 6s\n",
      "109:\tlearn: 0.4075870\ttotal: 30.4s\tremaining: 4m 6s\n",
      "110:\tlearn: 0.4075287\ttotal: 30.8s\tremaining: 4m 6s\n",
      "111:\tlearn: 0.4074955\ttotal: 31s\tremaining: 4m 6s\n",
      "112:\tlearn: 0.4074597\ttotal: 31.3s\tremaining: 4m 5s\n",
      "113:\tlearn: 0.4074262\ttotal: 31.7s\tremaining: 4m 6s\n",
      "114:\tlearn: 0.4073769\ttotal: 31.9s\tremaining: 4m 5s\n",
      "115:\tlearn: 0.4073291\ttotal: 32.2s\tremaining: 4m 5s\n",
      "116:\tlearn: 0.4073071\ttotal: 32.5s\tremaining: 4m 5s\n",
      "117:\tlearn: 0.4072728\ttotal: 32.8s\tremaining: 4m 4s\n",
      "118:\tlearn: 0.4072174\ttotal: 33s\tremaining: 4m 4s\n",
      "119:\tlearn: 0.4071608\ttotal: 33.3s\tremaining: 4m 4s\n",
      "120:\tlearn: 0.4071073\ttotal: 33.6s\tremaining: 4m 4s\n",
      "121:\tlearn: 0.4070714\ttotal: 34s\tremaining: 4m 4s\n",
      "122:\tlearn: 0.4070346\ttotal: 34.3s\tremaining: 4m 4s\n",
      "123:\tlearn: 0.4070053\ttotal: 34.6s\tremaining: 4m 4s\n",
      "124:\tlearn: 0.4069550\ttotal: 34.8s\tremaining: 4m 3s\n",
      "125:\tlearn: 0.4069201\ttotal: 35.1s\tremaining: 4m 3s\n",
      "126:\tlearn: 0.4068977\ttotal: 35.4s\tremaining: 4m 3s\n",
      "127:\tlearn: 0.4068514\ttotal: 35.7s\tremaining: 4m 3s\n",
      "128:\tlearn: 0.4068152\ttotal: 35.9s\tremaining: 4m 2s\n",
      "129:\tlearn: 0.4067881\ttotal: 36.2s\tremaining: 4m 2s\n",
      "130:\tlearn: 0.4067673\ttotal: 36.4s\tremaining: 4m 1s\n",
      "131:\tlearn: 0.4067296\ttotal: 36.6s\tremaining: 4m 1s\n",
      "132:\tlearn: 0.4066973\ttotal: 36.9s\tremaining: 4m\n",
      "133:\tlearn: 0.4066753\ttotal: 37.3s\tremaining: 4m\n",
      "134:\tlearn: 0.4066352\ttotal: 37.5s\tremaining: 4m\n",
      "135:\tlearn: 0.4066202\ttotal: 37.7s\tremaining: 3m 59s\n",
      "136:\tlearn: 0.4066098\ttotal: 38s\tremaining: 3m 59s\n",
      "137:\tlearn: 0.4065877\ttotal: 38.2s\tremaining: 3m 58s\n",
      "138:\tlearn: 0.4065639\ttotal: 38.5s\tremaining: 3m 58s\n",
      "139:\tlearn: 0.4065352\ttotal: 38.7s\tremaining: 3m 57s\n",
      "140:\tlearn: 0.4064876\ttotal: 39s\tremaining: 3m 57s\n",
      "141:\tlearn: 0.4064700\ttotal: 39.2s\tremaining: 3m 56s\n",
      "142:\tlearn: 0.4064523\ttotal: 39.5s\tremaining: 3m 56s\n",
      "143:\tlearn: 0.4064085\ttotal: 39.7s\tremaining: 3m 56s\n",
      "144:\tlearn: 0.4063804\ttotal: 40s\tremaining: 3m 55s\n",
      "145:\tlearn: 0.4063551\ttotal: 40.3s\tremaining: 3m 55s\n",
      "146:\tlearn: 0.4063219\ttotal: 40.6s\tremaining: 3m 55s\n",
      "147:\tlearn: 0.4062928\ttotal: 40.8s\tremaining: 3m 55s\n",
      "148:\tlearn: 0.4062761\ttotal: 41.2s\tremaining: 3m 55s\n",
      "149:\tlearn: 0.4062514\ttotal: 41.6s\tremaining: 3m 55s\n",
      "150:\tlearn: 0.4062276\ttotal: 41.9s\tremaining: 3m 55s\n",
      "151:\tlearn: 0.4061902\ttotal: 42.2s\tremaining: 3m 55s\n",
      "152:\tlearn: 0.4061430\ttotal: 42.5s\tremaining: 3m 55s\n",
      "153:\tlearn: 0.4060997\ttotal: 42.7s\tremaining: 3m 54s\n",
      "154:\tlearn: 0.4060797\ttotal: 43.1s\tremaining: 3m 54s\n",
      "155:\tlearn: 0.4060551\ttotal: 43.3s\tremaining: 3m 54s\n",
      "156:\tlearn: 0.4060355\ttotal: 43.6s\tremaining: 3m 54s\n",
      "157:\tlearn: 0.4059922\ttotal: 43.9s\tremaining: 3m 53s\n",
      "158:\tlearn: 0.4059759\ttotal: 44.1s\tremaining: 3m 53s\n",
      "159:\tlearn: 0.4059504\ttotal: 44.4s\tremaining: 3m 53s\n",
      "160:\tlearn: 0.4059154\ttotal: 44.7s\tremaining: 3m 52s\n",
      "161:\tlearn: 0.4058944\ttotal: 44.9s\tremaining: 3m 52s\n",
      "162:\tlearn: 0.4058757\ttotal: 45.2s\tremaining: 3m 52s\n",
      "163:\tlearn: 0.4058576\ttotal: 45.5s\tremaining: 3m 52s\n",
      "164:\tlearn: 0.4058220\ttotal: 45.9s\tremaining: 3m 52s\n",
      "165:\tlearn: 0.4057960\ttotal: 46.1s\tremaining: 3m 51s\n",
      "166:\tlearn: 0.4057756\ttotal: 46.4s\tremaining: 3m 51s\n",
      "167:\tlearn: 0.4057501\ttotal: 46.7s\tremaining: 3m 51s\n",
      "168:\tlearn: 0.4057168\ttotal: 47.1s\tremaining: 3m 51s\n",
      "169:\tlearn: 0.4056987\ttotal: 47.4s\tremaining: 3m 51s\n",
      "170:\tlearn: 0.4056708\ttotal: 47.7s\tremaining: 3m 51s\n",
      "171:\tlearn: 0.4056271\ttotal: 48s\tremaining: 3m 50s\n",
      "172:\tlearn: 0.4055831\ttotal: 48.4s\tremaining: 3m 51s\n",
      "173:\tlearn: 0.4055699\ttotal: 48.7s\tremaining: 3m 51s\n",
      "174:\tlearn: 0.4055499\ttotal: 49.2s\tremaining: 3m 51s\n",
      "175:\tlearn: 0.4055226\ttotal: 49.6s\tremaining: 3m 52s\n",
      "176:\tlearn: 0.4054965\ttotal: 50.1s\tremaining: 3m 52s\n",
      "177:\tlearn: 0.4054797\ttotal: 50.7s\tremaining: 3m 54s\n",
      "178:\tlearn: 0.4054389\ttotal: 51.1s\tremaining: 3m 54s\n",
      "179:\tlearn: 0.4054255\ttotal: 51.4s\tremaining: 3m 53s\n",
      "180:\tlearn: 0.4054024\ttotal: 51.7s\tremaining: 3m 53s\n",
      "181:\tlearn: 0.4053789\ttotal: 52s\tremaining: 3m 53s\n",
      "182:\tlearn: 0.4053621\ttotal: 52.4s\tremaining: 3m 53s\n",
      "183:\tlearn: 0.4053481\ttotal: 52.9s\tremaining: 3m 54s\n",
      "184:\tlearn: 0.4053326\ttotal: 53.3s\tremaining: 3m 54s\n",
      "185:\tlearn: 0.4053190\ttotal: 53.7s\tremaining: 3m 55s\n",
      "186:\tlearn: 0.4052926\ttotal: 54.4s\tremaining: 3m 56s\n",
      "187:\tlearn: 0.4052717\ttotal: 55.3s\tremaining: 3m 58s\n",
      "188:\tlearn: 0.4052613\ttotal: 55.8s\tremaining: 3m 59s\n",
      "189:\tlearn: 0.4052438\ttotal: 56.4s\tremaining: 4m\n",
      "190:\tlearn: 0.4052320\ttotal: 56.7s\tremaining: 4m\n",
      "191:\tlearn: 0.4052083\ttotal: 57.1s\tremaining: 4m\n",
      "192:\tlearn: 0.4051895\ttotal: 57.5s\tremaining: 4m\n",
      "193:\tlearn: 0.4051754\ttotal: 58s\tremaining: 4m\n",
      "194:\tlearn: 0.4051567\ttotal: 58.4s\tremaining: 4m 1s\n",
      "195:\tlearn: 0.4051346\ttotal: 58.8s\tremaining: 4m 1s\n",
      "196:\tlearn: 0.4051169\ttotal: 59.1s\tremaining: 4m\n",
      "197:\tlearn: 0.4051006\ttotal: 59.5s\tremaining: 4m\n",
      "198:\tlearn: 0.4050920\ttotal: 59.8s\tremaining: 4m\n",
      "199:\tlearn: 0.4050782\ttotal: 1m\tremaining: 4m\n",
      "200:\tlearn: 0.4050536\ttotal: 1m\tremaining: 4m\n",
      "201:\tlearn: 0.4050348\ttotal: 1m\tremaining: 4m\n",
      "202:\tlearn: 0.4050061\ttotal: 1m 1s\tremaining: 3m 59s\n",
      "203:\tlearn: 0.4049934\ttotal: 1m 1s\tremaining: 3m 59s\n",
      "204:\tlearn: 0.4049639\ttotal: 1m 1s\tremaining: 3m 59s\n",
      "205:\tlearn: 0.4049517\ttotal: 1m 2s\tremaining: 4m\n",
      "206:\tlearn: 0.4049281\ttotal: 1m 2s\tremaining: 4m\n",
      "207:\tlearn: 0.4049073\ttotal: 1m 3s\tremaining: 4m\n",
      "208:\tlearn: 0.4048932\ttotal: 1m 3s\tremaining: 4m 1s\n",
      "209:\tlearn: 0.4048777\ttotal: 1m 4s\tremaining: 4m 1s\n",
      "210:\tlearn: 0.4048536\ttotal: 1m 4s\tremaining: 4m 1s\n",
      "211:\tlearn: 0.4048443\ttotal: 1m 5s\tremaining: 4m 1s\n",
      "212:\tlearn: 0.4048274\ttotal: 1m 5s\tremaining: 4m 2s\n",
      "213:\tlearn: 0.4048083\ttotal: 1m 5s\tremaining: 4m 2s\n",
      "214:\tlearn: 0.4047854\ttotal: 1m 6s\tremaining: 4m 2s\n",
      "215:\tlearn: 0.4047694\ttotal: 1m 7s\tremaining: 4m 4s\n",
      "216:\tlearn: 0.4047396\ttotal: 1m 7s\tremaining: 4m 4s\n",
      "217:\tlearn: 0.4047149\ttotal: 1m 8s\tremaining: 4m 4s\n",
      "218:\tlearn: 0.4047052\ttotal: 1m 8s\tremaining: 4m 5s\n",
      "219:\tlearn: 0.4046916\ttotal: 1m 9s\tremaining: 4m 5s\n",
      "220:\tlearn: 0.4046774\ttotal: 1m 9s\tremaining: 4m 5s\n",
      "221:\tlearn: 0.4046629\ttotal: 1m 10s\tremaining: 4m 6s\n",
      "222:\tlearn: 0.4046510\ttotal: 1m 10s\tremaining: 4m 6s\n",
      "223:\tlearn: 0.4046343\ttotal: 1m 11s\tremaining: 4m 6s\n",
      "224:\tlearn: 0.4046248\ttotal: 1m 11s\tremaining: 4m 6s\n",
      "225:\tlearn: 0.4046059\ttotal: 1m 11s\tremaining: 4m 6s\n",
      "226:\tlearn: 0.4045874\ttotal: 1m 12s\tremaining: 4m 6s\n",
      "227:\tlearn: 0.4045723\ttotal: 1m 12s\tremaining: 4m 7s\n",
      "228:\tlearn: 0.4045204\ttotal: 1m 13s\tremaining: 4m 6s\n",
      "229:\tlearn: 0.4044913\ttotal: 1m 13s\tremaining: 4m 6s\n",
      "230:\tlearn: 0.4044663\ttotal: 1m 13s\tremaining: 4m 5s\n",
      "231:\tlearn: 0.4044458\ttotal: 1m 14s\tremaining: 4m 5s\n",
      "232:\tlearn: 0.4044358\ttotal: 1m 14s\tremaining: 4m 5s\n",
      "233:\tlearn: 0.4044163\ttotal: 1m 14s\tremaining: 4m 4s\n",
      "234:\tlearn: 0.4043829\ttotal: 1m 15s\tremaining: 4m 5s\n",
      "235:\tlearn: 0.4043510\ttotal: 1m 15s\tremaining: 4m 4s\n",
      "236:\tlearn: 0.4043092\ttotal: 1m 15s\tremaining: 4m 4s\n",
      "237:\tlearn: 0.4042941\ttotal: 1m 16s\tremaining: 4m 3s\n",
      "238:\tlearn: 0.4042834\ttotal: 1m 16s\tremaining: 4m 3s\n",
      "239:\tlearn: 0.4042645\ttotal: 1m 16s\tremaining: 4m 3s\n",
      "240:\tlearn: 0.4042482\ttotal: 1m 17s\tremaining: 4m 2s\n",
      "241:\tlearn: 0.4042381\ttotal: 1m 17s\tremaining: 4m 2s\n",
      "242:\tlearn: 0.4042158\ttotal: 1m 17s\tremaining: 4m 1s\n",
      "243:\tlearn: 0.4042056\ttotal: 1m 17s\tremaining: 4m 1s\n",
      "244:\tlearn: 0.4041911\ttotal: 1m 18s\tremaining: 4m 1s\n",
      "245:\tlearn: 0.4041775\ttotal: 1m 18s\tremaining: 4m 1s\n",
      "246:\tlearn: 0.4041581\ttotal: 1m 19s\tremaining: 4m 1s\n",
      "247:\tlearn: 0.4041442\ttotal: 1m 19s\tremaining: 4m 1s\n",
      "248:\tlearn: 0.4041249\ttotal: 1m 19s\tremaining: 4m\n",
      "249:\tlearn: 0.4041017\ttotal: 1m 20s\tremaining: 4m\n",
      "250:\tlearn: 0.4040727\ttotal: 1m 20s\tremaining: 4m\n",
      "251:\tlearn: 0.4040625\ttotal: 1m 21s\tremaining: 4m\n",
      "252:\tlearn: 0.4040549\ttotal: 1m 21s\tremaining: 4m\n",
      "253:\tlearn: 0.4040451\ttotal: 1m 21s\tremaining: 3m 59s\n",
      "254:\tlearn: 0.4040315\ttotal: 1m 21s\tremaining: 3m 59s\n",
      "255:\tlearn: 0.4040108\ttotal: 1m 22s\tremaining: 3m 59s\n",
      "256:\tlearn: 0.4039982\ttotal: 1m 22s\tremaining: 3m 58s\n",
      "257:\tlearn: 0.4039847\ttotal: 1m 22s\tremaining: 3m 58s\n",
      "258:\tlearn: 0.4039643\ttotal: 1m 23s\tremaining: 3m 57s\n",
      "259:\tlearn: 0.4039387\ttotal: 1m 23s\tremaining: 3m 56s\n",
      "260:\tlearn: 0.4039274\ttotal: 1m 23s\tremaining: 3m 56s\n",
      "261:\tlearn: 0.4039164\ttotal: 1m 23s\tremaining: 3m 55s\n",
      "262:\tlearn: 0.4039020\ttotal: 1m 23s\tremaining: 3m 55s\n",
      "263:\tlearn: 0.4038764\ttotal: 1m 24s\tremaining: 3m 54s\n",
      "264:\tlearn: 0.4038626\ttotal: 1m 24s\tremaining: 3m 54s\n",
      "265:\tlearn: 0.4038490\ttotal: 1m 24s\tremaining: 3m 53s\n",
      "266:\tlearn: 0.4038361\ttotal: 1m 24s\tremaining: 3m 53s\n",
      "267:\tlearn: 0.4038185\ttotal: 1m 25s\tremaining: 3m 52s\n",
      "268:\tlearn: 0.4038058\ttotal: 1m 25s\tremaining: 3m 52s\n",
      "269:\tlearn: 0.4037680\ttotal: 1m 25s\tremaining: 3m 51s\n",
      "270:\tlearn: 0.4037569\ttotal: 1m 25s\tremaining: 3m 51s\n",
      "271:\tlearn: 0.4037479\ttotal: 1m 26s\tremaining: 3m 50s\n",
      "272:\tlearn: 0.4037353\ttotal: 1m 26s\tremaining: 3m 49s\n",
      "273:\tlearn: 0.4037221\ttotal: 1m 26s\tremaining: 3m 49s\n",
      "274:\tlearn: 0.4037092\ttotal: 1m 26s\tremaining: 3m 48s\n",
      "275:\tlearn: 0.4037024\ttotal: 1m 26s\tremaining: 3m 48s\n",
      "276:\tlearn: 0.4036852\ttotal: 1m 27s\tremaining: 3m 47s\n",
      "277:\tlearn: 0.4036631\ttotal: 1m 27s\tremaining: 3m 47s\n",
      "278:\tlearn: 0.4036517\ttotal: 1m 27s\tremaining: 3m 46s\n",
      "279:\tlearn: 0.4036317\ttotal: 1m 27s\tremaining: 3m 46s\n",
      "280:\tlearn: 0.4036189\ttotal: 1m 28s\tremaining: 3m 45s\n",
      "281:\tlearn: 0.4036063\ttotal: 1m 28s\tremaining: 3m 44s\n",
      "282:\tlearn: 0.4035970\ttotal: 1m 28s\tremaining: 3m 44s\n",
      "283:\tlearn: 0.4035756\ttotal: 1m 28s\tremaining: 3m 43s\n",
      "284:\tlearn: 0.4035641\ttotal: 1m 29s\tremaining: 3m 43s\n",
      "285:\tlearn: 0.4035529\ttotal: 1m 29s\tremaining: 3m 43s\n",
      "286:\tlearn: 0.4035423\ttotal: 1m 29s\tremaining: 3m 42s\n",
      "287:\tlearn: 0.4035291\ttotal: 1m 29s\tremaining: 3m 42s\n",
      "288:\tlearn: 0.4035196\ttotal: 1m 30s\tremaining: 3m 41s\n",
      "289:\tlearn: 0.4035081\ttotal: 1m 30s\tremaining: 3m 41s\n",
      "290:\tlearn: 0.4035027\ttotal: 1m 30s\tremaining: 3m 40s\n",
      "291:\tlearn: 0.4034889\ttotal: 1m 30s\tremaining: 3m 40s\n",
      "292:\tlearn: 0.4034766\ttotal: 1m 31s\tremaining: 3m 39s\n",
      "293:\tlearn: 0.4034640\ttotal: 1m 31s\tremaining: 3m 39s\n",
      "294:\tlearn: 0.4034540\ttotal: 1m 31s\tremaining: 3m 38s\n",
      "295:\tlearn: 0.4034370\ttotal: 1m 31s\tremaining: 3m 38s\n",
      "296:\tlearn: 0.4034305\ttotal: 1m 31s\tremaining: 3m 37s\n",
      "297:\tlearn: 0.4034213\ttotal: 1m 32s\tremaining: 3m 37s\n",
      "298:\tlearn: 0.4034072\ttotal: 1m 32s\tremaining: 3m 36s\n",
      "299:\tlearn: 0.4033888\ttotal: 1m 32s\tremaining: 3m 36s\n",
      "300:\tlearn: 0.4033784\ttotal: 1m 33s\tremaining: 3m 36s\n",
      "301:\tlearn: 0.4033678\ttotal: 1m 33s\tremaining: 3m 36s\n",
      "302:\tlearn: 0.4033504\ttotal: 1m 34s\tremaining: 3m 36s\n",
      "303:\tlearn: 0.4033389\ttotal: 1m 34s\tremaining: 3m 36s\n",
      "304:\tlearn: 0.4033306\ttotal: 1m 34s\tremaining: 3m 36s\n",
      "305:\tlearn: 0.4033110\ttotal: 1m 35s\tremaining: 3m 36s\n",
      "306:\tlearn: 0.4033019\ttotal: 1m 35s\tremaining: 3m 35s\n",
      "307:\tlearn: 0.4032871\ttotal: 1m 35s\tremaining: 3m 35s\n",
      "308:\tlearn: 0.4032737\ttotal: 1m 36s\tremaining: 3m 35s\n",
      "309:\tlearn: 0.4032499\ttotal: 1m 36s\tremaining: 3m 34s\n",
      "310:\tlearn: 0.4032377\ttotal: 1m 36s\tremaining: 3m 34s\n",
      "311:\tlearn: 0.4032309\ttotal: 1m 37s\tremaining: 3m 33s\n",
      "312:\tlearn: 0.4032243\ttotal: 1m 37s\tremaining: 3m 33s\n",
      "313:\tlearn: 0.4032115\ttotal: 1m 37s\tremaining: 3m 32s\n",
      "314:\tlearn: 0.4032057\ttotal: 1m 37s\tremaining: 3m 32s\n",
      "315:\tlearn: 0.4031922\ttotal: 1m 38s\tremaining: 3m 32s\n",
      "316:\tlearn: 0.4031803\ttotal: 1m 38s\tremaining: 3m 31s\n",
      "317:\tlearn: 0.4031687\ttotal: 1m 38s\tremaining: 3m 31s\n",
      "318:\tlearn: 0.4031603\ttotal: 1m 38s\tremaining: 3m 30s\n",
      "319:\tlearn: 0.4031524\ttotal: 1m 39s\tremaining: 3m 30s\n",
      "320:\tlearn: 0.4031389\ttotal: 1m 39s\tremaining: 3m 29s\n",
      "321:\tlearn: 0.4031332\ttotal: 1m 39s\tremaining: 3m 29s\n",
      "322:\tlearn: 0.4031177\ttotal: 1m 39s\tremaining: 3m 29s\n",
      "323:\tlearn: 0.4031051\ttotal: 1m 40s\tremaining: 3m 28s\n",
      "324:\tlearn: 0.4030964\ttotal: 1m 40s\tremaining: 3m 28s\n",
      "325:\tlearn: 0.4030850\ttotal: 1m 40s\tremaining: 3m 28s\n",
      "326:\tlearn: 0.4030715\ttotal: 1m 40s\tremaining: 3m 27s\n",
      "327:\tlearn: 0.4030621\ttotal: 1m 41s\tremaining: 3m 27s\n",
      "328:\tlearn: 0.4030502\ttotal: 1m 41s\tremaining: 3m 26s\n",
      "329:\tlearn: 0.4030424\ttotal: 1m 41s\tremaining: 3m 26s\n",
      "330:\tlearn: 0.4030232\ttotal: 1m 41s\tremaining: 3m 26s\n",
      "331:\tlearn: 0.4030150\ttotal: 1m 42s\tremaining: 3m 25s\n",
      "332:\tlearn: 0.4030028\ttotal: 1m 42s\tremaining: 3m 25s\n",
      "333:\tlearn: 0.4029918\ttotal: 1m 42s\tremaining: 3m 24s\n",
      "334:\tlearn: 0.4029652\ttotal: 1m 42s\tremaining: 3m 24s\n",
      "335:\tlearn: 0.4029462\ttotal: 1m 43s\tremaining: 3m 24s\n",
      "336:\tlearn: 0.4029356\ttotal: 1m 43s\tremaining: 3m 23s\n",
      "337:\tlearn: 0.4029215\ttotal: 1m 43s\tremaining: 3m 23s\n",
      "338:\tlearn: 0.4029111\ttotal: 1m 44s\tremaining: 3m 22s\n",
      "339:\tlearn: 0.4029062\ttotal: 1m 44s\tremaining: 3m 22s\n",
      "340:\tlearn: 0.4028969\ttotal: 1m 44s\tremaining: 3m 21s\n",
      "341:\tlearn: 0.4028834\ttotal: 1m 44s\tremaining: 3m 21s\n",
      "342:\tlearn: 0.4028682\ttotal: 1m 44s\tremaining: 3m 21s\n",
      "343:\tlearn: 0.4028623\ttotal: 1m 45s\tremaining: 3m 20s\n",
      "344:\tlearn: 0.4028516\ttotal: 1m 45s\tremaining: 3m 20s\n",
      "345:\tlearn: 0.4028275\ttotal: 1m 45s\tremaining: 3m 19s\n",
      "346:\tlearn: 0.4028012\ttotal: 1m 45s\tremaining: 3m 19s\n",
      "347:\tlearn: 0.4027944\ttotal: 1m 46s\tremaining: 3m 18s\n",
      "348:\tlearn: 0.4027876\ttotal: 1m 46s\tremaining: 3m 18s\n",
      "349:\tlearn: 0.4027802\ttotal: 1m 46s\tremaining: 3m 17s\n",
      "350:\tlearn: 0.4027678\ttotal: 1m 46s\tremaining: 3m 17s\n",
      "351:\tlearn: 0.4027593\ttotal: 1m 47s\tremaining: 3m 17s\n",
      "352:\tlearn: 0.4027504\ttotal: 1m 47s\tremaining: 3m 16s\n",
      "353:\tlearn: 0.4027369\ttotal: 1m 47s\tremaining: 3m 16s\n",
      "354:\tlearn: 0.4027185\ttotal: 1m 47s\tremaining: 3m 15s\n",
      "355:\tlearn: 0.4027118\ttotal: 1m 48s\tremaining: 3m 15s\n",
      "356:\tlearn: 0.4026996\ttotal: 1m 48s\tremaining: 3m 15s\n",
      "357:\tlearn: 0.4026912\ttotal: 1m 48s\tremaining: 3m 14s\n",
      "358:\tlearn: 0.4026767\ttotal: 1m 48s\tremaining: 3m 14s\n",
      "359:\tlearn: 0.4026658\ttotal: 1m 49s\tremaining: 3m 13s\n",
      "360:\tlearn: 0.4026502\ttotal: 1m 49s\tremaining: 3m 13s\n",
      "361:\tlearn: 0.4026349\ttotal: 1m 49s\tremaining: 3m 13s\n",
      "362:\tlearn: 0.4026295\ttotal: 1m 49s\tremaining: 3m 12s\n",
      "363:\tlearn: 0.4026090\ttotal: 1m 50s\tremaining: 3m 12s\n",
      "364:\tlearn: 0.4025939\ttotal: 1m 50s\tremaining: 3m 12s\n",
      "365:\tlearn: 0.4025742\ttotal: 1m 50s\tremaining: 3m 11s\n",
      "366:\tlearn: 0.4025652\ttotal: 1m 50s\tremaining: 3m 11s\n",
      "367:\tlearn: 0.4025532\ttotal: 1m 51s\tremaining: 3m 10s\n",
      "368:\tlearn: 0.4025421\ttotal: 1m 51s\tremaining: 3m 10s\n",
      "369:\tlearn: 0.4025282\ttotal: 1m 51s\tremaining: 3m 9s\n",
      "370:\tlearn: 0.4025155\ttotal: 1m 51s\tremaining: 3m 9s\n",
      "371:\tlearn: 0.4025050\ttotal: 1m 52s\tremaining: 3m 9s\n",
      "372:\tlearn: 0.4024970\ttotal: 1m 52s\tremaining: 3m 8s\n",
      "373:\tlearn: 0.4024897\ttotal: 1m 52s\tremaining: 3m 8s\n",
      "374:\tlearn: 0.4024740\ttotal: 1m 52s\tremaining: 3m 7s\n",
      "375:\tlearn: 0.4024694\ttotal: 1m 52s\tremaining: 3m 7s\n",
      "376:\tlearn: 0.4024611\ttotal: 1m 53s\tremaining: 3m 7s\n",
      "377:\tlearn: 0.4024496\ttotal: 1m 53s\tremaining: 3m 6s\n",
      "378:\tlearn: 0.4024360\ttotal: 1m 53s\tremaining: 3m 6s\n",
      "379:\tlearn: 0.4024270\ttotal: 1m 53s\tremaining: 3m 5s\n",
      "380:\tlearn: 0.4024165\ttotal: 1m 54s\tremaining: 3m 5s\n",
      "381:\tlearn: 0.4024043\ttotal: 1m 54s\tremaining: 3m 4s\n",
      "382:\tlearn: 0.4023980\ttotal: 1m 54s\tremaining: 3m 4s\n",
      "383:\tlearn: 0.4023787\ttotal: 1m 54s\tremaining: 3m 4s\n",
      "384:\tlearn: 0.4023661\ttotal: 1m 55s\tremaining: 3m 3s\n",
      "385:\tlearn: 0.4023603\ttotal: 1m 55s\tremaining: 3m 3s\n",
      "386:\tlearn: 0.4023501\ttotal: 1m 55s\tremaining: 3m 3s\n",
      "387:\tlearn: 0.4023446\ttotal: 1m 56s\tremaining: 3m 3s\n",
      "388:\tlearn: 0.4023374\ttotal: 1m 56s\tremaining: 3m 2s\n",
      "389:\tlearn: 0.4023315\ttotal: 1m 56s\tremaining: 3m 2s\n",
      "390:\tlearn: 0.4023095\ttotal: 1m 56s\tremaining: 3m 2s\n",
      "391:\tlearn: 0.4022956\ttotal: 1m 57s\tremaining: 3m 1s\n",
      "392:\tlearn: 0.4022882\ttotal: 1m 57s\tremaining: 3m 1s\n",
      "393:\tlearn: 0.4022734\ttotal: 1m 57s\tremaining: 3m 1s\n",
      "394:\tlearn: 0.4022639\ttotal: 1m 58s\tremaining: 3m\n",
      "395:\tlearn: 0.4022559\ttotal: 1m 58s\tremaining: 3m\n",
      "396:\tlearn: 0.4022467\ttotal: 1m 58s\tremaining: 3m\n",
      "397:\tlearn: 0.4022352\ttotal: 1m 59s\tremaining: 3m\n",
      "398:\tlearn: 0.4022264\ttotal: 1m 59s\tremaining: 2m 59s\n",
      "399:\tlearn: 0.4022094\ttotal: 1m 59s\tremaining: 2m 59s\n",
      "400:\tlearn: 0.4022009\ttotal: 2m\tremaining: 2m 59s\n",
      "401:\tlearn: 0.4021905\ttotal: 2m\tremaining: 2m 59s\n",
      "402:\tlearn: 0.4021838\ttotal: 2m\tremaining: 2m 58s\n",
      "403:\tlearn: 0.4021724\ttotal: 2m\tremaining: 2m 58s\n",
      "404:\tlearn: 0.4021651\ttotal: 2m 1s\tremaining: 2m 57s\n",
      "405:\tlearn: 0.4021574\ttotal: 2m 1s\tremaining: 2m 57s\n",
      "406:\tlearn: 0.4021450\ttotal: 2m 1s\tremaining: 2m 57s\n",
      "407:\tlearn: 0.4021325\ttotal: 2m 1s\tremaining: 2m 56s\n",
      "408:\tlearn: 0.4021237\ttotal: 2m 2s\tremaining: 2m 56s\n",
      "409:\tlearn: 0.4021168\ttotal: 2m 2s\tremaining: 2m 55s\n",
      "410:\tlearn: 0.4021086\ttotal: 2m 2s\tremaining: 2m 55s\n",
      "411:\tlearn: 0.4020994\ttotal: 2m 2s\tremaining: 2m 55s\n",
      "412:\tlearn: 0.4020926\ttotal: 2m 3s\tremaining: 2m 54s\n",
      "413:\tlearn: 0.4020801\ttotal: 2m 3s\tremaining: 2m 54s\n",
      "414:\tlearn: 0.4020723\ttotal: 2m 3s\tremaining: 2m 54s\n",
      "415:\tlearn: 0.4020618\ttotal: 2m 3s\tremaining: 2m 53s\n",
      "416:\tlearn: 0.4020475\ttotal: 2m 3s\tremaining: 2m 53s\n",
      "417:\tlearn: 0.4020408\ttotal: 2m 4s\tremaining: 2m 52s\n",
      "418:\tlearn: 0.4020346\ttotal: 2m 4s\tremaining: 2m 52s\n",
      "419:\tlearn: 0.4020128\ttotal: 2m 4s\tremaining: 2m 52s\n",
      "420:\tlearn: 0.4020070\ttotal: 2m 4s\tremaining: 2m 51s\n",
      "421:\tlearn: 0.4019950\ttotal: 2m 5s\tremaining: 2m 51s\n",
      "422:\tlearn: 0.4019838\ttotal: 2m 5s\tremaining: 2m 51s\n",
      "423:\tlearn: 0.4019738\ttotal: 2m 5s\tremaining: 2m 50s\n",
      "424:\tlearn: 0.4019590\ttotal: 2m 5s\tremaining: 2m 50s\n",
      "425:\tlearn: 0.4019482\ttotal: 2m 6s\tremaining: 2m 49s\n",
      "426:\tlearn: 0.4019308\ttotal: 2m 6s\tremaining: 2m 49s\n",
      "427:\tlearn: 0.4019247\ttotal: 2m 6s\tremaining: 2m 49s\n",
      "428:\tlearn: 0.4019134\ttotal: 2m 6s\tremaining: 2m 48s\n",
      "429:\tlearn: 0.4019010\ttotal: 2m 7s\tremaining: 2m 48s\n",
      "430:\tlearn: 0.4018928\ttotal: 2m 7s\tremaining: 2m 48s\n",
      "431:\tlearn: 0.4018861\ttotal: 2m 7s\tremaining: 2m 47s\n",
      "432:\tlearn: 0.4018786\ttotal: 2m 7s\tremaining: 2m 47s\n",
      "433:\tlearn: 0.4018636\ttotal: 2m 8s\tremaining: 2m 47s\n",
      "434:\tlearn: 0.4018561\ttotal: 2m 8s\tremaining: 2m 46s\n",
      "435:\tlearn: 0.4018506\ttotal: 2m 8s\tremaining: 2m 46s\n",
      "436:\tlearn: 0.4018420\ttotal: 2m 8s\tremaining: 2m 45s\n",
      "437:\tlearn: 0.4018327\ttotal: 2m 9s\tremaining: 2m 45s\n",
      "438:\tlearn: 0.4018287\ttotal: 2m 9s\tremaining: 2m 45s\n",
      "439:\tlearn: 0.4018206\ttotal: 2m 9s\tremaining: 2m 45s\n",
      "440:\tlearn: 0.4018124\ttotal: 2m 9s\tremaining: 2m 44s\n",
      "441:\tlearn: 0.4018034\ttotal: 2m 10s\tremaining: 2m 44s\n",
      "442:\tlearn: 0.4017925\ttotal: 2m 10s\tremaining: 2m 44s\n",
      "443:\tlearn: 0.4017810\ttotal: 2m 10s\tremaining: 2m 43s\n",
      "444:\tlearn: 0.4017720\ttotal: 2m 11s\tremaining: 2m 43s\n",
      "445:\tlearn: 0.4017601\ttotal: 2m 11s\tremaining: 2m 43s\n",
      "446:\tlearn: 0.4017534\ttotal: 2m 11s\tremaining: 2m 42s\n",
      "447:\tlearn: 0.4017470\ttotal: 2m 12s\tremaining: 2m 42s\n",
      "448:\tlearn: 0.4017375\ttotal: 2m 12s\tremaining: 2m 42s\n",
      "449:\tlearn: 0.4017311\ttotal: 2m 12s\tremaining: 2m 41s\n",
      "450:\tlearn: 0.4017242\ttotal: 2m 12s\tremaining: 2m 41s\n",
      "451:\tlearn: 0.4017170\ttotal: 2m 13s\tremaining: 2m 41s\n",
      "452:\tlearn: 0.4017027\ttotal: 2m 13s\tremaining: 2m 40s\n",
      "453:\tlearn: 0.4016830\ttotal: 2m 13s\tremaining: 2m 40s\n",
      "454:\tlearn: 0.4016773\ttotal: 2m 13s\tremaining: 2m 40s\n",
      "455:\tlearn: 0.4016693\ttotal: 2m 13s\tremaining: 2m 39s\n",
      "456:\tlearn: 0.4016608\ttotal: 2m 14s\tremaining: 2m 39s\n",
      "457:\tlearn: 0.4016540\ttotal: 2m 14s\tremaining: 2m 39s\n",
      "458:\tlearn: 0.4016453\ttotal: 2m 14s\tremaining: 2m 38s\n",
      "459:\tlearn: 0.4016348\ttotal: 2m 14s\tremaining: 2m 38s\n",
      "460:\tlearn: 0.4016277\ttotal: 2m 15s\tremaining: 2m 38s\n",
      "461:\tlearn: 0.4016183\ttotal: 2m 15s\tremaining: 2m 37s\n",
      "462:\tlearn: 0.4016091\ttotal: 2m 15s\tremaining: 2m 37s\n",
      "463:\tlearn: 0.4016013\ttotal: 2m 15s\tremaining: 2m 37s\n",
      "464:\tlearn: 0.4015942\ttotal: 2m 16s\tremaining: 2m 36s\n",
      "465:\tlearn: 0.4015873\ttotal: 2m 16s\tremaining: 2m 36s\n",
      "466:\tlearn: 0.4015749\ttotal: 2m 16s\tremaining: 2m 35s\n",
      "467:\tlearn: 0.4015666\ttotal: 2m 16s\tremaining: 2m 35s\n",
      "468:\tlearn: 0.4015564\ttotal: 2m 17s\tremaining: 2m 35s\n",
      "469:\tlearn: 0.4015472\ttotal: 2m 17s\tremaining: 2m 34s\n",
      "470:\tlearn: 0.4015371\ttotal: 2m 17s\tremaining: 2m 34s\n",
      "471:\tlearn: 0.4015313\ttotal: 2m 17s\tremaining: 2m 34s\n",
      "472:\tlearn: 0.4015249\ttotal: 2m 18s\tremaining: 2m 33s\n",
      "473:\tlearn: 0.4015166\ttotal: 2m 18s\tremaining: 2m 33s\n",
      "474:\tlearn: 0.4015094\ttotal: 2m 18s\tremaining: 2m 33s\n",
      "475:\tlearn: 0.4015025\ttotal: 2m 18s\tremaining: 2m 32s\n",
      "476:\tlearn: 0.4014921\ttotal: 2m 19s\tremaining: 2m 32s\n",
      "477:\tlearn: 0.4014802\ttotal: 2m 19s\tremaining: 2m 32s\n",
      "478:\tlearn: 0.4014739\ttotal: 2m 19s\tremaining: 2m 31s\n",
      "479:\tlearn: 0.4014611\ttotal: 2m 20s\tremaining: 2m 31s\n",
      "480:\tlearn: 0.4014466\ttotal: 2m 20s\tremaining: 2m 31s\n",
      "481:\tlearn: 0.4014409\ttotal: 2m 20s\tremaining: 2m 30s\n",
      "482:\tlearn: 0.4014300\ttotal: 2m 20s\tremaining: 2m 30s\n",
      "483:\tlearn: 0.4014236\ttotal: 2m 21s\tremaining: 2m 30s\n",
      "484:\tlearn: 0.4014148\ttotal: 2m 21s\tremaining: 2m 30s\n",
      "485:\tlearn: 0.4014047\ttotal: 2m 21s\tremaining: 2m 29s\n",
      "486:\tlearn: 0.4013972\ttotal: 2m 21s\tremaining: 2m 29s\n",
      "487:\tlearn: 0.4013891\ttotal: 2m 22s\tremaining: 2m 29s\n",
      "488:\tlearn: 0.4013833\ttotal: 2m 22s\tremaining: 2m 28s\n",
      "489:\tlearn: 0.4013748\ttotal: 2m 22s\tremaining: 2m 28s\n",
      "490:\tlearn: 0.4013698\ttotal: 2m 22s\tremaining: 2m 28s\n",
      "491:\tlearn: 0.4013658\ttotal: 2m 23s\tremaining: 2m 27s\n",
      "492:\tlearn: 0.4013581\ttotal: 2m 23s\tremaining: 2m 27s\n",
      "493:\tlearn: 0.4013458\ttotal: 2m 23s\tremaining: 2m 27s\n",
      "494:\tlearn: 0.4013425\ttotal: 2m 23s\tremaining: 2m 26s\n",
      "495:\tlearn: 0.4013344\ttotal: 2m 24s\tremaining: 2m 26s\n",
      "496:\tlearn: 0.4013214\ttotal: 2m 24s\tremaining: 2m 26s\n",
      "497:\tlearn: 0.4013138\ttotal: 2m 24s\tremaining: 2m 25s\n",
      "498:\tlearn: 0.4012984\ttotal: 2m 24s\tremaining: 2m 25s\n",
      "499:\tlearn: 0.4012873\ttotal: 2m 25s\tremaining: 2m 25s\n",
      "500:\tlearn: 0.4012733\ttotal: 2m 25s\tremaining: 2m 24s\n",
      "501:\tlearn: 0.4012669\ttotal: 2m 25s\tremaining: 2m 24s\n",
      "502:\tlearn: 0.4012500\ttotal: 2m 25s\tremaining: 2m 24s\n",
      "503:\tlearn: 0.4012411\ttotal: 2m 26s\tremaining: 2m 23s\n",
      "504:\tlearn: 0.4012359\ttotal: 2m 26s\tremaining: 2m 23s\n",
      "505:\tlearn: 0.4012197\ttotal: 2m 26s\tremaining: 2m 23s\n",
      "506:\tlearn: 0.4012121\ttotal: 2m 26s\tremaining: 2m 22s\n",
      "507:\tlearn: 0.4012060\ttotal: 2m 26s\tremaining: 2m 22s\n",
      "508:\tlearn: 0.4011988\ttotal: 2m 27s\tremaining: 2m 21s\n",
      "509:\tlearn: 0.4011914\ttotal: 2m 27s\tremaining: 2m 21s\n",
      "510:\tlearn: 0.4011764\ttotal: 2m 27s\tremaining: 2m 21s\n",
      "511:\tlearn: 0.4011684\ttotal: 2m 27s\tremaining: 2m 21s\n",
      "512:\tlearn: 0.4011503\ttotal: 2m 28s\tremaining: 2m 20s\n",
      "513:\tlearn: 0.4011462\ttotal: 2m 28s\tremaining: 2m 20s\n",
      "514:\tlearn: 0.4011406\ttotal: 2m 28s\tremaining: 2m 20s\n",
      "515:\tlearn: 0.4011336\ttotal: 2m 28s\tremaining: 2m 19s\n",
      "516:\tlearn: 0.4011253\ttotal: 2m 29s\tremaining: 2m 19s\n",
      "517:\tlearn: 0.4011153\ttotal: 2m 29s\tremaining: 2m 19s\n",
      "518:\tlearn: 0.4011026\ttotal: 2m 29s\tremaining: 2m 18s\n",
      "519:\tlearn: 0.4010945\ttotal: 2m 29s\tremaining: 2m 18s\n",
      "520:\tlearn: 0.4010859\ttotal: 2m 30s\tremaining: 2m 18s\n",
      "521:\tlearn: 0.4010813\ttotal: 2m 30s\tremaining: 2m 17s\n",
      "522:\tlearn: 0.4010767\ttotal: 2m 30s\tremaining: 2m 17s\n",
      "523:\tlearn: 0.4010675\ttotal: 2m 30s\tremaining: 2m 17s\n",
      "524:\tlearn: 0.4010623\ttotal: 2m 31s\tremaining: 2m 16s\n",
      "525:\tlearn: 0.4010532\ttotal: 2m 31s\tremaining: 2m 16s\n",
      "526:\tlearn: 0.4010375\ttotal: 2m 31s\tremaining: 2m 16s\n",
      "527:\tlearn: 0.4010336\ttotal: 2m 31s\tremaining: 2m 15s\n",
      "528:\tlearn: 0.4010252\ttotal: 2m 32s\tremaining: 2m 15s\n",
      "529:\tlearn: 0.4010158\ttotal: 2m 32s\tremaining: 2m 15s\n",
      "530:\tlearn: 0.4010056\ttotal: 2m 32s\tremaining: 2m 14s\n",
      "531:\tlearn: 0.4009985\ttotal: 2m 32s\tremaining: 2m 14s\n",
      "532:\tlearn: 0.4009912\ttotal: 2m 32s\tremaining: 2m 14s\n",
      "533:\tlearn: 0.4009857\ttotal: 2m 33s\tremaining: 2m 13s\n",
      "534:\tlearn: 0.4009776\ttotal: 2m 33s\tremaining: 2m 13s\n",
      "535:\tlearn: 0.4009705\ttotal: 2m 33s\tremaining: 2m 12s\n",
      "536:\tlearn: 0.4009624\ttotal: 2m 33s\tremaining: 2m 12s\n",
      "537:\tlearn: 0.4009534\ttotal: 2m 34s\tremaining: 2m 12s\n",
      "538:\tlearn: 0.4009428\ttotal: 2m 34s\tremaining: 2m 11s\n",
      "539:\tlearn: 0.4009377\ttotal: 2m 34s\tremaining: 2m 11s\n",
      "540:\tlearn: 0.4009295\ttotal: 2m 34s\tremaining: 2m 11s\n",
      "541:\tlearn: 0.4009251\ttotal: 2m 35s\tremaining: 2m 11s\n",
      "542:\tlearn: 0.4009183\ttotal: 2m 35s\tremaining: 2m 10s\n",
      "543:\tlearn: 0.4009130\ttotal: 2m 35s\tremaining: 2m 10s\n",
      "544:\tlearn: 0.4009036\ttotal: 2m 36s\tremaining: 2m 10s\n",
      "545:\tlearn: 0.4008990\ttotal: 2m 36s\tremaining: 2m 10s\n",
      "546:\tlearn: 0.4008873\ttotal: 2m 36s\tremaining: 2m 9s\n",
      "547:\tlearn: 0.4008841\ttotal: 2m 36s\tremaining: 2m 9s\n",
      "548:\tlearn: 0.4008743\ttotal: 2m 37s\tremaining: 2m 9s\n",
      "549:\tlearn: 0.4008642\ttotal: 2m 37s\tremaining: 2m 8s\n",
      "550:\tlearn: 0.4008559\ttotal: 2m 37s\tremaining: 2m 8s\n",
      "551:\tlearn: 0.4008486\ttotal: 2m 37s\tremaining: 2m 8s\n",
      "552:\tlearn: 0.4008434\ttotal: 2m 38s\tremaining: 2m 7s\n",
      "553:\tlearn: 0.4008383\ttotal: 2m 38s\tremaining: 2m 7s\n",
      "554:\tlearn: 0.4008295\ttotal: 2m 38s\tremaining: 2m 7s\n",
      "555:\tlearn: 0.4008257\ttotal: 2m 38s\tremaining: 2m 6s\n",
      "556:\tlearn: 0.4008204\ttotal: 2m 39s\tremaining: 2m 6s\n",
      "557:\tlearn: 0.4008101\ttotal: 2m 39s\tremaining: 2m 6s\n",
      "558:\tlearn: 0.4007993\ttotal: 2m 39s\tremaining: 2m 5s\n",
      "559:\tlearn: 0.4007915\ttotal: 2m 39s\tremaining: 2m 5s\n",
      "560:\tlearn: 0.4007820\ttotal: 2m 40s\tremaining: 2m 5s\n",
      "561:\tlearn: 0.4007767\ttotal: 2m 40s\tremaining: 2m 4s\n",
      "562:\tlearn: 0.4007701\ttotal: 2m 40s\tremaining: 2m 4s\n",
      "563:\tlearn: 0.4007584\ttotal: 2m 40s\tremaining: 2m 4s\n",
      "564:\tlearn: 0.4007538\ttotal: 2m 41s\tremaining: 2m 3s\n",
      "565:\tlearn: 0.4007440\ttotal: 2m 41s\tremaining: 2m 3s\n",
      "566:\tlearn: 0.4007356\ttotal: 2m 41s\tremaining: 2m 3s\n",
      "567:\tlearn: 0.4007251\ttotal: 2m 41s\tremaining: 2m 3s\n",
      "568:\tlearn: 0.4007166\ttotal: 2m 41s\tremaining: 2m 2s\n",
      "569:\tlearn: 0.4007112\ttotal: 2m 42s\tremaining: 2m 2s\n",
      "570:\tlearn: 0.4007030\ttotal: 2m 42s\tremaining: 2m 2s\n",
      "571:\tlearn: 0.4006911\ttotal: 2m 42s\tremaining: 2m 1s\n",
      "572:\tlearn: 0.4006853\ttotal: 2m 43s\tremaining: 2m 1s\n",
      "573:\tlearn: 0.4006777\ttotal: 2m 43s\tremaining: 2m 1s\n",
      "574:\tlearn: 0.4006722\ttotal: 2m 43s\tremaining: 2m\n",
      "575:\tlearn: 0.4006660\ttotal: 2m 43s\tremaining: 2m\n",
      "576:\tlearn: 0.4006570\ttotal: 2m 43s\tremaining: 2m\n",
      "577:\tlearn: 0.4006522\ttotal: 2m 44s\tremaining: 1m 59s\n",
      "578:\tlearn: 0.4006456\ttotal: 2m 44s\tremaining: 1m 59s\n",
      "579:\tlearn: 0.4006381\ttotal: 2m 44s\tremaining: 1m 59s\n",
      "580:\tlearn: 0.4006291\ttotal: 2m 44s\tremaining: 1m 58s\n",
      "581:\tlearn: 0.4006244\ttotal: 2m 45s\tremaining: 1m 58s\n",
      "582:\tlearn: 0.4006191\ttotal: 2m 45s\tremaining: 1m 58s\n",
      "583:\tlearn: 0.4006123\ttotal: 2m 45s\tremaining: 1m 58s\n",
      "584:\tlearn: 0.4006064\ttotal: 2m 46s\tremaining: 1m 57s\n",
      "585:\tlearn: 0.4006003\ttotal: 2m 46s\tremaining: 1m 57s\n",
      "586:\tlearn: 0.4005895\ttotal: 2m 46s\tremaining: 1m 57s\n",
      "587:\tlearn: 0.4005849\ttotal: 2m 46s\tremaining: 1m 56s\n",
      "588:\tlearn: 0.4005764\ttotal: 2m 47s\tremaining: 1m 56s\n",
      "589:\tlearn: 0.4005678\ttotal: 2m 47s\tremaining: 1m 56s\n",
      "590:\tlearn: 0.4005645\ttotal: 2m 47s\tremaining: 1m 56s\n",
      "591:\tlearn: 0.4005552\ttotal: 2m 47s\tremaining: 1m 55s\n",
      "592:\tlearn: 0.4005450\ttotal: 2m 48s\tremaining: 1m 55s\n",
      "593:\tlearn: 0.4005342\ttotal: 2m 48s\tremaining: 1m 55s\n",
      "594:\tlearn: 0.4005264\ttotal: 2m 48s\tremaining: 1m 54s\n",
      "595:\tlearn: 0.4005200\ttotal: 2m 49s\tremaining: 1m 54s\n",
      "596:\tlearn: 0.4005115\ttotal: 2m 49s\tremaining: 1m 54s\n",
      "597:\tlearn: 0.4005054\ttotal: 2m 49s\tremaining: 1m 53s\n",
      "598:\tlearn: 0.4004979\ttotal: 2m 49s\tremaining: 1m 53s\n",
      "599:\tlearn: 0.4004931\ttotal: 2m 50s\tremaining: 1m 53s\n",
      "600:\tlearn: 0.4004852\ttotal: 2m 50s\tremaining: 1m 53s\n",
      "601:\tlearn: 0.4004733\ttotal: 2m 50s\tremaining: 1m 52s\n",
      "602:\tlearn: 0.4004644\ttotal: 2m 50s\tremaining: 1m 52s\n",
      "603:\tlearn: 0.4004588\ttotal: 2m 51s\tremaining: 1m 52s\n",
      "604:\tlearn: 0.4004533\ttotal: 2m 51s\tremaining: 1m 51s\n",
      "605:\tlearn: 0.4004405\ttotal: 2m 51s\tremaining: 1m 51s\n",
      "606:\tlearn: 0.4004291\ttotal: 2m 51s\tremaining: 1m 51s\n",
      "607:\tlearn: 0.4004211\ttotal: 2m 51s\tremaining: 1m 50s\n",
      "608:\tlearn: 0.4004120\ttotal: 2m 52s\tremaining: 1m 50s\n",
      "609:\tlearn: 0.4004063\ttotal: 2m 52s\tremaining: 1m 50s\n",
      "610:\tlearn: 0.4003975\ttotal: 2m 52s\tremaining: 1m 49s\n",
      "611:\tlearn: 0.4003890\ttotal: 2m 52s\tremaining: 1m 49s\n",
      "612:\tlearn: 0.4003834\ttotal: 2m 53s\tremaining: 1m 49s\n",
      "613:\tlearn: 0.4003750\ttotal: 2m 53s\tremaining: 1m 49s\n",
      "614:\tlearn: 0.4003677\ttotal: 2m 53s\tremaining: 1m 48s\n",
      "615:\tlearn: 0.4003523\ttotal: 2m 53s\tremaining: 1m 48s\n",
      "616:\tlearn: 0.4003388\ttotal: 2m 54s\tremaining: 1m 48s\n",
      "617:\tlearn: 0.4003336\ttotal: 2m 54s\tremaining: 1m 47s\n",
      "618:\tlearn: 0.4003257\ttotal: 2m 54s\tremaining: 1m 47s\n",
      "619:\tlearn: 0.4003230\ttotal: 2m 54s\tremaining: 1m 47s\n",
      "620:\tlearn: 0.4003146\ttotal: 2m 55s\tremaining: 1m 46s\n",
      "621:\tlearn: 0.4003079\ttotal: 2m 55s\tremaining: 1m 46s\n",
      "622:\tlearn: 0.4002972\ttotal: 2m 55s\tremaining: 1m 46s\n",
      "623:\tlearn: 0.4002913\ttotal: 2m 56s\tremaining: 1m 46s\n",
      "624:\tlearn: 0.4002833\ttotal: 2m 56s\tremaining: 1m 45s\n",
      "625:\tlearn: 0.4002794\ttotal: 2m 56s\tremaining: 1m 45s\n",
      "626:\tlearn: 0.4002736\ttotal: 2m 56s\tremaining: 1m 45s\n",
      "627:\tlearn: 0.4002683\ttotal: 2m 57s\tremaining: 1m 44s\n",
      "628:\tlearn: 0.4002629\ttotal: 2m 57s\tremaining: 1m 44s\n",
      "629:\tlearn: 0.4002595\ttotal: 2m 57s\tremaining: 1m 44s\n",
      "630:\tlearn: 0.4002490\ttotal: 2m 57s\tremaining: 1m 43s\n",
      "631:\tlearn: 0.4002293\ttotal: 2m 58s\tremaining: 1m 43s\n",
      "632:\tlearn: 0.4002235\ttotal: 2m 58s\tremaining: 1m 43s\n",
      "633:\tlearn: 0.4002133\ttotal: 2m 58s\tremaining: 1m 43s\n",
      "634:\tlearn: 0.4002048\ttotal: 2m 58s\tremaining: 1m 42s\n",
      "635:\tlearn: 0.4001973\ttotal: 2m 59s\tremaining: 1m 42s\n",
      "636:\tlearn: 0.4001923\ttotal: 2m 59s\tremaining: 1m 42s\n",
      "637:\tlearn: 0.4001836\ttotal: 2m 59s\tremaining: 1m 41s\n",
      "638:\tlearn: 0.4001769\ttotal: 2m 59s\tremaining: 1m 41s\n",
      "639:\tlearn: 0.4001712\ttotal: 3m\tremaining: 1m 41s\n",
      "640:\tlearn: 0.4001638\ttotal: 3m\tremaining: 1m 40s\n",
      "641:\tlearn: 0.4001573\ttotal: 3m\tremaining: 1m 40s\n",
      "642:\tlearn: 0.4001494\ttotal: 3m\tremaining: 1m 40s\n",
      "643:\tlearn: 0.4001405\ttotal: 3m\tremaining: 1m 40s\n",
      "644:\tlearn: 0.4001332\ttotal: 3m 1s\tremaining: 1m 39s\n",
      "645:\tlearn: 0.4001280\ttotal: 3m 1s\tremaining: 1m 39s\n",
      "646:\tlearn: 0.4001212\ttotal: 3m 1s\tremaining: 1m 39s\n",
      "647:\tlearn: 0.4001143\ttotal: 3m 1s\tremaining: 1m 38s\n",
      "648:\tlearn: 0.4001072\ttotal: 3m 2s\tremaining: 1m 38s\n",
      "649:\tlearn: 0.4000997\ttotal: 3m 2s\tremaining: 1m 38s\n",
      "650:\tlearn: 0.4000925\ttotal: 3m 2s\tremaining: 1m 37s\n",
      "651:\tlearn: 0.4000886\ttotal: 3m 2s\tremaining: 1m 37s\n",
      "652:\tlearn: 0.4000807\ttotal: 3m 3s\tremaining: 1m 37s\n",
      "653:\tlearn: 0.4000750\ttotal: 3m 3s\tremaining: 1m 37s\n",
      "654:\tlearn: 0.4000661\ttotal: 3m 3s\tremaining: 1m 36s\n",
      "655:\tlearn: 0.4000585\ttotal: 3m 3s\tremaining: 1m 36s\n",
      "656:\tlearn: 0.4000526\ttotal: 3m 4s\tremaining: 1m 36s\n",
      "657:\tlearn: 0.4000462\ttotal: 3m 4s\tremaining: 1m 35s\n",
      "658:\tlearn: 0.4000426\ttotal: 3m 4s\tremaining: 1m 35s\n",
      "659:\tlearn: 0.4000354\ttotal: 3m 4s\tremaining: 1m 35s\n",
      "660:\tlearn: 0.4000287\ttotal: 3m 5s\tremaining: 1m 34s\n",
      "661:\tlearn: 0.4000208\ttotal: 3m 5s\tremaining: 1m 34s\n",
      "662:\tlearn: 0.4000149\ttotal: 3m 5s\tremaining: 1m 34s\n",
      "663:\tlearn: 0.4000075\ttotal: 3m 5s\tremaining: 1m 34s\n",
      "664:\tlearn: 0.4000015\ttotal: 3m 6s\tremaining: 1m 33s\n",
      "665:\tlearn: 0.3999895\ttotal: 3m 6s\tremaining: 1m 33s\n",
      "666:\tlearn: 0.3999805\ttotal: 3m 6s\tremaining: 1m 33s\n",
      "667:\tlearn: 0.3999757\ttotal: 3m 6s\tremaining: 1m 32s\n",
      "668:\tlearn: 0.3999732\ttotal: 3m 7s\tremaining: 1m 32s\n",
      "669:\tlearn: 0.3999597\ttotal: 3m 7s\tremaining: 1m 32s\n",
      "670:\tlearn: 0.3999527\ttotal: 3m 7s\tremaining: 1m 31s\n",
      "671:\tlearn: 0.3999458\ttotal: 3m 7s\tremaining: 1m 31s\n",
      "672:\tlearn: 0.3999382\ttotal: 3m 8s\tremaining: 1m 31s\n",
      "673:\tlearn: 0.3999330\ttotal: 3m 8s\tremaining: 1m 31s\n",
      "674:\tlearn: 0.3999280\ttotal: 3m 8s\tremaining: 1m 30s\n",
      "675:\tlearn: 0.3999221\ttotal: 3m 8s\tremaining: 1m 30s\n",
      "676:\tlearn: 0.3999169\ttotal: 3m 9s\tremaining: 1m 30s\n",
      "677:\tlearn: 0.3999053\ttotal: 3m 9s\tremaining: 1m 30s\n",
      "678:\tlearn: 0.3998988\ttotal: 3m 9s\tremaining: 1m 29s\n",
      "679:\tlearn: 0.3998967\ttotal: 3m 10s\tremaining: 1m 29s\n",
      "680:\tlearn: 0.3998901\ttotal: 3m 10s\tremaining: 1m 29s\n",
      "681:\tlearn: 0.3998835\ttotal: 3m 10s\tremaining: 1m 28s\n",
      "682:\tlearn: 0.3998749\ttotal: 3m 11s\tremaining: 1m 28s\n",
      "683:\tlearn: 0.3998697\ttotal: 3m 11s\tremaining: 1m 28s\n",
      "684:\tlearn: 0.3998655\ttotal: 3m 11s\tremaining: 1m 28s\n",
      "685:\tlearn: 0.3998593\ttotal: 3m 12s\tremaining: 1m 27s\n",
      "686:\tlearn: 0.3998478\ttotal: 3m 12s\tremaining: 1m 27s\n",
      "687:\tlearn: 0.3998412\ttotal: 3m 12s\tremaining: 1m 27s\n",
      "688:\tlearn: 0.3998324\ttotal: 3m 13s\tremaining: 1m 27s\n",
      "689:\tlearn: 0.3998268\ttotal: 3m 13s\tremaining: 1m 26s\n",
      "690:\tlearn: 0.3998226\ttotal: 3m 13s\tremaining: 1m 26s\n",
      "691:\tlearn: 0.3998148\ttotal: 3m 13s\tremaining: 1m 26s\n",
      "692:\tlearn: 0.3998055\ttotal: 3m 14s\tremaining: 1m 26s\n",
      "693:\tlearn: 0.3997980\ttotal: 3m 14s\tremaining: 1m 25s\n",
      "694:\tlearn: 0.3997932\ttotal: 3m 14s\tremaining: 1m 25s\n",
      "695:\tlearn: 0.3997845\ttotal: 3m 15s\tremaining: 1m 25s\n",
      "696:\tlearn: 0.3997802\ttotal: 3m 15s\tremaining: 1m 24s\n",
      "697:\tlearn: 0.3997731\ttotal: 3m 15s\tremaining: 1m 24s\n",
      "698:\tlearn: 0.3997694\ttotal: 3m 16s\tremaining: 1m 24s\n",
      "699:\tlearn: 0.3997652\ttotal: 3m 16s\tremaining: 1m 24s\n",
      "700:\tlearn: 0.3997586\ttotal: 3m 16s\tremaining: 1m 23s\n",
      "701:\tlearn: 0.3997523\ttotal: 3m 17s\tremaining: 1m 23s\n",
      "702:\tlearn: 0.3997443\ttotal: 3m 17s\tremaining: 1m 23s\n",
      "703:\tlearn: 0.3997368\ttotal: 3m 18s\tremaining: 1m 23s\n",
      "704:\tlearn: 0.3997303\ttotal: 3m 18s\tremaining: 1m 23s\n",
      "705:\tlearn: 0.3997264\ttotal: 3m 18s\tremaining: 1m 22s\n",
      "706:\tlearn: 0.3997203\ttotal: 3m 19s\tremaining: 1m 22s\n",
      "707:\tlearn: 0.3997157\ttotal: 3m 20s\tremaining: 1m 22s\n",
      "708:\tlearn: 0.3997115\ttotal: 3m 20s\tremaining: 1m 22s\n",
      "709:\tlearn: 0.3997017\ttotal: 3m 21s\tremaining: 1m 22s\n",
      "710:\tlearn: 0.3996967\ttotal: 3m 21s\tremaining: 1m 22s\n",
      "711:\tlearn: 0.3996869\ttotal: 3m 22s\tremaining: 1m 21s\n",
      "712:\tlearn: 0.3996783\ttotal: 3m 22s\tremaining: 1m 21s\n",
      "713:\tlearn: 0.3996677\ttotal: 3m 23s\tremaining: 1m 21s\n",
      "714:\tlearn: 0.3996622\ttotal: 3m 23s\tremaining: 1m 21s\n",
      "715:\tlearn: 0.3996543\ttotal: 3m 23s\tremaining: 1m 20s\n",
      "716:\tlearn: 0.3996476\ttotal: 3m 24s\tremaining: 1m 20s\n",
      "717:\tlearn: 0.3996406\ttotal: 3m 24s\tremaining: 1m 20s\n",
      "718:\tlearn: 0.3996310\ttotal: 3m 25s\tremaining: 1m 20s\n",
      "719:\tlearn: 0.3996234\ttotal: 3m 25s\tremaining: 1m 20s\n",
      "720:\tlearn: 0.3996169\ttotal: 3m 26s\tremaining: 1m 19s\n",
      "721:\tlearn: 0.3996133\ttotal: 3m 26s\tremaining: 1m 19s\n",
      "722:\tlearn: 0.3996090\ttotal: 3m 26s\tremaining: 1m 19s\n",
      "723:\tlearn: 0.3996030\ttotal: 3m 27s\tremaining: 1m 18s\n",
      "724:\tlearn: 0.3995990\ttotal: 3m 27s\tremaining: 1m 18s\n",
      "725:\tlearn: 0.3995917\ttotal: 3m 27s\tremaining: 1m 18s\n",
      "726:\tlearn: 0.3995839\ttotal: 3m 28s\tremaining: 1m 18s\n",
      "727:\tlearn: 0.3995775\ttotal: 3m 28s\tremaining: 1m 17s\n",
      "728:\tlearn: 0.3995691\ttotal: 3m 28s\tremaining: 1m 17s\n",
      "729:\tlearn: 0.3995626\ttotal: 3m 29s\tremaining: 1m 17s\n",
      "730:\tlearn: 0.3995524\ttotal: 3m 29s\tremaining: 1m 17s\n",
      "731:\tlearn: 0.3995465\ttotal: 3m 30s\tremaining: 1m 16s\n",
      "732:\tlearn: 0.3995368\ttotal: 3m 30s\tremaining: 1m 16s\n",
      "733:\tlearn: 0.3995313\ttotal: 3m 30s\tremaining: 1m 16s\n",
      "734:\tlearn: 0.3995235\ttotal: 3m 31s\tremaining: 1m 16s\n",
      "735:\tlearn: 0.3995159\ttotal: 3m 31s\tremaining: 1m 15s\n",
      "736:\tlearn: 0.3995082\ttotal: 3m 31s\tremaining: 1m 15s\n",
      "737:\tlearn: 0.3995040\ttotal: 3m 32s\tremaining: 1m 15s\n",
      "738:\tlearn: 0.3994975\ttotal: 3m 32s\tremaining: 1m 15s\n",
      "739:\tlearn: 0.3994873\ttotal: 3m 33s\tremaining: 1m 14s\n",
      "740:\tlearn: 0.3994798\ttotal: 3m 33s\tremaining: 1m 14s\n",
      "741:\tlearn: 0.3994752\ttotal: 3m 34s\tremaining: 1m 14s\n",
      "742:\tlearn: 0.3994693\ttotal: 3m 35s\tremaining: 1m 14s\n",
      "743:\tlearn: 0.3994584\ttotal: 3m 35s\tremaining: 1m 14s\n",
      "744:\tlearn: 0.3994536\ttotal: 3m 36s\tremaining: 1m 14s\n",
      "745:\tlearn: 0.3994416\ttotal: 3m 36s\tremaining: 1m 13s\n",
      "746:\tlearn: 0.3994334\ttotal: 3m 37s\tremaining: 1m 13s\n",
      "747:\tlearn: 0.3994299\ttotal: 3m 37s\tremaining: 1m 13s\n",
      "748:\tlearn: 0.3994200\ttotal: 3m 37s\tremaining: 1m 12s\n",
      "749:\tlearn: 0.3994108\ttotal: 3m 38s\tremaining: 1m 12s\n",
      "750:\tlearn: 0.3994041\ttotal: 3m 38s\tremaining: 1m 12s\n",
      "751:\tlearn: 0.3993971\ttotal: 3m 38s\tremaining: 1m 12s\n",
      "752:\tlearn: 0.3993916\ttotal: 3m 39s\tremaining: 1m 11s\n",
      "753:\tlearn: 0.3993853\ttotal: 3m 39s\tremaining: 1m 11s\n",
      "754:\tlearn: 0.3993780\ttotal: 3m 39s\tremaining: 1m 11s\n",
      "755:\tlearn: 0.3993753\ttotal: 3m 40s\tremaining: 1m 11s\n",
      "756:\tlearn: 0.3993643\ttotal: 3m 40s\tremaining: 1m 10s\n",
      "757:\tlearn: 0.3993576\ttotal: 3m 40s\tremaining: 1m 10s\n",
      "758:\tlearn: 0.3993434\ttotal: 3m 41s\tremaining: 1m 10s\n",
      "759:\tlearn: 0.3993369\ttotal: 3m 41s\tremaining: 1m 9s\n",
      "760:\tlearn: 0.3993306\ttotal: 3m 41s\tremaining: 1m 9s\n",
      "761:\tlearn: 0.3993235\ttotal: 3m 41s\tremaining: 1m 9s\n",
      "762:\tlearn: 0.3993166\ttotal: 3m 42s\tremaining: 1m 9s\n",
      "763:\tlearn: 0.3993110\ttotal: 3m 42s\tremaining: 1m 8s\n",
      "764:\tlearn: 0.3993075\ttotal: 3m 42s\tremaining: 1m 8s\n",
      "765:\tlearn: 0.3993002\ttotal: 3m 42s\tremaining: 1m 8s\n",
      "766:\tlearn: 0.3992966\ttotal: 3m 43s\tremaining: 1m 7s\n",
      "767:\tlearn: 0.3992893\ttotal: 3m 43s\tremaining: 1m 7s\n",
      "768:\tlearn: 0.3992817\ttotal: 3m 43s\tremaining: 1m 7s\n",
      "769:\tlearn: 0.3992757\ttotal: 3m 43s\tremaining: 1m 6s\n",
      "770:\tlearn: 0.3992697\ttotal: 3m 44s\tremaining: 1m 6s\n",
      "771:\tlearn: 0.3992629\ttotal: 3m 44s\tremaining: 1m 6s\n",
      "772:\tlearn: 0.3992520\ttotal: 3m 44s\tremaining: 1m 5s\n",
      "773:\tlearn: 0.3992494\ttotal: 3m 44s\tremaining: 1m 5s\n",
      "774:\tlearn: 0.3992441\ttotal: 3m 44s\tremaining: 1m 5s\n",
      "775:\tlearn: 0.3992409\ttotal: 3m 45s\tremaining: 1m 5s\n",
      "776:\tlearn: 0.3992352\ttotal: 3m 45s\tremaining: 1m 4s\n",
      "777:\tlearn: 0.3992281\ttotal: 3m 45s\tremaining: 1m 4s\n",
      "778:\tlearn: 0.3992192\ttotal: 3m 45s\tremaining: 1m 4s\n",
      "779:\tlearn: 0.3992138\ttotal: 3m 46s\tremaining: 1m 3s\n",
      "780:\tlearn: 0.3992108\ttotal: 3m 46s\tremaining: 1m 3s\n",
      "781:\tlearn: 0.3992034\ttotal: 3m 46s\tremaining: 1m 3s\n",
      "782:\tlearn: 0.3991971\ttotal: 3m 46s\tremaining: 1m 2s\n",
      "783:\tlearn: 0.3991934\ttotal: 3m 46s\tremaining: 1m 2s\n",
      "784:\tlearn: 0.3991855\ttotal: 3m 47s\tremaining: 1m 2s\n",
      "785:\tlearn: 0.3991793\ttotal: 3m 47s\tremaining: 1m 1s\n",
      "786:\tlearn: 0.3991722\ttotal: 3m 47s\tremaining: 1m 1s\n",
      "787:\tlearn: 0.3991690\ttotal: 3m 47s\tremaining: 1m 1s\n",
      "788:\tlearn: 0.3991632\ttotal: 3m 48s\tremaining: 1m 1s\n",
      "789:\tlearn: 0.3991551\ttotal: 3m 48s\tremaining: 1m\n",
      "790:\tlearn: 0.3991527\ttotal: 3m 48s\tremaining: 1m\n",
      "791:\tlearn: 0.3991460\ttotal: 3m 49s\tremaining: 1m\n",
      "792:\tlearn: 0.3991415\ttotal: 3m 49s\tremaining: 59.9s\n",
      "793:\tlearn: 0.3991361\ttotal: 3m 49s\tremaining: 59.6s\n",
      "794:\tlearn: 0.3991287\ttotal: 3m 49s\tremaining: 59.3s\n",
      "795:\tlearn: 0.3991221\ttotal: 3m 50s\tremaining: 59s\n",
      "796:\tlearn: 0.3991164\ttotal: 3m 50s\tremaining: 58.7s\n",
      "797:\tlearn: 0.3991109\ttotal: 3m 50s\tremaining: 58.5s\n",
      "798:\tlearn: 0.3991070\ttotal: 3m 51s\tremaining: 58.2s\n",
      "799:\tlearn: 0.3991023\ttotal: 3m 51s\tremaining: 57.9s\n",
      "800:\tlearn: 0.3990890\ttotal: 3m 51s\tremaining: 57.6s\n",
      "801:\tlearn: 0.3990847\ttotal: 3m 52s\tremaining: 57.3s\n",
      "802:\tlearn: 0.3990776\ttotal: 3m 52s\tremaining: 57s\n",
      "803:\tlearn: 0.3990707\ttotal: 3m 52s\tremaining: 56.7s\n",
      "804:\tlearn: 0.3990626\ttotal: 3m 53s\tremaining: 56.5s\n",
      "805:\tlearn: 0.3990559\ttotal: 3m 53s\tremaining: 56.2s\n",
      "806:\tlearn: 0.3990501\ttotal: 3m 53s\tremaining: 55.9s\n",
      "807:\tlearn: 0.3990446\ttotal: 3m 53s\tremaining: 55.6s\n",
      "808:\tlearn: 0.3990396\ttotal: 3m 54s\tremaining: 55.3s\n",
      "809:\tlearn: 0.3990313\ttotal: 3m 54s\tremaining: 55s\n",
      "810:\tlearn: 0.3990272\ttotal: 3m 54s\tremaining: 54.8s\n",
      "811:\tlearn: 0.3990224\ttotal: 3m 55s\tremaining: 54.5s\n",
      "812:\tlearn: 0.3990163\ttotal: 3m 56s\tremaining: 54.3s\n",
      "813:\tlearn: 0.3990096\ttotal: 3m 56s\tremaining: 54s\n",
      "814:\tlearn: 0.3990045\ttotal: 3m 56s\tremaining: 53.8s\n",
      "815:\tlearn: 0.3989956\ttotal: 3m 57s\tremaining: 53.5s\n",
      "816:\tlearn: 0.3989906\ttotal: 3m 57s\tremaining: 53.2s\n",
      "817:\tlearn: 0.3989814\ttotal: 3m 58s\tremaining: 53s\n",
      "818:\tlearn: 0.3989770\ttotal: 3m 58s\tremaining: 52.7s\n",
      "819:\tlearn: 0.3989719\ttotal: 3m 58s\tremaining: 52.5s\n",
      "820:\tlearn: 0.3989644\ttotal: 3m 59s\tremaining: 52.2s\n",
      "821:\tlearn: 0.3989585\ttotal: 3m 59s\tremaining: 51.9s\n",
      "822:\tlearn: 0.3989515\ttotal: 4m\tremaining: 51.7s\n",
      "823:\tlearn: 0.3989480\ttotal: 4m\tremaining: 51.4s\n",
      "824:\tlearn: 0.3989405\ttotal: 4m 1s\tremaining: 51.2s\n",
      "825:\tlearn: 0.3989347\ttotal: 4m 1s\tremaining: 50.9s\n",
      "826:\tlearn: 0.3989309\ttotal: 4m 2s\tremaining: 50.7s\n",
      "827:\tlearn: 0.3989241\ttotal: 4m 2s\tremaining: 50.4s\n",
      "828:\tlearn: 0.3989152\ttotal: 4m 3s\tremaining: 50.2s\n",
      "829:\tlearn: 0.3989128\ttotal: 4m 3s\tremaining: 49.9s\n",
      "830:\tlearn: 0.3989097\ttotal: 4m 4s\tremaining: 49.7s\n",
      "831:\tlearn: 0.3989011\ttotal: 4m 4s\tremaining: 49.4s\n",
      "832:\tlearn: 0.3988968\ttotal: 4m 4s\tremaining: 49.1s\n",
      "833:\tlearn: 0.3988921\ttotal: 4m 5s\tremaining: 48.9s\n",
      "834:\tlearn: 0.3988833\ttotal: 4m 6s\tremaining: 48.6s\n",
      "835:\tlearn: 0.3988776\ttotal: 4m 6s\tremaining: 48.4s\n",
      "836:\tlearn: 0.3988721\ttotal: 4m 6s\tremaining: 48.1s\n",
      "837:\tlearn: 0.3988658\ttotal: 4m 7s\tremaining: 47.8s\n",
      "838:\tlearn: 0.3988606\ttotal: 4m 7s\tremaining: 47.5s\n",
      "839:\tlearn: 0.3988531\ttotal: 4m 8s\tremaining: 47.2s\n",
      "840:\tlearn: 0.3988442\ttotal: 4m 8s\tremaining: 46.9s\n",
      "841:\tlearn: 0.3988401\ttotal: 4m 8s\tremaining: 46.6s\n",
      "842:\tlearn: 0.3988331\ttotal: 4m 8s\tremaining: 46.3s\n",
      "843:\tlearn: 0.3988288\ttotal: 4m 9s\tremaining: 46s\n",
      "844:\tlearn: 0.3988211\ttotal: 4m 9s\tremaining: 45.7s\n",
      "845:\tlearn: 0.3988176\ttotal: 4m 9s\tremaining: 45.4s\n",
      "846:\tlearn: 0.3988145\ttotal: 4m 9s\tremaining: 45.1s\n",
      "847:\tlearn: 0.3988093\ttotal: 4m 10s\tremaining: 44.8s\n",
      "848:\tlearn: 0.3988013\ttotal: 4m 10s\tremaining: 44.5s\n",
      "849:\tlearn: 0.3987952\ttotal: 4m 10s\tremaining: 44.2s\n",
      "850:\tlearn: 0.3987862\ttotal: 4m 11s\tremaining: 43.9s\n",
      "851:\tlearn: 0.3987828\ttotal: 4m 11s\tremaining: 43.6s\n",
      "852:\tlearn: 0.3987793\ttotal: 4m 11s\tremaining: 43.3s\n",
      "853:\tlearn: 0.3987728\ttotal: 4m 11s\tremaining: 43s\n",
      "854:\tlearn: 0.3987646\ttotal: 4m 12s\tremaining: 42.7s\n",
      "855:\tlearn: 0.3987624\ttotal: 4m 12s\tremaining: 42.5s\n",
      "856:\tlearn: 0.3987598\ttotal: 4m 12s\tremaining: 42.2s\n",
      "857:\tlearn: 0.3987525\ttotal: 4m 12s\tremaining: 41.9s\n",
      "858:\tlearn: 0.3987460\ttotal: 4m 13s\tremaining: 41.6s\n",
      "859:\tlearn: 0.3987394\ttotal: 4m 13s\tremaining: 41.3s\n",
      "860:\tlearn: 0.3987354\ttotal: 4m 13s\tremaining: 41s\n",
      "861:\tlearn: 0.3987281\ttotal: 4m 14s\tremaining: 40.7s\n",
      "862:\tlearn: 0.3987241\ttotal: 4m 14s\tremaining: 40.4s\n",
      "863:\tlearn: 0.3987196\ttotal: 4m 14s\tremaining: 40.1s\n",
      "864:\tlearn: 0.3987153\ttotal: 4m 14s\tremaining: 39.8s\n",
      "865:\tlearn: 0.3987066\ttotal: 4m 15s\tremaining: 39.5s\n",
      "866:\tlearn: 0.3987013\ttotal: 4m 15s\tremaining: 39.2s\n",
      "867:\tlearn: 0.3986972\ttotal: 4m 15s\tremaining: 38.9s\n",
      "868:\tlearn: 0.3986902\ttotal: 4m 15s\tremaining: 38.6s\n",
      "869:\tlearn: 0.3986800\ttotal: 4m 15s\tremaining: 38.3s\n",
      "870:\tlearn: 0.3986767\ttotal: 4m 16s\tremaining: 38s\n",
      "871:\tlearn: 0.3986709\ttotal: 4m 16s\tremaining: 37.7s\n",
      "872:\tlearn: 0.3986649\ttotal: 4m 16s\tremaining: 37.4s\n",
      "873:\tlearn: 0.3986587\ttotal: 4m 17s\tremaining: 37.1s\n",
      "874:\tlearn: 0.3986542\ttotal: 4m 17s\tremaining: 36.8s\n",
      "875:\tlearn: 0.3986491\ttotal: 4m 17s\tremaining: 36.5s\n",
      "876:\tlearn: 0.3986452\ttotal: 4m 18s\tremaining: 36.3s\n",
      "877:\tlearn: 0.3986379\ttotal: 4m 18s\tremaining: 36s\n",
      "878:\tlearn: 0.3986319\ttotal: 4m 19s\tremaining: 35.7s\n",
      "879:\tlearn: 0.3986282\ttotal: 4m 19s\tremaining: 35.4s\n",
      "880:\tlearn: 0.3986199\ttotal: 4m 20s\tremaining: 35.1s\n",
      "881:\tlearn: 0.3986162\ttotal: 4m 20s\tremaining: 34.8s\n",
      "882:\tlearn: 0.3986076\ttotal: 4m 20s\tremaining: 34.6s\n",
      "883:\tlearn: 0.3986036\ttotal: 4m 21s\tremaining: 34.3s\n",
      "884:\tlearn: 0.3985994\ttotal: 4m 21s\tremaining: 34s\n",
      "885:\tlearn: 0.3985923\ttotal: 4m 21s\tremaining: 33.7s\n",
      "886:\tlearn: 0.3985868\ttotal: 4m 21s\tremaining: 33.4s\n",
      "887:\tlearn: 0.3985797\ttotal: 4m 22s\tremaining: 33.1s\n",
      "888:\tlearn: 0.3985726\ttotal: 4m 22s\tremaining: 32.8s\n",
      "889:\tlearn: 0.3985678\ttotal: 4m 22s\tremaining: 32.5s\n",
      "890:\tlearn: 0.3985616\ttotal: 4m 23s\tremaining: 32.2s\n",
      "891:\tlearn: 0.3985523\ttotal: 4m 23s\tremaining: 31.9s\n",
      "892:\tlearn: 0.3985481\ttotal: 4m 23s\tremaining: 31.6s\n",
      "893:\tlearn: 0.3985432\ttotal: 4m 23s\tremaining: 31.3s\n",
      "894:\tlearn: 0.3985361\ttotal: 4m 24s\tremaining: 31s\n",
      "895:\tlearn: 0.3985307\ttotal: 4m 24s\tremaining: 30.7s\n",
      "896:\tlearn: 0.3985247\ttotal: 4m 24s\tremaining: 30.4s\n",
      "897:\tlearn: 0.3985201\ttotal: 4m 24s\tremaining: 30.1s\n",
      "898:\tlearn: 0.3985152\ttotal: 4m 25s\tremaining: 29.8s\n",
      "899:\tlearn: 0.3985119\ttotal: 4m 25s\tremaining: 29.5s\n",
      "900:\tlearn: 0.3985068\ttotal: 4m 25s\tremaining: 29.2s\n",
      "901:\tlearn: 0.3985020\ttotal: 4m 25s\tremaining: 28.9s\n",
      "902:\tlearn: 0.3984936\ttotal: 4m 26s\tremaining: 28.6s\n",
      "903:\tlearn: 0.3984866\ttotal: 4m 26s\tremaining: 28.3s\n",
      "904:\tlearn: 0.3984819\ttotal: 4m 26s\tremaining: 28s\n",
      "905:\tlearn: 0.3984762\ttotal: 4m 26s\tremaining: 27.7s\n",
      "906:\tlearn: 0.3984718\ttotal: 4m 27s\tremaining: 27.4s\n",
      "907:\tlearn: 0.3984683\ttotal: 4m 27s\tremaining: 27.1s\n",
      "908:\tlearn: 0.3984631\ttotal: 4m 27s\tremaining: 26.8s\n",
      "909:\tlearn: 0.3984597\ttotal: 4m 27s\tremaining: 26.5s\n",
      "910:\tlearn: 0.3984539\ttotal: 4m 28s\tremaining: 26.2s\n",
      "911:\tlearn: 0.3984480\ttotal: 4m 28s\tremaining: 25.9s\n",
      "912:\tlearn: 0.3984434\ttotal: 4m 28s\tremaining: 25.6s\n",
      "913:\tlearn: 0.3984361\ttotal: 4m 28s\tremaining: 25.3s\n",
      "914:\tlearn: 0.3984297\ttotal: 4m 29s\tremaining: 25s\n",
      "915:\tlearn: 0.3984190\ttotal: 4m 29s\tremaining: 24.7s\n",
      "916:\tlearn: 0.3984131\ttotal: 4m 29s\tremaining: 24.4s\n",
      "917:\tlearn: 0.3984075\ttotal: 4m 29s\tremaining: 24.1s\n",
      "918:\tlearn: 0.3984000\ttotal: 4m 30s\tremaining: 23.8s\n",
      "919:\tlearn: 0.3983950\ttotal: 4m 30s\tremaining: 23.5s\n",
      "920:\tlearn: 0.3983908\ttotal: 4m 30s\tremaining: 23.2s\n",
      "921:\tlearn: 0.3983845\ttotal: 4m 30s\tremaining: 22.9s\n",
      "922:\tlearn: 0.3983782\ttotal: 4m 31s\tremaining: 22.6s\n",
      "923:\tlearn: 0.3983715\ttotal: 4m 31s\tremaining: 22.3s\n",
      "924:\tlearn: 0.3983635\ttotal: 4m 31s\tremaining: 22s\n",
      "925:\tlearn: 0.3983604\ttotal: 4m 31s\tremaining: 21.7s\n",
      "926:\tlearn: 0.3983544\ttotal: 4m 32s\tremaining: 21.4s\n",
      "927:\tlearn: 0.3983477\ttotal: 4m 32s\tremaining: 21.1s\n",
      "928:\tlearn: 0.3983407\ttotal: 4m 32s\tremaining: 20.9s\n",
      "929:\tlearn: 0.3983376\ttotal: 4m 33s\tremaining: 20.6s\n",
      "930:\tlearn: 0.3983310\ttotal: 4m 33s\tremaining: 20.3s\n",
      "931:\tlearn: 0.3983242\ttotal: 4m 33s\tremaining: 20s\n",
      "932:\tlearn: 0.3983186\ttotal: 4m 34s\tremaining: 19.7s\n",
      "933:\tlearn: 0.3983126\ttotal: 4m 34s\tremaining: 19.4s\n",
      "934:\tlearn: 0.3983085\ttotal: 4m 35s\tremaining: 19.1s\n",
      "935:\tlearn: 0.3983033\ttotal: 4m 36s\tremaining: 18.9s\n",
      "936:\tlearn: 0.3982991\ttotal: 4m 36s\tremaining: 18.6s\n",
      "937:\tlearn: 0.3982931\ttotal: 4m 36s\tremaining: 18.3s\n",
      "938:\tlearn: 0.3982863\ttotal: 4m 37s\tremaining: 18s\n",
      "939:\tlearn: 0.3982788\ttotal: 4m 37s\tremaining: 17.7s\n",
      "940:\tlearn: 0.3982727\ttotal: 4m 37s\tremaining: 17.4s\n",
      "941:\tlearn: 0.3982681\ttotal: 4m 37s\tremaining: 17.1s\n",
      "942:\tlearn: 0.3982620\ttotal: 4m 38s\tremaining: 16.8s\n",
      "943:\tlearn: 0.3982532\ttotal: 4m 38s\tremaining: 16.5s\n",
      "944:\tlearn: 0.3982469\ttotal: 4m 38s\tremaining: 16.2s\n",
      "945:\tlearn: 0.3982396\ttotal: 4m 38s\tremaining: 15.9s\n",
      "946:\tlearn: 0.3982346\ttotal: 4m 39s\tremaining: 15.6s\n",
      "947:\tlearn: 0.3982293\ttotal: 4m 39s\tremaining: 15.3s\n",
      "948:\tlearn: 0.3982236\ttotal: 4m 39s\tremaining: 15s\n",
      "949:\tlearn: 0.3982185\ttotal: 4m 39s\tremaining: 14.7s\n",
      "950:\tlearn: 0.3982148\ttotal: 4m 40s\tremaining: 14.4s\n",
      "951:\tlearn: 0.3982102\ttotal: 4m 40s\tremaining: 14.1s\n",
      "952:\tlearn: 0.3982050\ttotal: 4m 40s\tremaining: 13.8s\n",
      "953:\tlearn: 0.3981991\ttotal: 4m 41s\tremaining: 13.6s\n",
      "954:\tlearn: 0.3981907\ttotal: 4m 41s\tremaining: 13.3s\n",
      "955:\tlearn: 0.3981874\ttotal: 4m 41s\tremaining: 13s\n",
      "956:\tlearn: 0.3981820\ttotal: 4m 41s\tremaining: 12.7s\n",
      "957:\tlearn: 0.3981772\ttotal: 4m 42s\tremaining: 12.4s\n",
      "958:\tlearn: 0.3981710\ttotal: 4m 42s\tremaining: 12.1s\n",
      "959:\tlearn: 0.3981666\ttotal: 4m 43s\tremaining: 11.8s\n",
      "960:\tlearn: 0.3981614\ttotal: 4m 43s\tremaining: 11.5s\n",
      "961:\tlearn: 0.3981539\ttotal: 4m 43s\tremaining: 11.2s\n",
      "962:\tlearn: 0.3981503\ttotal: 4m 44s\tremaining: 10.9s\n",
      "963:\tlearn: 0.3981429\ttotal: 4m 44s\tremaining: 10.6s\n",
      "964:\tlearn: 0.3981368\ttotal: 4m 44s\tremaining: 10.3s\n",
      "965:\tlearn: 0.3981310\ttotal: 4m 45s\tremaining: 10s\n",
      "966:\tlearn: 0.3981272\ttotal: 4m 45s\tremaining: 9.74s\n",
      "967:\tlearn: 0.3981212\ttotal: 4m 45s\tremaining: 9.45s\n",
      "968:\tlearn: 0.3981182\ttotal: 4m 46s\tremaining: 9.16s\n",
      "969:\tlearn: 0.3981124\ttotal: 4m 46s\tremaining: 8.86s\n",
      "970:\tlearn: 0.3981067\ttotal: 4m 46s\tremaining: 8.57s\n",
      "971:\tlearn: 0.3981024\ttotal: 4m 47s\tremaining: 8.28s\n",
      "972:\tlearn: 0.3980967\ttotal: 4m 47s\tremaining: 7.99s\n",
      "973:\tlearn: 0.3980913\ttotal: 4m 48s\tremaining: 7.69s\n",
      "974:\tlearn: 0.3980841\ttotal: 4m 48s\tremaining: 7.39s\n",
      "975:\tlearn: 0.3980783\ttotal: 4m 48s\tremaining: 7.1s\n",
      "976:\tlearn: 0.3980744\ttotal: 4m 49s\tremaining: 6.8s\n",
      "977:\tlearn: 0.3980717\ttotal: 4m 49s\tremaining: 6.51s\n",
      "978:\tlearn: 0.3980658\ttotal: 4m 49s\tremaining: 6.21s\n",
      "979:\tlearn: 0.3980638\ttotal: 4m 49s\tremaining: 5.92s\n",
      "980:\tlearn: 0.3980579\ttotal: 4m 50s\tremaining: 5.62s\n",
      "981:\tlearn: 0.3980514\ttotal: 4m 50s\tremaining: 5.32s\n",
      "982:\tlearn: 0.3980474\ttotal: 4m 50s\tremaining: 5.03s\n",
      "983:\tlearn: 0.3980379\ttotal: 4m 50s\tremaining: 4.73s\n",
      "984:\tlearn: 0.3980318\ttotal: 4m 51s\tremaining: 4.43s\n",
      "985:\tlearn: 0.3980263\ttotal: 4m 51s\tremaining: 4.14s\n",
      "986:\tlearn: 0.3980229\ttotal: 4m 51s\tremaining: 3.84s\n",
      "987:\tlearn: 0.3980184\ttotal: 4m 51s\tremaining: 3.55s\n",
      "988:\tlearn: 0.3980138\ttotal: 4m 52s\tremaining: 3.25s\n",
      "989:\tlearn: 0.3980105\ttotal: 4m 52s\tremaining: 2.95s\n",
      "990:\tlearn: 0.3980039\ttotal: 4m 52s\tremaining: 2.66s\n",
      "991:\tlearn: 0.3979977\ttotal: 4m 53s\tremaining: 2.36s\n",
      "992:\tlearn: 0.3979921\ttotal: 4m 53s\tremaining: 2.07s\n",
      "993:\tlearn: 0.3979861\ttotal: 4m 53s\tremaining: 1.77s\n",
      "994:\tlearn: 0.3979827\ttotal: 4m 53s\tremaining: 1.48s\n",
      "995:\tlearn: 0.3979778\ttotal: 4m 54s\tremaining: 1.18s\n",
      "996:\tlearn: 0.3979717\ttotal: 4m 54s\tremaining: 886ms\n",
      "997:\tlearn: 0.3979688\ttotal: 4m 54s\tremaining: 590ms\n",
      "998:\tlearn: 0.3979621\ttotal: 4m 54s\tremaining: 295ms\n",
      "999:\tlearn: 0.3979550\ttotal: 4m 55s\tremaining: 0us\n"
     ]
    },
    {
     "data": {
      "text/plain": [
       "<catboost.core.CatBoostClassifier at 0x7fc8865eeb50>"
      ]
     },
     "execution_count": 341,
     "metadata": {},
     "output_type": "execute_result"
    }
   ],
   "source": [
    "ctb.fit(X_train, y_train)"
   ]
  },
  {
   "cell_type": "code",
   "execution_count": null,
   "metadata": {},
   "outputs": [],
   "source": [
    "y_pred_ctb=ctb.predict_proba(X_val)[:, 1]"
   ]
  },
  {
   "cell_type": "code",
   "execution_count": null,
   "metadata": {},
   "outputs": [
    {
     "data": {
      "text/plain": [
       "0.40239392328189716"
      ]
     },
     "execution_count": 343,
     "metadata": {},
     "output_type": "execute_result"
    }
   ],
   "source": [
    "log_loss(y_val, y_pred_ctb)"
   ]
  },
  {
   "cell_type": "markdown",
   "metadata": {},
   "source": []
  }
 ],
 "metadata": {
  "kernelspec": {
   "display_name": "Python 3.9.12 ('base')",
   "language": "python",
   "name": "python3"
  },
  "language_info": {
   "codemirror_mode": {
    "name": "ipython",
    "version": 3
   },
   "file_extension": ".py",
   "mimetype": "text/x-python",
   "name": "python",
   "nbconvert_exporter": "python",
   "pygments_lexer": "ipython3",
   "version": "3.9.12"
  },
  "orig_nbformat": 4,
  "vscode": {
   "interpreter": {
    "hash": "7e6884f9e325611246f3df9f3eb2bec739209106350d5829f2cfd205534463c8"
   }
  }
 },
 "nbformat": 4,
 "nbformat_minor": 2
}
