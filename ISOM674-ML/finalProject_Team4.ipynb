{
 "cells": [
  {
   "cell_type": "markdown",
   "metadata": {},
   "source": [
    "# Machine Learning I Final Project\n",
    "\n",
    "Team 4\n",
    "\n",
    "Rebecca Li, Jackie Li, Chris Chou, Niki Baskar"
   ]
  },
  {
   "cell_type": "code",
   "execution_count": 1,
   "metadata": {},
   "outputs": [
    {
     "data": {
      "text/html": [
       "<style type='text/css'>\n",
       ".datatable table.frame { margin-bottom: 0; }\n",
       ".datatable table.frame thead { border-bottom: none; }\n",
       ".datatable table.frame tr.coltypes td {  color: #FFFFFF;  line-height: 6px;  padding: 0 0.5em;}\n",
       ".datatable .bool    { background: #DDDD99; }\n",
       ".datatable .object  { background: #565656; }\n",
       ".datatable .int     { background: #5D9E5D; }\n",
       ".datatable .float   { background: #4040CC; }\n",
       ".datatable .str     { background: #CC4040; }\n",
       ".datatable .time    { background: #40CC40; }\n",
       ".datatable .row_index {  background: var(--jp-border-color3);  border-right: 1px solid var(--jp-border-color0);  color: var(--jp-ui-font-color3);  font-size: 9px;}\n",
       ".datatable .frame tbody td { text-align: left; }\n",
       ".datatable .frame tr.coltypes .row_index {  background: var(--jp-border-color0);}\n",
       ".datatable th:nth-child(2) { padding-left: 12px; }\n",
       ".datatable .hellipsis {  color: var(--jp-cell-editor-border-color);}\n",
       ".datatable .vellipsis {  background: var(--jp-layout-color0);  color: var(--jp-cell-editor-border-color);}\n",
       ".datatable .na {  color: var(--jp-cell-editor-border-color);  font-size: 80%;}\n",
       ".datatable .sp {  opacity: 0.25;}\n",
       ".datatable .footer { font-size: 9px; }\n",
       ".datatable .frame_dimensions {  background: var(--jp-border-color3);  border-top: 1px solid var(--jp-border-color0);  color: var(--jp-ui-font-color3);  display: inline-block;  opacity: 0.6;  padding: 1px 10px 1px 5px;}\n",
       ".datatable .frame thead tr.colnames {  background-image: url('data:image/png;base64,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');  background-repeat: repeat-x;  background-size: 14px;  height: 28px;}\n",
       "</style>\n"
      ],
      "text/plain": [
       "<IPython.core.display.HTML object>"
      ]
     },
     "metadata": {},
     "output_type": "display_data"
    }
   ],
   "source": [
    "# import packages\n",
    "import pandas as pd\n",
    "from datetime import datetime\n",
    "import numpy as np\n",
    "from keras.models import Model, Sequential\n",
    "from keras.layers import Dense, Activation, Dropout, BatchNormalization, Embedding, Flatten, Input, concatenate\n",
    "from keras_tuner import BayesianOptimization, RandomSearch\n",
    "from sklearn.preprocessing import MinMaxScaler, StandardScaler, LabelEncoder\n",
    "import matplotlib.pyplot as plt\n",
    "from sklearn.metrics import mean_absolute_error\n",
    "import keras.backend as K\n",
    "import sklearn\n",
    "import category_encoders as ce\n",
    "from keras.optimizers import SGD, Adam, RMSprop\n",
    "from keras.callbacks import EarlyStopping\n",
    "from sklearn.metrics import log_loss\n",
    "from keras import regularizers\n",
    "from sklearn.model_selection import train_test_split\n",
    "from keras import initializers\n",
    "from datatable import dt, f, by, g, join, sort, update, ifelse\n",
    "from sklearn.model_selection import GridSearchCV\n",
    "from lightgbm import LGBMClassifier"
   ]
  },
  {
   "cell_type": "markdown",
   "metadata": {},
   "source": [
    "# Data Exploration"
   ]
  },
  {
   "cell_type": "markdown",
   "metadata": {},
   "source": [
    "## Data Import"
   ]
  },
  {
   "cell_type": "code",
   "execution_count": 2,
   "metadata": {},
   "outputs": [],
   "source": [
    "# Import the training data\n",
    "train = pd.read_csv('Project Data/ProjectTrainingData.csv')"
   ]
  },
  {
   "cell_type": "code",
   "execution_count": 3,
   "metadata": {},
   "outputs": [],
   "source": [
    "# Import the test data\n",
    "test = pd.read_csv('Project Data/ProjectTestData.csv')"
   ]
  },
  {
   "cell_type": "code",
   "execution_count": null,
   "metadata": {},
   "outputs": [
    {
     "data": {
      "text/plain": [
       "(31991090, 24)"
      ]
     },
     "metadata": {},
     "output_type": "display_data"
    }
   ],
   "source": [
    "train.shape\n",
    "# there are 31991090 rows and 24 columns"
   ]
  },
  {
   "cell_type": "code",
   "execution_count": 4,
   "metadata": {},
   "outputs": [],
   "source": [
    "# shuffle the train dataset into 10 parts\n",
    "shuffled = train.sample(frac=1,random_state=42)\n",
    "result = np.array_split(shuffled, 10)  "
   ]
  },
  {
   "cell_type": "code",
   "execution_count": 5,
   "metadata": {},
   "outputs": [],
   "source": [
    "# name those parts with number\n",
    "for i in range(len(result)):\n",
    "    exec(f'train_{i} = result[i]')"
   ]
  },
  {
   "cell_type": "code",
   "execution_count": 6,
   "metadata": {},
   "outputs": [
    {
     "name": "stdout",
     "output_type": "stream",
     "text": [
      "(3199109, 24)\n"
     ]
    }
   ],
   "source": [
    "print(train_3.shape)"
   ]
  },
  {
   "cell_type": "markdown",
   "metadata": {},
   "source": [
    "## Data Overview"
   ]
  },
  {
   "cell_type": "code",
   "execution_count": 7,
   "metadata": {},
   "outputs": [
    {
     "data": {
      "text/html": [
       "<div>\n",
       "<style scoped>\n",
       "    .dataframe tbody tr th:only-of-type {\n",
       "        vertical-align: middle;\n",
       "    }\n",
       "\n",
       "    .dataframe tbody tr th {\n",
       "        vertical-align: top;\n",
       "    }\n",
       "\n",
       "    .dataframe thead th {\n",
       "        text-align: right;\n",
       "    }\n",
       "</style>\n",
       "<table border=\"1\" class=\"dataframe\">\n",
       "  <thead>\n",
       "    <tr style=\"text-align: right;\">\n",
       "      <th></th>\n",
       "      <th>id</th>\n",
       "      <th>click</th>\n",
       "      <th>hour</th>\n",
       "      <th>C1</th>\n",
       "      <th>banner_pos</th>\n",
       "      <th>site_id</th>\n",
       "      <th>site_domain</th>\n",
       "      <th>site_category</th>\n",
       "      <th>app_id</th>\n",
       "      <th>app_domain</th>\n",
       "      <th>...</th>\n",
       "      <th>device_type</th>\n",
       "      <th>device_conn_type</th>\n",
       "      <th>C14</th>\n",
       "      <th>C15</th>\n",
       "      <th>C16</th>\n",
       "      <th>C17</th>\n",
       "      <th>C18</th>\n",
       "      <th>C19</th>\n",
       "      <th>C20</th>\n",
       "      <th>C21</th>\n",
       "    </tr>\n",
       "  </thead>\n",
       "  <tbody>\n",
       "    <tr>\n",
       "      <th>5616589</th>\n",
       "      <td>1.211469e+19</td>\n",
       "      <td>0</td>\n",
       "      <td>14102210</td>\n",
       "      <td>1005</td>\n",
       "      <td>1</td>\n",
       "      <td>5114c672</td>\n",
       "      <td>3f2f3819</td>\n",
       "      <td>3e814130</td>\n",
       "      <td>ecad2386</td>\n",
       "      <td>7801e8d9</td>\n",
       "      <td>...</td>\n",
       "      <td>1</td>\n",
       "      <td>0</td>\n",
       "      <td>21764</td>\n",
       "      <td>216</td>\n",
       "      <td>36</td>\n",
       "      <td>2506</td>\n",
       "      <td>0</td>\n",
       "      <td>35</td>\n",
       "      <td>100076</td>\n",
       "      <td>157</td>\n",
       "    </tr>\n",
       "    <tr>\n",
       "      <th>31825749</th>\n",
       "      <td>1.028758e+19</td>\n",
       "      <td>0</td>\n",
       "      <td>14102922</td>\n",
       "      <td>1005</td>\n",
       "      <td>0</td>\n",
       "      <td>85f751fd</td>\n",
       "      <td>c4e18dd6</td>\n",
       "      <td>50e219e0</td>\n",
       "      <td>e2fcccd2</td>\n",
       "      <td>5c5a694b</td>\n",
       "      <td>...</td>\n",
       "      <td>1</td>\n",
       "      <td>0</td>\n",
       "      <td>4687</td>\n",
       "      <td>320</td>\n",
       "      <td>50</td>\n",
       "      <td>423</td>\n",
       "      <td>2</td>\n",
       "      <td>39</td>\n",
       "      <td>100148</td>\n",
       "      <td>32</td>\n",
       "    </tr>\n",
       "    <tr>\n",
       "      <th>13548281</th>\n",
       "      <td>1.757268e+19</td>\n",
       "      <td>1</td>\n",
       "      <td>14102413</td>\n",
       "      <td>1005</td>\n",
       "      <td>0</td>\n",
       "      <td>2b1ddb24</td>\n",
       "      <td>98acf46c</td>\n",
       "      <td>3e814130</td>\n",
       "      <td>ecad2386</td>\n",
       "      <td>7801e8d9</td>\n",
       "      <td>...</td>\n",
       "      <td>1</td>\n",
       "      <td>0</td>\n",
       "      <td>20128</td>\n",
       "      <td>320</td>\n",
       "      <td>50</td>\n",
       "      <td>2303</td>\n",
       "      <td>2</td>\n",
       "      <td>39</td>\n",
       "      <td>100148</td>\n",
       "      <td>23</td>\n",
       "    </tr>\n",
       "    <tr>\n",
       "      <th>11682204</th>\n",
       "      <td>7.256027e+18</td>\n",
       "      <td>0</td>\n",
       "      <td>14102322</td>\n",
       "      <td>1005</td>\n",
       "      <td>0</td>\n",
       "      <td>85f751fd</td>\n",
       "      <td>c4e18dd6</td>\n",
       "      <td>50e219e0</td>\n",
       "      <td>8bcb1385</td>\n",
       "      <td>2347f47a</td>\n",
       "      <td>...</td>\n",
       "      <td>1</td>\n",
       "      <td>0</td>\n",
       "      <td>15708</td>\n",
       "      <td>320</td>\n",
       "      <td>50</td>\n",
       "      <td>1722</td>\n",
       "      <td>0</td>\n",
       "      <td>35</td>\n",
       "      <td>-1</td>\n",
       "      <td>79</td>\n",
       "    </tr>\n",
       "    <tr>\n",
       "      <th>29186795</th>\n",
       "      <td>1.731978e+18</td>\n",
       "      <td>0</td>\n",
       "      <td>14102904</td>\n",
       "      <td>1005</td>\n",
       "      <td>0</td>\n",
       "      <td>8d7e1373</td>\n",
       "      <td>3b953bf0</td>\n",
       "      <td>75fa27f6</td>\n",
       "      <td>ecad2386</td>\n",
       "      <td>7801e8d9</td>\n",
       "      <td>...</td>\n",
       "      <td>1</td>\n",
       "      <td>0</td>\n",
       "      <td>22951</td>\n",
       "      <td>320</td>\n",
       "      <td>50</td>\n",
       "      <td>2654</td>\n",
       "      <td>3</td>\n",
       "      <td>38</td>\n",
       "      <td>-1</td>\n",
       "      <td>23</td>\n",
       "    </tr>\n",
       "  </tbody>\n",
       "</table>\n",
       "<p>5 rows × 24 columns</p>\n",
       "</div>"
      ],
      "text/plain": [
       "                    id  click      hour    C1  banner_pos   site_id  \\\n",
       "5616589   1.211469e+19      0  14102210  1005           1  5114c672   \n",
       "31825749  1.028758e+19      0  14102922  1005           0  85f751fd   \n",
       "13548281  1.757268e+19      1  14102413  1005           0  2b1ddb24   \n",
       "11682204  7.256027e+18      0  14102322  1005           0  85f751fd   \n",
       "29186795  1.731978e+18      0  14102904  1005           0  8d7e1373   \n",
       "\n",
       "         site_domain site_category    app_id app_domain  ... device_type  \\\n",
       "5616589     3f2f3819      3e814130  ecad2386   7801e8d9  ...           1   \n",
       "31825749    c4e18dd6      50e219e0  e2fcccd2   5c5a694b  ...           1   \n",
       "13548281    98acf46c      3e814130  ecad2386   7801e8d9  ...           1   \n",
       "11682204    c4e18dd6      50e219e0  8bcb1385   2347f47a  ...           1   \n",
       "29186795    3b953bf0      75fa27f6  ecad2386   7801e8d9  ...           1   \n",
       "\n",
       "         device_conn_type    C14  C15  C16   C17  C18  C19     C20  C21  \n",
       "5616589                 0  21764  216   36  2506    0   35  100076  157  \n",
       "31825749                0   4687  320   50   423    2   39  100148   32  \n",
       "13548281                0  20128  320   50  2303    2   39  100148   23  \n",
       "11682204                0  15708  320   50  1722    0   35      -1   79  \n",
       "29186795                0  22951  320   50  2654    3   38      -1   23  \n",
       "\n",
       "[5 rows x 24 columns]"
      ]
     },
     "execution_count": 7,
     "metadata": {},
     "output_type": "execute_result"
    }
   ],
   "source": [
    "# Explore the training data\n",
    "train_3.head()"
   ]
  },
  {
   "cell_type": "code",
   "execution_count": 8,
   "metadata": {},
   "outputs": [],
   "source": [
    "# set test set naive prediction value as 0.5\n",
    "test['click'] = 0.5\n",
    "# set test set column names\n",
    "test = test[['id', 'click', 'hour', 'C1', 'banner_pos', 'site_id', 'site_domain', 'site_category', 'app_id', 'app_domain', 'app_category', 'device_id', 'device_ip', 'device_model', \n",
    "                    'device_type', 'device_conn_type', 'C14', 'C15', 'C16', 'C17', 'C18', 'C19', 'C20', 'C21']]"
   ]
  },
  {
   "cell_type": "code",
   "execution_count": 9,
   "metadata": {},
   "outputs": [
    {
     "data": {
      "text/plain": [
       "(13015341, 24)"
      ]
     },
     "execution_count": 9,
     "metadata": {},
     "output_type": "execute_result"
    }
   ],
   "source": [
    "test.shape"
   ]
  },
  {
   "cell_type": "code",
   "execution_count": 10,
   "metadata": {},
   "outputs": [
    {
     "data": {
      "text/html": [
       "<div>\n",
       "<style scoped>\n",
       "    .dataframe tbody tr th:only-of-type {\n",
       "        vertical-align: middle;\n",
       "    }\n",
       "\n",
       "    .dataframe tbody tr th {\n",
       "        vertical-align: top;\n",
       "    }\n",
       "\n",
       "    .dataframe thead th {\n",
       "        text-align: right;\n",
       "    }\n",
       "</style>\n",
       "<table border=\"1\" class=\"dataframe\">\n",
       "  <thead>\n",
       "    <tr style=\"text-align: right;\">\n",
       "      <th></th>\n",
       "      <th>id</th>\n",
       "      <th>click</th>\n",
       "      <th>hour</th>\n",
       "      <th>C1</th>\n",
       "      <th>banner_pos</th>\n",
       "      <th>site_id</th>\n",
       "      <th>site_domain</th>\n",
       "      <th>site_category</th>\n",
       "      <th>app_id</th>\n",
       "      <th>app_domain</th>\n",
       "      <th>...</th>\n",
       "      <th>device_type</th>\n",
       "      <th>device_conn_type</th>\n",
       "      <th>C14</th>\n",
       "      <th>C15</th>\n",
       "      <th>C16</th>\n",
       "      <th>C17</th>\n",
       "      <th>C18</th>\n",
       "      <th>C19</th>\n",
       "      <th>C20</th>\n",
       "      <th>C21</th>\n",
       "    </tr>\n",
       "  </thead>\n",
       "  <tbody>\n",
       "    <tr>\n",
       "      <th>count</th>\n",
       "      <td>3.199109e+06</td>\n",
       "      <td>3.199109e+06</td>\n",
       "      <td>3.199109e+06</td>\n",
       "      <td>3.199109e+06</td>\n",
       "      <td>3.199109e+06</td>\n",
       "      <td>3199109</td>\n",
       "      <td>3199109</td>\n",
       "      <td>3199109</td>\n",
       "      <td>3199109</td>\n",
       "      <td>3199109</td>\n",
       "      <td>...</td>\n",
       "      <td>3.199109e+06</td>\n",
       "      <td>3.199109e+06</td>\n",
       "      <td>3.199109e+06</td>\n",
       "      <td>3.199109e+06</td>\n",
       "      <td>3.199109e+06</td>\n",
       "      <td>3.199109e+06</td>\n",
       "      <td>3.199109e+06</td>\n",
       "      <td>3.199109e+06</td>\n",
       "      <td>3.199109e+06</td>\n",
       "      <td>3.199109e+06</td>\n",
       "    </tr>\n",
       "    <tr>\n",
       "      <th>unique</th>\n",
       "      <td>NaN</td>\n",
       "      <td>NaN</td>\n",
       "      <td>NaN</td>\n",
       "      <td>NaN</td>\n",
       "      <td>NaN</td>\n",
       "      <td>3278</td>\n",
       "      <td>4010</td>\n",
       "      <td>23</td>\n",
       "      <td>4586</td>\n",
       "      <td>294</td>\n",
       "      <td>...</td>\n",
       "      <td>NaN</td>\n",
       "      <td>NaN</td>\n",
       "      <td>NaN</td>\n",
       "      <td>NaN</td>\n",
       "      <td>NaN</td>\n",
       "      <td>NaN</td>\n",
       "      <td>NaN</td>\n",
       "      <td>NaN</td>\n",
       "      <td>NaN</td>\n",
       "      <td>NaN</td>\n",
       "    </tr>\n",
       "    <tr>\n",
       "      <th>top</th>\n",
       "      <td>NaN</td>\n",
       "      <td>NaN</td>\n",
       "      <td>NaN</td>\n",
       "      <td>NaN</td>\n",
       "      <td>NaN</td>\n",
       "      <td>85f751fd</td>\n",
       "      <td>c4e18dd6</td>\n",
       "      <td>50e219e0</td>\n",
       "      <td>ecad2386</td>\n",
       "      <td>7801e8d9</td>\n",
       "      <td>...</td>\n",
       "      <td>NaN</td>\n",
       "      <td>NaN</td>\n",
       "      <td>NaN</td>\n",
       "      <td>NaN</td>\n",
       "      <td>NaN</td>\n",
       "      <td>NaN</td>\n",
       "      <td>NaN</td>\n",
       "      <td>NaN</td>\n",
       "      <td>NaN</td>\n",
       "      <td>NaN</td>\n",
       "    </tr>\n",
       "    <tr>\n",
       "      <th>freq</th>\n",
       "      <td>NaN</td>\n",
       "      <td>NaN</td>\n",
       "      <td>NaN</td>\n",
       "      <td>NaN</td>\n",
       "      <td>NaN</td>\n",
       "      <td>1117161</td>\n",
       "      <td>1160312</td>\n",
       "      <td>1273551</td>\n",
       "      <td>2081948</td>\n",
       "      <td>2199153</td>\n",
       "      <td>...</td>\n",
       "      <td>NaN</td>\n",
       "      <td>NaN</td>\n",
       "      <td>NaN</td>\n",
       "      <td>NaN</td>\n",
       "      <td>NaN</td>\n",
       "      <td>NaN</td>\n",
       "      <td>NaN</td>\n",
       "      <td>NaN</td>\n",
       "      <td>NaN</td>\n",
       "      <td>NaN</td>\n",
       "    </tr>\n",
       "    <tr>\n",
       "      <th>mean</th>\n",
       "      <td>9.221241e+18</td>\n",
       "      <td>1.697601e-01</td>\n",
       "      <td>1.410251e+07</td>\n",
       "      <td>1.004971e+03</td>\n",
       "      <td>2.939415e-01</td>\n",
       "      <td>NaN</td>\n",
       "      <td>NaN</td>\n",
       "      <td>NaN</td>\n",
       "      <td>NaN</td>\n",
       "      <td>NaN</td>\n",
       "      <td>...</td>\n",
       "      <td>1.018046e+00</td>\n",
       "      <td>3.294061e-01</td>\n",
       "      <td>1.858709e+04</td>\n",
       "      <td>3.188324e+02</td>\n",
       "      <td>6.017037e+01</td>\n",
       "      <td>2.081027e+03</td>\n",
       "      <td>1.432369e+00</td>\n",
       "      <td>2.217995e+02</td>\n",
       "      <td>5.364687e+04</td>\n",
       "      <td>8.052746e+01</td>\n",
       "    </tr>\n",
       "    <tr>\n",
       "      <th>std</th>\n",
       "      <td>5.325019e+18</td>\n",
       "      <td>3.754219e-01</td>\n",
       "      <td>2.675345e+02</td>\n",
       "      <td>1.116570e+00</td>\n",
       "      <td>5.107964e-01</td>\n",
       "      <td>NaN</td>\n",
       "      <td>NaN</td>\n",
       "      <td>NaN</td>\n",
       "      <td>NaN</td>\n",
       "      <td>NaN</td>\n",
       "      <td>...</td>\n",
       "      <td>5.407373e-01</td>\n",
       "      <td>8.574898e-01</td>\n",
       "      <td>4.972518e+03</td>\n",
       "      <td>2.145895e+01</td>\n",
       "      <td>4.760673e+01</td>\n",
       "      <td>6.093760e+02</td>\n",
       "      <td>1.323083e+00</td>\n",
       "      <td>3.495668e+02</td>\n",
       "      <td>4.992757e+04</td>\n",
       "      <td>6.698060e+01</td>\n",
       "    </tr>\n",
       "    <tr>\n",
       "      <th>min</th>\n",
       "      <td>6.644102e+12</td>\n",
       "      <td>0.000000e+00</td>\n",
       "      <td>1.410210e+07</td>\n",
       "      <td>1.001000e+03</td>\n",
       "      <td>0.000000e+00</td>\n",
       "      <td>NaN</td>\n",
       "      <td>NaN</td>\n",
       "      <td>NaN</td>\n",
       "      <td>NaN</td>\n",
       "      <td>NaN</td>\n",
       "      <td>...</td>\n",
       "      <td>0.000000e+00</td>\n",
       "      <td>0.000000e+00</td>\n",
       "      <td>3.750000e+02</td>\n",
       "      <td>1.200000e+02</td>\n",
       "      <td>2.000000e+01</td>\n",
       "      <td>1.120000e+02</td>\n",
       "      <td>0.000000e+00</td>\n",
       "      <td>3.300000e+01</td>\n",
       "      <td>-1.000000e+00</td>\n",
       "      <td>1.000000e+00</td>\n",
       "    </tr>\n",
       "    <tr>\n",
       "      <th>25%</th>\n",
       "      <td>4.609702e+18</td>\n",
       "      <td>0.000000e+00</td>\n",
       "      <td>1.410222e+07</td>\n",
       "      <td>1.005000e+03</td>\n",
       "      <td>0.000000e+00</td>\n",
       "      <td>NaN</td>\n",
       "      <td>NaN</td>\n",
       "      <td>NaN</td>\n",
       "      <td>NaN</td>\n",
       "      <td>NaN</td>\n",
       "      <td>...</td>\n",
       "      <td>1.000000e+00</td>\n",
       "      <td>0.000000e+00</td>\n",
       "      <td>1.661500e+04</td>\n",
       "      <td>3.200000e+02</td>\n",
       "      <td>5.000000e+01</td>\n",
       "      <td>1.800000e+03</td>\n",
       "      <td>0.000000e+00</td>\n",
       "      <td>3.500000e+01</td>\n",
       "      <td>-1.000000e+00</td>\n",
       "      <td>2.300000e+01</td>\n",
       "    </tr>\n",
       "    <tr>\n",
       "      <th>50%</th>\n",
       "      <td>9.218715e+18</td>\n",
       "      <td>0.000000e+00</td>\n",
       "      <td>1.410251e+07</td>\n",
       "      <td>1.005000e+03</td>\n",
       "      <td>0.000000e+00</td>\n",
       "      <td>NaN</td>\n",
       "      <td>NaN</td>\n",
       "      <td>NaN</td>\n",
       "      <td>NaN</td>\n",
       "      <td>NaN</td>\n",
       "      <td>...</td>\n",
       "      <td>1.000000e+00</td>\n",
       "      <td>0.000000e+00</td>\n",
       "      <td>2.015300e+04</td>\n",
       "      <td>3.200000e+02</td>\n",
       "      <td>5.000000e+01</td>\n",
       "      <td>2.299000e+03</td>\n",
       "      <td>2.000000e+00</td>\n",
       "      <td>3.900000e+01</td>\n",
       "      <td>1.000550e+05</td>\n",
       "      <td>6.100000e+01</td>\n",
       "    </tr>\n",
       "    <tr>\n",
       "      <th>75%</th>\n",
       "      <td>1.383416e+19</td>\n",
       "      <td>0.000000e+00</td>\n",
       "      <td>1.410280e+07</td>\n",
       "      <td>1.005000e+03</td>\n",
       "      <td>1.000000e+00</td>\n",
       "      <td>NaN</td>\n",
       "      <td>NaN</td>\n",
       "      <td>NaN</td>\n",
       "      <td>NaN</td>\n",
       "      <td>NaN</td>\n",
       "      <td>...</td>\n",
       "      <td>1.000000e+00</td>\n",
       "      <td>0.000000e+00</td>\n",
       "      <td>2.177000e+04</td>\n",
       "      <td>3.200000e+02</td>\n",
       "      <td>5.000000e+01</td>\n",
       "      <td>2.506000e+03</td>\n",
       "      <td>3.000000e+00</td>\n",
       "      <td>1.690000e+02</td>\n",
       "      <td>1.000940e+05</td>\n",
       "      <td>9.100000e+01</td>\n",
       "    </tr>\n",
       "    <tr>\n",
       "      <th>max</th>\n",
       "      <td>1.844674e+19</td>\n",
       "      <td>1.000000e+00</td>\n",
       "      <td>1.410292e+07</td>\n",
       "      <td>1.012000e+03</td>\n",
       "      <td>7.000000e+00</td>\n",
       "      <td>NaN</td>\n",
       "      <td>NaN</td>\n",
       "      <td>NaN</td>\n",
       "      <td>NaN</td>\n",
       "      <td>NaN</td>\n",
       "      <td>...</td>\n",
       "      <td>5.000000e+00</td>\n",
       "      <td>5.000000e+00</td>\n",
       "      <td>2.383600e+04</td>\n",
       "      <td>1.024000e+03</td>\n",
       "      <td>1.024000e+03</td>\n",
       "      <td>2.729000e+03</td>\n",
       "      <td>3.000000e+00</td>\n",
       "      <td>1.959000e+03</td>\n",
       "      <td>1.002480e+05</td>\n",
       "      <td>2.530000e+02</td>\n",
       "    </tr>\n",
       "  </tbody>\n",
       "</table>\n",
       "<p>11 rows × 24 columns</p>\n",
       "</div>"
      ],
      "text/plain": [
       "                  id         click          hour            C1    banner_pos  \\\n",
       "count   3.199109e+06  3.199109e+06  3.199109e+06  3.199109e+06  3.199109e+06   \n",
       "unique           NaN           NaN           NaN           NaN           NaN   \n",
       "top              NaN           NaN           NaN           NaN           NaN   \n",
       "freq             NaN           NaN           NaN           NaN           NaN   \n",
       "mean    9.221241e+18  1.697601e-01  1.410251e+07  1.004971e+03  2.939415e-01   \n",
       "std     5.325019e+18  3.754219e-01  2.675345e+02  1.116570e+00  5.107964e-01   \n",
       "min     6.644102e+12  0.000000e+00  1.410210e+07  1.001000e+03  0.000000e+00   \n",
       "25%     4.609702e+18  0.000000e+00  1.410222e+07  1.005000e+03  0.000000e+00   \n",
       "50%     9.218715e+18  0.000000e+00  1.410251e+07  1.005000e+03  0.000000e+00   \n",
       "75%     1.383416e+19  0.000000e+00  1.410280e+07  1.005000e+03  1.000000e+00   \n",
       "max     1.844674e+19  1.000000e+00  1.410292e+07  1.012000e+03  7.000000e+00   \n",
       "\n",
       "         site_id site_domain site_category    app_id app_domain  ...  \\\n",
       "count    3199109     3199109       3199109   3199109    3199109  ...   \n",
       "unique      3278        4010            23      4586        294  ...   \n",
       "top     85f751fd    c4e18dd6      50e219e0  ecad2386   7801e8d9  ...   \n",
       "freq     1117161     1160312       1273551   2081948    2199153  ...   \n",
       "mean         NaN         NaN           NaN       NaN        NaN  ...   \n",
       "std          NaN         NaN           NaN       NaN        NaN  ...   \n",
       "min          NaN         NaN           NaN       NaN        NaN  ...   \n",
       "25%          NaN         NaN           NaN       NaN        NaN  ...   \n",
       "50%          NaN         NaN           NaN       NaN        NaN  ...   \n",
       "75%          NaN         NaN           NaN       NaN        NaN  ...   \n",
       "max          NaN         NaN           NaN       NaN        NaN  ...   \n",
       "\n",
       "         device_type device_conn_type           C14           C15  \\\n",
       "count   3.199109e+06     3.199109e+06  3.199109e+06  3.199109e+06   \n",
       "unique           NaN              NaN           NaN           NaN   \n",
       "top              NaN              NaN           NaN           NaN   \n",
       "freq             NaN              NaN           NaN           NaN   \n",
       "mean    1.018046e+00     3.294061e-01  1.858709e+04  3.188324e+02   \n",
       "std     5.407373e-01     8.574898e-01  4.972518e+03  2.145895e+01   \n",
       "min     0.000000e+00     0.000000e+00  3.750000e+02  1.200000e+02   \n",
       "25%     1.000000e+00     0.000000e+00  1.661500e+04  3.200000e+02   \n",
       "50%     1.000000e+00     0.000000e+00  2.015300e+04  3.200000e+02   \n",
       "75%     1.000000e+00     0.000000e+00  2.177000e+04  3.200000e+02   \n",
       "max     5.000000e+00     5.000000e+00  2.383600e+04  1.024000e+03   \n",
       "\n",
       "                 C16           C17           C18           C19           C20  \\\n",
       "count   3.199109e+06  3.199109e+06  3.199109e+06  3.199109e+06  3.199109e+06   \n",
       "unique           NaN           NaN           NaN           NaN           NaN   \n",
       "top              NaN           NaN           NaN           NaN           NaN   \n",
       "freq             NaN           NaN           NaN           NaN           NaN   \n",
       "mean    6.017037e+01  2.081027e+03  1.432369e+00  2.217995e+02  5.364687e+04   \n",
       "std     4.760673e+01  6.093760e+02  1.323083e+00  3.495668e+02  4.992757e+04   \n",
       "min     2.000000e+01  1.120000e+02  0.000000e+00  3.300000e+01 -1.000000e+00   \n",
       "25%     5.000000e+01  1.800000e+03  0.000000e+00  3.500000e+01 -1.000000e+00   \n",
       "50%     5.000000e+01  2.299000e+03  2.000000e+00  3.900000e+01  1.000550e+05   \n",
       "75%     5.000000e+01  2.506000e+03  3.000000e+00  1.690000e+02  1.000940e+05   \n",
       "max     1.024000e+03  2.729000e+03  3.000000e+00  1.959000e+03  1.002480e+05   \n",
       "\n",
       "                 C21  \n",
       "count   3.199109e+06  \n",
       "unique           NaN  \n",
       "top              NaN  \n",
       "freq             NaN  \n",
       "mean    8.052746e+01  \n",
       "std     6.698060e+01  \n",
       "min     1.000000e+00  \n",
       "25%     2.300000e+01  \n",
       "50%     6.100000e+01  \n",
       "75%     9.100000e+01  \n",
       "max     2.530000e+02  \n",
       "\n",
       "[11 rows x 24 columns]"
      ]
     },
     "execution_count": 10,
     "metadata": {},
     "output_type": "execute_result"
    }
   ],
   "source": [
    "train_3.describe(include='all')"
   ]
  },
  {
   "cell_type": "code",
   "execution_count": 11,
   "metadata": {},
   "outputs": [],
   "source": [
    "# # concat all data to explore\n",
    "# df = pd.concat([train, test])\n",
    "# # transform into a datatable just in case of speed limit\n",
    "# all_dt = dt.Frame(df)"
   ]
  },
  {
   "cell_type": "markdown",
   "metadata": {},
   "source": [
    "## Categorical Data Encoding\n",
    "\n",
    "Category with names:\n",
    "* id: drop\n",
    "* site categories:\n",
    "  * site_id: base 5 encoding\n",
    "  * site_domain: base 5 encoding\n",
    "  * site_category: base 10 encoding\n",
    "* app cats:\n",
    "  * app_id: base 5 encoding\n",
    "  * app_domain: one-hot encoding\n",
    "  * app_category: base 10 encoding\n",
    "* device cats:\n",
    "  * device_id: one-hot encoding\n",
    "  * device_ip: drop\n",
    "  * device_model: base 10 encoding\n",
    "\n",
    "\n",
    "Category without names:\n",
    "* C1: stay same\n",
    "* C14: base 5 encoding\n",
    "* C15: stay same\n",
    "* C16: stay same\n",
    "* C17: base 5 encoding\n",
    "* C18: stay same\n",
    "* C19: base 5 encoding\n",
    "* C20: base 5 encoding\n",
    "* C21: base 5 encoding"
   ]
  },
  {
   "cell_type": "code",
   "execution_count": 12,
   "metadata": {},
   "outputs": [],
   "source": [
    "# drop id in column\n",
    "del train_3['id']\n",
    "del test['id']"
   ]
  },
  {
   "cell_type": "code",
   "execution_count": 13,
   "metadata": {},
   "outputs": [],
   "source": [
    "# define a function to transform skewed categorical value based on frequency\n",
    "def categorical_replace(train_data, test_data, column, pct = 0.01):\n",
    "    \"\"\"\n",
    "    train_data: train dataset to input\n",
    "    test_data: test to input\n",
    "    column: column name string to input\n",
    "    pct: transform frequency treshold, default 0.01\n",
    "    \"\"\"\n",
    "    cond = train_data[column].value_counts(normalize = True) > pct\n",
    "    non_others = cond[cond].index  # define a list to save main category\n",
    "\n",
    "    train_data['temp'] = 'other'\n",
    "    train_data.loc[train_data[column].isin(non_others),'temp'] = train_data[column]\n",
    "    train_data[column] = train_data['temp'].values\n",
    "    del train_data['temp']\n",
    "    print(\"Train Test Replace Finished!\")\n",
    "\n",
    "    test_data['temp'] = 'other'\n",
    "    test_data.loc[test_data[column].isin(non_others),'temp'] = test_data[column]\n",
    "    test_data[column] = test_data['temp'].values\n",
    "    del test_data['temp']\n",
    "    print(\"Test data replace finished!\")"
   ]
  },
  {
   "cell_type": "code",
   "execution_count": 14,
   "metadata": {},
   "outputs": [],
   "source": [
    "# define function to draw category distribution\n",
    "def hist_bar_cat(data, column):\n",
    "    categories = data[column].value_counts().index.astype('str')\n",
    "    counts = data[column].value_counts().values\n",
    "    plt.bar(categories, counts, width=0.5)\n",
    "    plt.title('Distribution for column {}'.format(column))"
   ]
  },
  {
   "cell_type": "markdown",
   "metadata": {},
   "source": [
    "### Site Categories"
   ]
  },
  {
   "cell_type": "markdown",
   "metadata": {},
   "source": [
    "#### site_id"
   ]
  },
  {
   "cell_type": "code",
   "execution_count": 15,
   "metadata": {},
   "outputs": [
    {
     "data": {
      "text/plain": [
       "3278"
      ]
     },
     "execution_count": 15,
     "metadata": {},
     "output_type": "execute_result"
    }
   ],
   "source": [
    "# check the number of unique values for each column\n",
    "train_3['site_id'].nunique()"
   ]
  },
  {
   "cell_type": "code",
   "execution_count": 16,
   "metadata": {},
   "outputs": [
    {
     "data": {
      "text/plain": [
       "43.94039373056989"
      ]
     },
     "execution_count": 16,
     "metadata": {},
     "output_type": "execute_result"
    }
   ],
   "source": [
    "train_3['site_id'].value_counts(normalize = True).skew()\n",
    "# as shown below, the skewness it is quite high"
   ]
  },
  {
   "cell_type": "code",
   "execution_count": 17,
   "metadata": {},
   "outputs": [
    {
     "name": "stdout",
     "output_type": "stream",
     "text": [
      "Train Test Replace Finished!\n",
      "Test data replace finished!\n"
     ]
    }
   ],
   "source": [
    "categorical_replace(train_3, test, 'site_id')"
   ]
  },
  {
   "cell_type": "code",
   "execution_count": 18,
   "metadata": {},
   "outputs": [
    {
     "data": {
      "image/png": "[encoded data removed]",
      "text/plain": [
       "<Figure size 432x288 with 1 Axes>"
      ]
     },
     "metadata": {
      "needs_background": "light"
     },
     "output_type": "display_data"
    }
   ],
   "source": [
    "hist_bar_cat(train_3, \"site_id\")\n",
    "# much better"
   ]
  },
  {
   "cell_type": "markdown",
   "metadata": {},
   "source": [
    "#### site_domain"
   ]
  },
  {
   "cell_type": "code",
   "execution_count": 19,
   "metadata": {},
   "outputs": [
    {
     "data": {
      "text/plain": [
       "4010"
      ]
     },
     "execution_count": 19,
     "metadata": {},
     "output_type": "execute_result"
    }
   ],
   "source": [
    "train_3['site_domain'].nunique()\n",
    "# check non-dup value"
   ]
  },
  {
   "cell_type": "code",
   "execution_count": 20,
   "metadata": {},
   "outputs": [
    {
     "data": {
      "text/plain": [
       "48.12296789950277"
      ]
     },
     "execution_count": 20,
     "metadata": {},
     "output_type": "execute_result"
    }
   ],
   "source": [
    "train_3['site_domain'].value_counts(normalize = True).skew()\n",
    "# as shown below, the skewness it is quite high"
   ]
  },
  {
   "cell_type": "code",
   "execution_count": 21,
   "metadata": {},
   "outputs": [
    {
     "name": "stdout",
     "output_type": "stream",
     "text": [
      "Train Test Replace Finished!\n",
      "Test data replace finished!\n"
     ]
    }
   ],
   "source": [
    "categorical_replace(train_3, test, 'site_domain')"
   ]
  },
  {
   "cell_type": "code",
   "execution_count": 22,
   "metadata": {},
   "outputs": [
    {
     "data": {
      "image/png": "[encoded data removed]",
      "text/plain": [
       "<Figure size 432x288 with 1 Axes>"
      ]
     },
     "metadata": {
      "needs_background": "light"
     },
     "output_type": "display_data"
    }
   ],
   "source": [
    "hist_bar_cat(train_3, \"site_domain\")\n",
    "# much better"
   ]
  },
  {
   "cell_type": "markdown",
   "metadata": {},
   "source": [
    "#### site_category\n",
    "\n",
    "Use Label Encoder Later"
   ]
  },
  {
   "cell_type": "code",
   "execution_count": 23,
   "metadata": {},
   "outputs": [
    {
     "data": {
      "text/plain": [
       "23"
      ]
     },
     "execution_count": 23,
     "metadata": {},
     "output_type": "execute_result"
    }
   ],
   "source": [
    "train_3['site_category'].nunique()"
   ]
  },
  {
   "cell_type": "markdown",
   "metadata": {},
   "source": [
    "### App Categories\n",
    "#### app_id"
   ]
  },
  {
   "cell_type": "code",
   "execution_count": 24,
   "metadata": {},
   "outputs": [
    {
     "data": {
      "text/plain": [
       "4586"
      ]
     },
     "execution_count": 24,
     "metadata": {},
     "output_type": "execute_result"
    }
   ],
   "source": [
    "train_3['app_id'].nunique()"
   ]
  },
  {
   "cell_type": "code",
   "execution_count": 25,
   "metadata": {},
   "outputs": [
    {
     "data": {
      "text/plain": [
       "66.7564684913619"
      ]
     },
     "execution_count": 25,
     "metadata": {},
     "output_type": "execute_result"
    }
   ],
   "source": [
    "train_3['app_id'].value_counts(normalize = True).skew()\n",
    "# as shown below, the skewness it is quite high"
   ]
  },
  {
   "cell_type": "code",
   "execution_count": 26,
   "metadata": {},
   "outputs": [
    {
     "name": "stdout",
     "output_type": "stream",
     "text": [
      "Train Test Replace Finished!\n",
      "Test data replace finished!\n"
     ]
    },
    {
     "data": {
      "image/png": "[encoded data removed]",
      "text/plain": [
       "<Figure size 432x288 with 1 Axes>"
      ]
     },
     "metadata": {
      "needs_background": "light"
     },
     "output_type": "display_data"
    }
   ],
   "source": [
    "categorical_replace(train_3, test, 'app_id')\n",
    "hist_bar_cat(train_3, \"app_id\")"
   ]
  },
  {
   "cell_type": "markdown",
   "metadata": {},
   "source": [
    "#### app_domain"
   ]
  },
  {
   "cell_type": "code",
   "execution_count": 27,
   "metadata": {},
   "outputs": [
    {
     "data": {
      "text/plain": [
       "294"
      ]
     },
     "execution_count": 27,
     "metadata": {},
     "output_type": "execute_result"
    }
   ],
   "source": [
    "train_3['app_domain'].nunique()"
   ]
  },
  {
   "cell_type": "code",
   "execution_count": 28,
   "metadata": {},
   "outputs": [
    {
     "data": {
      "text/plain": [
       "16.285788826071837"
      ]
     },
     "execution_count": 28,
     "metadata": {},
     "output_type": "execute_result"
    }
   ],
   "source": [
    "train_3['app_domain'].value_counts(normalize = True).skew()\n",
    "# as shown below, the skewness it is quite high"
   ]
  },
  {
   "cell_type": "code",
   "execution_count": 29,
   "metadata": {},
   "outputs": [
    {
     "name": "stdout",
     "output_type": "stream",
     "text": [
      "Train Test Replace Finished!\n",
      "Test data replace finished!\n"
     ]
    },
    {
     "data": {
      "image/png": "[encoded data removed]",
      "text/plain": [
       "<Figure size 432x288 with 1 Axes>"
      ]
     },
     "metadata": {
      "needs_background": "light"
     },
     "output_type": "display_data"
    }
   ],
   "source": [
    "categorical_replace(train_3, test, 'app_domain', pct = 0.05)\n",
    "hist_bar_cat(train_3, \"app_domain\")"
   ]
  },
  {
   "cell_type": "markdown",
   "metadata": {},
   "source": [
    "#### app_category\n",
    "\n",
    "Label Encode Later"
   ]
  },
  {
   "cell_type": "code",
   "execution_count": 30,
   "metadata": {},
   "outputs": [
    {
     "data": {
      "text/plain": [
       "27"
      ]
     },
     "execution_count": 30,
     "metadata": {},
     "output_type": "execute_result"
    }
   ],
   "source": [
    "train_3['app_category'].nunique()"
   ]
  },
  {
   "cell_type": "markdown",
   "metadata": {},
   "source": [
    "### Device Categoris\n",
    "#### device_id"
   ]
  },
  {
   "cell_type": "code",
   "execution_count": 31,
   "metadata": {},
   "outputs": [
    {
     "data": {
      "text/plain": [
       "646.6309681657631"
      ]
     },
     "execution_count": 31,
     "metadata": {},
     "output_type": "execute_result"
    }
   ],
   "source": [
    "train_3['device_id'].value_counts(normalize = True).skew()\n",
    "# as shown below, the skewness it is quite high"
   ]
  },
  {
   "cell_type": "code",
   "execution_count": 32,
   "metadata": {},
   "outputs": [
    {
     "name": "stdout",
     "output_type": "stream",
     "text": [
      "Train Test Replace Finished!\n",
      "Test data replace finished!\n"
     ]
    },
    {
     "data": {
      "image/png": "[encoded data removed]",
      "text/plain": [
       "<Figure size 432x288 with 1 Axes>"
      ]
     },
     "metadata": {
      "needs_background": "light"
     },
     "output_type": "display_data"
    }
   ],
   "source": [
    "categorical_replace(train_3, test, 'device_id', pct = 0.0005)\n",
    "hist_bar_cat(train_3, \"device_id\")"
   ]
  },
  {
   "cell_type": "markdown",
   "metadata": {},
   "source": [
    "#### device_ip"
   ]
  },
  {
   "cell_type": "code",
   "execution_count": 33,
   "metadata": {},
   "outputs": [
    {
     "data": {
      "text/plain": [
       "252.18416764934165"
      ]
     },
     "execution_count": 33,
     "metadata": {},
     "output_type": "execute_result"
    }
   ],
   "source": [
    "train_3['device_ip'].value_counts(normalize = True).skew()\n",
    "# as shown below, the skewness it is quite high"
   ]
  },
  {
   "cell_type": "code",
   "execution_count": 34,
   "metadata": {},
   "outputs": [
    {
     "name": "stdout",
     "output_type": "stream",
     "text": [
      "Train Test Replace Finished!\n",
      "Test data replace finished!\n"
     ]
    },
    {
     "data": {
      "image/png": "[encoded data removed]",
      "text/plain": [
       "<Figure size 432x288 with 1 Axes>"
      ]
     },
     "metadata": {
      "needs_background": "light"
     },
     "output_type": "display_data"
    }
   ],
   "source": [
    "categorical_replace(train_3, test, 'device_ip')\n",
    "hist_bar_cat(train_3, \"device_ip\")"
   ]
  },
  {
   "cell_type": "markdown",
   "metadata": {},
   "source": [
    "This variable is too skew that we decide to drop it."
   ]
  },
  {
   "cell_type": "code",
   "execution_count": 35,
   "metadata": {},
   "outputs": [],
   "source": [
    "del train_3['device_ip']\n",
    "del test['device_ip']"
   ]
  },
  {
   "cell_type": "markdown",
   "metadata": {},
   "source": [
    "#### device_model"
   ]
  },
  {
   "cell_type": "code",
   "execution_count": 36,
   "metadata": {},
   "outputs": [
    {
     "data": {
      "text/plain": [
       "25.976421186589164"
      ]
     },
     "execution_count": 36,
     "metadata": {},
     "output_type": "execute_result"
    }
   ],
   "source": [
    "train_3['device_model'].value_counts(normalize = True).skew()\n",
    "# as shown below, the skewness it is quite high"
   ]
  },
  {
   "cell_type": "code",
   "execution_count": 37,
   "metadata": {},
   "outputs": [
    {
     "name": "stdout",
     "output_type": "stream",
     "text": [
      "Train Test Replace Finished!\n",
      "Test data replace finished!\n"
     ]
    },
    {
     "data": {
      "image/png": "[encoded data removed]",
      "text/plain": [
       "<Figure size 432x288 with 1 Axes>"
      ]
     },
     "metadata": {
      "needs_background": "light"
     },
     "output_type": "display_data"
    }
   ],
   "source": [
    "categorical_replace(train_3, test, 'device_model')\n",
    "hist_bar_cat(train_3, \"device_model\")"
   ]
  },
  {
   "cell_type": "markdown",
   "metadata": {},
   "source": [
    "### Anonymized Categorical Variables"
   ]
  },
  {
   "cell_type": "markdown",
   "metadata": {},
   "source": [
    "#### C14"
   ]
  },
  {
   "cell_type": "code",
   "execution_count": 38,
   "metadata": {},
   "outputs": [
    {
     "data": {
      "text/plain": [
       "2284"
      ]
     },
     "execution_count": 38,
     "metadata": {},
     "output_type": "execute_result"
    }
   ],
   "source": [
    "train_3['C14'].nunique()"
   ]
  },
  {
   "cell_type": "code",
   "execution_count": 39,
   "metadata": {},
   "outputs": [
    {
     "data": {
      "text/plain": [
       "7.99323307497523"
      ]
     },
     "execution_count": 39,
     "metadata": {},
     "output_type": "execute_result"
    }
   ],
   "source": [
    "train_3['C14'].value_counts(normalize = True).skew()\n",
    "# as shown below, the skewness it is quite high"
   ]
  },
  {
   "cell_type": "code",
   "execution_count": 40,
   "metadata": {},
   "outputs": [
    {
     "name": "stdout",
     "output_type": "stream",
     "text": [
      "Train Test Replace Finished!\n",
      "Test data replace finished!\n"
     ]
    },
    {
     "data": {
      "image/png": "[encoded data removed]",
      "text/plain": [
       "<Figure size 432x288 with 1 Axes>"
      ]
     },
     "metadata": {
      "needs_background": "light"
     },
     "output_type": "display_data"
    }
   ],
   "source": [
    "categorical_replace(train_3, test, 'C14', pct = 0.01)\n",
    "hist_bar_cat(train_3, \"C14\")"
   ]
  },
  {
   "cell_type": "markdown",
   "metadata": {},
   "source": [
    "#### C17"
   ]
  },
  {
   "cell_type": "code",
   "execution_count": 41,
   "metadata": {},
   "outputs": [
    {
     "data": {
      "text/plain": [
       "405"
      ]
     },
     "execution_count": 41,
     "metadata": {},
     "output_type": "execute_result"
    }
   ],
   "source": [
    "train_3['C17'].nunique()"
   ]
  },
  {
   "cell_type": "code",
   "execution_count": 42,
   "metadata": {},
   "outputs": [
    {
     "data": {
      "text/plain": [
       "10.171913349163981"
      ]
     },
     "execution_count": 42,
     "metadata": {},
     "output_type": "execute_result"
    }
   ],
   "source": [
    "train_3['C17'].value_counts(normalize = True).skew()\n",
    "# as shown below, the skewness it is quite high"
   ]
  },
  {
   "cell_type": "code",
   "execution_count": 43,
   "metadata": {},
   "outputs": [
    {
     "name": "stdout",
     "output_type": "stream",
     "text": [
      "Train Test Replace Finished!\n",
      "Test data replace finished!\n"
     ]
    },
    {
     "data": {
      "image/png": "[encoded data removed]",
      "text/plain": [
       "<Figure size 432x288 with 1 Axes>"
      ]
     },
     "metadata": {
      "needs_background": "light"
     },
     "output_type": "display_data"
    }
   ],
   "source": [
    "categorical_replace(train_3, test, 'C17')\n",
    "hist_bar_cat(train_3, \"C17\")"
   ]
  },
  {
   "cell_type": "markdown",
   "metadata": {},
   "source": [
    "#### C19"
   ]
  },
  {
   "cell_type": "code",
   "execution_count": 44,
   "metadata": {},
   "outputs": [
    {
     "data": {
      "text/plain": [
       "65"
      ]
     },
     "execution_count": 44,
     "metadata": {},
     "output_type": "execute_result"
    }
   ],
   "source": [
    "train_3['C19'].nunique()"
   ]
  },
  {
   "cell_type": "code",
   "execution_count": 45,
   "metadata": {},
   "outputs": [
    {
     "data": {
      "text/plain": [
       "5.252812769397987"
      ]
     },
     "execution_count": 45,
     "metadata": {},
     "output_type": "execute_result"
    }
   ],
   "source": [
    "train_3['C19'].value_counts(normalize = True).skew()\n",
    "# as shown below, the skewness it is quite high"
   ]
  },
  {
   "cell_type": "code",
   "execution_count": 46,
   "metadata": {},
   "outputs": [
    {
     "name": "stdout",
     "output_type": "stream",
     "text": [
      "Train Test Replace Finished!\n",
      "Test data replace finished!\n"
     ]
    },
    {
     "data": {
      "image/png": "[encoded data removed]",
      "text/plain": [
       "<Figure size 432x288 with 1 Axes>"
      ]
     },
     "metadata": {
      "needs_background": "light"
     },
     "output_type": "display_data"
    }
   ],
   "source": [
    "categorical_replace(train_3, test, 'C19')\n",
    "hist_bar_cat(train_3, \"C19\")"
   ]
  },
  {
   "cell_type": "markdown",
   "metadata": {},
   "source": [
    "#### C20"
   ]
  },
  {
   "cell_type": "code",
   "execution_count": 47,
   "metadata": {},
   "outputs": [
    {
     "data": {
      "text/plain": [
       "168"
      ]
     },
     "execution_count": 47,
     "metadata": {},
     "output_type": "execute_result"
    }
   ],
   "source": [
    "train_3['C20'].nunique()"
   ]
  },
  {
   "cell_type": "code",
   "execution_count": 48,
   "metadata": {},
   "outputs": [
    {
     "data": {
      "text/plain": [
       "11.87592669177848"
      ]
     },
     "execution_count": 48,
     "metadata": {},
     "output_type": "execute_result"
    }
   ],
   "source": [
    "train_3['C20'].value_counts(normalize = True).skew()\n",
    "# as shown below, the skewness it is quite high"
   ]
  },
  {
   "cell_type": "code",
   "execution_count": 49,
   "metadata": {},
   "outputs": [
    {
     "name": "stdout",
     "output_type": "stream",
     "text": [
      "Train Test Replace Finished!\n",
      "Test data replace finished!\n"
     ]
    },
    {
     "data": {
      "image/png": "[encoded data removed]",
      "text/plain": [
       "<Figure size 432x288 with 1 Axes>"
      ]
     },
     "metadata": {
      "needs_background": "light"
     },
     "output_type": "display_data"
    }
   ],
   "source": [
    "categorical_replace(train_3, test, 'C20')\n",
    "hist_bar_cat(train_3, \"C20\")"
   ]
  },
  {
   "cell_type": "markdown",
   "metadata": {},
   "source": [
    "#### C21"
   ]
  },
  {
   "cell_type": "code",
   "execution_count": 50,
   "metadata": {},
   "outputs": [
    {
     "data": {
      "text/plain": [
       "55"
      ]
     },
     "execution_count": 50,
     "metadata": {},
     "output_type": "execute_result"
    }
   ],
   "source": [
    "train_3['C21'].nunique()"
   ]
  },
  {
   "cell_type": "code",
   "execution_count": 51,
   "metadata": {},
   "outputs": [
    {
     "data": {
      "text/plain": [
       "3.6204617840011357"
      ]
     },
     "execution_count": 51,
     "metadata": {},
     "output_type": "execute_result"
    }
   ],
   "source": [
    "train_3['C21'].value_counts(normalize = True).skew()\n",
    "# as shown below, the skewness it is not quite high"
   ]
  },
  {
   "cell_type": "code",
   "execution_count": 52,
   "metadata": {},
   "outputs": [
    {
     "name": "stdout",
     "output_type": "stream",
     "text": [
      "Train Test Replace Finished!\n",
      "Test data replace finished!\n"
     ]
    }
   ],
   "source": [
    "categorical_replace(train_3, test, 'C21')"
   ]
  },
  {
   "cell_type": "code",
   "execution_count": 53,
   "metadata": {},
   "outputs": [
    {
     "data": {
      "image/png": "[encoded data removed]",
      "text/plain": [
       "<Figure size 432x288 with 1 Axes>"
      ]
     },
     "metadata": {
      "needs_background": "light"
     },
     "output_type": "display_data"
    }
   ],
   "source": [
    "hist_bar_cat(train_3, \"C21\")"
   ]
  },
  {
   "cell_type": "markdown",
   "metadata": {},
   "source": [
    "### Encoding"
   ]
  },
  {
   "cell_type": "markdown",
   "metadata": {},
   "source": [
    "#### One-hot"
   ]
  },
  {
   "cell_type": "code",
   "execution_count": 54,
   "metadata": {},
   "outputs": [],
   "source": [
    "# one-hot encoding: app_domain, device_id\n",
    "encoder=ce.OneHotEncoder(cols=['app_domain','device_id'],handle_unknown='return_nan',return_df=True,use_cat_names=True)\n",
    "one_hot_encoder = encoder.fit(train_3)"
   ]
  },
  {
   "cell_type": "code",
   "execution_count": 55,
   "metadata": {},
   "outputs": [],
   "source": [
    "train_3 = one_hot_encoder.transform(train_3)"
   ]
  },
  {
   "cell_type": "code",
   "execution_count": 56,
   "metadata": {},
   "outputs": [],
   "source": [
    "test = one_hot_encoder.transform(test)"
   ]
  },
  {
   "cell_type": "markdown",
   "metadata": {},
   "source": [
    "#### Base 5 "
   ]
  },
  {
   "cell_type": "code",
   "execution_count": 57,
   "metadata": {},
   "outputs": [],
   "source": [
    "# base 5 encoding: site_id, site_domain, app_id, C14, C17, C19, C20, C21\n",
    "encoder1 = ce.BaseNEncoder(cols=['site_id','site_domain','app_id','C14','C17','C19','C20','C21'], return_df=True, base=5)\n",
    "base_5_encoder = encoder1.fit(train_3)"
   ]
  },
  {
   "cell_type": "code",
   "execution_count": 58,
   "metadata": {},
   "outputs": [],
   "source": [
    "train_3 = base_5_encoder.transform(train_3)"
   ]
  },
  {
   "cell_type": "code",
   "execution_count": 59,
   "metadata": {},
   "outputs": [],
   "source": [
    "test = base_5_encoder.transform(test)"
   ]
  },
  {
   "cell_type": "markdown",
   "metadata": {},
   "source": [
    "#### Base 10"
   ]
  },
  {
   "cell_type": "code",
   "execution_count": 60,
   "metadata": {},
   "outputs": [],
   "source": [
    "# base 10 encoding: site_category, app_category, device_model\n",
    "encoder2 = ce.BaseNEncoder(cols=['site_category','app_category','device_model'], return_df=True, base=10)\n",
    "base_10_encoder = encoder2.fit(train_3)"
   ]
  },
  {
   "cell_type": "code",
   "execution_count": 61,
   "metadata": {},
   "outputs": [],
   "source": [
    "train_3 = base_10_encoder.transform(train_3)"
   ]
  },
  {
   "cell_type": "code",
   "execution_count": 62,
   "metadata": {},
   "outputs": [],
   "source": [
    "test = base_10_encoder.transform(test)"
   ]
  },
  {
   "cell_type": "markdown",
   "metadata": {},
   "source": [
    "## Numerical Variables\n",
    "* hour: detail shown below\n",
    "* banner_pos: encoded by professor\n",
    "* device_type: encoded by professor\n",
    "* device_conn_type: encoded by professor"
   ]
  },
  {
   "cell_type": "markdown",
   "metadata": {},
   "source": [
    "### Hour\n",
    "- Day: week number\n",
    "- Hour:\n",
    "  - 1: 00-06\n",
    "  - 2: 07-12\n",
    "  - 3: 13-18\n",
    "  - 4: 19-24"
   ]
  },
  {
   "cell_type": "code",
   "execution_count": 63,
   "metadata": {},
   "outputs": [],
   "source": [
    "splitat = 6\n",
    "train_3['day'], train_3['time'] = train_3['hour'].astype('str').str[:splitat], train_3['hour'].astype('str').str[splitat:].astype('int')"
   ]
  },
  {
   "cell_type": "code",
   "execution_count": 65,
   "metadata": {},
   "outputs": [],
   "source": [
    "# time of day\n",
    "def add_time_of_day(data):\n",
    "    data['day'], data['time'] = data['hour'].astype('str').str[:splitat], data['hour'].astype('str').str[splitat:].astype('int')\n",
    "    conditions = [(data.time <=6),\n",
    "                (data.time > 6) & (data.time <= 12),\n",
    "                (data.time > 12) & (data.time <= 18),\n",
    "                (data.time >18)\n",
    "                ]\n",
    "    values = [1, 2, 3, 4]\n",
    "    data['time_of_day'] = np.select(conditions, values, 0)"
   ]
  },
  {
   "cell_type": "code",
   "execution_count": 66,
   "metadata": {},
   "outputs": [],
   "source": [
    "add_time_of_day(train_3)\n",
    "add_time_of_day(test)"
   ]
  },
  {
   "cell_type": "code",
   "execution_count": 67,
   "metadata": {},
   "outputs": [
    {
     "data": {
      "text/html": [
       "<div>\n",
       "<style scoped>\n",
       "    .dataframe tbody tr th:only-of-type {\n",
       "        vertical-align: middle;\n",
       "    }\n",
       "\n",
       "    .dataframe tbody tr th {\n",
       "        vertical-align: top;\n",
       "    }\n",
       "\n",
       "    .dataframe thead th {\n",
       "        text-align: right;\n",
       "    }\n",
       "</style>\n",
       "<table border=\"1\" class=\"dataframe\">\n",
       "  <thead>\n",
       "    <tr style=\"text-align: right;\">\n",
       "      <th></th>\n",
       "      <th>day</th>\n",
       "      <th>time</th>\n",
       "      <th>hour</th>\n",
       "      <th>time_of_day</th>\n",
       "    </tr>\n",
       "  </thead>\n",
       "  <tbody>\n",
       "    <tr>\n",
       "      <th>5616589</th>\n",
       "      <td>141022</td>\n",
       "      <td>10</td>\n",
       "      <td>14102210</td>\n",
       "      <td>2</td>\n",
       "    </tr>\n",
       "    <tr>\n",
       "      <th>31825749</th>\n",
       "      <td>141029</td>\n",
       "      <td>22</td>\n",
       "      <td>14102922</td>\n",
       "      <td>4</td>\n",
       "    </tr>\n",
       "    <tr>\n",
       "      <th>13548281</th>\n",
       "      <td>141024</td>\n",
       "      <td>13</td>\n",
       "      <td>14102413</td>\n",
       "      <td>3</td>\n",
       "    </tr>\n",
       "    <tr>\n",
       "      <th>11682204</th>\n",
       "      <td>141023</td>\n",
       "      <td>22</td>\n",
       "      <td>14102322</td>\n",
       "      <td>4</td>\n",
       "    </tr>\n",
       "    <tr>\n",
       "      <th>29186795</th>\n",
       "      <td>141029</td>\n",
       "      <td>4</td>\n",
       "      <td>14102904</td>\n",
       "      <td>1</td>\n",
       "    </tr>\n",
       "  </tbody>\n",
       "</table>\n",
       "</div>"
      ],
      "text/plain": [
       "             day  time      hour  time_of_day\n",
       "5616589   141022    10  14102210            2\n",
       "31825749  141029    22  14102922            4\n",
       "13548281  141024    13  14102413            3\n",
       "11682204  141023    22  14102322            4\n",
       "29186795  141029     4  14102904            1"
      ]
     },
     "execution_count": 67,
     "metadata": {},
     "output_type": "execute_result"
    }
   ],
   "source": [
    "train_3[['day','time','hour','time_of_day']].head(5)"
   ]
  },
  {
   "cell_type": "code",
   "execution_count": 68,
   "metadata": {},
   "outputs": [],
   "source": [
    "def add_day_of_week(data):\n",
    "    data['day']= pd.to_datetime(data['day'],format=\"%y%m%d\")\n",
    "    data['day_of_week'] = data['day'].dt.dayofweek"
   ]
  },
  {
   "cell_type": "code",
   "execution_count": 69,
   "metadata": {},
   "outputs": [],
   "source": [
    "add_day_of_week(train_3)\n",
    "add_day_of_week(test)"
   ]
  },
  {
   "cell_type": "markdown",
   "metadata": {},
   "source": [
    "## Finalize the data"
   ]
  },
  {
   "cell_type": "code",
   "execution_count": 70,
   "metadata": {},
   "outputs": [
    {
     "data": {
      "text/html": [
       "<div>\n",
       "<style scoped>\n",
       "    .dataframe tbody tr th:only-of-type {\n",
       "        vertical-align: middle;\n",
       "    }\n",
       "\n",
       "    .dataframe tbody tr th {\n",
       "        vertical-align: top;\n",
       "    }\n",
       "\n",
       "    .dataframe thead th {\n",
       "        text-align: right;\n",
       "    }\n",
       "</style>\n",
       "<table border=\"1\" class=\"dataframe\">\n",
       "  <thead>\n",
       "    <tr style=\"text-align: right;\">\n",
       "      <th></th>\n",
       "      <th>click</th>\n",
       "      <th>hour</th>\n",
       "      <th>C1</th>\n",
       "      <th>banner_pos</th>\n",
       "      <th>site_id_0</th>\n",
       "      <th>site_id_1</th>\n",
       "      <th>site_domain_0</th>\n",
       "      <th>site_domain_1</th>\n",
       "      <th>site_category_0</th>\n",
       "      <th>site_category_1</th>\n",
       "      <th>...</th>\n",
       "      <th>C19_0</th>\n",
       "      <th>C19_1</th>\n",
       "      <th>C20_0</th>\n",
       "      <th>C20_1</th>\n",
       "      <th>C21_0</th>\n",
       "      <th>C21_1</th>\n",
       "      <th>day</th>\n",
       "      <th>time</th>\n",
       "      <th>time_of_day</th>\n",
       "      <th>day_of_week</th>\n",
       "    </tr>\n",
       "  </thead>\n",
       "  <tbody>\n",
       "    <tr>\n",
       "      <th>5616589</th>\n",
       "      <td>0</td>\n",
       "      <td>14102210</td>\n",
       "      <td>1005</td>\n",
       "      <td>1</td>\n",
       "      <td>0</td>\n",
       "      <td>1</td>\n",
       "      <td>0</td>\n",
       "      <td>1</td>\n",
       "      <td>0</td>\n",
       "      <td>1</td>\n",
       "      <td>...</td>\n",
       "      <td>0</td>\n",
       "      <td>1</td>\n",
       "      <td>0</td>\n",
       "      <td>1</td>\n",
       "      <td>0</td>\n",
       "      <td>1</td>\n",
       "      <td>2014-10-22</td>\n",
       "      <td>10</td>\n",
       "      <td>2</td>\n",
       "      <td>2</td>\n",
       "    </tr>\n",
       "    <tr>\n",
       "      <th>31825749</th>\n",
       "      <td>0</td>\n",
       "      <td>14102922</td>\n",
       "      <td>1005</td>\n",
       "      <td>0</td>\n",
       "      <td>0</td>\n",
       "      <td>2</td>\n",
       "      <td>0</td>\n",
       "      <td>2</td>\n",
       "      <td>0</td>\n",
       "      <td>2</td>\n",
       "      <td>...</td>\n",
       "      <td>0</td>\n",
       "      <td>2</td>\n",
       "      <td>0</td>\n",
       "      <td>2</td>\n",
       "      <td>0</td>\n",
       "      <td>2</td>\n",
       "      <td>2014-10-29</td>\n",
       "      <td>22</td>\n",
       "      <td>4</td>\n",
       "      <td>2</td>\n",
       "    </tr>\n",
       "    <tr>\n",
       "      <th>13548281</th>\n",
       "      <td>1</td>\n",
       "      <td>14102413</td>\n",
       "      <td>1005</td>\n",
       "      <td>0</td>\n",
       "      <td>0</td>\n",
       "      <td>1</td>\n",
       "      <td>0</td>\n",
       "      <td>1</td>\n",
       "      <td>0</td>\n",
       "      <td>1</td>\n",
       "      <td>...</td>\n",
       "      <td>0</td>\n",
       "      <td>2</td>\n",
       "      <td>0</td>\n",
       "      <td>2</td>\n",
       "      <td>0</td>\n",
       "      <td>3</td>\n",
       "      <td>2014-10-24</td>\n",
       "      <td>13</td>\n",
       "      <td>3</td>\n",
       "      <td>4</td>\n",
       "    </tr>\n",
       "    <tr>\n",
       "      <th>11682204</th>\n",
       "      <td>0</td>\n",
       "      <td>14102322</td>\n",
       "      <td>1005</td>\n",
       "      <td>0</td>\n",
       "      <td>0</td>\n",
       "      <td>2</td>\n",
       "      <td>0</td>\n",
       "      <td>2</td>\n",
       "      <td>0</td>\n",
       "      <td>2</td>\n",
       "      <td>...</td>\n",
       "      <td>0</td>\n",
       "      <td>1</td>\n",
       "      <td>0</td>\n",
       "      <td>3</td>\n",
       "      <td>0</td>\n",
       "      <td>4</td>\n",
       "      <td>2014-10-23</td>\n",
       "      <td>22</td>\n",
       "      <td>4</td>\n",
       "      <td>3</td>\n",
       "    </tr>\n",
       "    <tr>\n",
       "      <th>29186795</th>\n",
       "      <td>0</td>\n",
       "      <td>14102904</td>\n",
       "      <td>1005</td>\n",
       "      <td>0</td>\n",
       "      <td>0</td>\n",
       "      <td>1</td>\n",
       "      <td>0</td>\n",
       "      <td>1</td>\n",
       "      <td>0</td>\n",
       "      <td>3</td>\n",
       "      <td>...</td>\n",
       "      <td>0</td>\n",
       "      <td>3</td>\n",
       "      <td>0</td>\n",
       "      <td>3</td>\n",
       "      <td>0</td>\n",
       "      <td>3</td>\n",
       "      <td>2014-10-29</td>\n",
       "      <td>4</td>\n",
       "      <td>1</td>\n",
       "      <td>2</td>\n",
       "    </tr>\n",
       "  </tbody>\n",
       "</table>\n",
       "<p>5 rows × 42 columns</p>\n",
       "</div>"
      ],
      "text/plain": [
       "          click      hour    C1  banner_pos  site_id_0  site_id_1  \\\n",
       "5616589       0  14102210  1005           1          0          1   \n",
       "31825749      0  14102922  1005           0          0          2   \n",
       "13548281      1  14102413  1005           0          0          1   \n",
       "11682204      0  14102322  1005           0          0          2   \n",
       "29186795      0  14102904  1005           0          0          1   \n",
       "\n",
       "          site_domain_0  site_domain_1  site_category_0  site_category_1  ...  \\\n",
       "5616589               0              1                0                1  ...   \n",
       "31825749              0              2                0                2  ...   \n",
       "13548281              0              1                0                1  ...   \n",
       "11682204              0              2                0                2  ...   \n",
       "29186795              0              1                0                3  ...   \n",
       "\n",
       "          C19_0  C19_1  C20_0  C20_1  C21_0  C21_1        day  time  \\\n",
       "5616589       0      1      0      1      0      1 2014-10-22    10   \n",
       "31825749      0      2      0      2      0      2 2014-10-29    22   \n",
       "13548281      0      2      0      2      0      3 2014-10-24    13   \n",
       "11682204      0      1      0      3      0      4 2014-10-23    22   \n",
       "29186795      0      3      0      3      0      3 2014-10-29     4   \n",
       "\n",
       "          time_of_day  day_of_week  \n",
       "5616589             2            2  \n",
       "31825749            4            2  \n",
       "13548281            3            4  \n",
       "11682204            4            3  \n",
       "29186795            1            2  \n",
       "\n",
       "[5 rows x 42 columns]"
      ]
     },
     "execution_count": 70,
     "metadata": {},
     "output_type": "execute_result"
    }
   ],
   "source": [
    "train_3.head()"
   ]
  },
  {
   "cell_type": "code",
   "execution_count": null,
   "metadata": {},
   "outputs": [],
   "source": []
  },
  {
   "cell_type": "code",
   "execution_count": 73,
   "metadata": {},
   "outputs": [],
   "source": [
    "x_col = ['C1', 'banner_pos', 'site_id_0', 'site_id_1',\n",
    "       'site_domain_0', 'site_domain_1', 'site_category_0', 'site_category_1',\n",
    "       'app_id_0', 'app_id_1', 'app_domain_7801e8d9', 'app_domain_ae637522',\n",
    "       'app_domain_2347f47a', 'app_domain_other', 'app_category_0',\n",
    "       'app_category_1', 'device_id_other', 'device_id_a99f214a',\n",
    "       'device_id_c357dbff', 'device_model_0', 'device_model_1', 'device_type', 'device_conn_type',\n",
    "       'C14_0', 'C14_1', 'C15', 'C16', 'C17_0', 'C17_1', 'C18', 'C19_0',\n",
    "       'C19_1', 'C20_0', 'C20_1', 'C21_0', 'C21_1',\n",
    "       'time_of_day', 'day_of_week']\n",
    "y_col = 'click'"
   ]
  },
  {
   "cell_type": "code",
   "execution_count": 74,
   "metadata": {},
   "outputs": [],
   "source": [
    "X_train3 = train_3[x_col]\n",
    "y_train3 = train_3[y_col]\n",
    "X_test = test[x_col]\n",
    "y_pred_naive = test[y_col]"
   ]
  },
  {
   "cell_type": "markdown",
   "metadata": {},
   "source": [
    "# Model Training"
   ]
  },
  {
   "cell_type": "code",
   "execution_count": 96,
   "metadata": {},
   "outputs": [],
   "source": [
    "# Split to Sub-train & Validation dataset\n",
    "X_train, X_val, y_train, y_val = train_test_split(X_train3, y_train3, test_size=0.2, random_state=42)"
   ]
  },
  {
   "cell_type": "markdown",
   "metadata": {},
   "source": [
    "## Logistic Regression"
   ]
  },
  {
   "cell_type": "code",
   "execution_count": 76,
   "metadata": {},
   "outputs": [],
   "source": [
    "from sklearn.linear_model import LogisticRegression"
   ]
  },
  {
   "cell_type": "code",
   "execution_count": 77,
   "metadata": {},
   "outputs": [
    {
     "name": "stderr",
     "output_type": "stream",
     "text": [
      "/Users/rebecca/opt/anaconda3/lib/python3.9/site-packages/sklearn/linear_model/_logistic.py:444: ConvergenceWarning: lbfgs failed to converge (status=1):\n",
      "STOP: TOTAL NO. of ITERATIONS REACHED LIMIT.\n",
      "\n",
      "Increase the number of iterations (max_iter) or scale the data as shown in:\n",
      "    https://scikit-learn.org/stable/modules/preprocessing.html\n",
      "Please also refer to the documentation for alternative solver options:\n",
      "    https://scikit-learn.org/stable/modules/linear_model.html#logistic-regression\n",
      "  n_iter_i = _check_optimize_result(\n"
     ]
    }
   ],
   "source": [
    "lr = LogisticRegression(random_state=42, n_jobs=-1, penalty=\"l2\").fit(X_train, y_train)"
   ]
  },
  {
   "cell_type": "code",
   "execution_count": 78,
   "metadata": {},
   "outputs": [],
   "source": [
    "y_pred = lr.predict_proba(X_val)"
   ]
  },
  {
   "cell_type": "code",
   "execution_count": 79,
   "metadata": {},
   "outputs": [
    {
     "data": {
      "text/plain": [
       "0.4360344851617682"
      ]
     },
     "execution_count": 79,
     "metadata": {},
     "output_type": "execute_result"
    }
   ],
   "source": [
    "# print log loss of the validation data\n",
    "log_loss(y_val, y_pred)"
   ]
  },
  {
   "cell_type": "markdown",
   "metadata": {},
   "source": [
    "Since the log-loss is quite high, LR is not a great model to be chosen as a final step."
   ]
  },
  {
   "cell_type": "markdown",
   "metadata": {},
   "source": [
    "## Random Forest"
   ]
  },
  {
   "cell_type": "code",
   "execution_count": 97,
   "metadata": {},
   "outputs": [],
   "source": [
    "from sklearn.ensemble import RandomForestClassifier"
   ]
  },
  {
   "cell_type": "code",
   "execution_count": 98,
   "metadata": {},
   "outputs": [],
   "source": [
    "rfc=RandomForestClassifier(random_state=42)"
   ]
  },
  {
   "cell_type": "markdown",
   "metadata": {},
   "source": [
    "Random Serach using random forest"
   ]
  },
  {
   "cell_type": "code",
   "execution_count": 113,
   "metadata": {},
   "outputs": [],
   "source": [
    "rs_space={'max_depth':[20,30],\n",
    "              'n_estimators':[100, 200, 300],\n",
    "              'max_features':['sqrt', 'log2'],\n",
    "              'min_samples_split':[50, 100]\n",
    "         }"
   ]
  },
  {
   "cell_type": "code",
   "execution_count": 292,
   "metadata": {},
   "outputs": [],
   "source": [
    "# param_grid = { \n",
    "#     'n_estimators': [100, 200, 300, 400],\n",
    "#     'max_features': ['sqrt', 'log2'],\n",
    "#     'min_samples_split': [2, 10, 100],\n",
    "#     'max_depth' : [10,20,30],\n",
    "# }\n",
    "# gs_rfc = GridSearchCV(estimator=rfc,\n",
    "#     param_grid=param_grid,\n",
    "#     cv=3,\n",
    "#     scoring='neg_log_loss',\n",
    "#     n_jobs=-1, \n",
    "#     verbose = 3)\n",
    "# gs_rfc.fit(X_train, y_train)"
   ]
  },
  {
   "cell_type": "code",
   "execution_count": 118,
   "metadata": {},
   "outputs": [],
   "source": [
    "from tune_sklearn import TuneGridSearchCV\n",
    "from sklearn.model_selection import RandomizedSearchCV"
   ]
  },
  {
   "cell_type": "code",
   "execution_count": 125,
   "metadata": {},
   "outputs": [],
   "source": [
    "rfc_random = RandomizedSearchCV(rfc, rs_space, \n",
    "                                scoring='neg_log_loss', \n",
    "                                n_jobs=-1, \n",
    "                                cv=2,\n",
    "                                n_iter=10,\n",
    "                                verbose=30)"
   ]
  },
  {
   "cell_type": "code",
   "execution_count": 144,
   "metadata": {},
   "outputs": [
    {
     "name": "stdout",
     "output_type": "stream",
     "text": [
      "Fitting 2 folds for each of 10 candidates, totalling 20 fits\n",
      "[CV 2/2; 3/10] START max_depth=30, max_features=sqrt, min_samples_split=50, n_estimators=300\n",
      "[CV 2/2; 1/10] START max_depth=20, max_features=sqrt, min_samples_split=50, n_estimators=300\n",
      "[CV 1/2; 3/10] START max_depth=30, max_features=sqrt, min_samples_split=50, n_estimators=300\n",
      "[CV 1/2; 1/10] START max_depth=20, max_features=sqrt, min_samples_split=50, n_estimators=300\n",
      "[CV 1/2; 2/10] START max_depth=30, max_features=sqrt, min_samples_split=100, n_estimators=100\n",
      "[CV 2/2; 4/10] START max_depth=20, max_features=sqrt, min_samples_split=50, n_estimators=100\n",
      "[CV 1/2; 4/10] START max_depth=20, max_features=sqrt, min_samples_split=50, n_estimators=100\n",
      "[CV 2/2; 2/10] START max_depth=30, max_features=sqrt, min_samples_split=100, n_estimators=100\n"
     ]
    },
    {
     "ename": "KeyboardInterrupt",
     "evalue": "",
     "output_type": "error",
     "traceback": [
      "\u001b[0;31m---------------------------------------------------------------------------\u001b[0m",
      "\u001b[0;31mKeyboardInterrupt\u001b[0m                         Traceback (most recent call last)",
      "\u001b[1;32m/Users/rebecca/MSBA/ISOM674-ML/finalProject_Team4.ipynb Cell 119\u001b[0m in \u001b[0;36m<cell line: 1>\u001b[0;34m()\u001b[0m\n\u001b[0;32m----> <a href='vscode-notebook-cell:/Users/rebecca/MSBA/ISOM674-ML/finalProject_Team4.ipynb#Y226sZmlsZQ%3D%3D?line=0'>1</a>\u001b[0m rfc_random\u001b[39m.\u001b[39;49mfit(X_train,y_train)\n",
      "File \u001b[0;32m~/opt/anaconda3/lib/python3.9/site-packages/sklearn/model_selection/_search.py:875\u001b[0m, in \u001b[0;36mBaseSearchCV.fit\u001b[0;34m(self, X, y, groups, **fit_params)\u001b[0m\n\u001b[1;32m    869\u001b[0m     results \u001b[39m=\u001b[39m \u001b[39mself\u001b[39m\u001b[39m.\u001b[39m_format_results(\n\u001b[1;32m    870\u001b[0m         all_candidate_params, n_splits, all_out, all_more_results\n\u001b[1;32m    871\u001b[0m     )\n\u001b[1;32m    873\u001b[0m     \u001b[39mreturn\u001b[39;00m results\n\u001b[0;32m--> 875\u001b[0m \u001b[39mself\u001b[39;49m\u001b[39m.\u001b[39;49m_run_search(evaluate_candidates)\n\u001b[1;32m    877\u001b[0m \u001b[39m# multimetric is determined here because in the case of a callable\u001b[39;00m\n\u001b[1;32m    878\u001b[0m \u001b[39m# self.scoring the return type is only known after calling\u001b[39;00m\n\u001b[1;32m    879\u001b[0m first_test_score \u001b[39m=\u001b[39m all_out[\u001b[39m0\u001b[39m][\u001b[39m\"\u001b[39m\u001b[39mtest_scores\u001b[39m\u001b[39m\"\u001b[39m]\n",
      "File \u001b[0;32m~/opt/anaconda3/lib/python3.9/site-packages/sklearn/model_selection/_search.py:1753\u001b[0m, in \u001b[0;36mRandomizedSearchCV._run_search\u001b[0;34m(self, evaluate_candidates)\u001b[0m\n\u001b[1;32m   1751\u001b[0m \u001b[39mdef\u001b[39;00m \u001b[39m_run_search\u001b[39m(\u001b[39mself\u001b[39m, evaluate_candidates):\n\u001b[1;32m   1752\u001b[0m     \u001b[39m\"\"\"Search n_iter candidates from param_distributions\"\"\"\u001b[39;00m\n\u001b[0;32m-> 1753\u001b[0m     evaluate_candidates(\n\u001b[1;32m   1754\u001b[0m         ParameterSampler(\n\u001b[1;32m   1755\u001b[0m             \u001b[39mself\u001b[39;49m\u001b[39m.\u001b[39;49mparam_distributions, \u001b[39mself\u001b[39;49m\u001b[39m.\u001b[39;49mn_iter, random_state\u001b[39m=\u001b[39;49m\u001b[39mself\u001b[39;49m\u001b[39m.\u001b[39;49mrandom_state\n\u001b[1;32m   1756\u001b[0m         )\n\u001b[1;32m   1757\u001b[0m     )\n",
      "File \u001b[0;32m~/opt/anaconda3/lib/python3.9/site-packages/sklearn/model_selection/_search.py:822\u001b[0m, in \u001b[0;36mBaseSearchCV.fit.<locals>.evaluate_candidates\u001b[0;34m(candidate_params, cv, more_results)\u001b[0m\n\u001b[1;32m    814\u001b[0m \u001b[39mif\u001b[39;00m \u001b[39mself\u001b[39m\u001b[39m.\u001b[39mverbose \u001b[39m>\u001b[39m \u001b[39m0\u001b[39m:\n\u001b[1;32m    815\u001b[0m     \u001b[39mprint\u001b[39m(\n\u001b[1;32m    816\u001b[0m         \u001b[39m\"\u001b[39m\u001b[39mFitting \u001b[39m\u001b[39m{0}\u001b[39;00m\u001b[39m folds for each of \u001b[39m\u001b[39m{1}\u001b[39;00m\u001b[39m candidates,\u001b[39m\u001b[39m\"\u001b[39m\n\u001b[1;32m    817\u001b[0m         \u001b[39m\"\u001b[39m\u001b[39m totalling \u001b[39m\u001b[39m{2}\u001b[39;00m\u001b[39m fits\u001b[39m\u001b[39m\"\u001b[39m\u001b[39m.\u001b[39mformat(\n\u001b[1;32m    818\u001b[0m             n_splits, n_candidates, n_candidates \u001b[39m*\u001b[39m n_splits\n\u001b[1;32m    819\u001b[0m         )\n\u001b[1;32m    820\u001b[0m     )\n\u001b[0;32m--> 822\u001b[0m out \u001b[39m=\u001b[39m parallel(\n\u001b[1;32m    823\u001b[0m     delayed(_fit_and_score)(\n\u001b[1;32m    824\u001b[0m         clone(base_estimator),\n\u001b[1;32m    825\u001b[0m         X,\n\u001b[1;32m    826\u001b[0m         y,\n\u001b[1;32m    827\u001b[0m         train\u001b[39m=\u001b[39;49mtrain,\n\u001b[1;32m    828\u001b[0m         test\u001b[39m=\u001b[39;49mtest,\n\u001b[1;32m    829\u001b[0m         parameters\u001b[39m=\u001b[39;49mparameters,\n\u001b[1;32m    830\u001b[0m         split_progress\u001b[39m=\u001b[39;49m(split_idx, n_splits),\n\u001b[1;32m    831\u001b[0m         candidate_progress\u001b[39m=\u001b[39;49m(cand_idx, n_candidates),\n\u001b[1;32m    832\u001b[0m         \u001b[39m*\u001b[39;49m\u001b[39m*\u001b[39;49mfit_and_score_kwargs,\n\u001b[1;32m    833\u001b[0m     )\n\u001b[1;32m    834\u001b[0m     \u001b[39mfor\u001b[39;49;00m (cand_idx, parameters), (split_idx, (train, test)) \u001b[39min\u001b[39;49;00m product(\n\u001b[1;32m    835\u001b[0m         \u001b[39menumerate\u001b[39;49m(candidate_params), \u001b[39menumerate\u001b[39;49m(cv\u001b[39m.\u001b[39;49msplit(X, y, groups))\n\u001b[1;32m    836\u001b[0m     )\n\u001b[1;32m    837\u001b[0m )\n\u001b[1;32m    839\u001b[0m \u001b[39mif\u001b[39;00m \u001b[39mlen\u001b[39m(out) \u001b[39m<\u001b[39m \u001b[39m1\u001b[39m:\n\u001b[1;32m    840\u001b[0m     \u001b[39mraise\u001b[39;00m \u001b[39mValueError\u001b[39;00m(\n\u001b[1;32m    841\u001b[0m         \u001b[39m\"\u001b[39m\u001b[39mNo fits were performed. \u001b[39m\u001b[39m\"\u001b[39m\n\u001b[1;32m    842\u001b[0m         \u001b[39m\"\u001b[39m\u001b[39mWas the CV iterator empty? \u001b[39m\u001b[39m\"\u001b[39m\n\u001b[1;32m    843\u001b[0m         \u001b[39m\"\u001b[39m\u001b[39mWere there no candidates?\u001b[39m\u001b[39m\"\u001b[39m\n\u001b[1;32m    844\u001b[0m     )\n",
      "File \u001b[0;32m~/opt/anaconda3/lib/python3.9/site-packages/joblib/parallel.py:1056\u001b[0m, in \u001b[0;36mParallel.__call__\u001b[0;34m(self, iterable)\u001b[0m\n\u001b[1;32m   1053\u001b[0m     \u001b[39mself\u001b[39m\u001b[39m.\u001b[39m_iterating \u001b[39m=\u001b[39m \u001b[39mFalse\u001b[39;00m\n\u001b[1;32m   1055\u001b[0m \u001b[39mwith\u001b[39;00m \u001b[39mself\u001b[39m\u001b[39m.\u001b[39m_backend\u001b[39m.\u001b[39mretrieval_context():\n\u001b[0;32m-> 1056\u001b[0m     \u001b[39mself\u001b[39;49m\u001b[39m.\u001b[39;49mretrieve()\n\u001b[1;32m   1057\u001b[0m \u001b[39m# Make sure that we get a last message telling us we are done\u001b[39;00m\n\u001b[1;32m   1058\u001b[0m elapsed_time \u001b[39m=\u001b[39m time\u001b[39m.\u001b[39mtime() \u001b[39m-\u001b[39m \u001b[39mself\u001b[39m\u001b[39m.\u001b[39m_start_time\n",
      "File \u001b[0;32m~/opt/anaconda3/lib/python3.9/site-packages/joblib/parallel.py:935\u001b[0m, in \u001b[0;36mParallel.retrieve\u001b[0;34m(self)\u001b[0m\n\u001b[1;32m    933\u001b[0m \u001b[39mtry\u001b[39;00m:\n\u001b[1;32m    934\u001b[0m     \u001b[39mif\u001b[39;00m \u001b[39mgetattr\u001b[39m(\u001b[39mself\u001b[39m\u001b[39m.\u001b[39m_backend, \u001b[39m'\u001b[39m\u001b[39msupports_timeout\u001b[39m\u001b[39m'\u001b[39m, \u001b[39mFalse\u001b[39;00m):\n\u001b[0;32m--> 935\u001b[0m         \u001b[39mself\u001b[39m\u001b[39m.\u001b[39m_output\u001b[39m.\u001b[39mextend(job\u001b[39m.\u001b[39;49mget(timeout\u001b[39m=\u001b[39;49m\u001b[39mself\u001b[39;49m\u001b[39m.\u001b[39;49mtimeout))\n\u001b[1;32m    936\u001b[0m     \u001b[39melse\u001b[39;00m:\n\u001b[1;32m    937\u001b[0m         \u001b[39mself\u001b[39m\u001b[39m.\u001b[39m_output\u001b[39m.\u001b[39mextend(job\u001b[39m.\u001b[39mget())\n",
      "File \u001b[0;32m~/opt/anaconda3/lib/python3.9/site-packages/joblib/_parallel_backends.py:542\u001b[0m, in \u001b[0;36mLokyBackend.wrap_future_result\u001b[0;34m(future, timeout)\u001b[0m\n\u001b[1;32m    539\u001b[0m \u001b[39m\"\"\"Wrapper for Future.result to implement the same behaviour as\u001b[39;00m\n\u001b[1;32m    540\u001b[0m \u001b[39mAsyncResults.get from multiprocessing.\"\"\"\u001b[39;00m\n\u001b[1;32m    541\u001b[0m \u001b[39mtry\u001b[39;00m:\n\u001b[0;32m--> 542\u001b[0m     \u001b[39mreturn\u001b[39;00m future\u001b[39m.\u001b[39;49mresult(timeout\u001b[39m=\u001b[39;49mtimeout)\n\u001b[1;32m    543\u001b[0m \u001b[39mexcept\u001b[39;00m CfTimeoutError \u001b[39mas\u001b[39;00m e:\n\u001b[1;32m    544\u001b[0m     \u001b[39mraise\u001b[39;00m \u001b[39mTimeoutError\u001b[39;00m \u001b[39mfrom\u001b[39;00m \u001b[39me\u001b[39;00m\n",
      "File \u001b[0;32m~/opt/anaconda3/lib/python3.9/concurrent/futures/_base.py:441\u001b[0m, in \u001b[0;36mFuture.result\u001b[0;34m(self, timeout)\u001b[0m\n\u001b[1;32m    438\u001b[0m \u001b[39melif\u001b[39;00m \u001b[39mself\u001b[39m\u001b[39m.\u001b[39m_state \u001b[39m==\u001b[39m FINISHED:\n\u001b[1;32m    439\u001b[0m     \u001b[39mreturn\u001b[39;00m \u001b[39mself\u001b[39m\u001b[39m.\u001b[39m__get_result()\n\u001b[0;32m--> 441\u001b[0m \u001b[39mself\u001b[39;49m\u001b[39m.\u001b[39;49m_condition\u001b[39m.\u001b[39;49mwait(timeout)\n\u001b[1;32m    443\u001b[0m \u001b[39mif\u001b[39;00m \u001b[39mself\u001b[39m\u001b[39m.\u001b[39m_state \u001b[39min\u001b[39;00m [CANCELLED, CANCELLED_AND_NOTIFIED]:\n\u001b[1;32m    444\u001b[0m     \u001b[39mraise\u001b[39;00m CancelledError()\n",
      "File \u001b[0;32m~/opt/anaconda3/lib/python3.9/threading.py:312\u001b[0m, in \u001b[0;36mCondition.wait\u001b[0;34m(self, timeout)\u001b[0m\n\u001b[1;32m    310\u001b[0m \u001b[39mtry\u001b[39;00m:    \u001b[39m# restore state no matter what (e.g., KeyboardInterrupt)\u001b[39;00m\n\u001b[1;32m    311\u001b[0m     \u001b[39mif\u001b[39;00m timeout \u001b[39mis\u001b[39;00m \u001b[39mNone\u001b[39;00m:\n\u001b[0;32m--> 312\u001b[0m         waiter\u001b[39m.\u001b[39;49macquire()\n\u001b[1;32m    313\u001b[0m         gotit \u001b[39m=\u001b[39m \u001b[39mTrue\u001b[39;00m\n\u001b[1;32m    314\u001b[0m     \u001b[39melse\u001b[39;00m:\n",
      "\u001b[0;31mKeyboardInterrupt\u001b[0m: "
     ]
    }
   ],
   "source": [
    "rfc_random.fit(X_train,y_train)"
   ]
  },
  {
   "cell_type": "code",
   "execution_count": null,
   "metadata": {},
   "outputs": [],
   "source": [
    "print(\"Parameter: \", rfc_random.best_params_)\n",
    "print(\"Non-nested LogLoss: \", rfc_random.best_score_)\n",
    "print(\"Best Estimator: \", rfc_random.best_estimator_)"
   ]
  },
  {
   "cell_type": "code",
   "execution_count": 117,
   "metadata": {},
   "outputs": [],
   "source": [
    "rf = RandomForestClassifier(n_estimators = 100, \n",
    "                            random_state = 42, \n",
    "                            min_samples_split=300, \n",
    "                            max_depth=30,\n",
    "                            n_jobs=-1)"
   ]
  },
  {
   "cell_type": "code",
   "execution_count": null,
   "metadata": {},
   "outputs": [],
   "source": [
    "rf.fit(X_train, y_train)"
   ]
  },
  {
   "cell_type": "code",
   "execution_count": 358,
   "metadata": {},
   "outputs": [
    {
     "name": "stderr",
     "output_type": "stream",
     "text": [
      "[Parallel(n_jobs=8)]: Using backend ThreadingBackend with 8 concurrent workers.\n",
      "[Parallel(n_jobs=8)]: Done   9 tasks      | elapsed:    0.7s\n",
      "[Parallel(n_jobs=8)]: Done  82 tasks      | elapsed:    3.9s\n",
      "[Parallel(n_jobs=8)]: Done 100 out of 100 | elapsed:    4.5s finished\n"
     ]
    },
    {
     "data": {
      "text/plain": [
       "0.40391179841269653"
      ]
     },
     "execution_count": 358,
     "metadata": {},
     "output_type": "execute_result"
    }
   ],
   "source": [
    "y_pred_rf = rf.predict_proba(X_val)\n",
    "log_loss(y_val, y_pred_rf)\n",
    "# .40227452244706247"
   ]
  },
  {
   "cell_type": "markdown",
   "metadata": {},
   "source": [
    "## Neural Net"
   ]
  },
  {
   "cell_type": "code",
   "execution_count": 87,
   "metadata": {},
   "outputs": [
    {
     "name": "stderr",
     "output_type": "stream",
     "text": [
      "2022-12-05 17:21:14.358862: I tensorflow/core/platform/cpu_feature_guard.cc:193] This TensorFlow binary is optimized with oneAPI Deep Neural Network Library (oneDNN) to use the following CPU instructions in performance-critical operations:  SSE4.1 SSE4.2 AVX AVX2 FMA\n",
      "To enable them in other operations, rebuild TensorFlow with the appropriate compiler flags.\n"
     ]
    }
   ],
   "source": [
    "# initialize nn\n",
    "nnc = Sequential()\n",
    "# add input layer\n",
    "nnc.add(Dense(10, kernel_regularizer = regularizers.l2(0.003), kernel_initializer=initializers.RandomNormal(stddev=0.01), activation='relu', input_shape = (X_train.shape[1],), use_bias=True))\n",
    "nnc.add(Dropout(0.4))\n",
    "# add hidden layer\n",
    "nnc.add(Dense(10, kernel_regularizer = regularizers.l2(0.003), kernel_initializer=initializers.RandomNormal(stddev=0.01), activation='relu'))\n",
    "nnc.add(Dropout(0.3))\n",
    "nnc.add(Dense(units = 6, activation = 'sigmoid', use_bias = True))\n",
    "# add output layer\n",
    "nnc.add(Dense(1, activation = 'sigmoid', use_bias = True))\n",
    "nnc.compile(optimizer = Adam(learning_rate=1e-3), loss = 'binary_crossentropy', metrics = ['accuracy'])"
   ]
  },
  {
   "cell_type": "code",
   "execution_count": 88,
   "metadata": {},
   "outputs": [
    {
     "name": "stdout",
     "output_type": "stream",
     "text": [
      "Epoch 1/10\n",
      "4374/4374 [==============================] - 8s 2ms/step - loss: 0.4494 - accuracy: 0.8302 - val_loss: 0.4479 - val_accuracy: 0.8303\n",
      "Epoch 2/10\n",
      "4374/4374 [==============================] - 6s 1ms/step - loss: 0.4493 - accuracy: 0.8302 - val_loss: 0.4478 - val_accuracy: 0.8303\n",
      "Epoch 3/10\n",
      "4374/4374 [==============================] - 6s 1ms/step - loss: 0.4493 - accuracy: 0.8302 - val_loss: 0.4485 - val_accuracy: 0.8303\n",
      "Epoch 4/10\n",
      "4374/4374 [==============================] - 6s 1ms/step - loss: 0.4504 - accuracy: 0.8302 - val_loss: 0.4483 - val_accuracy: 0.8303\n",
      "Epoch 5/10\n",
      "4374/4374 [==============================] - 6s 1ms/step - loss: 0.4516 - accuracy: 0.8302 - val_loss: 0.4501 - val_accuracy: 0.8303\n",
      "Epoch 6/10\n",
      "4374/4374 [==============================] - 6s 1ms/step - loss: 0.4520 - accuracy: 0.8302 - val_loss: 0.4498 - val_accuracy: 0.8303\n",
      "Epoch 7/10\n",
      "4374/4374 [==============================] - 6s 1ms/step - loss: 0.4532 - accuracy: 0.8302 - val_loss: 0.4534 - val_accuracy: 0.8303\n",
      "Epoch 8/10\n",
      "4374/4374 [==============================] - 6s 1ms/step - loss: 0.4552 - accuracy: 0.8302 - val_loss: 0.4555 - val_accuracy: 0.8303\n",
      "Epoch 9/10\n",
      "4374/4374 [==============================] - 6s 1ms/step - loss: 0.4555 - accuracy: 0.8302 - val_loss: 0.4555 - val_accuracy: 0.8303\n",
      "Epoch 10/10\n",
      "4374/4374 [==============================] - 6s 1ms/step - loss: 0.4555 - accuracy: 0.8302 - val_loss: 0.4555 - val_accuracy: 0.8303\n"
     ]
    },
    {
     "data": {
      "text/plain": [
       "<keras.callbacks.History at 0x7fc0a83c37c0>"
      ]
     },
     "execution_count": 88,
     "metadata": {},
     "output_type": "execute_result"
    }
   ],
   "source": [
    "nnc.fit(X_train, y_train, epochs=10, batch_size = 512, validation_data = (X_val, y_val))"
   ]
  },
  {
   "cell_type": "code",
   "execution_count": 89,
   "metadata": {},
   "outputs": [
    {
     "name": "stdout",
     "output_type": "stream",
     "text": [
      "29992/29992 [==============================] - 17s 570us/step\n"
     ]
    },
    {
     "data": {
      "text/plain": [
       "0.4554982736349612"
      ]
     },
     "execution_count": 89,
     "metadata": {},
     "output_type": "execute_result"
    }
   ],
   "source": [
    "y_pred_nn = nnc.predict(X_val)\n",
    "log_loss(y_val, y_pred_nn)"
   ]
  },
  {
   "cell_type": "markdown",
   "metadata": {},
   "source": [
    "## LightGBM"
   ]
  },
  {
   "cell_type": "code",
   "execution_count": 83,
   "metadata": {},
   "outputs": [],
   "source": [
    "lgb = LGBMClassifier(random_state=42)"
   ]
  },
  {
   "cell_type": "code",
   "execution_count": 84,
   "metadata": {},
   "outputs": [
    {
     "data": {
      "text/html": [
       "<style>#sk-container-id-1 {color: black;background-color: white;}#sk-container-id-1 pre{padding: 0;}#sk-container-id-1 div.sk-toggleable {background-color: white;}#sk-container-id-1 label.sk-toggleable__label {cursor: pointer;display: block;width: 100%;margin-bottom: 0;padding: 0.3em;box-sizing: border-box;text-align: center;}#sk-container-id-1 label.sk-toggleable__label-arrow:before {content: \"▸\";float: left;margin-right: 0.25em;color: #696969;}#sk-container-id-1 label.sk-toggleable__label-arrow:hover:before {color: black;}#sk-container-id-1 div.sk-estimator:hover label.sk-toggleable__label-arrow:before {color: black;}#sk-container-id-1 div.sk-toggleable__content {max-height: 0;max-width: 0;overflow: hidden;text-align: left;background-color: #f0f8ff;}#sk-container-id-1 div.sk-toggleable__content pre {margin: 0.2em;color: black;border-radius: 0.25em;background-color: #f0f8ff;}#sk-container-id-1 input.sk-toggleable__control:checked~div.sk-toggleable__content {max-height: 200px;max-width: 100%;overflow: auto;}#sk-container-id-1 input.sk-toggleable__control:checked~label.sk-toggleable__label-arrow:before {content: \"▾\";}#sk-container-id-1 div.sk-estimator input.sk-toggleable__control:checked~label.sk-toggleable__label {background-color: #d4ebff;}#sk-container-id-1 div.sk-label input.sk-toggleable__control:checked~label.sk-toggleable__label {background-color: #d4ebff;}#sk-container-id-1 input.sk-hidden--visually {border: 0;clip: rect(1px 1px 1px 1px);clip: rect(1px, 1px, 1px, 1px);height: 1px;margin: -1px;overflow: hidden;padding: 0;position: absolute;width: 1px;}#sk-container-id-1 div.sk-estimator {font-family: monospace;background-color: #f0f8ff;border: 1px dotted black;border-radius: 0.25em;box-sizing: border-box;margin-bottom: 0.5em;}#sk-container-id-1 div.sk-estimator:hover {background-color: #d4ebff;}#sk-container-id-1 div.sk-parallel-item::after {content: \"\";width: 100%;border-bottom: 1px solid gray;flex-grow: 1;}#sk-container-id-1 div.sk-label:hover label.sk-toggleable__label {background-color: #d4ebff;}#sk-container-id-1 div.sk-serial::before {content: \"\";position: absolute;border-left: 1px solid gray;box-sizing: border-box;top: 0;bottom: 0;left: 50%;z-index: 0;}#sk-container-id-1 div.sk-serial {display: flex;flex-direction: column;align-items: center;background-color: white;padding-right: 0.2em;padding-left: 0.2em;position: relative;}#sk-container-id-1 div.sk-item {position: relative;z-index: 1;}#sk-container-id-1 div.sk-parallel {display: flex;align-items: stretch;justify-content: center;background-color: white;position: relative;}#sk-container-id-1 div.sk-item::before, #sk-container-id-1 div.sk-parallel-item::before {content: \"\";position: absolute;border-left: 1px solid gray;box-sizing: border-box;top: 0;bottom: 0;left: 50%;z-index: -1;}#sk-container-id-1 div.sk-parallel-item {display: flex;flex-direction: column;z-index: 1;position: relative;background-color: white;}#sk-container-id-1 div.sk-parallel-item:first-child::after {align-self: flex-end;width: 50%;}#sk-container-id-1 div.sk-parallel-item:last-child::after {align-self: flex-start;width: 50%;}#sk-container-id-1 div.sk-parallel-item:only-child::after {width: 0;}#sk-container-id-1 div.sk-dashed-wrapped {border: 1px dashed gray;margin: 0 0.4em 0.5em 0.4em;box-sizing: border-box;padding-bottom: 0.4em;background-color: white;}#sk-container-id-1 div.sk-label label {font-family: monospace;font-weight: bold;display: inline-block;line-height: 1.2em;}#sk-container-id-1 div.sk-label-container {text-align: center;}#sk-container-id-1 div.sk-container {/* jupyter's `normalize.less` sets `[hidden] { display: none; }` but bootstrap.min.css set `[hidden] { display: none !important; }` so we also need the `!important` here to be able to override the default hidden behavior on the sphinx rendered scikit-learn.org. See: https://github.com/scikit-learn/scikit-learn/issues/21755 */display: inline-block !important;position: relative;}#sk-container-id-1 div.sk-text-repr-fallback {display: none;}</style><div id=\"sk-container-id-1\" class=\"sk-top-container\"><div class=\"sk-text-repr-fallback\"><pre>LGBMClassifier(random_state=42)</pre><b>In a Jupyter environment, please rerun this cell to show the HTML representation or trust the notebook. <br />On GitHub, the HTML representation is unable to render, please try loading this page with nbviewer.org.</b></div><div class=\"sk-container\" hidden><div class=\"sk-item\"><div class=\"sk-estimator sk-toggleable\"><input class=\"sk-toggleable__control sk-hidden--visually\" id=\"sk-estimator-id-1\" type=\"checkbox\" checked><label for=\"sk-estimator-id-1\" class=\"sk-toggleable__label sk-toggleable__label-arrow\">LGBMClassifier</label><div class=\"sk-toggleable__content\"><pre>LGBMClassifier(random_state=42)</pre></div></div></div></div></div>"
      ],
      "text/plain": [
       "LGBMClassifier(random_state=42)"
      ]
     },
     "execution_count": 84,
     "metadata": {},
     "output_type": "execute_result"
    }
   ],
   "source": [
    "lgb.fit(X_train,y_train,verbose=3,eval_metric='logloss')"
   ]
  },
  {
   "cell_type": "code",
   "execution_count": 86,
   "metadata": {},
   "outputs": [],
   "source": [
    "parameters = {\n",
    "    'learning_rate': [0.01,0.05,0.09,0.1],\n",
    "    'num_leaves': [31,250,300],\n",
    "}\n",
    "\n",
    "gbm = LGBMClassifier(objective='binary', \n",
    "                          n_jobs=-1,\n",
    "                          metric = 'binary_logloss',\n",
    "                          boosting_type='gbdt',\n",
    "                          cat_smooth= 35)\n",
    "gs_lgb = GridSearchCV(gbm, param_grid=parameters, scoring='neg_log_loss', cv=3, verbose = 3)"
   ]
  },
  {
   "cell_type": "code",
   "execution_count": 278,
   "metadata": {},
   "outputs": [
    {
     "name": "stdout",
     "output_type": "stream",
     "text": [
      "Fitting 3 folds for each of 12 candidates, totalling 36 fits\n",
      "[CV 1/3; 1/12] START learning_rate=0.01, num_leaves=31..........................\n",
      "[CV 1/3; 1/12] END learning_rate=0.01, num_leaves=31;, score=-0.425 total time=  12.4s\n",
      "[CV 2/3; 1/12] START learning_rate=0.01, num_leaves=31..........................\n",
      "[CV 2/3; 1/12] END learning_rate=0.01, num_leaves=31;, score=-0.425 total time=   9.9s\n",
      "[CV 3/3; 1/12] START learning_rate=0.01, num_leaves=31..........................\n",
      "[CV 3/3; 1/12] END learning_rate=0.01, num_leaves=31;, score=-0.425 total time=   9.8s\n",
      "[CV 1/3; 2/12] START learning_rate=0.01, num_leaves=250.........................\n",
      "[CV 1/3; 2/12] END learning_rate=0.01, num_leaves=250;, score=-0.417 total time=  14.9s\n",
      "[CV 2/3; 2/12] START learning_rate=0.01, num_leaves=250.........................\n",
      "[CV 2/3; 2/12] END learning_rate=0.01, num_leaves=250;, score=-0.417 total time=  14.9s\n",
      "[CV 3/3; 2/12] START learning_rate=0.01, num_leaves=250.........................\n",
      "[CV 3/3; 2/12] END learning_rate=0.01, num_leaves=250;, score=-0.417 total time=  17.1s\n",
      "[CV 1/3; 3/12] START learning_rate=0.01, num_leaves=300.........................\n",
      "[CV 1/3; 3/12] END learning_rate=0.01, num_leaves=300;, score=-0.416 total time=  16.3s\n",
      "[CV 2/3; 3/12] START learning_rate=0.01, num_leaves=300.........................\n",
      "[CV 2/3; 3/12] END learning_rate=0.01, num_leaves=300;, score=-0.416 total time=  19.6s\n",
      "[CV 3/3; 3/12] START learning_rate=0.01, num_leaves=300.........................\n",
      "[CV 3/3; 3/12] END learning_rate=0.01, num_leaves=300;, score=-0.416 total time=  16.6s\n",
      "[CV 1/3; 4/12] START learning_rate=0.05, num_leaves=31..........................\n",
      "[CV 1/3; 4/12] END learning_rate=0.05, num_leaves=31;, score=-0.411 total time=   9.5s\n",
      "[CV 2/3; 4/12] START learning_rate=0.05, num_leaves=31..........................\n",
      "[CV 2/3; 4/12] END learning_rate=0.05, num_leaves=31;, score=-0.411 total time=   9.5s\n",
      "[CV 3/3; 4/12] START learning_rate=0.05, num_leaves=31..........................\n",
      "[CV 3/3; 4/12] END learning_rate=0.05, num_leaves=31;, score=-0.412 total time=   9.5s\n",
      "[CV 1/3; 5/12] START learning_rate=0.05, num_leaves=250.........................\n",
      "[CV 1/3; 5/12] END learning_rate=0.05, num_leaves=250;, score=-0.404 total time=  15.4s\n",
      "[CV 2/3; 5/12] START learning_rate=0.05, num_leaves=250.........................\n",
      "[CV 2/3; 5/12] END learning_rate=0.05, num_leaves=250;, score=-0.404 total time=  15.1s\n",
      "[CV 3/3; 5/12] START learning_rate=0.05, num_leaves=250.........................\n",
      "[CV 3/3; 5/12] END learning_rate=0.05, num_leaves=250;, score=-0.404 total time=  19.3s\n",
      "[CV 1/3; 6/12] START learning_rate=0.05, num_leaves=300.........................\n",
      "[CV 1/3; 6/12] END learning_rate=0.05, num_leaves=300;, score=-0.404 total time=  13.7s\n",
      "[CV 2/3; 6/12] START learning_rate=0.05, num_leaves=300.........................\n",
      "[CV 2/3; 6/12] END learning_rate=0.05, num_leaves=300;, score=-0.404 total time=  15.5s\n",
      "[CV 3/3; 6/12] START learning_rate=0.05, num_leaves=300.........................\n",
      "[CV 3/3; 6/12] END learning_rate=0.05, num_leaves=300;, score=-0.403 total time=  15.1s\n",
      "[CV 1/3; 7/12] START learning_rate=0.09, num_leaves=31..........................\n",
      "[CV 1/3; 7/12] END learning_rate=0.09, num_leaves=31;, score=-0.409 total time=   8.0s\n",
      "[CV 2/3; 7/12] START learning_rate=0.09, num_leaves=31..........................\n",
      "[CV 2/3; 7/12] END learning_rate=0.09, num_leaves=31;, score=-0.409 total time=   8.2s\n",
      "[CV 3/3; 7/12] START learning_rate=0.09, num_leaves=31..........................\n",
      "[CV 3/3; 7/12] END learning_rate=0.09, num_leaves=31;, score=-0.409 total time=   8.3s\n",
      "[CV 1/3; 8/12] START learning_rate=0.09, num_leaves=250.........................\n",
      "[CV 1/3; 8/12] END learning_rate=0.09, num_leaves=250;, score=-0.403 total time=  11.4s\n",
      "[CV 2/3; 8/12] START learning_rate=0.09, num_leaves=250.........................\n",
      "[CV 2/3; 8/12] END learning_rate=0.09, num_leaves=250;, score=-0.403 total time=  12.0s\n",
      "[CV 3/3; 8/12] START learning_rate=0.09, num_leaves=250.........................\n",
      "[CV 3/3; 8/12] END learning_rate=0.09, num_leaves=250;, score=-0.403 total time=  11.7s\n",
      "[CV 1/3; 9/12] START learning_rate=0.09, num_leaves=300.........................\n",
      "[CV 1/3; 9/12] END learning_rate=0.09, num_leaves=300;, score=-0.403 total time=  11.9s\n",
      "[CV 2/3; 9/12] START learning_rate=0.09, num_leaves=300.........................\n",
      "[CV 2/3; 9/12] END learning_rate=0.09, num_leaves=300;, score=-0.403 total time=  12.2s\n",
      "[CV 3/3; 9/12] START learning_rate=0.09, num_leaves=300.........................\n",
      "[CV 3/3; 9/12] END learning_rate=0.09, num_leaves=300;, score=-0.403 total time=  12.8s\n",
      "[CV 1/3; 10/12] START learning_rate=0.1, num_leaves=31..........................\n",
      "[CV 1/3; 10/12] END learning_rate=0.1, num_leaves=31;, score=-0.409 total time=   8.2s\n",
      "[CV 2/3; 10/12] START learning_rate=0.1, num_leaves=31..........................\n",
      "[CV 2/3; 10/12] END learning_rate=0.1, num_leaves=31;, score=-0.409 total time=   8.0s\n",
      "[CV 3/3; 10/12] START learning_rate=0.1, num_leaves=31..........................\n",
      "[CV 3/3; 10/12] END learning_rate=0.1, num_leaves=31;, score=-0.409 total time=   8.1s\n",
      "[CV 1/3; 11/12] START learning_rate=0.1, num_leaves=250.........................\n",
      "[CV 1/3; 11/12] END learning_rate=0.1, num_leaves=250;, score=-0.403 total time=  11.6s\n",
      "[CV 2/3; 11/12] START learning_rate=0.1, num_leaves=250.........................\n",
      "[CV 2/3; 11/12] END learning_rate=0.1, num_leaves=250;, score=-0.403 total time=  11.3s\n",
      "[CV 3/3; 11/12] START learning_rate=0.1, num_leaves=250.........................\n",
      "[CV 3/3; 11/12] END learning_rate=0.1, num_leaves=250;, score=-0.403 total time=  11.1s\n",
      "[CV 1/3; 12/12] START learning_rate=0.1, num_leaves=300.........................\n",
      "[CV 1/3; 12/12] END learning_rate=0.1, num_leaves=300;, score=-0.403 total time=  11.9s\n",
      "[CV 2/3; 12/12] START learning_rate=0.1, num_leaves=300.........................\n",
      "[CV 2/3; 12/12] END learning_rate=0.1, num_leaves=300;, score=-0.403 total time=  11.9s\n",
      "[CV 3/3; 12/12] START learning_rate=0.1, num_leaves=300.........................\n",
      "[CV 3/3; 12/12] END learning_rate=0.1, num_leaves=300;, score=-0.403 total time=  11.7s\n"
     ]
    },
    {
     "data": {
      "text/html": [
       "<style>#sk-container-id-3 {color: black;background-color: white;}#sk-container-id-3 pre{padding: 0;}#sk-container-id-3 div.sk-toggleable {background-color: white;}#sk-container-id-3 label.sk-toggleable__label {cursor: pointer;display: block;width: 100%;margin-bottom: 0;padding: 0.3em;box-sizing: border-box;text-align: center;}#sk-container-id-3 label.sk-toggleable__label-arrow:before {content: \"▸\";float: left;margin-right: 0.25em;color: #696969;}#sk-container-id-3 label.sk-toggleable__label-arrow:hover:before {color: black;}#sk-container-id-3 div.sk-estimator:hover label.sk-toggleable__label-arrow:before {color: black;}#sk-container-id-3 div.sk-toggleable__content {max-height: 0;max-width: 0;overflow: hidden;text-align: left;background-color: #f0f8ff;}#sk-container-id-3 div.sk-toggleable__content pre {margin: 0.2em;color: black;border-radius: 0.25em;background-color: #f0f8ff;}#sk-container-id-3 input.sk-toggleable__control:checked~div.sk-toggleable__content {max-height: 200px;max-width: 100%;overflow: auto;}#sk-container-id-3 input.sk-toggleable__control:checked~label.sk-toggleable__label-arrow:before {content: \"▾\";}#sk-container-id-3 div.sk-estimator input.sk-toggleable__control:checked~label.sk-toggleable__label {background-color: #d4ebff;}#sk-container-id-3 div.sk-label input.sk-toggleable__control:checked~label.sk-toggleable__label {background-color: #d4ebff;}#sk-container-id-3 input.sk-hidden--visually {border: 0;clip: rect(1px 1px 1px 1px);clip: rect(1px, 1px, 1px, 1px);height: 1px;margin: -1px;overflow: hidden;padding: 0;position: absolute;width: 1px;}#sk-container-id-3 div.sk-estimator {font-family: monospace;background-color: #f0f8ff;border: 1px dotted black;border-radius: 0.25em;box-sizing: border-box;margin-bottom: 0.5em;}#sk-container-id-3 div.sk-estimator:hover {background-color: #d4ebff;}#sk-container-id-3 div.sk-parallel-item::after {content: \"\";width: 100%;border-bottom: 1px solid gray;flex-grow: 1;}#sk-container-id-3 div.sk-label:hover label.sk-toggleable__label {background-color: #d4ebff;}#sk-container-id-3 div.sk-serial::before {content: \"\";position: absolute;border-left: 1px solid gray;box-sizing: border-box;top: 0;bottom: 0;left: 50%;z-index: 0;}#sk-container-id-3 div.sk-serial {display: flex;flex-direction: column;align-items: center;background-color: white;padding-right: 0.2em;padding-left: 0.2em;position: relative;}#sk-container-id-3 div.sk-item {position: relative;z-index: 1;}#sk-container-id-3 div.sk-parallel {display: flex;align-items: stretch;justify-content: center;background-color: white;position: relative;}#sk-container-id-3 div.sk-item::before, #sk-container-id-3 div.sk-parallel-item::before {content: \"\";position: absolute;border-left: 1px solid gray;box-sizing: border-box;top: 0;bottom: 0;left: 50%;z-index: -1;}#sk-container-id-3 div.sk-parallel-item {display: flex;flex-direction: column;z-index: 1;position: relative;background-color: white;}#sk-container-id-3 div.sk-parallel-item:first-child::after {align-self: flex-end;width: 50%;}#sk-container-id-3 div.sk-parallel-item:last-child::after {align-self: flex-start;width: 50%;}#sk-container-id-3 div.sk-parallel-item:only-child::after {width: 0;}#sk-container-id-3 div.sk-dashed-wrapped {border: 1px dashed gray;margin: 0 0.4em 0.5em 0.4em;box-sizing: border-box;padding-bottom: 0.4em;background-color: white;}#sk-container-id-3 div.sk-label label {font-family: monospace;font-weight: bold;display: inline-block;line-height: 1.2em;}#sk-container-id-3 div.sk-label-container {text-align: center;}#sk-container-id-3 div.sk-container {/* jupyter's `normalize.less` sets `[hidden] { display: none; }` but bootstrap.min.css set `[hidden] { display: none !important; }` so we also need the `!important` here to be able to override the default hidden behavior on the sphinx rendered scikit-learn.org. See: https://github.com/scikit-learn/scikit-learn/issues/21755 */display: inline-block !important;position: relative;}#sk-container-id-3 div.sk-text-repr-fallback {display: none;}</style><div id=\"sk-container-id-3\" class=\"sk-top-container\"><div class=\"sk-text-repr-fallback\"><pre>GridSearchCV(cv=3,\n",
       "             estimator=LGBMClassifier(cat_smooth=35, metric=&#x27;binary_logloss&#x27;,\n",
       "                                      objective=&#x27;binary&#x27;),\n",
       "             param_grid={&#x27;learning_rate&#x27;: [0.01, 0.05, 0.09, 0.1],\n",
       "                         &#x27;num_leaves&#x27;: [31, 250, 300]},\n",
       "             scoring=&#x27;neg_log_loss&#x27;, verbose=35)</pre><b>In a Jupyter environment, please rerun this cell to show the HTML representation or trust the notebook. <br />On GitHub, the HTML representation is unable to render, please try loading this page with nbviewer.org.</b></div><div class=\"sk-container\" hidden><div class=\"sk-item sk-dashed-wrapped\"><div class=\"sk-label-container\"><div class=\"sk-label sk-toggleable\"><input class=\"sk-toggleable__control sk-hidden--visually\" id=\"sk-estimator-id-3\" type=\"checkbox\" ><label for=\"sk-estimator-id-3\" class=\"sk-toggleable__label sk-toggleable__label-arrow\">GridSearchCV</label><div class=\"sk-toggleable__content\"><pre>GridSearchCV(cv=3,\n",
       "             estimator=LGBMClassifier(cat_smooth=35, metric=&#x27;binary_logloss&#x27;,\n",
       "                                      objective=&#x27;binary&#x27;),\n",
       "             param_grid={&#x27;learning_rate&#x27;: [0.01, 0.05, 0.09, 0.1],\n",
       "                         &#x27;num_leaves&#x27;: [31, 250, 300]},\n",
       "             scoring=&#x27;neg_log_loss&#x27;, verbose=35)</pre></div></div></div><div class=\"sk-parallel\"><div class=\"sk-parallel-item\"><div class=\"sk-item\"><div class=\"sk-label-container\"><div class=\"sk-label sk-toggleable\"><input class=\"sk-toggleable__control sk-hidden--visually\" id=\"sk-estimator-id-4\" type=\"checkbox\" ><label for=\"sk-estimator-id-4\" class=\"sk-toggleable__label sk-toggleable__label-arrow\">estimator: LGBMClassifier</label><div class=\"sk-toggleable__content\"><pre>LGBMClassifier(cat_smooth=35, metric=&#x27;binary_logloss&#x27;, objective=&#x27;binary&#x27;)</pre></div></div></div><div class=\"sk-serial\"><div class=\"sk-item\"><div class=\"sk-estimator sk-toggleable\"><input class=\"sk-toggleable__control sk-hidden--visually\" id=\"sk-estimator-id-5\" type=\"checkbox\" ><label for=\"sk-estimator-id-5\" class=\"sk-toggleable__label sk-toggleable__label-arrow\">LGBMClassifier</label><div class=\"sk-toggleable__content\"><pre>LGBMClassifier(cat_smooth=35, metric=&#x27;binary_logloss&#x27;, objective=&#x27;binary&#x27;)</pre></div></div></div></div></div></div></div></div></div></div>"
      ],
      "text/plain": [
       "GridSearchCV(cv=3,\n",
       "             estimator=LGBMClassifier(cat_smooth=35, metric='binary_logloss',\n",
       "                                      objective='binary'),\n",
       "             param_grid={'learning_rate': [0.01, 0.05, 0.09, 0.1],\n",
       "                         'num_leaves': [31, 250, 300]},\n",
       "             scoring='neg_log_loss', verbose=35)"
      ]
     },
     "execution_count": 278,
     "metadata": {},
     "output_type": "execute_result"
    }
   ],
   "source": [
    "gs_lgb.fit(X_train, y_train)"
   ]
  },
  {
   "cell_type": "code",
   "execution_count": 279,
   "metadata": {},
   "outputs": [
    {
     "name": "stdout",
     "output_type": "stream",
     "text": [
      "best parameter:{'learning_rate': 0.1, 'num_leaves': 300}\n",
      "best logloss:0.40284256869548624\n",
      "[0.42493007 0.4167635  0.4161361  0.41145756 0.40401134 0.4036137\n",
      " 0.40933394 0.40322167 0.40294127 0.40888987 0.40307371 0.40284257]\n",
      "[{'learning_rate': 0.01, 'num_leaves': 31}, {'learning_rate': 0.01, 'num_leaves': 250}, {'learning_rate': 0.01, 'num_leaves': 300}, {'learning_rate': 0.05, 'num_leaves': 31}, {'learning_rate': 0.05, 'num_leaves': 250}, {'learning_rate': 0.05, 'num_leaves': 300}, {'learning_rate': 0.09, 'num_leaves': 31}, {'learning_rate': 0.09, 'num_leaves': 250}, {'learning_rate': 0.09, 'num_leaves': 300}, {'learning_rate': 0.1, 'num_leaves': 31}, {'learning_rate': 0.1, 'num_leaves': 250}, {'learning_rate': 0.1, 'num_leaves': 300}]\n"
     ]
    }
   ],
   "source": [
    "print('best parameter:{0}'.format(gs_lgb.best_params_))\n",
    "print('best logloss:{0}'.format(-gs_lgb.best_score_))\n",
    "print(-gs_lgb.cv_results_['mean_test_score'])\n",
    "print(gs_lgb.cv_results_['params'])"
   ]
  },
  {
   "cell_type": "code",
   "execution_count": 114,
   "metadata": {},
   "outputs": [],
   "source": [
    "lgb = LGBMClassifier(learning_rate=0.1,num_leaves = 300,random_state=42, metric = 'binary_logloss',cat_smooth= 35).\\\n",
    "    fit(X_train, y_train,eval_metric='logloss')"
   ]
  },
  {
   "cell_type": "code",
   "execution_count": 115,
   "metadata": {},
   "outputs": [],
   "source": [
    "y_pred_lgb=lgb.predict_proba(X_val)[:, 1]"
   ]
  },
  {
   "cell_type": "code",
   "execution_count": 289,
   "metadata": {},
   "outputs": [
    {
     "data": {
      "text/plain": [
       "0.40189174104048725"
      ]
     },
     "execution_count": 289,
     "metadata": {},
     "output_type": "execute_result"
    }
   ],
   "source": [
    "log_loss(y_val, y_pred_lgb)"
   ]
  },
  {
   "cell_type": "markdown",
   "metadata": {},
   "source": [
    "## CatBoost"
   ]
  },
  {
   "cell_type": "code",
   "execution_count": 90,
   "metadata": {},
   "outputs": [],
   "source": [
    "from catboost import CatBoostClassifier, Pool"
   ]
  },
  {
   "cell_type": "code",
   "execution_count": 92,
   "metadata": {},
   "outputs": [],
   "source": [
    "ctb = CatBoostClassifier(random_seed=42)"
   ]
  },
  {
   "cell_type": "code",
   "execution_count": 93,
   "metadata": {},
   "outputs": [
    {
     "name": "stdout",
     "output_type": "stream",
     "text": [
      "Learning rate set to 0.277612\n",
      "0:\tlearn: 0.5546360\ttotal: 286ms\tremaining: 4m 46s\n",
      "1:\tlearn: 0.4901436\ttotal: 466ms\tremaining: 3m 52s\n",
      "2:\tlearn: 0.4580588\ttotal: 677ms\tremaining: 3m 45s\n",
      "3:\tlearn: 0.4419956\ttotal: 875ms\tremaining: 3m 37s\n",
      "4:\tlearn: 0.4337565\ttotal: 1.09s\tremaining: 3m 37s\n",
      "5:\tlearn: 0.4287606\ttotal: 1.29s\tremaining: 3m 34s\n",
      "6:\tlearn: 0.4262102\ttotal: 1.58s\tremaining: 3m 44s\n",
      "7:\tlearn: 0.4243884\ttotal: 1.75s\tremaining: 3m 37s\n",
      "8:\tlearn: 0.4233272\ttotal: 1.94s\tremaining: 3m 33s\n",
      "9:\tlearn: 0.4221519\ttotal: 2.12s\tremaining: 3m 30s\n",
      "10:\tlearn: 0.4211780\ttotal: 2.31s\tremaining: 3m 28s\n",
      "11:\tlearn: 0.4200521\ttotal: 2.5s\tremaining: 3m 25s\n",
      "12:\tlearn: 0.4192943\ttotal: 2.71s\tremaining: 3m 25s\n",
      "13:\tlearn: 0.4189905\ttotal: 2.9s\tremaining: 3m 24s\n",
      "14:\tlearn: 0.4184677\ttotal: 3.09s\tremaining: 3m 23s\n",
      "15:\tlearn: 0.4181608\ttotal: 3.27s\tremaining: 3m 20s\n",
      "16:\tlearn: 0.4178235\ttotal: 3.46s\tremaining: 3m 20s\n",
      "17:\tlearn: 0.4173590\ttotal: 3.65s\tremaining: 3m 19s\n",
      "18:\tlearn: 0.4171426\ttotal: 3.84s\tremaining: 3m 18s\n",
      "19:\tlearn: 0.4167615\ttotal: 4.05s\tremaining: 3m 18s\n",
      "20:\tlearn: 0.4164154\ttotal: 4.28s\tremaining: 3m 19s\n",
      "21:\tlearn: 0.4161804\ttotal: 4.51s\tremaining: 3m 20s\n",
      "22:\tlearn: 0.4159316\ttotal: 4.74s\tremaining: 3m 21s\n",
      "23:\tlearn: 0.4157913\ttotal: 4.94s\tremaining: 3m 21s\n",
      "24:\tlearn: 0.4156897\ttotal: 5.16s\tremaining: 3m 21s\n",
      "25:\tlearn: 0.4155136\ttotal: 5.36s\tremaining: 3m 20s\n",
      "26:\tlearn: 0.4153259\ttotal: 5.6s\tremaining: 3m 21s\n",
      "27:\tlearn: 0.4150533\ttotal: 5.84s\tremaining: 3m 22s\n",
      "28:\tlearn: 0.4148490\ttotal: 6.08s\tremaining: 3m 23s\n",
      "29:\tlearn: 0.4146303\ttotal: 6.3s\tremaining: 3m 23s\n",
      "30:\tlearn: 0.4145423\ttotal: 6.52s\tremaining: 3m 23s\n",
      "31:\tlearn: 0.4143679\ttotal: 6.77s\tremaining: 3m 24s\n",
      "32:\tlearn: 0.4141760\ttotal: 7.02s\tremaining: 3m 25s\n",
      "33:\tlearn: 0.4139500\ttotal: 7.25s\tremaining: 3m 26s\n",
      "34:\tlearn: 0.4138078\ttotal: 7.48s\tremaining: 3m 26s\n",
      "35:\tlearn: 0.4137127\ttotal: 7.71s\tremaining: 3m 26s\n",
      "36:\tlearn: 0.4135380\ttotal: 7.98s\tremaining: 3m 27s\n",
      "37:\tlearn: 0.4133628\ttotal: 8.31s\tremaining: 3m 30s\n",
      "38:\tlearn: 0.4132991\ttotal: 8.51s\tremaining: 3m 29s\n",
      "39:\tlearn: 0.4132065\ttotal: 8.72s\tremaining: 3m 29s\n",
      "40:\tlearn: 0.4130997\ttotal: 8.93s\tremaining: 3m 28s\n",
      "41:\tlearn: 0.4129088\ttotal: 9.16s\tremaining: 3m 28s\n",
      "42:\tlearn: 0.4127877\ttotal: 9.38s\tremaining: 3m 28s\n",
      "43:\tlearn: 0.4127018\ttotal: 9.65s\tremaining: 3m 29s\n",
      "44:\tlearn: 0.4126035\ttotal: 9.86s\tremaining: 3m 29s\n",
      "45:\tlearn: 0.4124666\ttotal: 10.1s\tremaining: 3m 28s\n",
      "46:\tlearn: 0.4124038\ttotal: 10.3s\tremaining: 3m 28s\n",
      "47:\tlearn: 0.4122297\ttotal: 10.5s\tremaining: 3m 28s\n",
      "48:\tlearn: 0.4121711\ttotal: 10.7s\tremaining: 3m 28s\n",
      "49:\tlearn: 0.4120944\ttotal: 10.9s\tremaining: 3m 27s\n",
      "50:\tlearn: 0.4120003\ttotal: 11.2s\tremaining: 3m 28s\n",
      "51:\tlearn: 0.4119157\ttotal: 11.4s\tremaining: 3m 28s\n",
      "52:\tlearn: 0.4118710\ttotal: 11.6s\tremaining: 3m 27s\n",
      "53:\tlearn: 0.4117106\ttotal: 11.9s\tremaining: 3m 27s\n",
      "54:\tlearn: 0.4116283\ttotal: 12.1s\tremaining: 3m 28s\n",
      "55:\tlearn: 0.4115617\ttotal: 12.4s\tremaining: 3m 28s\n",
      "56:\tlearn: 0.4115376\ttotal: 12.6s\tremaining: 3m 28s\n",
      "57:\tlearn: 0.4114261\ttotal: 12.8s\tremaining: 3m 28s\n",
      "58:\tlearn: 0.4113178\ttotal: 13.1s\tremaining: 3m 28s\n",
      "59:\tlearn: 0.4112835\ttotal: 13.4s\tremaining: 3m 29s\n",
      "60:\tlearn: 0.4112375\ttotal: 13.6s\tremaining: 3m 29s\n",
      "61:\tlearn: 0.4111765\ttotal: 13.8s\tremaining: 3m 29s\n",
      "62:\tlearn: 0.4110480\ttotal: 14.2s\tremaining: 3m 30s\n",
      "63:\tlearn: 0.4110022\ttotal: 14.4s\tremaining: 3m 31s\n",
      "64:\tlearn: 0.4109316\ttotal: 14.9s\tremaining: 3m 33s\n",
      "65:\tlearn: 0.4108577\ttotal: 15.2s\tremaining: 3m 34s\n",
      "66:\tlearn: 0.4107676\ttotal: 15.5s\tremaining: 3m 35s\n",
      "67:\tlearn: 0.4106700\ttotal: 15.8s\tremaining: 3m 36s\n",
      "68:\tlearn: 0.4105561\ttotal: 16.1s\tremaining: 3m 37s\n",
      "69:\tlearn: 0.4105163\ttotal: 16.5s\tremaining: 3m 38s\n",
      "70:\tlearn: 0.4104150\ttotal: 16.8s\tremaining: 3m 40s\n",
      "71:\tlearn: 0.4103828\ttotal: 17.2s\tremaining: 3m 41s\n",
      "72:\tlearn: 0.4102453\ttotal: 17.5s\tremaining: 3m 42s\n",
      "73:\tlearn: 0.4101556\ttotal: 17.8s\tremaining: 3m 43s\n",
      "74:\tlearn: 0.4101179\ttotal: 18.2s\tremaining: 3m 44s\n",
      "75:\tlearn: 0.4100612\ttotal: 18.6s\tremaining: 3m 45s\n",
      "76:\tlearn: 0.4099731\ttotal: 18.9s\tremaining: 3m 46s\n",
      "77:\tlearn: 0.4098977\ttotal: 19.1s\tremaining: 3m 46s\n",
      "78:\tlearn: 0.4098373\ttotal: 19.3s\tremaining: 3m 45s\n",
      "79:\tlearn: 0.4097720\ttotal: 19.5s\tremaining: 3m 44s\n",
      "80:\tlearn: 0.4097240\ttotal: 19.8s\tremaining: 3m 44s\n",
      "81:\tlearn: 0.4096137\ttotal: 20s\tremaining: 3m 43s\n",
      "82:\tlearn: 0.4095649\ttotal: 20.2s\tremaining: 3m 42s\n",
      "83:\tlearn: 0.4095271\ttotal: 20.4s\tremaining: 3m 42s\n",
      "84:\tlearn: 0.4094921\ttotal: 20.6s\tremaining: 3m 41s\n",
      "85:\tlearn: 0.4094402\ttotal: 20.8s\tremaining: 3m 40s\n",
      "86:\tlearn: 0.4093803\ttotal: 21s\tremaining: 3m 40s\n",
      "87:\tlearn: 0.4092884\ttotal: 21.2s\tremaining: 3m 39s\n",
      "88:\tlearn: 0.4092372\ttotal: 21.5s\tremaining: 3m 39s\n",
      "89:\tlearn: 0.4091567\ttotal: 21.7s\tremaining: 3m 39s\n",
      "90:\tlearn: 0.4091229\ttotal: 21.9s\tremaining: 3m 38s\n",
      "91:\tlearn: 0.4091006\ttotal: 22.1s\tremaining: 3m 37s\n",
      "92:\tlearn: 0.4090737\ttotal: 22.3s\tremaining: 3m 37s\n",
      "93:\tlearn: 0.4090340\ttotal: 22.5s\tremaining: 3m 36s\n",
      "94:\tlearn: 0.4089990\ttotal: 22.7s\tremaining: 3m 35s\n",
      "95:\tlearn: 0.4089723\ttotal: 22.9s\tremaining: 3m 35s\n",
      "96:\tlearn: 0.4088957\ttotal: 23.1s\tremaining: 3m 35s\n",
      "97:\tlearn: 0.4088538\ttotal: 23.3s\tremaining: 3m 34s\n",
      "98:\tlearn: 0.4088058\ttotal: 23.6s\tremaining: 3m 34s\n",
      "99:\tlearn: 0.4087818\ttotal: 23.8s\tremaining: 3m 34s\n",
      "100:\tlearn: 0.4087388\ttotal: 24s\tremaining: 3m 33s\n",
      "101:\tlearn: 0.4086906\ttotal: 24.2s\tremaining: 3m 33s\n",
      "102:\tlearn: 0.4086492\ttotal: 24.4s\tremaining: 3m 32s\n",
      "103:\tlearn: 0.4086265\ttotal: 24.6s\tremaining: 3m 32s\n",
      "104:\tlearn: 0.4085876\ttotal: 24.8s\tremaining: 3m 31s\n",
      "105:\tlearn: 0.4085429\ttotal: 25s\tremaining: 3m 31s\n",
      "106:\tlearn: 0.4084917\ttotal: 25.3s\tremaining: 3m 30s\n",
      "107:\tlearn: 0.4084537\ttotal: 25.5s\tremaining: 3m 30s\n",
      "108:\tlearn: 0.4084092\ttotal: 25.7s\tremaining: 3m 29s\n",
      "109:\tlearn: 0.4083451\ttotal: 25.9s\tremaining: 3m 29s\n",
      "110:\tlearn: 0.4083154\ttotal: 26.1s\tremaining: 3m 29s\n",
      "111:\tlearn: 0.4082757\ttotal: 26.3s\tremaining: 3m 28s\n",
      "112:\tlearn: 0.4082531\ttotal: 26.6s\tremaining: 3m 28s\n",
      "113:\tlearn: 0.4082184\ttotal: 26.8s\tremaining: 3m 28s\n",
      "114:\tlearn: 0.4081724\ttotal: 27s\tremaining: 3m 27s\n",
      "115:\tlearn: 0.4081503\ttotal: 27.2s\tremaining: 3m 27s\n",
      "116:\tlearn: 0.4081357\ttotal: 27.4s\tremaining: 3m 26s\n",
      "117:\tlearn: 0.4080655\ttotal: 27.6s\tremaining: 3m 26s\n",
      "118:\tlearn: 0.4080417\ttotal: 27.8s\tremaining: 3m 26s\n",
      "119:\tlearn: 0.4080179\ttotal: 28s\tremaining: 3m 25s\n",
      "120:\tlearn: 0.4080007\ttotal: 28.2s\tremaining: 3m 25s\n",
      "121:\tlearn: 0.4079785\ttotal: 28.4s\tremaining: 3m 24s\n",
      "122:\tlearn: 0.4079478\ttotal: 28.7s\tremaining: 3m 24s\n",
      "123:\tlearn: 0.4079144\ttotal: 28.9s\tremaining: 3m 23s\n",
      "124:\tlearn: 0.4078750\ttotal: 29.1s\tremaining: 3m 23s\n",
      "125:\tlearn: 0.4078398\ttotal: 29.3s\tremaining: 3m 23s\n",
      "126:\tlearn: 0.4078000\ttotal: 29.5s\tremaining: 3m 22s\n",
      "127:\tlearn: 0.4077733\ttotal: 29.7s\tremaining: 3m 22s\n",
      "128:\tlearn: 0.4077444\ttotal: 30s\tremaining: 3m 22s\n",
      "129:\tlearn: 0.4076883\ttotal: 30.2s\tremaining: 3m 22s\n",
      "130:\tlearn: 0.4076662\ttotal: 30.4s\tremaining: 3m 21s\n",
      "131:\tlearn: 0.4076328\ttotal: 30.7s\tremaining: 3m 21s\n",
      "132:\tlearn: 0.4076176\ttotal: 30.9s\tremaining: 3m 21s\n",
      "133:\tlearn: 0.4075565\ttotal: 31.1s\tremaining: 3m 21s\n",
      "134:\tlearn: 0.4075280\ttotal: 31.3s\tremaining: 3m 20s\n",
      "135:\tlearn: 0.4074894\ttotal: 31.6s\tremaining: 3m 21s\n",
      "136:\tlearn: 0.4074472\ttotal: 32s\tremaining: 3m 21s\n",
      "137:\tlearn: 0.4074319\ttotal: 32.3s\tremaining: 3m 21s\n",
      "138:\tlearn: 0.4074043\ttotal: 32.5s\tremaining: 3m 21s\n",
      "139:\tlearn: 0.4073753\ttotal: 32.7s\tremaining: 3m 20s\n",
      "140:\tlearn: 0.4073439\ttotal: 33s\tremaining: 3m 20s\n",
      "141:\tlearn: 0.4073318\ttotal: 33.2s\tremaining: 3m 20s\n",
      "142:\tlearn: 0.4072999\ttotal: 33.4s\tremaining: 3m 20s\n",
      "143:\tlearn: 0.4072732\ttotal: 33.6s\tremaining: 3m 19s\n",
      "144:\tlearn: 0.4072630\ttotal: 33.8s\tremaining: 3m 19s\n",
      "145:\tlearn: 0.4072472\ttotal: 34s\tremaining: 3m 19s\n",
      "146:\tlearn: 0.4072141\ttotal: 34.2s\tremaining: 3m 18s\n",
      "147:\tlearn: 0.4071776\ttotal: 34.5s\tremaining: 3m 18s\n",
      "148:\tlearn: 0.4071652\ttotal: 34.7s\tremaining: 3m 18s\n",
      "149:\tlearn: 0.4071312\ttotal: 34.9s\tremaining: 3m 17s\n",
      "150:\tlearn: 0.4071084\ttotal: 35.2s\tremaining: 3m 17s\n",
      "151:\tlearn: 0.4070794\ttotal: 35.4s\tremaining: 3m 17s\n",
      "152:\tlearn: 0.4070640\ttotal: 35.6s\tremaining: 3m 17s\n",
      "153:\tlearn: 0.4070345\ttotal: 35.8s\tremaining: 3m 16s\n",
      "154:\tlearn: 0.4069977\ttotal: 36.1s\tremaining: 3m 16s\n",
      "155:\tlearn: 0.4069743\ttotal: 36.3s\tremaining: 3m 16s\n",
      "156:\tlearn: 0.4069504\ttotal: 36.5s\tremaining: 3m 15s\n",
      "157:\tlearn: 0.4069286\ttotal: 36.7s\tremaining: 3m 15s\n",
      "158:\tlearn: 0.4068965\ttotal: 36.9s\tremaining: 3m 15s\n",
      "159:\tlearn: 0.4068773\ttotal: 37.2s\tremaining: 3m 15s\n",
      "160:\tlearn: 0.4068513\ttotal: 37.4s\tremaining: 3m 14s\n",
      "161:\tlearn: 0.4068374\ttotal: 37.6s\tremaining: 3m 14s\n",
      "162:\tlearn: 0.4068174\ttotal: 37.8s\tremaining: 3m 14s\n",
      "163:\tlearn: 0.4068034\ttotal: 38s\tremaining: 3m 13s\n",
      "164:\tlearn: 0.4067877\ttotal: 38.2s\tremaining: 3m 13s\n",
      "165:\tlearn: 0.4067633\ttotal: 38.4s\tremaining: 3m 13s\n",
      "166:\tlearn: 0.4067357\ttotal: 38.6s\tremaining: 3m 12s\n",
      "167:\tlearn: 0.4067110\ttotal: 38.9s\tremaining: 3m 12s\n",
      "168:\tlearn: 0.4066987\ttotal: 39.1s\tremaining: 3m 12s\n",
      "169:\tlearn: 0.4066886\ttotal: 39.3s\tremaining: 3m 11s\n",
      "170:\tlearn: 0.4066533\ttotal: 39.5s\tremaining: 3m 11s\n",
      "171:\tlearn: 0.4066345\ttotal: 39.8s\tremaining: 3m 11s\n",
      "172:\tlearn: 0.4066089\ttotal: 40s\tremaining: 3m 11s\n",
      "173:\tlearn: 0.4065808\ttotal: 40.2s\tremaining: 3m 10s\n",
      "174:\tlearn: 0.4065537\ttotal: 40.4s\tremaining: 3m 10s\n",
      "175:\tlearn: 0.4065433\ttotal: 40.6s\tremaining: 3m 10s\n",
      "176:\tlearn: 0.4065240\ttotal: 40.9s\tremaining: 3m 9s\n",
      "177:\tlearn: 0.4064885\ttotal: 41.1s\tremaining: 3m 9s\n",
      "178:\tlearn: 0.4064755\ttotal: 41.3s\tremaining: 3m 9s\n",
      "179:\tlearn: 0.4064459\ttotal: 41.5s\tremaining: 3m 9s\n",
      "180:\tlearn: 0.4064299\ttotal: 41.7s\tremaining: 3m 8s\n",
      "181:\tlearn: 0.4064031\ttotal: 42s\tremaining: 3m 8s\n",
      "182:\tlearn: 0.4063876\ttotal: 42.2s\tremaining: 3m 8s\n",
      "183:\tlearn: 0.4063384\ttotal: 42.4s\tremaining: 3m 7s\n",
      "184:\tlearn: 0.4063215\ttotal: 42.6s\tremaining: 3m 7s\n",
      "185:\tlearn: 0.4062923\ttotal: 42.8s\tremaining: 3m 7s\n",
      "186:\tlearn: 0.4062749\ttotal: 43s\tremaining: 3m 7s\n",
      "187:\tlearn: 0.4062672\ttotal: 43.2s\tremaining: 3m 6s\n",
      "188:\tlearn: 0.4062549\ttotal: 43.5s\tremaining: 3m 6s\n",
      "189:\tlearn: 0.4062397\ttotal: 43.7s\tremaining: 3m 6s\n",
      "190:\tlearn: 0.4062136\ttotal: 43.9s\tremaining: 3m 5s\n",
      "191:\tlearn: 0.4062005\ttotal: 44.1s\tremaining: 3m 5s\n",
      "192:\tlearn: 0.4061774\ttotal: 44.3s\tremaining: 3m 5s\n",
      "193:\tlearn: 0.4061610\ttotal: 44.6s\tremaining: 3m 5s\n",
      "194:\tlearn: 0.4061446\ttotal: 44.8s\tremaining: 3m 5s\n",
      "195:\tlearn: 0.4061208\ttotal: 45s\tremaining: 3m 4s\n",
      "196:\tlearn: 0.4060996\ttotal: 45.3s\tremaining: 3m 4s\n",
      "197:\tlearn: 0.4060861\ttotal: 45.5s\tremaining: 3m 4s\n",
      "198:\tlearn: 0.4060670\ttotal: 45.7s\tremaining: 3m 4s\n",
      "199:\tlearn: 0.4060516\ttotal: 45.9s\tremaining: 3m 3s\n",
      "200:\tlearn: 0.4060291\ttotal: 46.2s\tremaining: 3m 3s\n",
      "201:\tlearn: 0.4060139\ttotal: 46.4s\tremaining: 3m 3s\n",
      "202:\tlearn: 0.4059953\ttotal: 46.6s\tremaining: 3m 2s\n",
      "203:\tlearn: 0.4059759\ttotal: 46.8s\tremaining: 3m 2s\n",
      "204:\tlearn: 0.4059664\ttotal: 47s\tremaining: 3m 2s\n",
      "205:\tlearn: 0.4059429\ttotal: 47.2s\tremaining: 3m 2s\n",
      "206:\tlearn: 0.4059226\ttotal: 47.4s\tremaining: 3m 1s\n",
      "207:\tlearn: 0.4059115\ttotal: 47.7s\tremaining: 3m 1s\n",
      "208:\tlearn: 0.4058949\ttotal: 47.9s\tremaining: 3m 1s\n",
      "209:\tlearn: 0.4058798\ttotal: 48.1s\tremaining: 3m\n",
      "210:\tlearn: 0.4058673\ttotal: 48.3s\tremaining: 3m\n",
      "211:\tlearn: 0.4058561\ttotal: 48.5s\tremaining: 3m\n",
      "212:\tlearn: 0.4058360\ttotal: 48.8s\tremaining: 3m\n",
      "213:\tlearn: 0.4058271\ttotal: 49s\tremaining: 2m 59s\n",
      "214:\tlearn: 0.4058121\ttotal: 49.2s\tremaining: 2m 59s\n",
      "215:\tlearn: 0.4057984\ttotal: 49.4s\tremaining: 2m 59s\n",
      "216:\tlearn: 0.4057882\ttotal: 49.6s\tremaining: 2m 58s\n",
      "217:\tlearn: 0.4057719\ttotal: 49.8s\tremaining: 2m 58s\n",
      "218:\tlearn: 0.4057617\ttotal: 50s\tremaining: 2m 58s\n",
      "219:\tlearn: 0.4057519\ttotal: 50.2s\tremaining: 2m 58s\n",
      "220:\tlearn: 0.4057273\ttotal: 50.4s\tremaining: 2m 57s\n",
      "221:\tlearn: 0.4056960\ttotal: 50.6s\tremaining: 2m 57s\n",
      "222:\tlearn: 0.4056795\ttotal: 50.9s\tremaining: 2m 57s\n",
      "223:\tlearn: 0.4056680\ttotal: 51.1s\tremaining: 2m 56s\n",
      "224:\tlearn: 0.4056563\ttotal: 51.3s\tremaining: 2m 56s\n",
      "225:\tlearn: 0.4056457\ttotal: 51.6s\tremaining: 2m 56s\n",
      "226:\tlearn: 0.4056328\ttotal: 51.8s\tremaining: 2m 56s\n",
      "227:\tlearn: 0.4056212\ttotal: 52s\tremaining: 2m 55s\n",
      "228:\tlearn: 0.4056033\ttotal: 52.2s\tremaining: 2m 55s\n",
      "229:\tlearn: 0.4055903\ttotal: 52.4s\tremaining: 2m 55s\n",
      "230:\tlearn: 0.4055802\ttotal: 52.6s\tremaining: 2m 55s\n",
      "231:\tlearn: 0.4055721\ttotal: 52.9s\tremaining: 2m 54s\n",
      "232:\tlearn: 0.4055312\ttotal: 53.1s\tremaining: 2m 54s\n",
      "233:\tlearn: 0.4055076\ttotal: 53.3s\tremaining: 2m 54s\n",
      "234:\tlearn: 0.4054938\ttotal: 53.5s\tremaining: 2m 54s\n",
      "235:\tlearn: 0.4054813\ttotal: 53.7s\tremaining: 2m 53s\n",
      "236:\tlearn: 0.4054677\ttotal: 54s\tremaining: 2m 53s\n",
      "237:\tlearn: 0.4054590\ttotal: 54.2s\tremaining: 2m 53s\n",
      "238:\tlearn: 0.4054464\ttotal: 54.4s\tremaining: 2m 53s\n",
      "239:\tlearn: 0.4054315\ttotal: 54.6s\tremaining: 2m 53s\n",
      "240:\tlearn: 0.4054149\ttotal: 54.9s\tremaining: 2m 52s\n",
      "241:\tlearn: 0.4053760\ttotal: 55.1s\tremaining: 2m 52s\n",
      "242:\tlearn: 0.4053650\ttotal: 55.3s\tremaining: 2m 52s\n",
      "243:\tlearn: 0.4053556\ttotal: 55.6s\tremaining: 2m 52s\n",
      "244:\tlearn: 0.4053454\ttotal: 55.8s\tremaining: 2m 51s\n",
      "245:\tlearn: 0.4053390\ttotal: 56s\tremaining: 2m 51s\n",
      "246:\tlearn: 0.4053257\ttotal: 56.2s\tremaining: 2m 51s\n",
      "247:\tlearn: 0.4053130\ttotal: 56.4s\tremaining: 2m 51s\n",
      "248:\tlearn: 0.4053038\ttotal: 56.6s\tremaining: 2m 50s\n",
      "249:\tlearn: 0.4052820\ttotal: 56.8s\tremaining: 2m 50s\n",
      "250:\tlearn: 0.4052560\ttotal: 57s\tremaining: 2m 50s\n",
      "251:\tlearn: 0.4052438\ttotal: 57.3s\tremaining: 2m 49s\n",
      "252:\tlearn: 0.4052355\ttotal: 57.5s\tremaining: 2m 49s\n",
      "253:\tlearn: 0.4052228\ttotal: 57.7s\tremaining: 2m 49s\n",
      "254:\tlearn: 0.4051931\ttotal: 57.9s\tremaining: 2m 49s\n",
      "255:\tlearn: 0.4051823\ttotal: 58.1s\tremaining: 2m 48s\n",
      "256:\tlearn: 0.4051648\ttotal: 58.3s\tremaining: 2m 48s\n",
      "257:\tlearn: 0.4051546\ttotal: 58.5s\tremaining: 2m 48s\n",
      "258:\tlearn: 0.4051246\ttotal: 58.8s\tremaining: 2m 48s\n",
      "259:\tlearn: 0.4051168\ttotal: 59s\tremaining: 2m 47s\n",
      "260:\tlearn: 0.4051040\ttotal: 59.2s\tremaining: 2m 47s\n",
      "261:\tlearn: 0.4050899\ttotal: 59.4s\tremaining: 2m 47s\n",
      "262:\tlearn: 0.4050770\ttotal: 59.6s\tremaining: 2m 46s\n",
      "263:\tlearn: 0.4050651\ttotal: 59.8s\tremaining: 2m 46s\n",
      "264:\tlearn: 0.4050544\ttotal: 60s\tremaining: 2m 46s\n",
      "265:\tlearn: 0.4050407\ttotal: 1m\tremaining: 2m 46s\n",
      "266:\tlearn: 0.4050311\ttotal: 1m\tremaining: 2m 45s\n",
      "267:\tlearn: 0.4050281\ttotal: 1m\tremaining: 2m 45s\n",
      "268:\tlearn: 0.4050195\ttotal: 1m\tremaining: 2m 45s\n",
      "269:\tlearn: 0.4050085\ttotal: 1m 1s\tremaining: 2m 45s\n",
      "270:\tlearn: 0.4050033\ttotal: 1m 1s\tremaining: 2m 44s\n",
      "271:\tlearn: 0.4049935\ttotal: 1m 1s\tremaining: 2m 44s\n",
      "272:\tlearn: 0.4049822\ttotal: 1m 1s\tremaining: 2m 44s\n",
      "273:\tlearn: 0.4049738\ttotal: 1m 1s\tremaining: 2m 44s\n",
      "274:\tlearn: 0.4049665\ttotal: 1m 2s\tremaining: 2m 43s\n",
      "275:\tlearn: 0.4049579\ttotal: 1m 2s\tremaining: 2m 43s\n",
      "276:\tlearn: 0.4049482\ttotal: 1m 2s\tremaining: 2m 43s\n",
      "277:\tlearn: 0.4049412\ttotal: 1m 2s\tremaining: 2m 43s\n",
      "278:\tlearn: 0.4049282\ttotal: 1m 2s\tremaining: 2m 42s\n",
      "279:\tlearn: 0.4049244\ttotal: 1m 3s\tremaining: 2m 42s\n",
      "280:\tlearn: 0.4049184\ttotal: 1m 3s\tremaining: 2m 42s\n",
      "281:\tlearn: 0.4049084\ttotal: 1m 3s\tremaining: 2m 41s\n",
      "282:\tlearn: 0.4048928\ttotal: 1m 3s\tremaining: 2m 41s\n",
      "283:\tlearn: 0.4048869\ttotal: 1m 4s\tremaining: 2m 41s\n",
      "284:\tlearn: 0.4048683\ttotal: 1m 4s\tremaining: 2m 41s\n",
      "285:\tlearn: 0.4048518\ttotal: 1m 4s\tremaining: 2m 41s\n",
      "286:\tlearn: 0.4048329\ttotal: 1m 4s\tremaining: 2m 40s\n",
      "287:\tlearn: 0.4048286\ttotal: 1m 4s\tremaining: 2m 40s\n",
      "288:\tlearn: 0.4048170\ttotal: 1m 5s\tremaining: 2m 40s\n",
      "289:\tlearn: 0.4048022\ttotal: 1m 5s\tremaining: 2m 40s\n",
      "290:\tlearn: 0.4047942\ttotal: 1m 5s\tremaining: 2m 39s\n",
      "291:\tlearn: 0.4047865\ttotal: 1m 5s\tremaining: 2m 39s\n",
      "292:\tlearn: 0.4047767\ttotal: 1m 5s\tremaining: 2m 39s\n",
      "293:\tlearn: 0.4047712\ttotal: 1m 6s\tremaining: 2m 38s\n",
      "294:\tlearn: 0.4047599\ttotal: 1m 6s\tremaining: 2m 38s\n",
      "295:\tlearn: 0.4047497\ttotal: 1m 6s\tremaining: 2m 38s\n",
      "296:\tlearn: 0.4047346\ttotal: 1m 6s\tremaining: 2m 38s\n",
      "297:\tlearn: 0.4047153\ttotal: 1m 7s\tremaining: 2m 37s\n",
      "298:\tlearn: 0.4047060\ttotal: 1m 7s\tremaining: 2m 37s\n",
      "299:\tlearn: 0.4047011\ttotal: 1m 7s\tremaining: 2m 37s\n",
      "300:\tlearn: 0.4046944\ttotal: 1m 7s\tremaining: 2m 37s\n",
      "301:\tlearn: 0.4046841\ttotal: 1m 7s\tremaining: 2m 36s\n",
      "302:\tlearn: 0.4046742\ttotal: 1m 8s\tremaining: 2m 36s\n",
      "303:\tlearn: 0.4046664\ttotal: 1m 8s\tremaining: 2m 36s\n",
      "304:\tlearn: 0.4046568\ttotal: 1m 8s\tremaining: 2m 36s\n",
      "305:\tlearn: 0.4046493\ttotal: 1m 8s\tremaining: 2m 35s\n",
      "306:\tlearn: 0.4046417\ttotal: 1m 8s\tremaining: 2m 35s\n",
      "307:\tlearn: 0.4046333\ttotal: 1m 9s\tremaining: 2m 35s\n",
      "308:\tlearn: 0.4046233\ttotal: 1m 9s\tremaining: 2m 35s\n",
      "309:\tlearn: 0.4046101\ttotal: 1m 9s\tremaining: 2m 34s\n",
      "310:\tlearn: 0.4045998\ttotal: 1m 9s\tremaining: 2m 34s\n",
      "311:\tlearn: 0.4045916\ttotal: 1m 10s\tremaining: 2m 34s\n",
      "312:\tlearn: 0.4045847\ttotal: 1m 10s\tremaining: 2m 34s\n",
      "313:\tlearn: 0.4045777\ttotal: 1m 10s\tremaining: 2m 33s\n",
      "314:\tlearn: 0.4045701\ttotal: 1m 10s\tremaining: 2m 33s\n",
      "315:\tlearn: 0.4045600\ttotal: 1m 10s\tremaining: 2m 33s\n",
      "316:\tlearn: 0.4045482\ttotal: 1m 11s\tremaining: 2m 33s\n",
      "317:\tlearn: 0.4045382\ttotal: 1m 11s\tremaining: 2m 32s\n",
      "318:\tlearn: 0.4045285\ttotal: 1m 11s\tremaining: 2m 32s\n",
      "319:\tlearn: 0.4045192\ttotal: 1m 11s\tremaining: 2m 32s\n",
      "320:\tlearn: 0.4045016\ttotal: 1m 11s\tremaining: 2m 32s\n",
      "321:\tlearn: 0.4044942\ttotal: 1m 12s\tremaining: 2m 31s\n",
      "322:\tlearn: 0.4044870\ttotal: 1m 12s\tremaining: 2m 31s\n",
      "323:\tlearn: 0.4044795\ttotal: 1m 12s\tremaining: 2m 31s\n",
      "324:\tlearn: 0.4044713\ttotal: 1m 12s\tremaining: 2m 31s\n",
      "325:\tlearn: 0.4044562\ttotal: 1m 12s\tremaining: 2m 30s\n",
      "326:\tlearn: 0.4044477\ttotal: 1m 13s\tremaining: 2m 30s\n",
      "327:\tlearn: 0.4044398\ttotal: 1m 13s\tremaining: 2m 30s\n",
      "328:\tlearn: 0.4044316\ttotal: 1m 13s\tremaining: 2m 30s\n",
      "329:\tlearn: 0.4044225\ttotal: 1m 13s\tremaining: 2m 29s\n",
      "330:\tlearn: 0.4044170\ttotal: 1m 14s\tremaining: 2m 29s\n",
      "331:\tlearn: 0.4044082\ttotal: 1m 14s\tremaining: 2m 29s\n",
      "332:\tlearn: 0.4043991\ttotal: 1m 14s\tremaining: 2m 29s\n",
      "333:\tlearn: 0.4043951\ttotal: 1m 14s\tremaining: 2m 28s\n",
      "334:\tlearn: 0.4043878\ttotal: 1m 14s\tremaining: 2m 28s\n",
      "335:\tlearn: 0.4043777\ttotal: 1m 15s\tremaining: 2m 28s\n",
      "336:\tlearn: 0.4043654\ttotal: 1m 15s\tremaining: 2m 28s\n",
      "337:\tlearn: 0.4043588\ttotal: 1m 15s\tremaining: 2m 28s\n",
      "338:\tlearn: 0.4043501\ttotal: 1m 15s\tremaining: 2m 27s\n",
      "339:\tlearn: 0.4043456\ttotal: 1m 16s\tremaining: 2m 27s\n",
      "340:\tlearn: 0.4043331\ttotal: 1m 16s\tremaining: 2m 27s\n",
      "341:\tlearn: 0.4043244\ttotal: 1m 16s\tremaining: 2m 27s\n",
      "342:\tlearn: 0.4043182\ttotal: 1m 16s\tremaining: 2m 26s\n",
      "343:\tlearn: 0.4043133\ttotal: 1m 16s\tremaining: 2m 26s\n",
      "344:\tlearn: 0.4043056\ttotal: 1m 17s\tremaining: 2m 26s\n",
      "345:\tlearn: 0.4042980\ttotal: 1m 17s\tremaining: 2m 26s\n",
      "346:\tlearn: 0.4042896\ttotal: 1m 17s\tremaining: 2m 25s\n",
      "347:\tlearn: 0.4042847\ttotal: 1m 17s\tremaining: 2m 25s\n",
      "348:\tlearn: 0.4042792\ttotal: 1m 17s\tremaining: 2m 25s\n",
      "349:\tlearn: 0.4042700\ttotal: 1m 18s\tremaining: 2m 25s\n",
      "350:\tlearn: 0.4042587\ttotal: 1m 18s\tremaining: 2m 24s\n",
      "351:\tlearn: 0.4042526\ttotal: 1m 18s\tremaining: 2m 24s\n",
      "352:\tlearn: 0.4042446\ttotal: 1m 18s\tremaining: 2m 24s\n",
      "353:\tlearn: 0.4042339\ttotal: 1m 18s\tremaining: 2m 24s\n",
      "354:\tlearn: 0.4042270\ttotal: 1m 19s\tremaining: 2m 23s\n",
      "355:\tlearn: 0.4042166\ttotal: 1m 19s\tremaining: 2m 23s\n",
      "356:\tlearn: 0.4042099\ttotal: 1m 19s\tremaining: 2m 23s\n",
      "357:\tlearn: 0.4042053\ttotal: 1m 19s\tremaining: 2m 23s\n",
      "358:\tlearn: 0.4041939\ttotal: 1m 20s\tremaining: 2m 22s\n",
      "359:\tlearn: 0.4041841\ttotal: 1m 20s\tremaining: 2m 22s\n",
      "360:\tlearn: 0.4041781\ttotal: 1m 20s\tremaining: 2m 22s\n",
      "361:\tlearn: 0.4041533\ttotal: 1m 20s\tremaining: 2m 22s\n",
      "362:\tlearn: 0.4041413\ttotal: 1m 20s\tremaining: 2m 22s\n",
      "363:\tlearn: 0.4041387\ttotal: 1m 21s\tremaining: 2m 21s\n",
      "364:\tlearn: 0.4041178\ttotal: 1m 21s\tremaining: 2m 21s\n",
      "365:\tlearn: 0.4041116\ttotal: 1m 21s\tremaining: 2m 21s\n",
      "366:\tlearn: 0.4041036\ttotal: 1m 21s\tremaining: 2m 21s\n",
      "367:\tlearn: 0.4040965\ttotal: 1m 22s\tremaining: 2m 20s\n",
      "368:\tlearn: 0.4040894\ttotal: 1m 22s\tremaining: 2m 20s\n",
      "369:\tlearn: 0.4040849\ttotal: 1m 22s\tremaining: 2m 20s\n",
      "370:\tlearn: 0.4040799\ttotal: 1m 22s\tremaining: 2m 20s\n",
      "371:\tlearn: 0.4040747\ttotal: 1m 22s\tremaining: 2m 19s\n",
      "372:\tlearn: 0.4040620\ttotal: 1m 23s\tremaining: 2m 19s\n",
      "373:\tlearn: 0.4040541\ttotal: 1m 23s\tremaining: 2m 19s\n",
      "374:\tlearn: 0.4040487\ttotal: 1m 23s\tremaining: 2m 19s\n",
      "375:\tlearn: 0.4040389\ttotal: 1m 23s\tremaining: 2m 19s\n",
      "376:\tlearn: 0.4040325\ttotal: 1m 24s\tremaining: 2m 18s\n",
      "377:\tlearn: 0.4040226\ttotal: 1m 24s\tremaining: 2m 18s\n",
      "378:\tlearn: 0.4040149\ttotal: 1m 24s\tremaining: 2m 18s\n",
      "379:\tlearn: 0.4040036\ttotal: 1m 24s\tremaining: 2m 18s\n",
      "380:\tlearn: 0.4039975\ttotal: 1m 24s\tremaining: 2m 17s\n",
      "381:\tlearn: 0.4039907\ttotal: 1m 25s\tremaining: 2m 17s\n",
      "382:\tlearn: 0.4039751\ttotal: 1m 25s\tremaining: 2m 17s\n",
      "383:\tlearn: 0.4039666\ttotal: 1m 25s\tremaining: 2m 17s\n",
      "384:\tlearn: 0.4039637\ttotal: 1m 25s\tremaining: 2m 17s\n",
      "385:\tlearn: 0.4039527\ttotal: 1m 25s\tremaining: 2m 16s\n",
      "386:\tlearn: 0.4039453\ttotal: 1m 26s\tremaining: 2m 16s\n",
      "387:\tlearn: 0.4039395\ttotal: 1m 26s\tremaining: 2m 16s\n",
      "388:\tlearn: 0.4039329\ttotal: 1m 26s\tremaining: 2m 16s\n",
      "389:\tlearn: 0.4039139\ttotal: 1m 26s\tremaining: 2m 15s\n",
      "390:\tlearn: 0.4039024\ttotal: 1m 27s\tremaining: 2m 15s\n",
      "391:\tlearn: 0.4038922\ttotal: 1m 27s\tremaining: 2m 15s\n",
      "392:\tlearn: 0.4038837\ttotal: 1m 27s\tremaining: 2m 15s\n",
      "393:\tlearn: 0.4038770\ttotal: 1m 27s\tremaining: 2m 14s\n",
      "394:\tlearn: 0.4038738\ttotal: 1m 27s\tremaining: 2m 14s\n",
      "395:\tlearn: 0.4038686\ttotal: 1m 28s\tremaining: 2m 14s\n",
      "396:\tlearn: 0.4038600\ttotal: 1m 28s\tremaining: 2m 14s\n",
      "397:\tlearn: 0.4038522\ttotal: 1m 28s\tremaining: 2m 14s\n",
      "398:\tlearn: 0.4038489\ttotal: 1m 28s\tremaining: 2m 13s\n",
      "399:\tlearn: 0.4038430\ttotal: 1m 29s\tremaining: 2m 13s\n",
      "400:\tlearn: 0.4038402\ttotal: 1m 29s\tremaining: 2m 13s\n",
      "401:\tlearn: 0.4038236\ttotal: 1m 29s\tremaining: 2m 13s\n",
      "402:\tlearn: 0.4038122\ttotal: 1m 29s\tremaining: 2m 12s\n",
      "403:\tlearn: 0.4038069\ttotal: 1m 29s\tremaining: 2m 12s\n",
      "404:\tlearn: 0.4037984\ttotal: 1m 30s\tremaining: 2m 12s\n",
      "405:\tlearn: 0.4037915\ttotal: 1m 30s\tremaining: 2m 12s\n",
      "406:\tlearn: 0.4037868\ttotal: 1m 30s\tremaining: 2m 11s\n",
      "407:\tlearn: 0.4037812\ttotal: 1m 30s\tremaining: 2m 11s\n",
      "408:\tlearn: 0.4037663\ttotal: 1m 30s\tremaining: 2m 11s\n",
      "409:\tlearn: 0.4037614\ttotal: 1m 31s\tremaining: 2m 11s\n",
      "410:\tlearn: 0.4037561\ttotal: 1m 31s\tremaining: 2m 10s\n",
      "411:\tlearn: 0.4037523\ttotal: 1m 31s\tremaining: 2m 10s\n",
      "412:\tlearn: 0.4037438\ttotal: 1m 31s\tremaining: 2m 10s\n",
      "413:\tlearn: 0.4037360\ttotal: 1m 32s\tremaining: 2m 10s\n",
      "414:\tlearn: 0.4037307\ttotal: 1m 32s\tremaining: 2m 10s\n",
      "415:\tlearn: 0.4037230\ttotal: 1m 32s\tremaining: 2m 9s\n",
      "416:\tlearn: 0.4037179\ttotal: 1m 32s\tremaining: 2m 9s\n",
      "417:\tlearn: 0.4037112\ttotal: 1m 32s\tremaining: 2m 9s\n",
      "418:\tlearn: 0.4037058\ttotal: 1m 33s\tremaining: 2m 9s\n",
      "419:\tlearn: 0.4036983\ttotal: 1m 33s\tremaining: 2m 9s\n",
      "420:\tlearn: 0.4036899\ttotal: 1m 33s\tremaining: 2m 9s\n",
      "421:\tlearn: 0.4036855\ttotal: 1m 34s\tremaining: 2m 8s\n",
      "422:\tlearn: 0.4036775\ttotal: 1m 34s\tremaining: 2m 8s\n",
      "423:\tlearn: 0.4036693\ttotal: 1m 34s\tremaining: 2m 8s\n",
      "424:\tlearn: 0.4036594\ttotal: 1m 34s\tremaining: 2m 8s\n",
      "425:\tlearn: 0.4036503\ttotal: 1m 35s\tremaining: 2m 8s\n",
      "426:\tlearn: 0.4036436\ttotal: 1m 35s\tremaining: 2m 7s\n",
      "427:\tlearn: 0.4036339\ttotal: 1m 35s\tremaining: 2m 7s\n",
      "428:\tlearn: 0.4036271\ttotal: 1m 35s\tremaining: 2m 7s\n",
      "429:\tlearn: 0.4036212\ttotal: 1m 36s\tremaining: 2m 7s\n",
      "430:\tlearn: 0.4036081\ttotal: 1m 36s\tremaining: 2m 7s\n",
      "431:\tlearn: 0.4035991\ttotal: 1m 36s\tremaining: 2m 6s\n",
      "432:\tlearn: 0.4035927\ttotal: 1m 36s\tremaining: 2m 6s\n",
      "433:\tlearn: 0.4035819\ttotal: 1m 36s\tremaining: 2m 6s\n",
      "434:\tlearn: 0.4035750\ttotal: 1m 37s\tremaining: 2m 6s\n",
      "435:\tlearn: 0.4035671\ttotal: 1m 37s\tremaining: 2m 5s\n",
      "436:\tlearn: 0.4035594\ttotal: 1m 37s\tremaining: 2m 5s\n",
      "437:\tlearn: 0.4035505\ttotal: 1m 37s\tremaining: 2m 5s\n",
      "438:\tlearn: 0.4035362\ttotal: 1m 37s\tremaining: 2m 5s\n",
      "439:\tlearn: 0.4035278\ttotal: 1m 38s\tremaining: 2m 4s\n",
      "440:\tlearn: 0.4035191\ttotal: 1m 38s\tremaining: 2m 4s\n",
      "441:\tlearn: 0.4035073\ttotal: 1m 38s\tremaining: 2m 4s\n",
      "442:\tlearn: 0.4034928\ttotal: 1m 38s\tremaining: 2m 4s\n",
      "443:\tlearn: 0.4034908\ttotal: 1m 39s\tremaining: 2m 4s\n",
      "444:\tlearn: 0.4034849\ttotal: 1m 39s\tremaining: 2m 3s\n",
      "445:\tlearn: 0.4034825\ttotal: 1m 39s\tremaining: 2m 3s\n",
      "446:\tlearn: 0.4034709\ttotal: 1m 39s\tremaining: 2m 3s\n",
      "447:\tlearn: 0.4034659\ttotal: 1m 39s\tremaining: 2m 3s\n",
      "448:\tlearn: 0.4034608\ttotal: 1m 40s\tremaining: 2m 2s\n",
      "449:\tlearn: 0.4034547\ttotal: 1m 40s\tremaining: 2m 2s\n",
      "450:\tlearn: 0.4034493\ttotal: 1m 40s\tremaining: 2m 2s\n",
      "451:\tlearn: 0.4034411\ttotal: 1m 40s\tremaining: 2m 2s\n",
      "452:\tlearn: 0.4034367\ttotal: 1m 40s\tremaining: 2m 1s\n",
      "453:\tlearn: 0.4034324\ttotal: 1m 41s\tremaining: 2m 1s\n",
      "454:\tlearn: 0.4034201\ttotal: 1m 41s\tremaining: 2m 1s\n",
      "455:\tlearn: 0.4034119\ttotal: 1m 41s\tremaining: 2m 1s\n",
      "456:\tlearn: 0.4034057\ttotal: 1m 41s\tremaining: 2m\n",
      "457:\tlearn: 0.4034007\ttotal: 1m 42s\tremaining: 2m\n",
      "458:\tlearn: 0.4033971\ttotal: 1m 42s\tremaining: 2m\n",
      "459:\tlearn: 0.4033943\ttotal: 1m 42s\tremaining: 2m\n",
      "460:\tlearn: 0.4033897\ttotal: 1m 42s\tremaining: 2m\n",
      "461:\tlearn: 0.4033815\ttotal: 1m 42s\tremaining: 1m 59s\n",
      "462:\tlearn: 0.4033740\ttotal: 1m 43s\tremaining: 1m 59s\n",
      "463:\tlearn: 0.4033700\ttotal: 1m 43s\tremaining: 1m 59s\n",
      "464:\tlearn: 0.4033637\ttotal: 1m 43s\tremaining: 1m 59s\n",
      "465:\tlearn: 0.4033566\ttotal: 1m 43s\tremaining: 1m 58s\n",
      "466:\tlearn: 0.4033492\ttotal: 1m 43s\tremaining: 1m 58s\n",
      "467:\tlearn: 0.4033378\ttotal: 1m 44s\tremaining: 1m 58s\n",
      "468:\tlearn: 0.4033315\ttotal: 1m 44s\tremaining: 1m 58s\n",
      "469:\tlearn: 0.4033267\ttotal: 1m 44s\tremaining: 1m 57s\n",
      "470:\tlearn: 0.4033203\ttotal: 1m 44s\tremaining: 1m 57s\n",
      "471:\tlearn: 0.4033163\ttotal: 1m 45s\tremaining: 1m 57s\n",
      "472:\tlearn: 0.4033119\ttotal: 1m 45s\tremaining: 1m 57s\n",
      "473:\tlearn: 0.4033059\ttotal: 1m 45s\tremaining: 1m 56s\n",
      "474:\tlearn: 0.4032999\ttotal: 1m 45s\tremaining: 1m 56s\n",
      "475:\tlearn: 0.4032937\ttotal: 1m 45s\tremaining: 1m 56s\n",
      "476:\tlearn: 0.4032887\ttotal: 1m 46s\tremaining: 1m 56s\n",
      "477:\tlearn: 0.4032820\ttotal: 1m 46s\tremaining: 1m 56s\n",
      "478:\tlearn: 0.4032790\ttotal: 1m 46s\tremaining: 1m 55s\n",
      "479:\tlearn: 0.4032735\ttotal: 1m 46s\tremaining: 1m 55s\n",
      "480:\tlearn: 0.4032705\ttotal: 1m 46s\tremaining: 1m 55s\n",
      "481:\tlearn: 0.4032659\ttotal: 1m 47s\tremaining: 1m 55s\n",
      "482:\tlearn: 0.4032555\ttotal: 1m 47s\tremaining: 1m 54s\n",
      "483:\tlearn: 0.4032477\ttotal: 1m 47s\tremaining: 1m 54s\n",
      "484:\tlearn: 0.4032417\ttotal: 1m 47s\tremaining: 1m 54s\n",
      "485:\tlearn: 0.4032333\ttotal: 1m 48s\tremaining: 1m 54s\n",
      "486:\tlearn: 0.4032280\ttotal: 1m 48s\tremaining: 1m 54s\n",
      "487:\tlearn: 0.4032244\ttotal: 1m 48s\tremaining: 1m 53s\n",
      "488:\tlearn: 0.4032136\ttotal: 1m 48s\tremaining: 1m 53s\n",
      "489:\tlearn: 0.4032055\ttotal: 1m 48s\tremaining: 1m 53s\n",
      "490:\tlearn: 0.4031998\ttotal: 1m 49s\tremaining: 1m 53s\n",
      "491:\tlearn: 0.4031979\ttotal: 1m 49s\tremaining: 1m 52s\n",
      "492:\tlearn: 0.4031886\ttotal: 1m 49s\tremaining: 1m 52s\n",
      "493:\tlearn: 0.4031808\ttotal: 1m 49s\tremaining: 1m 52s\n",
      "494:\tlearn: 0.4031771\ttotal: 1m 50s\tremaining: 1m 52s\n",
      "495:\tlearn: 0.4031680\ttotal: 1m 50s\tremaining: 1m 52s\n",
      "496:\tlearn: 0.4031602\ttotal: 1m 50s\tremaining: 1m 51s\n",
      "497:\tlearn: 0.4031575\ttotal: 1m 50s\tremaining: 1m 51s\n",
      "498:\tlearn: 0.4031538\ttotal: 1m 50s\tremaining: 1m 51s\n",
      "499:\tlearn: 0.4031491\ttotal: 1m 51s\tremaining: 1m 51s\n",
      "500:\tlearn: 0.4031455\ttotal: 1m 51s\tremaining: 1m 50s\n",
      "501:\tlearn: 0.4031383\ttotal: 1m 51s\tremaining: 1m 50s\n",
      "502:\tlearn: 0.4031360\ttotal: 1m 51s\tremaining: 1m 50s\n",
      "503:\tlearn: 0.4031290\ttotal: 1m 51s\tremaining: 1m 50s\n",
      "504:\tlearn: 0.4031216\ttotal: 1m 52s\tremaining: 1m 49s\n",
      "505:\tlearn: 0.4031173\ttotal: 1m 52s\tremaining: 1m 49s\n",
      "506:\tlearn: 0.4031090\ttotal: 1m 52s\tremaining: 1m 49s\n",
      "507:\tlearn: 0.4031009\ttotal: 1m 52s\tremaining: 1m 49s\n",
      "508:\tlearn: 0.4030906\ttotal: 1m 53s\tremaining: 1m 49s\n",
      "509:\tlearn: 0.4030846\ttotal: 1m 53s\tremaining: 1m 48s\n",
      "510:\tlearn: 0.4030787\ttotal: 1m 53s\tremaining: 1m 48s\n",
      "511:\tlearn: 0.4030740\ttotal: 1m 53s\tremaining: 1m 48s\n",
      "512:\tlearn: 0.4030682\ttotal: 1m 53s\tremaining: 1m 48s\n",
      "513:\tlearn: 0.4030635\ttotal: 1m 54s\tremaining: 1m 47s\n",
      "514:\tlearn: 0.4030552\ttotal: 1m 54s\tremaining: 1m 47s\n",
      "515:\tlearn: 0.4030497\ttotal: 1m 54s\tremaining: 1m 47s\n",
      "516:\tlearn: 0.4030449\ttotal: 1m 54s\tremaining: 1m 47s\n",
      "517:\tlearn: 0.4030383\ttotal: 1m 54s\tremaining: 1m 46s\n",
      "518:\tlearn: 0.4030321\ttotal: 1m 55s\tremaining: 1m 46s\n",
      "519:\tlearn: 0.4030269\ttotal: 1m 55s\tremaining: 1m 46s\n",
      "520:\tlearn: 0.4030122\ttotal: 1m 55s\tremaining: 1m 46s\n",
      "521:\tlearn: 0.4030080\ttotal: 1m 55s\tremaining: 1m 46s\n",
      "522:\tlearn: 0.4030037\ttotal: 1m 56s\tremaining: 1m 45s\n",
      "523:\tlearn: 0.4029985\ttotal: 1m 56s\tremaining: 1m 45s\n",
      "524:\tlearn: 0.4029909\ttotal: 1m 56s\tremaining: 1m 45s\n",
      "525:\tlearn: 0.4029862\ttotal: 1m 56s\tremaining: 1m 45s\n",
      "526:\tlearn: 0.4029821\ttotal: 1m 56s\tremaining: 1m 44s\n",
      "527:\tlearn: 0.4029769\ttotal: 1m 57s\tremaining: 1m 44s\n",
      "528:\tlearn: 0.4029694\ttotal: 1m 57s\tremaining: 1m 44s\n",
      "529:\tlearn: 0.4029649\ttotal: 1m 57s\tremaining: 1m 44s\n",
      "530:\tlearn: 0.4029612\ttotal: 1m 57s\tremaining: 1m 44s\n",
      "531:\tlearn: 0.4029518\ttotal: 1m 57s\tremaining: 1m 43s\n",
      "532:\tlearn: 0.4029481\ttotal: 1m 58s\tremaining: 1m 43s\n",
      "533:\tlearn: 0.4029448\ttotal: 1m 58s\tremaining: 1m 43s\n",
      "534:\tlearn: 0.4029389\ttotal: 1m 58s\tremaining: 1m 43s\n",
      "535:\tlearn: 0.4029338\ttotal: 1m 58s\tremaining: 1m 42s\n",
      "536:\tlearn: 0.4029284\ttotal: 1m 59s\tremaining: 1m 42s\n",
      "537:\tlearn: 0.4029233\ttotal: 1m 59s\tremaining: 1m 42s\n",
      "538:\tlearn: 0.4029179\ttotal: 1m 59s\tremaining: 1m 42s\n",
      "539:\tlearn: 0.4029124\ttotal: 1m 59s\tremaining: 1m 41s\n",
      "540:\tlearn: 0.4029079\ttotal: 1m 59s\tremaining: 1m 41s\n",
      "541:\tlearn: 0.4029042\ttotal: 2m\tremaining: 1m 41s\n",
      "542:\tlearn: 0.4029000\ttotal: 2m\tremaining: 1m 41s\n",
      "543:\tlearn: 0.4028950\ttotal: 2m\tremaining: 1m 41s\n",
      "544:\tlearn: 0.4028910\ttotal: 2m\tremaining: 1m 40s\n",
      "545:\tlearn: 0.4028850\ttotal: 2m 1s\tremaining: 1m 40s\n",
      "546:\tlearn: 0.4028800\ttotal: 2m 1s\tremaining: 1m 40s\n",
      "547:\tlearn: 0.4028706\ttotal: 2m 1s\tremaining: 1m 40s\n",
      "548:\tlearn: 0.4028653\ttotal: 2m 1s\tremaining: 1m 40s\n",
      "549:\tlearn: 0.4028552\ttotal: 2m 2s\tremaining: 1m 39s\n",
      "550:\tlearn: 0.4028488\ttotal: 2m 2s\tremaining: 1m 39s\n",
      "551:\tlearn: 0.4028436\ttotal: 2m 2s\tremaining: 1m 39s\n",
      "552:\tlearn: 0.4028375\ttotal: 2m 2s\tremaining: 1m 39s\n",
      "553:\tlearn: 0.4028321\ttotal: 2m 2s\tremaining: 1m 38s\n",
      "554:\tlearn: 0.4028267\ttotal: 2m 3s\tremaining: 1m 38s\n",
      "555:\tlearn: 0.4028197\ttotal: 2m 3s\tremaining: 1m 38s\n",
      "556:\tlearn: 0.4028123\ttotal: 2m 3s\tremaining: 1m 38s\n",
      "557:\tlearn: 0.4028078\ttotal: 2m 3s\tremaining: 1m 38s\n",
      "558:\tlearn: 0.4028030\ttotal: 2m 3s\tremaining: 1m 37s\n",
      "559:\tlearn: 0.4027996\ttotal: 2m 4s\tremaining: 1m 37s\n",
      "560:\tlearn: 0.4027905\ttotal: 2m 4s\tremaining: 1m 37s\n",
      "561:\tlearn: 0.4027852\ttotal: 2m 4s\tremaining: 1m 37s\n",
      "562:\tlearn: 0.4027780\ttotal: 2m 4s\tremaining: 1m 36s\n",
      "563:\tlearn: 0.4027714\ttotal: 2m 5s\tremaining: 1m 36s\n",
      "564:\tlearn: 0.4027650\ttotal: 2m 5s\tremaining: 1m 36s\n",
      "565:\tlearn: 0.4027556\ttotal: 2m 5s\tremaining: 1m 36s\n",
      "566:\tlearn: 0.4027503\ttotal: 2m 5s\tremaining: 1m 36s\n",
      "567:\tlearn: 0.4027432\ttotal: 2m 6s\tremaining: 1m 35s\n",
      "568:\tlearn: 0.4027354\ttotal: 2m 6s\tremaining: 1m 35s\n",
      "569:\tlearn: 0.4027322\ttotal: 2m 6s\tremaining: 1m 35s\n",
      "570:\tlearn: 0.4027298\ttotal: 2m 6s\tremaining: 1m 35s\n",
      "571:\tlearn: 0.4027265\ttotal: 2m 6s\tremaining: 1m 34s\n",
      "572:\tlearn: 0.4027239\ttotal: 2m 7s\tremaining: 1m 34s\n",
      "573:\tlearn: 0.4027158\ttotal: 2m 7s\tremaining: 1m 34s\n",
      "574:\tlearn: 0.4027115\ttotal: 2m 7s\tremaining: 1m 34s\n",
      "575:\tlearn: 0.4027060\ttotal: 2m 7s\tremaining: 1m 34s\n",
      "576:\tlearn: 0.4027023\ttotal: 2m 7s\tremaining: 1m 33s\n",
      "577:\tlearn: 0.4026939\ttotal: 2m 8s\tremaining: 1m 33s\n",
      "578:\tlearn: 0.4026832\ttotal: 2m 8s\tremaining: 1m 33s\n",
      "579:\tlearn: 0.4026789\ttotal: 2m 8s\tremaining: 1m 33s\n",
      "580:\tlearn: 0.4026739\ttotal: 2m 8s\tremaining: 1m 32s\n",
      "581:\tlearn: 0.4026658\ttotal: 2m 9s\tremaining: 1m 32s\n",
      "582:\tlearn: 0.4026614\ttotal: 2m 9s\tremaining: 1m 32s\n",
      "583:\tlearn: 0.4026569\ttotal: 2m 9s\tremaining: 1m 32s\n",
      "584:\tlearn: 0.4026536\ttotal: 2m 9s\tremaining: 1m 32s\n",
      "585:\tlearn: 0.4026498\ttotal: 2m 9s\tremaining: 1m 31s\n",
      "586:\tlearn: 0.4026459\ttotal: 2m 10s\tremaining: 1m 31s\n",
      "587:\tlearn: 0.4026422\ttotal: 2m 10s\tremaining: 1m 31s\n",
      "588:\tlearn: 0.4026398\ttotal: 2m 10s\tremaining: 1m 31s\n",
      "589:\tlearn: 0.4026385\ttotal: 2m 10s\tremaining: 1m 30s\n",
      "590:\tlearn: 0.4026339\ttotal: 2m 10s\tremaining: 1m 30s\n",
      "591:\tlearn: 0.4026287\ttotal: 2m 11s\tremaining: 1m 30s\n",
      "592:\tlearn: 0.4026234\ttotal: 2m 11s\tremaining: 1m 30s\n",
      "593:\tlearn: 0.4026174\ttotal: 2m 11s\tremaining: 1m 29s\n",
      "594:\tlearn: 0.4026088\ttotal: 2m 11s\tremaining: 1m 29s\n",
      "595:\tlearn: 0.4026010\ttotal: 2m 12s\tremaining: 1m 29s\n",
      "596:\tlearn: 0.4025992\ttotal: 2m 12s\tremaining: 1m 29s\n",
      "597:\tlearn: 0.4025964\ttotal: 2m 12s\tremaining: 1m 29s\n",
      "598:\tlearn: 0.4025917\ttotal: 2m 12s\tremaining: 1m 28s\n",
      "599:\tlearn: 0.4025833\ttotal: 2m 12s\tremaining: 1m 28s\n",
      "600:\tlearn: 0.4025678\ttotal: 2m 13s\tremaining: 1m 28s\n",
      "601:\tlearn: 0.4025607\ttotal: 2m 13s\tremaining: 1m 28s\n",
      "602:\tlearn: 0.4025555\ttotal: 2m 13s\tremaining: 1m 27s\n",
      "603:\tlearn: 0.4025469\ttotal: 2m 13s\tremaining: 1m 27s\n",
      "604:\tlearn: 0.4025411\ttotal: 2m 13s\tremaining: 1m 27s\n",
      "605:\tlearn: 0.4025354\ttotal: 2m 14s\tremaining: 1m 27s\n",
      "606:\tlearn: 0.4025300\ttotal: 2m 14s\tremaining: 1m 27s\n",
      "607:\tlearn: 0.4025222\ttotal: 2m 14s\tremaining: 1m 26s\n",
      "608:\tlearn: 0.4025186\ttotal: 2m 14s\tremaining: 1m 26s\n",
      "609:\tlearn: 0.4025103\ttotal: 2m 15s\tremaining: 1m 26s\n",
      "610:\tlearn: 0.4025074\ttotal: 2m 15s\tremaining: 1m 26s\n",
      "611:\tlearn: 0.4024992\ttotal: 2m 15s\tremaining: 1m 25s\n",
      "612:\tlearn: 0.4024919\ttotal: 2m 15s\tremaining: 1m 25s\n",
      "613:\tlearn: 0.4024857\ttotal: 2m 15s\tremaining: 1m 25s\n",
      "614:\tlearn: 0.4024817\ttotal: 2m 16s\tremaining: 1m 25s\n",
      "615:\tlearn: 0.4024690\ttotal: 2m 16s\tremaining: 1m 25s\n",
      "616:\tlearn: 0.4024657\ttotal: 2m 16s\tremaining: 1m 24s\n",
      "617:\tlearn: 0.4024609\ttotal: 2m 16s\tremaining: 1m 24s\n",
      "618:\tlearn: 0.4024567\ttotal: 2m 17s\tremaining: 1m 24s\n",
      "619:\tlearn: 0.4024507\ttotal: 2m 17s\tremaining: 1m 24s\n",
      "620:\tlearn: 0.4024448\ttotal: 2m 17s\tremaining: 1m 23s\n",
      "621:\tlearn: 0.4024375\ttotal: 2m 17s\tremaining: 1m 23s\n",
      "622:\tlearn: 0.4024319\ttotal: 2m 17s\tremaining: 1m 23s\n",
      "623:\tlearn: 0.4024246\ttotal: 2m 18s\tremaining: 1m 23s\n",
      "624:\tlearn: 0.4024197\ttotal: 2m 18s\tremaining: 1m 23s\n",
      "625:\tlearn: 0.4024156\ttotal: 2m 18s\tremaining: 1m 22s\n",
      "626:\tlearn: 0.4024014\ttotal: 2m 18s\tremaining: 1m 22s\n",
      "627:\tlearn: 0.4023957\ttotal: 2m 19s\tremaining: 1m 22s\n",
      "628:\tlearn: 0.4023900\ttotal: 2m 19s\tremaining: 1m 22s\n",
      "629:\tlearn: 0.4023866\ttotal: 2m 19s\tremaining: 1m 21s\n",
      "630:\tlearn: 0.4023829\ttotal: 2m 19s\tremaining: 1m 21s\n",
      "631:\tlearn: 0.4023789\ttotal: 2m 19s\tremaining: 1m 21s\n",
      "632:\tlearn: 0.4023748\ttotal: 2m 20s\tremaining: 1m 21s\n",
      "633:\tlearn: 0.4023691\ttotal: 2m 20s\tremaining: 1m 21s\n",
      "634:\tlearn: 0.4023654\ttotal: 2m 20s\tremaining: 1m 20s\n",
      "635:\tlearn: 0.4023537\ttotal: 2m 20s\tremaining: 1m 20s\n",
      "636:\tlearn: 0.4023527\ttotal: 2m 21s\tremaining: 1m 20s\n",
      "637:\tlearn: 0.4023477\ttotal: 2m 21s\tremaining: 1m 20s\n",
      "638:\tlearn: 0.4023416\ttotal: 2m 21s\tremaining: 1m 19s\n",
      "639:\tlearn: 0.4023368\ttotal: 2m 21s\tremaining: 1m 19s\n",
      "640:\tlearn: 0.4023307\ttotal: 2m 21s\tremaining: 1m 19s\n",
      "641:\tlearn: 0.4023279\ttotal: 2m 22s\tremaining: 1m 19s\n",
      "642:\tlearn: 0.4023220\ttotal: 2m 22s\tremaining: 1m 19s\n",
      "643:\tlearn: 0.4023163\ttotal: 2m 22s\tremaining: 1m 18s\n",
      "644:\tlearn: 0.4023124\ttotal: 2m 22s\tremaining: 1m 18s\n",
      "645:\tlearn: 0.4023072\ttotal: 2m 22s\tremaining: 1m 18s\n",
      "646:\tlearn: 0.4023025\ttotal: 2m 23s\tremaining: 1m 18s\n",
      "647:\tlearn: 0.4022968\ttotal: 2m 23s\tremaining: 1m 17s\n",
      "648:\tlearn: 0.4022916\ttotal: 2m 23s\tremaining: 1m 17s\n",
      "649:\tlearn: 0.4022886\ttotal: 2m 23s\tremaining: 1m 17s\n",
      "650:\tlearn: 0.4022810\ttotal: 2m 24s\tremaining: 1m 17s\n",
      "651:\tlearn: 0.4022769\ttotal: 2m 24s\tremaining: 1m 17s\n",
      "652:\tlearn: 0.4022710\ttotal: 2m 24s\tremaining: 1m 16s\n",
      "653:\tlearn: 0.4022655\ttotal: 2m 24s\tremaining: 1m 16s\n",
      "654:\tlearn: 0.4022588\ttotal: 2m 24s\tremaining: 1m 16s\n",
      "655:\tlearn: 0.4022559\ttotal: 2m 25s\tremaining: 1m 16s\n",
      "656:\tlearn: 0.4022499\ttotal: 2m 25s\tremaining: 1m 15s\n",
      "657:\tlearn: 0.4022455\ttotal: 2m 25s\tremaining: 1m 15s\n",
      "658:\tlearn: 0.4022432\ttotal: 2m 25s\tremaining: 1m 15s\n",
      "659:\tlearn: 0.4022402\ttotal: 2m 25s\tremaining: 1m 15s\n",
      "660:\tlearn: 0.4022363\ttotal: 2m 26s\tremaining: 1m 14s\n",
      "661:\tlearn: 0.4022313\ttotal: 2m 26s\tremaining: 1m 14s\n",
      "662:\tlearn: 0.4022284\ttotal: 2m 26s\tremaining: 1m 14s\n",
      "663:\tlearn: 0.4022242\ttotal: 2m 26s\tremaining: 1m 14s\n",
      "664:\tlearn: 0.4022204\ttotal: 2m 27s\tremaining: 1m 14s\n",
      "665:\tlearn: 0.4022142\ttotal: 2m 27s\tremaining: 1m 13s\n",
      "666:\tlearn: 0.4022075\ttotal: 2m 27s\tremaining: 1m 13s\n",
      "667:\tlearn: 0.4022011\ttotal: 2m 27s\tremaining: 1m 13s\n",
      "668:\tlearn: 0.4021965\ttotal: 2m 27s\tremaining: 1m 13s\n",
      "669:\tlearn: 0.4021950\ttotal: 2m 28s\tremaining: 1m 12s\n",
      "670:\tlearn: 0.4021920\ttotal: 2m 28s\tremaining: 1m 12s\n",
      "671:\tlearn: 0.4021856\ttotal: 2m 28s\tremaining: 1m 12s\n",
      "672:\tlearn: 0.4021782\ttotal: 2m 28s\tremaining: 1m 12s\n",
      "673:\tlearn: 0.4021734\ttotal: 2m 28s\tremaining: 1m 12s\n",
      "674:\tlearn: 0.4021722\ttotal: 2m 29s\tremaining: 1m 11s\n",
      "675:\tlearn: 0.4021692\ttotal: 2m 29s\tremaining: 1m 11s\n",
      "676:\tlearn: 0.4021640\ttotal: 2m 29s\tremaining: 1m 11s\n",
      "677:\tlearn: 0.4021611\ttotal: 2m 29s\tremaining: 1m 11s\n",
      "678:\tlearn: 0.4021553\ttotal: 2m 30s\tremaining: 1m 10s\n",
      "679:\tlearn: 0.4021496\ttotal: 2m 30s\tremaining: 1m 10s\n",
      "680:\tlearn: 0.4021425\ttotal: 2m 30s\tremaining: 1m 10s\n",
      "681:\tlearn: 0.4021355\ttotal: 2m 30s\tremaining: 1m 10s\n",
      "682:\tlearn: 0.4021307\ttotal: 2m 30s\tremaining: 1m 10s\n",
      "683:\tlearn: 0.4021251\ttotal: 2m 31s\tremaining: 1m 9s\n",
      "684:\tlearn: 0.4021213\ttotal: 2m 31s\tremaining: 1m 9s\n",
      "685:\tlearn: 0.4021174\ttotal: 2m 31s\tremaining: 1m 9s\n",
      "686:\tlearn: 0.4021132\ttotal: 2m 31s\tremaining: 1m 9s\n",
      "687:\tlearn: 0.4021068\ttotal: 2m 31s\tremaining: 1m 8s\n",
      "688:\tlearn: 0.4021040\ttotal: 2m 32s\tremaining: 1m 8s\n",
      "689:\tlearn: 0.4020947\ttotal: 2m 32s\tremaining: 1m 8s\n",
      "690:\tlearn: 0.4020900\ttotal: 2m 32s\tremaining: 1m 8s\n",
      "691:\tlearn: 0.4020852\ttotal: 2m 32s\tremaining: 1m 8s\n",
      "692:\tlearn: 0.4020796\ttotal: 2m 33s\tremaining: 1m 7s\n",
      "693:\tlearn: 0.4020768\ttotal: 2m 33s\tremaining: 1m 7s\n",
      "694:\tlearn: 0.4020718\ttotal: 2m 33s\tremaining: 1m 7s\n",
      "695:\tlearn: 0.4020690\ttotal: 2m 33s\tremaining: 1m 7s\n",
      "696:\tlearn: 0.4020645\ttotal: 2m 33s\tremaining: 1m 6s\n",
      "697:\tlearn: 0.4020590\ttotal: 2m 34s\tremaining: 1m 6s\n",
      "698:\tlearn: 0.4020456\ttotal: 2m 34s\tremaining: 1m 6s\n",
      "699:\tlearn: 0.4020410\ttotal: 2m 34s\tremaining: 1m 6s\n",
      "700:\tlearn: 0.4020380\ttotal: 2m 34s\tremaining: 1m 6s\n",
      "701:\tlearn: 0.4020311\ttotal: 2m 35s\tremaining: 1m 5s\n",
      "702:\tlearn: 0.4020263\ttotal: 2m 35s\tremaining: 1m 5s\n",
      "703:\tlearn: 0.4020234\ttotal: 2m 35s\tremaining: 1m 5s\n",
      "704:\tlearn: 0.4020158\ttotal: 2m 35s\tremaining: 1m 5s\n",
      "705:\tlearn: 0.4020080\ttotal: 2m 35s\tremaining: 1m 4s\n",
      "706:\tlearn: 0.4020018\ttotal: 2m 36s\tremaining: 1m 4s\n",
      "707:\tlearn: 0.4019939\ttotal: 2m 36s\tremaining: 1m 4s\n",
      "708:\tlearn: 0.4019894\ttotal: 2m 36s\tremaining: 1m 4s\n",
      "709:\tlearn: 0.4019869\ttotal: 2m 36s\tremaining: 1m 4s\n",
      "710:\tlearn: 0.4019819\ttotal: 2m 37s\tremaining: 1m 3s\n",
      "711:\tlearn: 0.4019770\ttotal: 2m 37s\tremaining: 1m 3s\n",
      "712:\tlearn: 0.4019721\ttotal: 2m 37s\tremaining: 1m 3s\n",
      "713:\tlearn: 0.4019647\ttotal: 2m 37s\tremaining: 1m 3s\n",
      "714:\tlearn: 0.4019566\ttotal: 2m 37s\tremaining: 1m 2s\n",
      "715:\tlearn: 0.4019520\ttotal: 2m 38s\tremaining: 1m 2s\n",
      "716:\tlearn: 0.4019477\ttotal: 2m 38s\tremaining: 1m 2s\n",
      "717:\tlearn: 0.4019418\ttotal: 2m 38s\tremaining: 1m 2s\n",
      "718:\tlearn: 0.4019384\ttotal: 2m 38s\tremaining: 1m 2s\n",
      "719:\tlearn: 0.4019311\ttotal: 2m 39s\tremaining: 1m 1s\n",
      "720:\tlearn: 0.4019257\ttotal: 2m 39s\tremaining: 1m 1s\n",
      "721:\tlearn: 0.4019202\ttotal: 2m 39s\tremaining: 1m 1s\n",
      "722:\tlearn: 0.4019164\ttotal: 2m 39s\tremaining: 1m 1s\n",
      "723:\tlearn: 0.4019100\ttotal: 2m 39s\tremaining: 1m\n",
      "724:\tlearn: 0.4019044\ttotal: 2m 40s\tremaining: 1m\n",
      "725:\tlearn: 0.4019015\ttotal: 2m 40s\tremaining: 1m\n",
      "726:\tlearn: 0.4018971\ttotal: 2m 40s\tremaining: 1m\n",
      "727:\tlearn: 0.4018935\ttotal: 2m 40s\tremaining: 1m\n",
      "728:\tlearn: 0.4018887\ttotal: 2m 40s\tremaining: 59.8s\n",
      "729:\tlearn: 0.4018851\ttotal: 2m 41s\tremaining: 59.6s\n",
      "730:\tlearn: 0.4018792\ttotal: 2m 41s\tremaining: 59.4s\n",
      "731:\tlearn: 0.4018761\ttotal: 2m 41s\tremaining: 59.2s\n",
      "732:\tlearn: 0.4018729\ttotal: 2m 41s\tremaining: 59s\n",
      "733:\tlearn: 0.4018677\ttotal: 2m 42s\tremaining: 58.7s\n",
      "734:\tlearn: 0.4018572\ttotal: 2m 42s\tremaining: 58.5s\n",
      "735:\tlearn: 0.4018527\ttotal: 2m 42s\tremaining: 58.3s\n",
      "736:\tlearn: 0.4018468\ttotal: 2m 42s\tremaining: 58.1s\n",
      "737:\tlearn: 0.4018422\ttotal: 2m 42s\tremaining: 57.9s\n",
      "738:\tlearn: 0.4018386\ttotal: 2m 43s\tremaining: 57.6s\n",
      "739:\tlearn: 0.4018359\ttotal: 2m 43s\tremaining: 57.4s\n",
      "740:\tlearn: 0.4018319\ttotal: 2m 43s\tremaining: 57.2s\n",
      "741:\tlearn: 0.4018288\ttotal: 2m 43s\tremaining: 57s\n",
      "742:\tlearn: 0.4018234\ttotal: 2m 44s\tremaining: 56.7s\n",
      "743:\tlearn: 0.4018181\ttotal: 2m 44s\tremaining: 56.5s\n",
      "744:\tlearn: 0.4018149\ttotal: 2m 44s\tremaining: 56.3s\n",
      "745:\tlearn: 0.4018088\ttotal: 2m 44s\tremaining: 56.1s\n",
      "746:\tlearn: 0.4018040\ttotal: 2m 44s\tremaining: 55.9s\n",
      "747:\tlearn: 0.4017997\ttotal: 2m 45s\tremaining: 55.6s\n",
      "748:\tlearn: 0.4017950\ttotal: 2m 45s\tremaining: 55.4s\n",
      "749:\tlearn: 0.4017926\ttotal: 2m 45s\tremaining: 55.2s\n",
      "750:\tlearn: 0.4017865\ttotal: 2m 45s\tremaining: 55s\n",
      "751:\tlearn: 0.4017787\ttotal: 2m 45s\tremaining: 54.7s\n",
      "752:\tlearn: 0.4017728\ttotal: 2m 46s\tremaining: 54.5s\n",
      "753:\tlearn: 0.4017659\ttotal: 2m 46s\tremaining: 54.3s\n",
      "754:\tlearn: 0.4017614\ttotal: 2m 46s\tremaining: 54.1s\n",
      "755:\tlearn: 0.4017559\ttotal: 2m 46s\tremaining: 53.8s\n",
      "756:\tlearn: 0.4017512\ttotal: 2m 47s\tremaining: 53.6s\n",
      "757:\tlearn: 0.4017490\ttotal: 2m 47s\tremaining: 53.4s\n",
      "758:\tlearn: 0.4017445\ttotal: 2m 47s\tremaining: 53.2s\n",
      "759:\tlearn: 0.4017391\ttotal: 2m 47s\tremaining: 52.9s\n",
      "760:\tlearn: 0.4017271\ttotal: 2m 47s\tremaining: 52.7s\n",
      "761:\tlearn: 0.4017206\ttotal: 2m 48s\tremaining: 52.5s\n",
      "762:\tlearn: 0.4017158\ttotal: 2m 48s\tremaining: 52.3s\n",
      "763:\tlearn: 0.4017060\ttotal: 2m 48s\tremaining: 52.1s\n",
      "764:\tlearn: 0.4017040\ttotal: 2m 48s\tremaining: 51.8s\n",
      "765:\tlearn: 0.4016992\ttotal: 2m 48s\tremaining: 51.6s\n",
      "766:\tlearn: 0.4016949\ttotal: 2m 49s\tremaining: 51.4s\n",
      "767:\tlearn: 0.4016901\ttotal: 2m 49s\tremaining: 51.2s\n",
      "768:\tlearn: 0.4016871\ttotal: 2m 49s\tremaining: 50.9s\n",
      "769:\tlearn: 0.4016831\ttotal: 2m 49s\tremaining: 50.7s\n",
      "770:\tlearn: 0.4016785\ttotal: 2m 49s\tremaining: 50.5s\n",
      "771:\tlearn: 0.4016708\ttotal: 2m 50s\tremaining: 50.3s\n",
      "772:\tlearn: 0.4016663\ttotal: 2m 50s\tremaining: 50.1s\n",
      "773:\tlearn: 0.4016604\ttotal: 2m 50s\tremaining: 49.8s\n",
      "774:\tlearn: 0.4016554\ttotal: 2m 50s\tremaining: 49.6s\n",
      "775:\tlearn: 0.4016511\ttotal: 2m 51s\tremaining: 49.4s\n",
      "776:\tlearn: 0.4016486\ttotal: 2m 51s\tremaining: 49.2s\n",
      "777:\tlearn: 0.4016432\ttotal: 2m 51s\tremaining: 48.9s\n",
      "778:\tlearn: 0.4016379\ttotal: 2m 51s\tremaining: 48.7s\n",
      "779:\tlearn: 0.4016317\ttotal: 2m 51s\tremaining: 48.5s\n",
      "780:\tlearn: 0.4016288\ttotal: 2m 52s\tremaining: 48.3s\n",
      "781:\tlearn: 0.4016251\ttotal: 2m 52s\tremaining: 48s\n",
      "782:\tlearn: 0.4016214\ttotal: 2m 52s\tremaining: 47.8s\n",
      "783:\tlearn: 0.4016151\ttotal: 2m 52s\tremaining: 47.6s\n",
      "784:\tlearn: 0.4016078\ttotal: 2m 53s\tremaining: 47.4s\n",
      "785:\tlearn: 0.4016044\ttotal: 2m 53s\tremaining: 47.2s\n",
      "786:\tlearn: 0.4016003\ttotal: 2m 53s\tremaining: 46.9s\n",
      "787:\tlearn: 0.4015964\ttotal: 2m 53s\tremaining: 46.7s\n",
      "788:\tlearn: 0.4015921\ttotal: 2m 53s\tremaining: 46.5s\n",
      "789:\tlearn: 0.4015875\ttotal: 2m 54s\tremaining: 46.3s\n",
      "790:\tlearn: 0.4015830\ttotal: 2m 54s\tremaining: 46.1s\n",
      "791:\tlearn: 0.4015765\ttotal: 2m 54s\tremaining: 45.8s\n",
      "792:\tlearn: 0.4015748\ttotal: 2m 54s\tremaining: 45.6s\n",
      "793:\tlearn: 0.4015702\ttotal: 2m 54s\tremaining: 45.4s\n",
      "794:\tlearn: 0.4015674\ttotal: 2m 55s\tremaining: 45.2s\n",
      "795:\tlearn: 0.4015625\ttotal: 2m 55s\tremaining: 45s\n",
      "796:\tlearn: 0.4015586\ttotal: 2m 55s\tremaining: 44.7s\n",
      "797:\tlearn: 0.4015544\ttotal: 2m 55s\tremaining: 44.5s\n",
      "798:\tlearn: 0.4015492\ttotal: 2m 56s\tremaining: 44.3s\n",
      "799:\tlearn: 0.4015448\ttotal: 2m 56s\tremaining: 44.1s\n",
      "800:\tlearn: 0.4015407\ttotal: 2m 56s\tremaining: 43.8s\n",
      "801:\tlearn: 0.4015382\ttotal: 2m 56s\tremaining: 43.6s\n",
      "802:\tlearn: 0.4015358\ttotal: 2m 56s\tremaining: 43.4s\n",
      "803:\tlearn: 0.4015296\ttotal: 2m 57s\tremaining: 43.2s\n",
      "804:\tlearn: 0.4015263\ttotal: 2m 57s\tremaining: 43s\n",
      "805:\tlearn: 0.4015228\ttotal: 2m 57s\tremaining: 42.7s\n",
      "806:\tlearn: 0.4015176\ttotal: 2m 57s\tremaining: 42.5s\n",
      "807:\tlearn: 0.4015132\ttotal: 2m 58s\tremaining: 42.3s\n",
      "808:\tlearn: 0.4015057\ttotal: 2m 58s\tremaining: 42.1s\n",
      "809:\tlearn: 0.4015017\ttotal: 2m 58s\tremaining: 41.9s\n",
      "810:\tlearn: 0.4014946\ttotal: 2m 58s\tremaining: 41.6s\n",
      "811:\tlearn: 0.4014929\ttotal: 2m 58s\tremaining: 41.4s\n",
      "812:\tlearn: 0.4014885\ttotal: 2m 59s\tremaining: 41.2s\n",
      "813:\tlearn: 0.4014833\ttotal: 2m 59s\tremaining: 41s\n",
      "814:\tlearn: 0.4014807\ttotal: 2m 59s\tremaining: 40.7s\n",
      "815:\tlearn: 0.4014699\ttotal: 2m 59s\tremaining: 40.5s\n",
      "816:\tlearn: 0.4014681\ttotal: 2m 59s\tremaining: 40.3s\n",
      "817:\tlearn: 0.4014655\ttotal: 3m\tremaining: 40.1s\n",
      "818:\tlearn: 0.4014600\ttotal: 3m\tremaining: 39.8s\n",
      "819:\tlearn: 0.4014553\ttotal: 3m\tremaining: 39.6s\n",
      "820:\tlearn: 0.4014530\ttotal: 3m\tremaining: 39.4s\n",
      "821:\tlearn: 0.4014512\ttotal: 3m\tremaining: 39.2s\n",
      "822:\tlearn: 0.4014482\ttotal: 3m 1s\tremaining: 39s\n",
      "823:\tlearn: 0.4014429\ttotal: 3m 1s\tremaining: 38.7s\n",
      "824:\tlearn: 0.4014374\ttotal: 3m 1s\tremaining: 38.5s\n",
      "825:\tlearn: 0.4014346\ttotal: 3m 1s\tremaining: 38.3s\n",
      "826:\tlearn: 0.4014299\ttotal: 3m 2s\tremaining: 38.1s\n",
      "827:\tlearn: 0.4014284\ttotal: 3m 2s\tremaining: 37.9s\n",
      "828:\tlearn: 0.4014254\ttotal: 3m 2s\tremaining: 37.6s\n",
      "829:\tlearn: 0.4014201\ttotal: 3m 2s\tremaining: 37.4s\n",
      "830:\tlearn: 0.4014158\ttotal: 3m 2s\tremaining: 37.2s\n",
      "831:\tlearn: 0.4014121\ttotal: 3m 3s\tremaining: 37s\n",
      "832:\tlearn: 0.4014099\ttotal: 3m 3s\tremaining: 36.8s\n",
      "833:\tlearn: 0.4014082\ttotal: 3m 3s\tremaining: 36.5s\n",
      "834:\tlearn: 0.4014062\ttotal: 3m 3s\tremaining: 36.3s\n",
      "835:\tlearn: 0.4014044\ttotal: 3m 3s\tremaining: 36.1s\n",
      "836:\tlearn: 0.4013981\ttotal: 3m 4s\tremaining: 35.9s\n",
      "837:\tlearn: 0.4013933\ttotal: 3m 4s\tremaining: 35.7s\n",
      "838:\tlearn: 0.4013896\ttotal: 3m 4s\tremaining: 35.4s\n",
      "839:\tlearn: 0.4013847\ttotal: 3m 4s\tremaining: 35.2s\n",
      "840:\tlearn: 0.4013804\ttotal: 3m 5s\tremaining: 35s\n",
      "841:\tlearn: 0.4013758\ttotal: 3m 5s\tremaining: 34.8s\n",
      "842:\tlearn: 0.4013723\ttotal: 3m 5s\tremaining: 34.5s\n",
      "843:\tlearn: 0.4013658\ttotal: 3m 5s\tremaining: 34.3s\n",
      "844:\tlearn: 0.4013637\ttotal: 3m 5s\tremaining: 34.1s\n",
      "845:\tlearn: 0.4013611\ttotal: 3m 6s\tremaining: 33.9s\n",
      "846:\tlearn: 0.4013592\ttotal: 3m 6s\tremaining: 33.7s\n",
      "847:\tlearn: 0.4013551\ttotal: 3m 6s\tremaining: 33.4s\n",
      "848:\tlearn: 0.4013507\ttotal: 3m 6s\tremaining: 33.2s\n",
      "849:\tlearn: 0.4013440\ttotal: 3m 6s\tremaining: 33s\n",
      "850:\tlearn: 0.4013402\ttotal: 3m 7s\tremaining: 32.8s\n",
      "851:\tlearn: 0.4013355\ttotal: 3m 7s\tremaining: 32.6s\n",
      "852:\tlearn: 0.4013293\ttotal: 3m 7s\tremaining: 32.3s\n",
      "853:\tlearn: 0.4013255\ttotal: 3m 7s\tremaining: 32.1s\n",
      "854:\tlearn: 0.4013212\ttotal: 3m 8s\tremaining: 31.9s\n",
      "855:\tlearn: 0.4013167\ttotal: 3m 8s\tremaining: 31.7s\n",
      "856:\tlearn: 0.4013128\ttotal: 3m 8s\tremaining: 31.4s\n",
      "857:\tlearn: 0.4013090\ttotal: 3m 8s\tremaining: 31.2s\n",
      "858:\tlearn: 0.4013047\ttotal: 3m 8s\tremaining: 31s\n",
      "859:\tlearn: 0.4012984\ttotal: 3m 9s\tremaining: 30.8s\n",
      "860:\tlearn: 0.4012943\ttotal: 3m 9s\tremaining: 30.6s\n",
      "861:\tlearn: 0.4012906\ttotal: 3m 9s\tremaining: 30.4s\n",
      "862:\tlearn: 0.4012894\ttotal: 3m 9s\tremaining: 30.1s\n",
      "863:\tlearn: 0.4012861\ttotal: 3m 10s\tremaining: 29.9s\n",
      "864:\tlearn: 0.4012822\ttotal: 3m 10s\tremaining: 29.7s\n",
      "865:\tlearn: 0.4012794\ttotal: 3m 10s\tremaining: 29.5s\n",
      "866:\tlearn: 0.4012738\ttotal: 3m 10s\tremaining: 29.2s\n",
      "867:\tlearn: 0.4012684\ttotal: 3m 10s\tremaining: 29s\n",
      "868:\tlearn: 0.4012652\ttotal: 3m 11s\tremaining: 28.8s\n",
      "869:\tlearn: 0.4012616\ttotal: 3m 11s\tremaining: 28.6s\n",
      "870:\tlearn: 0.4012576\ttotal: 3m 11s\tremaining: 28.4s\n",
      "871:\tlearn: 0.4012544\ttotal: 3m 11s\tremaining: 28.1s\n",
      "872:\tlearn: 0.4012502\ttotal: 3m 11s\tremaining: 27.9s\n",
      "873:\tlearn: 0.4012453\ttotal: 3m 12s\tremaining: 27.7s\n",
      "874:\tlearn: 0.4012389\ttotal: 3m 12s\tremaining: 27.5s\n",
      "875:\tlearn: 0.4012346\ttotal: 3m 12s\tremaining: 27.3s\n",
      "876:\tlearn: 0.4012262\ttotal: 3m 12s\tremaining: 27s\n",
      "877:\tlearn: 0.4012231\ttotal: 3m 12s\tremaining: 26.8s\n",
      "878:\tlearn: 0.4012193\ttotal: 3m 13s\tremaining: 26.6s\n",
      "879:\tlearn: 0.4012160\ttotal: 3m 13s\tremaining: 26.4s\n",
      "880:\tlearn: 0.4012107\ttotal: 3m 13s\tremaining: 26.2s\n",
      "881:\tlearn: 0.4012039\ttotal: 3m 13s\tremaining: 25.9s\n",
      "882:\tlearn: 0.4011989\ttotal: 3m 14s\tremaining: 25.7s\n",
      "883:\tlearn: 0.4011959\ttotal: 3m 14s\tremaining: 25.5s\n",
      "884:\tlearn: 0.4011931\ttotal: 3m 14s\tremaining: 25.3s\n",
      "885:\tlearn: 0.4011916\ttotal: 3m 14s\tremaining: 25.1s\n",
      "886:\tlearn: 0.4011881\ttotal: 3m 14s\tremaining: 24.8s\n",
      "887:\tlearn: 0.4011848\ttotal: 3m 15s\tremaining: 24.6s\n",
      "888:\tlearn: 0.4011804\ttotal: 3m 15s\tremaining: 24.4s\n",
      "889:\tlearn: 0.4011764\ttotal: 3m 15s\tremaining: 24.2s\n",
      "890:\tlearn: 0.4011700\ttotal: 3m 15s\tremaining: 24s\n",
      "891:\tlearn: 0.4011665\ttotal: 3m 16s\tremaining: 23.7s\n",
      "892:\tlearn: 0.4011632\ttotal: 3m 16s\tremaining: 23.5s\n",
      "893:\tlearn: 0.4011601\ttotal: 3m 16s\tremaining: 23.3s\n",
      "894:\tlearn: 0.4011591\ttotal: 3m 16s\tremaining: 23.1s\n",
      "895:\tlearn: 0.4011551\ttotal: 3m 16s\tremaining: 22.9s\n",
      "896:\tlearn: 0.4011517\ttotal: 3m 17s\tremaining: 22.6s\n",
      "897:\tlearn: 0.4011462\ttotal: 3m 17s\tremaining: 22.4s\n",
      "898:\tlearn: 0.4011418\ttotal: 3m 17s\tremaining: 22.2s\n",
      "899:\tlearn: 0.4011396\ttotal: 3m 17s\tremaining: 22s\n",
      "900:\tlearn: 0.4011369\ttotal: 3m 17s\tremaining: 21.8s\n",
      "901:\tlearn: 0.4011350\ttotal: 3m 18s\tremaining: 21.5s\n",
      "902:\tlearn: 0.4011314\ttotal: 3m 18s\tremaining: 21.3s\n",
      "903:\tlearn: 0.4011271\ttotal: 3m 18s\tremaining: 21.1s\n",
      "904:\tlearn: 0.4011235\ttotal: 3m 18s\tremaining: 20.9s\n",
      "905:\tlearn: 0.4011203\ttotal: 3m 19s\tremaining: 20.7s\n",
      "906:\tlearn: 0.4011158\ttotal: 3m 19s\tremaining: 20.4s\n",
      "907:\tlearn: 0.4011128\ttotal: 3m 19s\tremaining: 20.2s\n",
      "908:\tlearn: 0.4011078\ttotal: 3m 19s\tremaining: 20s\n",
      "909:\tlearn: 0.4011048\ttotal: 3m 19s\tremaining: 19.8s\n",
      "910:\tlearn: 0.4011017\ttotal: 3m 20s\tremaining: 19.6s\n",
      "911:\tlearn: 0.4010986\ttotal: 3m 20s\tremaining: 19.3s\n",
      "912:\tlearn: 0.4010958\ttotal: 3m 20s\tremaining: 19.1s\n",
      "913:\tlearn: 0.4010938\ttotal: 3m 20s\tremaining: 18.9s\n",
      "914:\tlearn: 0.4010915\ttotal: 3m 20s\tremaining: 18.7s\n",
      "915:\tlearn: 0.4010890\ttotal: 3m 21s\tremaining: 18.5s\n",
      "916:\tlearn: 0.4010866\ttotal: 3m 21s\tremaining: 18.2s\n",
      "917:\tlearn: 0.4010818\ttotal: 3m 21s\tremaining: 18s\n",
      "918:\tlearn: 0.4010787\ttotal: 3m 21s\tremaining: 17.8s\n",
      "919:\tlearn: 0.4010766\ttotal: 3m 22s\tremaining: 17.6s\n",
      "920:\tlearn: 0.4010721\ttotal: 3m 22s\tremaining: 17.4s\n",
      "921:\tlearn: 0.4010696\ttotal: 3m 22s\tremaining: 17.1s\n",
      "922:\tlearn: 0.4010624\ttotal: 3m 22s\tremaining: 16.9s\n",
      "923:\tlearn: 0.4010603\ttotal: 3m 22s\tremaining: 16.7s\n",
      "924:\tlearn: 0.4010581\ttotal: 3m 23s\tremaining: 16.5s\n",
      "925:\tlearn: 0.4010561\ttotal: 3m 23s\tremaining: 16.3s\n",
      "926:\tlearn: 0.4010481\ttotal: 3m 23s\tremaining: 16s\n",
      "927:\tlearn: 0.4010457\ttotal: 3m 23s\tremaining: 15.8s\n",
      "928:\tlearn: 0.4010420\ttotal: 3m 23s\tremaining: 15.6s\n",
      "929:\tlearn: 0.4010401\ttotal: 3m 24s\tremaining: 15.4s\n",
      "930:\tlearn: 0.4010350\ttotal: 3m 24s\tremaining: 15.1s\n",
      "931:\tlearn: 0.4010328\ttotal: 3m 24s\tremaining: 14.9s\n",
      "932:\tlearn: 0.4010302\ttotal: 3m 24s\tremaining: 14.7s\n",
      "933:\tlearn: 0.4010278\ttotal: 3m 25s\tremaining: 14.5s\n",
      "934:\tlearn: 0.4010234\ttotal: 3m 25s\tremaining: 14.3s\n",
      "935:\tlearn: 0.4010209\ttotal: 3m 25s\tremaining: 14s\n",
      "936:\tlearn: 0.4010126\ttotal: 3m 25s\tremaining: 13.8s\n",
      "937:\tlearn: 0.4010085\ttotal: 3m 25s\tremaining: 13.6s\n",
      "938:\tlearn: 0.4010022\ttotal: 3m 26s\tremaining: 13.4s\n",
      "939:\tlearn: 0.4009975\ttotal: 3m 26s\tremaining: 13.2s\n",
      "940:\tlearn: 0.4009920\ttotal: 3m 26s\tremaining: 12.9s\n",
      "941:\tlearn: 0.4009906\ttotal: 3m 26s\tremaining: 12.7s\n",
      "942:\tlearn: 0.4009880\ttotal: 3m 26s\tremaining: 12.5s\n",
      "943:\tlearn: 0.4009843\ttotal: 3m 27s\tremaining: 12.3s\n",
      "944:\tlearn: 0.4009805\ttotal: 3m 27s\tremaining: 12.1s\n",
      "945:\tlearn: 0.4009745\ttotal: 3m 27s\tremaining: 11.9s\n",
      "946:\tlearn: 0.4009715\ttotal: 3m 27s\tremaining: 11.6s\n",
      "947:\tlearn: 0.4009701\ttotal: 3m 28s\tremaining: 11.4s\n",
      "948:\tlearn: 0.4009651\ttotal: 3m 28s\tremaining: 11.2s\n",
      "949:\tlearn: 0.4009610\ttotal: 3m 28s\tremaining: 11s\n",
      "950:\tlearn: 0.4009577\ttotal: 3m 28s\tremaining: 10.8s\n",
      "951:\tlearn: 0.4009535\ttotal: 3m 28s\tremaining: 10.5s\n",
      "952:\tlearn: 0.4009499\ttotal: 3m 29s\tremaining: 10.3s\n",
      "953:\tlearn: 0.4009459\ttotal: 3m 29s\tremaining: 10.1s\n",
      "954:\tlearn: 0.4009423\ttotal: 3m 29s\tremaining: 9.87s\n",
      "955:\tlearn: 0.4009383\ttotal: 3m 29s\tremaining: 9.65s\n",
      "956:\tlearn: 0.4009354\ttotal: 3m 29s\tremaining: 9.43s\n",
      "957:\tlearn: 0.4009319\ttotal: 3m 30s\tremaining: 9.21s\n",
      "958:\tlearn: 0.4009284\ttotal: 3m 30s\tremaining: 8.99s\n",
      "959:\tlearn: 0.4009220\ttotal: 3m 30s\tremaining: 8.77s\n",
      "960:\tlearn: 0.4009189\ttotal: 3m 30s\tremaining: 8.55s\n",
      "961:\tlearn: 0.4009149\ttotal: 3m 31s\tremaining: 8.34s\n",
      "962:\tlearn: 0.4009116\ttotal: 3m 31s\tremaining: 8.12s\n",
      "963:\tlearn: 0.4009098\ttotal: 3m 31s\tremaining: 7.9s\n",
      "964:\tlearn: 0.4009053\ttotal: 3m 31s\tremaining: 7.68s\n",
      "965:\tlearn: 0.4009020\ttotal: 3m 31s\tremaining: 7.46s\n",
      "966:\tlearn: 0.4008986\ttotal: 3m 32s\tremaining: 7.24s\n",
      "967:\tlearn: 0.4008957\ttotal: 3m 32s\tremaining: 7.02s\n",
      "968:\tlearn: 0.4008931\ttotal: 3m 32s\tremaining: 6.8s\n",
      "969:\tlearn: 0.4008887\ttotal: 3m 32s\tremaining: 6.58s\n",
      "970:\tlearn: 0.4008854\ttotal: 3m 32s\tremaining: 6.36s\n",
      "971:\tlearn: 0.4008822\ttotal: 3m 33s\tremaining: 6.14s\n",
      "972:\tlearn: 0.4008781\ttotal: 3m 33s\tremaining: 5.92s\n",
      "973:\tlearn: 0.4008764\ttotal: 3m 33s\tremaining: 5.7s\n",
      "974:\tlearn: 0.4008710\ttotal: 3m 33s\tremaining: 5.48s\n",
      "975:\tlearn: 0.4008671\ttotal: 3m 34s\tremaining: 5.26s\n",
      "976:\tlearn: 0.4008628\ttotal: 3m 34s\tremaining: 5.04s\n",
      "977:\tlearn: 0.4008539\ttotal: 3m 34s\tremaining: 4.82s\n",
      "978:\tlearn: 0.4008506\ttotal: 3m 34s\tremaining: 4.6s\n",
      "979:\tlearn: 0.4008460\ttotal: 3m 34s\tremaining: 4.38s\n",
      "980:\tlearn: 0.4008407\ttotal: 3m 35s\tremaining: 4.17s\n",
      "981:\tlearn: 0.4008379\ttotal: 3m 35s\tremaining: 3.95s\n",
      "982:\tlearn: 0.4008349\ttotal: 3m 35s\tremaining: 3.73s\n",
      "983:\tlearn: 0.4008288\ttotal: 3m 35s\tremaining: 3.51s\n",
      "984:\tlearn: 0.4008264\ttotal: 3m 35s\tremaining: 3.29s\n",
      "985:\tlearn: 0.4008220\ttotal: 3m 36s\tremaining: 3.07s\n",
      "986:\tlearn: 0.4008187\ttotal: 3m 36s\tremaining: 2.85s\n",
      "987:\tlearn: 0.4008168\ttotal: 3m 36s\tremaining: 2.63s\n",
      "988:\tlearn: 0.4008143\ttotal: 3m 36s\tremaining: 2.41s\n",
      "989:\tlearn: 0.4008076\ttotal: 3m 37s\tremaining: 2.19s\n",
      "990:\tlearn: 0.4007979\ttotal: 3m 37s\tremaining: 1.97s\n",
      "991:\tlearn: 0.4007951\ttotal: 3m 37s\tremaining: 1.75s\n",
      "992:\tlearn: 0.4007883\ttotal: 3m 37s\tremaining: 1.53s\n",
      "993:\tlearn: 0.4007845\ttotal: 3m 37s\tremaining: 1.31s\n",
      "994:\tlearn: 0.4007806\ttotal: 3m 38s\tremaining: 1.1s\n",
      "995:\tlearn: 0.4007787\ttotal: 3m 38s\tremaining: 877ms\n",
      "996:\tlearn: 0.4007758\ttotal: 3m 38s\tremaining: 658ms\n",
      "997:\tlearn: 0.4007712\ttotal: 3m 38s\tremaining: 438ms\n",
      "998:\tlearn: 0.4007676\ttotal: 3m 38s\tremaining: 219ms\n",
      "999:\tlearn: 0.4007641\ttotal: 3m 39s\tremaining: 0us\n"
     ]
    },
    {
     "data": {
      "text/plain": [
       "<catboost.core.CatBoostClassifier at 0x7fc0acbd3fa0>"
      ]
     },
     "execution_count": 93,
     "metadata": {},
     "output_type": "execute_result"
    }
   ],
   "source": [
    "ctb.fit(X_train, y_train)"
   ]
  },
  {
   "cell_type": "code",
   "execution_count": 94,
   "metadata": {},
   "outputs": [],
   "source": [
    "y_pred_ctb=ctb.predict_proba(X_val)[:, 1]"
   ]
  },
  {
   "cell_type": "code",
   "execution_count": 343,
   "metadata": {},
   "outputs": [
    {
     "data": {
      "text/plain": [
       "0.40239392328189716"
      ]
     },
     "execution_count": 343,
     "metadata": {},
     "output_type": "execute_result"
    }
   ],
   "source": [
    "log_loss(y_val, y_pred_ctb)"
   ]
  },
  {
   "cell_type": "markdown",
   "metadata": {},
   "source": [
    "# Final Result\n",
    "\n",
    "Lightgbm"
   ]
  },
  {
   "cell_type": "code",
   "execution_count": 132,
   "metadata": {},
   "outputs": [],
   "source": [
    "y_sub = lgb.predict_proba(X_test)[:,1]"
   ]
  },
  {
   "cell_type": "code",
   "execution_count": 133,
   "metadata": {},
   "outputs": [],
   "source": [
    "# Import the submission data\n",
    "sub = pd.read_csv('Project Data/ProjectSubmission-Team4.csv')"
   ]
  },
  {
   "cell_type": "code",
   "execution_count": 140,
   "metadata": {},
   "outputs": [],
   "source": [
    "sub.iloc[:,1] = y_sub"
   ]
  },
  {
   "cell_type": "code",
   "execution_count": 145,
   "metadata": {},
   "outputs": [],
   "source": [
    "sub.to_csv('ProjectSubmission-Team4.csv',index = False)"
   ]
  },
  {
   "cell_type": "code",
   "execution_count": null,
   "metadata": {},
   "outputs": [],
   "source": []
  }
 ],
 "metadata": {
  "kernelspec": {
   "display_name": "Python 3.9.12 ('base')",
   "language": "python",
   "name": "python3"
  },
  "language_info": {
   "codemirror_mode": {
    "name": "ipython",
    "version": 3
   },
   "file_extension": ".py",
   "mimetype": "text/x-python",
   "name": "python",
   "nbconvert_exporter": "python",
   "pygments_lexer": "ipython3",
   "version": "3.9.12"
  },
  "orig_nbformat": 4,
  "vscode": {
   "interpreter": {
    "hash": "7e6884f9e325611246f3df9f3eb2bec739209106350d5829f2cfd205534463c8"
   }
  }
 },
 "nbformat": 4,
 "nbformat_minor": 2
}
